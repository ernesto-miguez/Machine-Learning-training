{
  "nbformat": 4,
  "nbformat_minor": 0,
  "metadata": {
    "colab": {
      "name": "NLP_Kaggle.ipynb",
      "provenance": [],
      "collapsed_sections": [],
      "authorship_tag": "ABX9TyPJPjhs/v7/zur5hyQkSipT",
      "include_colab_link": true
    },
    "kernelspec": {
      "name": "python3",
      "display_name": "Python 3"
    }
  },
  "cells": [
    {
      "cell_type": "markdown",
      "metadata": {
        "id": "view-in-github",
        "colab_type": "text"
      },
      "source": [
        "<a href=\"https://colab.research.google.com/github/ernesto-miguez/Machine-Learning-training/blob/master/NLP_Kaggle.ipynb\" target=\"_parent\"><img src=\"https://colab.research.google.com/assets/colab-badge.svg\" alt=\"Open In Colab\"/></a>"
      ]
    },
    {
      "cell_type": "markdown",
      "metadata": {
        "id": "SaDsF5C2KaMS",
        "colab_type": "text"
      },
      "source": [
        "## Representing text numerically with Word Vectors"
      ]
    },
    {
      "cell_type": "code",
      "metadata": {
        "id": "_z3LVvtN3HAT",
        "colab_type": "code",
        "colab": {}
      },
      "source": [
        "import spacy\n",
        "import numpy as np"
      ],
      "execution_count": 0,
      "outputs": []
    },
    {
      "cell_type": "code",
      "metadata": {
        "id": "IBDwBavxA0b2",
        "colab_type": "code",
        "colab": {
          "base_uri": "https://localhost:8080/",
          "height": 54
        },
        "outputId": "b87f0f74-4052-427c-95c7-a64b7730a9a5"
      },
      "source": [
        "spacy.cli.download(\"en_core_web_lg\")"
      ],
      "execution_count": 3,
      "outputs": [
        {
          "output_type": "stream",
          "text": [
            "\u001b[38;5;2m✔ Download and installation successful\u001b[0m\n",
            "You can now load the model via spacy.load('en_core_web_lg')\n"
          ],
          "name": "stdout"
        }
      ]
    },
    {
      "cell_type": "code",
      "metadata": {
        "id": "Kckpq3OKqmht",
        "colab_type": "code",
        "colab": {}
      },
      "source": [
        "nlp = spacy.load(\"en_core_web_lg\")"
      ],
      "execution_count": 0,
      "outputs": []
    },
    {
      "cell_type": "code",
      "metadata": {
        "id": "wz7GJax5rj8b",
        "colab_type": "code",
        "colab": {}
      },
      "source": [
        "text = \"These vectors can be used as features for machine learning models\"\n",
        "with nlp.disable_pipes():\n",
        "  vectors = np.array([token.vector for token in nlp(text)])"
      ],
      "execution_count": 0,
      "outputs": []
    },
    {
      "cell_type": "code",
      "metadata": {
        "id": "YX6oFjplr2ln",
        "colab_type": "code",
        "colab": {
          "base_uri": "https://localhost:8080/",
          "height": 35
        },
        "outputId": "2f541dd3-3957-439c-cf22-d5a4ad4a21d3"
      },
      "source": [
        "vectors.shape"
      ],
      "execution_count": 7,
      "outputs": [
        {
          "output_type": "execute_result",
          "data": {
            "text/plain": [
              "(11, 300)"
            ]
          },
          "metadata": {
            "tags": []
          },
          "execution_count": 7
        }
      ]
    },
    {
      "cell_type": "code",
      "metadata": {
        "id": "0ewGMGoOr4vO",
        "colab_type": "code",
        "colab": {}
      },
      "source": [
        "import pandas as pd\n",
        "\n",
        "spam = pd.read_csv('../datasets_362178_763778_spam.csv')\n",
        "\n",
        "with nlp.disable_pipes():\n",
        "  doc_vectors = np.array([nlp(text).vector for text in spam.text])"
      ],
      "execution_count": 0,
      "outputs": []
    },
    {
      "cell_type": "code",
      "metadata": {
        "id": "LepnuZxzCClY",
        "colab_type": "code",
        "colab": {
          "base_uri": "https://localhost:8080/",
          "height": 35
        },
        "outputId": "e10fffbf-ef76-41e8-dc57-8edab0e36182"
      },
      "source": [
        "doc_vectors.shape"
      ],
      "execution_count": 11,
      "outputs": [
        {
          "output_type": "execute_result",
          "data": {
            "text/plain": [
              "(5572, 300)"
            ]
          },
          "metadata": {
            "tags": []
          },
          "execution_count": 11
        }
      ]
    },
    {
      "cell_type": "markdown",
      "metadata": {
        "id": "UHdYJIv8HdpE",
        "colab_type": "text"
      },
      "source": [
        "## Classification models"
      ]
    },
    {
      "cell_type": "code",
      "metadata": {
        "id": "BcCadTTmJlAm",
        "colab_type": "code",
        "colab": {}
      },
      "source": [
        "from sklearn.model_selection import train_test_split\n",
        "\n",
        "X_train, X_test, y_train, y_test = train_test_split(doc_vectors, spam.label,\n",
        "                                                    test_size=0.1, random_state=1)"
      ],
      "execution_count": 0,
      "outputs": []
    },
    {
      "cell_type": "code",
      "metadata": {
        "id": "EkQsp58ICEkd",
        "colab_type": "code",
        "colab": {
          "base_uri": "https://localhost:8080/",
          "height": 35
        },
        "outputId": "0b09408a-2129-41f3-9e81-26a81fe06851"
      },
      "source": [
        "from sklearn.svm import LinearSVC\n",
        "\n",
        "# Set dual=False to speed up training, and it's not needed\n",
        "svc = LinearSVC(random_state=1, dual=False, max_iter=10000)\n",
        "svc.fit(X_train, y_train)\n",
        "print(f'Accuracy: {svc.score(X_test, y_test) * 100:.3f}%', )"
      ],
      "execution_count": 13,
      "outputs": [
        {
          "output_type": "stream",
          "text": [
            "Accuracy: 97.312%\n"
          ],
          "name": "stdout"
        }
      ]
    },
    {
      "cell_type": "markdown",
      "metadata": {
        "id": "1HENGJ9BPcEk",
        "colab_type": "text"
      },
      "source": [
        "## Document Similarity"
      ]
    },
    {
      "cell_type": "code",
      "metadata": {
        "id": "byRBB4GAKHfy",
        "colab_type": "code",
        "colab": {}
      },
      "source": [
        "def cosine_similarity(a,b):\n",
        "  return a.dot(b)/np.sqrt(a.dot(a) * b.dot(b))"
      ],
      "execution_count": 0,
      "outputs": []
    },
    {
      "cell_type": "code",
      "metadata": {
        "id": "g-Y6bu7IPqUT",
        "colab_type": "code",
        "colab": {
          "base_uri": "https://localhost:8080/",
          "height": 35
        },
        "outputId": "111f4123-8587-48e0-e260-40a471a4e289"
      },
      "source": [
        "a = nlp(\"REPLY NOW FOR FREE TEA\").vector\n",
        "b = nlp(\"According to legend, Emperor Shen Nung discovered tea when leaves from a wild tree blew into his pot of boiling water.\").vector\n",
        "cosine_similarity(a,b)"
      ],
      "execution_count": 15,
      "outputs": [
        {
          "output_type": "execute_result",
          "data": {
            "text/plain": [
              "0.7030031"
            ]
          },
          "metadata": {
            "tags": []
          },
          "execution_count": 15
        }
      ]
    }
  ]
}