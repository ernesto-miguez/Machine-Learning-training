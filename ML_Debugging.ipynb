{
  "nbformat": 4,
  "nbformat_minor": 0,
  "metadata": {
    "colab": {
      "name": "ML Debugging.ipynb",
      "provenance": [],
      "collapsed_sections": [],
      "authorship_tag": "ABX9TyNWvboc76QRQzM790IupJ/Q",
      "include_colab_link": true
    },
    "kernelspec": {
      "name": "python3",
      "display_name": "Python 3"
    }
  },
  "cells": [
    {
      "cell_type": "markdown",
      "metadata": {
        "id": "view-in-github",
        "colab_type": "text"
      },
      "source": [
        "<a href=\"https://colab.research.google.com/github/ernesto-miguez/Machine-Learning-training/blob/master/ML_Debugging.ipynb\" target=\"_parent\"><img src=\"https://colab.research.google.com/assets/colab-badge.svg\" alt=\"Open In Colab\"/></a>"
      ]
    },
    {
      "cell_type": "markdown",
      "metadata": {
        "id": "wkQNA3pVMMJG",
        "colab_type": "text"
      },
      "source": [
        "## Debugging a Simple Model "
      ]
    },
    {
      "cell_type": "code",
      "metadata": {
        "id": "hdat9cOJJxaX",
        "colab_type": "code",
        "colab": {}
      },
      "source": [
        "# Reset environment for a new run\n",
        "% reset -f\n",
        "\n",
        "\n",
        "# Load libraries\n",
        "from os.path import join # for joining file pathnames\n",
        "import pandas as pd\n",
        "import tensorflow as tf\n",
        "from tensorflow import keras\n",
        "import numpy as np\n",
        "import matplotlib.pyplot as plt\n",
        "\n",
        "# Set Pandas display options\n",
        "pd.options.display.max_rows = 10\n",
        "pd.options.display.float_format = '{:.1f}'.format"
      ],
      "execution_count": 0,
      "outputs": []
    },
    {
      "cell_type": "code",
      "metadata": {
        "id": "ZRixFVEzM6xf",
        "colab_type": "code",
        "colab": {}
      },
      "source": [
        "features = np.array(range(10))\n",
        "features = features[:, np.newaxis]\n",
        "# Create labels by adding noise distributed around 0\n",
        "labels = features + np.random.random(size=[10,1]) - 0.5"
      ],
      "execution_count": 0,
      "outputs": []
    },
    {
      "cell_type": "code",
      "metadata": {
        "id": "HTelY6O_Nl7X",
        "colab_type": "code",
        "outputId": "ee1790b1-e495-43de-9e5d-6d4a60ed56d9",
        "colab": {
          "base_uri": "https://localhost:8080/",
          "height": 283
        }
      },
      "source": [
        "# Visualize the data\n",
        "plt.scatter(features, labels)"
      ],
      "execution_count": 0,
      "outputs": [
        {
          "output_type": "execute_result",
          "data": {
            "text/plain": [
              "<matplotlib.collections.PathCollection at 0x7f1bb30843c8>"
            ]
          },
          "metadata": {
            "tags": []
          },
          "execution_count": 4
        },
        {
          "output_type": "display_data",
          "data": {
            "image/png": "[encoded data removed]",
            "text/plain": [
              "<Figure size 432x288 with 1 Axes>"
            ]
          },
          "metadata": {
            "tags": []
          }
        }
      ]
    },
    {
      "cell_type": "markdown",
      "metadata": {
        "id": "xKTJCxIvN7gs",
        "colab_type": "text"
      },
      "source": [
        "## Fit Simple Data with Simple Model"
      ]
    },
    {
      "cell_type": "code",
      "metadata": {
        "id": "pDZVa3D1N-yz",
        "colab_type": "code",
        "outputId": "63fe2c56-50e7-4fab-9f06-07103a149931",
        "colab": {
          "base_uri": "https://localhost:8080/",
          "height": 219
        }
      },
      "source": [
        "# Delete any existing assignment to \"model\"\n",
        "model = None\n",
        "\n",
        "# Use a sequential model\n",
        "model = keras.Sequential()\n",
        "\n",
        "# Add a layer with 1 neuron. Use the popular \"tanh\" activation function\n",
        "model.add(keras.layers.Dense(units = 1,\n",
        "                             activation = 'linear',\n",
        "                             input_dim=1))\n",
        "\n",
        "# Model calculates loss using MSE\n",
        "# Model trains using Adam optimizer with learning rate = 0.001\n",
        "model.compile(optimizer=tf.train.AdamOptimizer(0.001),\n",
        "              loss='mse',)\n",
        "\n",
        "print(model.summary())"
      ],
      "execution_count": 0,
      "outputs": [
        {
          "output_type": "stream",
          "text": [
            "Model: \"sequential_2\"\n",
            "_________________________________________________________________\n",
            "Layer (type)                 Output Shape              Param #   \n",
            "=================================================================\n",
            "dense_2 (Dense)              (None, 1)                 2         \n",
            "=================================================================\n",
            "Total params: 2\n",
            "Trainable params: 2\n",
            "Non-trainable params: 0\n",
            "_________________________________________________________________\n",
            "None\n"
          ],
          "name": "stdout"
        }
      ]
    },
    {
      "cell_type": "code",
      "metadata": {
        "id": "WTIIKXplNubb",
        "colab_type": "code",
        "outputId": "957bcaa4-c121-4f50-e976-34d3d13a5e1d",
        "colab": {
          "base_uri": "https://localhost:8080/",
          "height": 685
        }
      },
      "source": [
        "# Train the model\n",
        "trainHistory = model.fit(x=features,\n",
        "          y=labels,\n",
        "          epochs = 10,\n",
        "          batch_size = 1,\n",
        "          verbose=1)\n",
        "\n",
        "# Plot the loss curve\n",
        "plt.plot(trainHistory.history['loss'])\n",
        "plt.title(\"Loss Curves\")"
      ],
      "execution_count": 0,
      "outputs": [
        {
          "output_type": "stream",
          "text": [
            "Train on 10 samples\n",
            "Epoch 1/10\n",
            "10/10 [==============================] - 0s 10ms/sample - loss: 8.2336\n",
            "Epoch 2/10\n",
            "10/10 [==============================] - 0s 1ms/sample - loss: 7.9887\n",
            "Epoch 3/10\n",
            "10/10 [==============================] - 0s 1ms/sample - loss: 7.6886\n",
            "Epoch 4/10\n",
            "10/10 [==============================] - 0s 2ms/sample - loss: 7.4573\n",
            "Epoch 5/10\n",
            "10/10 [==============================] - 0s 1ms/sample - loss: 7.2307\n",
            "Epoch 6/10\n",
            "10/10 [==============================] - 0s 1ms/sample - loss: 6.9743\n",
            "Epoch 7/10\n",
            "10/10 [==============================] - 0s 2ms/sample - loss: 6.7764\n",
            "Epoch 8/10\n",
            "10/10 [==============================] - 0s 1ms/sample - loss: 6.5212\n",
            "Epoch 9/10\n",
            "10/10 [==============================] - 0s 1ms/sample - loss: 6.3266\n",
            "Epoch 10/10\n",
            "10/10 [==============================] - 0s 1ms/sample - loss: 6.1034\n"
          ],
          "name": "stdout"
        },
        {
          "output_type": "execute_result",
          "data": {
            "text/plain": [
              "Text(0.5, 1.0, 'Loss Curves')"
            ]
          },
          "metadata": {
            "tags": []
          },
          "execution_count": 13
        },
        {
          "output_type": "display_data",
          "data": {
            "image/png": "[encoded data removed]",
            "text/plain": [
              "<Figure size 432x288 with 1 Axes>"
            ]
          },
          "metadata": {
            "tags": []
          }
        }
      ]
    },
    {
      "cell_type": "markdown",
      "metadata": {
        "id": "5HEjDT61YRvL",
        "colab_type": "text"
      },
      "source": [
        "## Reaching convergence by increasing Learning Rate to 0.1\n"
      ]
    },
    {
      "cell_type": "code",
      "metadata": {
        "id": "bRm7wRnjNyOz",
        "colab_type": "code",
        "outputId": "16c1e47d-e3ff-4b40-e680-b5f5fd019e07",
        "colab": {
          "base_uri": "https://localhost:8080/",
          "height": 237
        }
      },
      "source": [
        "model = None\n",
        "model = keras.Sequential()\n",
        "model.add(keras.layers.Dense(1, activation='linear', input_dim=1))\n",
        "model.compile(optimizer=tf.train.AdamOptimizer(0.1), loss='mse')\n",
        "model.fit(features, labels, batch_size=1, epochs=5, verbose=1)"
      ],
      "execution_count": 0,
      "outputs": [
        {
          "output_type": "stream",
          "text": [
            "Train on 10 samples\n",
            "Epoch 1/5\n",
            "10/10 [==============================] - 0s 11ms/sample - loss: 109.4344\n",
            "Epoch 2/5\n",
            "10/10 [==============================] - 0s 1ms/sample - loss: 31.0880\n",
            "Epoch 3/5\n",
            "10/10 [==============================] - 0s 1ms/sample - loss: 8.5178\n",
            "Epoch 4/5\n",
            "10/10 [==============================] - 0s 1ms/sample - loss: 1.3399\n",
            "Epoch 5/5\n",
            "10/10 [==============================] - 0s 1ms/sample - loss: 2.0775\n"
          ],
          "name": "stdout"
        },
        {
          "output_type": "execute_result",
          "data": {
            "text/plain": [
              "<tensorflow.python.keras.callbacks.History at 0x7f1ba6f3e6a0>"
            ]
          },
          "metadata": {
            "tags": []
          },
          "execution_count": 14
        }
      ]
    },
    {
      "cell_type": "markdown",
      "metadata": {
        "id": "5I6jUPALa4TW",
        "colab_type": "text"
      },
      "source": [
        "## Confirm the model works by predicting reults for values[0,9] and superimposing them on top of the features"
      ]
    },
    {
      "cell_type": "code",
      "metadata": {
        "id": "qwYI7wEQah_F",
        "colab_type": "code",
        "outputId": "fa69f202-1fac-4c4e-c9f2-e6178a75bc3d",
        "colab": {
          "base_uri": "https://localhost:8080/",
          "height": 302
        }
      },
      "source": [
        "# Get predictions\n",
        "featuresPred = model.predict(features, verbose=1)\n",
        "# Plot original features (blue) and predicted values (red)\n",
        "featuresPred = np.transpose(featuresPred)\n",
        "plt.scatter(range(10), labels, c=\"blue\")\n",
        "plt.scatter(range(10), featuresPred, c=\"red\")\n",
        "plt.legend([\"Original\", \"Predicted\"])"
      ],
      "execution_count": 0,
      "outputs": [
        {
          "output_type": "stream",
          "text": [
            "\r10/10 [==============================] - 0s 5ms/sample\n"
          ],
          "name": "stdout"
        },
        {
          "output_type": "execute_result",
          "data": {
            "text/plain": [
              "<matplotlib.legend.Legend at 0x7f1ba6f22c88>"
            ]
          },
          "metadata": {
            "tags": []
          },
          "execution_count": 15
        },
        {
          "output_type": "display_data",
          "data": {
            "image/png": "[encoded data removed]",
            "text/plain": [
              "<Figure size 432x288 with 1 Axes>"
            ]
          },
          "metadata": {
            "tags": []
          }
        }
      ]
    },
    {
      "cell_type": "markdown",
      "metadata": {
        "id": "wrQYXf_Ed6h0",
        "colab_type": "text"
      },
      "source": [
        "## Exploding Gradients"
      ]
    },
    {
      "cell_type": "code",
      "metadata": {
        "id": "6ZmFQu91d6Bq",
        "colab_type": "code",
        "outputId": "5f637caa-0f52-45a1-9d3d-708b87ba261b",
        "colab": {
          "base_uri": "https://localhost:8080/",
          "height": 283
        }
      },
      "source": [
        "# Create data with large values\n",
        "features = np.array(range(50))\n",
        "# Generate labels\n",
        "labels = features + np.random.random(features.shape) - 0.5\n",
        "\n",
        "# Transpose data for input\n",
        "[feature, labels] = [features.transpose(), labels.transpose()]\n",
        "\n",
        "plt.scatter(range(len(features)), features)"
      ],
      "execution_count": 0,
      "outputs": [
        {
          "output_type": "execute_result",
          "data": {
            "text/plain": [
              "<matplotlib.collections.PathCollection at 0x7f1ba3dc77f0>"
            ]
          },
          "metadata": {
            "tags": []
          },
          "execution_count": 16
        },
        {
          "output_type": "display_data",
          "data": {
            "image/png": "[encoded data removed]",
            "text/plain": [
              "<Figure size 432x288 with 1 Axes>"
            ]
          },
          "metadata": {
            "tags": []
          }
        }
      ]
    },
    {
      "cell_type": "markdown",
      "metadata": {
        "id": "KR1VPmp3e2LT",
        "colab_type": "text"
      },
      "source": [
        "## Train a model with learning rate of 0.01"
      ]
    },
    {
      "cell_type": "code",
      "metadata": {
        "id": "eA-AIeXwb6T4",
        "colab_type": "code",
        "outputId": "cc4351f9-73ce-4146-e358-ae09f566229b",
        "colab": {
          "base_uri": "https://localhost:8080/",
          "height": 237
        }
      },
      "source": [
        "model = None\n",
        "model = keras.Sequential()\n",
        "model.add(keras.layers.Dense(1, input_dim=1, activation='linear'))\n",
        "model.compile(optimizer=keras.optimizers.SGD(0.001), loss = 'mse')\n",
        "model.fit(feature, labels, batch_size=10, epochs=5, verbose=1)"
      ],
      "execution_count": 0,
      "outputs": [
        {
          "output_type": "stream",
          "text": [
            "Train on 50 samples\n",
            "Epoch 1/5\n",
            "50/50 [==============================] - 0s 2ms/sample - loss: 1.9783\n",
            "Epoch 2/5\n",
            "50/50 [==============================] - 0s 188us/sample - loss: 0.2743\n",
            "Epoch 3/5\n",
            "50/50 [==============================] - 0s 174us/sample - loss: 0.2232\n",
            "Epoch 4/5\n",
            "50/50 [==============================] - 0s 186us/sample - loss: 0.2250\n",
            "Epoch 5/5\n",
            "50/50 [==============================] - 0s 206us/sample - loss: 0.1680\n"
          ],
          "name": "stdout"
        },
        {
          "output_type": "execute_result",
          "data": {
            "text/plain": [
              "<tensorflow.python.keras.callbacks.History at 0x7f1ba3d1c860>"
            ]
          },
          "metadata": {
            "tags": []
          },
          "execution_count": 18
        }
      ]
    },
    {
      "cell_type": "code",
      "metadata": {
        "id": "3lxT9eFHfih5",
        "colab_type": "code",
        "colab": {}
      },
      "source": [
        ""
      ],
      "execution_count": 0,
      "outputs": []
    }
  ]
}