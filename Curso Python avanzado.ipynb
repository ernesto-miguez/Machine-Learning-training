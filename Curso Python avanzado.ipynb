{
 "cells": [
  {
   "cell_type": "code",
   "execution_count": 2,
   "metadata": {
    "scrolled": true
   },
   "outputs": [],
   "source": [
    "# DECORADORES\n",
    "def logger(fn_to_decorate):\n",
    "    def wrapper(*args, **kwargs):\n",
    "        print(\"Function %s called with arguments: %s, %s\" % (fn_to_decorate))\n",
    "        return fn_to_decorate(*args, **kwargs)\n",
    "    return wrapper"
   ]
  },
  {
   "cell_type": "code",
   "execution_count": null,
   "metadata": {},
   "outputs": [],
   "source": [
    "@logger\n",
    "def mi_funcion(param1, param2):\n",
    "    return 'hola {} {}'.format(param1, param2)\n",
    "print(mi_funcion, )"
   ]
  },
  {
   "cell_type": "code",
   "execution_count": 4,
   "metadata": {},
   "outputs": [
    {
     "data": {
      "text/plain": [
       "True"
      ]
     },
     "execution_count": 4,
     "metadata": {},
     "output_type": "execute_result"
    }
   ],
   "source": [
    "# List Comprehensions\n",
    "test_list = []\n",
    "for i in range(100):\n",
    "    test_list.append(i)\n",
    "\n",
    "test_list2 = [i for i in range(100)]\n",
    "\n",
    "test_list == test_list2"
   ]
  },
  {
   "cell_type": "code",
   "execution_count": 5,
   "metadata": {},
   "outputs": [
    {
     "data": {
      "text/plain": [
       "[1, 3]"
      ]
     },
     "execution_count": 5,
     "metadata": {},
     "output_type": "execute_result"
    }
   ],
   "source": [
    "list(filter(lambda x: x % 2, (1, 2, 3, 4)))"
   ]
  },
  {
   "cell_type": "code",
   "execution_count": 6,
   "metadata": {},
   "outputs": [
    {
     "data": {
      "text/plain": [
       "[1, 3]"
      ]
     },
     "execution_count": 6,
     "metadata": {},
     "output_type": "execute_result"
    }
   ],
   "source": [
    "[i for i in range(4) if i % 2]"
   ]
  },
  {
   "cell_type": "code",
   "execution_count": 7,
   "metadata": {},
   "outputs": [
    {
     "name": "stdout",
     "output_type": "stream",
     "text": [
      "<class 'list'>\n",
      "<class 'set'>\n",
      "<class 'generator'>\n",
      "<class 'dict'>\n"
     ]
    }
   ],
   "source": [
    "print(type([i for i in range(4)]))\n",
    "print(type(set(i for i in range(4))))\n",
    "print(type((i for i in range(4))))\n",
    "print(type({i:i for i in range(4)}))"
   ]
  },
  {
   "cell_type": "code",
   "execution_count": 13,
   "metadata": {},
   "outputs": [
    {
     "name": "stdout",
     "output_type": "stream",
     "text": [
      "1\n",
      "1\n"
     ]
    }
   ],
   "source": [
    "# Generadores\n",
    "def interfunc2():\n",
    "    for i in range(5):\n",
    "        return 1\n",
    "        \n",
    "def interfunc():\n",
    "    for i in range(5):\n",
    "        yield 1\n",
    "        \n",
    "iterator = interfunc()\n",
    "print(next(iterator))\n",
    "print(next(iterator))"
   ]
  },
  {
   "cell_type": "code",
   "execution_count": 16,
   "metadata": {},
   "outputs": [
    {
     "name": "stdout",
     "output_type": "stream",
     "text": [
      "0\n",
      "1\n",
      "1\n",
      "2\n"
     ]
    }
   ],
   "source": [
    "def fibonacci():\n",
    "    a, b = 0, 1\n",
    "    while 1:\n",
    "        yield a\n",
    "        b, a = a, a+ b\n",
    "fib_number = fibonacci()\n",
    "print(next(fib_number))\n",
    "print(next(fib_number))\n",
    "print(next(fib_number))\n",
    "print(next(fib_number))\n"
   ]
  },
  {
   "cell_type": "code",
   "execution_count": 1,
   "metadata": {},
   "outputs": [
    {
     "name": "stdout",
     "output_type": "stream",
     "text": [
      "\n",
      "=============\n",
      "Shop 1\n",
      "=============\n",
      "\n",
      "*Talla: M. Color: white\n",
      "*Talla: L. Color: white\n",
      "*Talla: M. Color: red\n",
      "*Talla: L. Color: red\n",
      "\n",
      "=============\n",
      "Shop 2\n",
      "=============\n",
      "\n",
      "*Talla: S. Color: black\n",
      "*Talla: M. Color: black\n",
      "*Talla: S. Color: white\n",
      "*Talla: M. Color: white\n"
     ]
    }
   ],
   "source": [
    "# Ejercicio de la tienda\n",
    "def shirts(sizes_whitelist=[], colors_whitelist=[]):\n",
    "\n",
    "    colors = [\"black\", \"white\", \"red\"]\n",
    "\n",
    "    sizes = [\"S\", \"M\", \"L\"]\n",
    "\n",
    "    return ((color, size) for color in colors  if color in colors_whitelist\n",
    "\n",
    "            for size in sizes if size in sizes_whitelist)\n",
    "\n",
    "\n",
    "def get_shops_stock():\n",
    "    \n",
    "    shops = [\n",
    "        {\n",
    "            \n",
    "            'name': \"Shop 1\",\n",
    "            'sizes': ['M', 'L'],\n",
    "            'colors': ['white', 'red']\n",
    "        },\n",
    "        {\n",
    "            \n",
    "            \"name\": \"Shop 2\",\n",
    "            \"sizes\": [\"S\", \"M\"],\n",
    "            \"colors\": [\"black\", \"white\"]\n",
    "        }\n",
    "    ]\n",
    "    for shop in shops:\n",
    "        yield shop['name'], shirts(shop[\"sizes\"], shop[\"colors\"])\n",
    "        \n",
    "if __name__ == '__main__':\n",
    "    for stock in get_shops_stock():\n",
    "        print(\"\\n=============\", stock[0], \"=============\", sep='\\n')\n",
    "        print(\"\", *(\"Talla: {}. Color: {}\".format(size, color) for color, size in stock[1]), sep='\\n*')"
   ]
  },
  {
   "cell_type": "code",
   "execution_count": null,
   "metadata": {},
   "outputs": [],
   "source": [
    "CLASES"
   ]
  },
  {
   "cell_type": "code",
   "execution_count": 21,
   "metadata": {},
   "outputs": [
    {
     "ename": "TypeError",
     "evalue": "Can't instantiate abstract class AbstractCar with abstract methods turn_on",
     "output_type": "error",
     "traceback": [
      "\u001b[1;31m---------------------------------------------------------------------------\u001b[0m",
      "\u001b[1;31mTypeError\u001b[0m                                 Traceback (most recent call last)",
      "\u001b[1;32m<ipython-input-21-b613299ff026>\u001b[0m in \u001b[0;36m<module>\u001b[1;34m\u001b[0m\n\u001b[0;32m     11\u001b[0m         \u001b[1;32mraise\u001b[0m \u001b[0mNotImplementedError\u001b[0m\u001b[1;33m(\u001b[0m\u001b[1;34m\"AbstractCar subclass\"\u001b[0m\u001b[1;33m)\u001b[0m\u001b[1;33m\u001b[0m\u001b[1;33m\u001b[0m\u001b[0m\n\u001b[0;32m     12\u001b[0m \u001b[1;33m\u001b[0m\u001b[0m\n\u001b[1;32m---> 13\u001b[1;33m \u001b[0ma\u001b[0m \u001b[1;33m=\u001b[0m \u001b[0mAbstractCar\u001b[0m\u001b[1;33m(\u001b[0m\u001b[1;36m2\u001b[0m\u001b[1;33m)\u001b[0m\u001b[1;33m\u001b[0m\u001b[1;33m\u001b[0m\u001b[0m\n\u001b[0m\u001b[0;32m     14\u001b[0m \u001b[0mturn_on\u001b[0m\u001b[1;33m(\u001b[0m\u001b[0mself\u001b[0m\u001b[1;33m)\u001b[0m\u001b[1;33m\u001b[0m\u001b[1;33m\u001b[0m\u001b[0m\n",
      "\u001b[1;31mTypeError\u001b[0m: Can't instantiate abstract class AbstractCar with abstract methods turn_on"
     ]
    }
   ],
   "source": [
    "from abc import ABCMeta, abstractmethod\n",
    "\n",
    "\n",
    "class AbstractCar(metaclass=ABCMeta):\n",
    "    \n",
    "    def __init__(self, n_doors):\n",
    "        self.n_doors = n_doors\n",
    "    \n",
    "    @abstractmethod\n",
    "    def turn_on(self):\n",
    "        raise NotImplementedError(\"AbstractCar subclass\")\n",
    "\n",
    "a = AbstractCar(2)\n",
    "turn_on(self)"
   ]
  },
  {
   "cell_type": "code",
   "execution_count": null,
   "metadata": {},
   "outputs": [],
   "source": []
  },
  {
   "cell_type": "code",
   "execution_count": null,
   "metadata": {},
   "outputs": [],
   "source": []
  },
  {
   "cell_type": "code",
   "execution_count": null,
   "metadata": {},
   "outputs": [],
   "source": []
  },
  {
   "cell_type": "code",
   "execution_count": null,
   "metadata": {},
   "outputs": [],
   "source": []
  }
 ],
 "metadata": {
  "kernelspec": {
   "display_name": "Python 3",
   "language": "python",
   "name": "python3"
  },
  "language_info": {
   "codemirror_mode": {
    "name": "ipython",
    "version": 3
   },
   "file_extension": ".py",
   "mimetype": "text/x-python",
   "name": "python",
   "nbconvert_exporter": "python",
   "pygments_lexer": "ipython3",
   "version": "3.7.1"
  }
 },
 "nbformat": 4,
 "nbformat_minor": 2
}
