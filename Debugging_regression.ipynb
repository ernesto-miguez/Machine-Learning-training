{
  "nbformat": 4,
  "nbformat_minor": 0,
  "metadata": {
    "colab": {
      "name": "Debugging_regression.ipynb",
      "provenance": [],
      "collapsed_sections": [],
      "authorship_tag": "ABX9TyNEwGPoh72xWl14B5jPlKjQ",
      "include_colab_link": true
    },
    "kernelspec": {
      "name": "python3",
      "display_name": "Python 3"
    }
  },
  "cells": [
    {
      "cell_type": "markdown",
      "metadata": {
        "id": "view-in-github",
        "colab_type": "text"
      },
      "source": [
        "<a href=\"https://colab.research.google.com/github/ernesto-miguez/Machine-Learning-training/blob/master/Debugging_regression.ipynb\" target=\"_parent\"><img src=\"https://colab.research.google.com/assets/colab-badge.svg\" alt=\"Open In Colab\"/></a>"
      ]
    },
    {
      "cell_type": "markdown",
      "metadata": {
        "id": "ic16zHcDELXb",
        "colab_type": "text"
      },
      "source": [
        "## 1. Setup and loading data"
      ]
    },
    {
      "cell_type": "code",
      "metadata": {
        "id": "vZaMVeeLoxZQ",
        "colab_type": "code",
        "colab": {
          "base_uri": "https://localhost:8080/",
          "height": 254
        },
        "outputId": "8fee2607-8315-480c-d30f-c7cb66358330"
      },
      "source": [
        "% reset -f\n",
        "\n",
        "# Load libraries\n",
        "from os.path import join\n",
        "import pandas as pd\n",
        "import seaborn as sns\n",
        "import tensorflow as tf\n",
        "from tensorflow import keras\n",
        "import numpy as np\n",
        "import matplotlib.pyplot as plt\n",
        "\n",
        "# Set Pandas display options\n",
        "pd.options.display.max_rows = 10\n",
        "pd.options.display.float_format = '{:.1f}'.format\n",
        "\n",
        "wineDf = pd.read_csv(\n",
        "  \"https://download.mlcc.google.com/mledu-datasets/winequality.csv\",\n",
        "  encoding='latin-1')\n",
        "wineDf.columns = ['fixed acidity','volatile acidity','citric acid',\n",
        "                     'residual sugar','chlorides','free sulfur dioxide',\n",
        "                     'total sulfur dioxide','density','pH',\n",
        "                     'sulphates','alcohol','quality']\n",
        "wineDf.head()"
      ],
      "execution_count": 1,
      "outputs": [
        {
          "output_type": "display_data",
          "data": {
            "text/html": [
              "<p style=\"color: red;\">\n",
              "The default version of TensorFlow in Colab will soon switch to TensorFlow 2.x.<br>\n",
              "We recommend you <a href=\"https://www.tensorflow.org/guide/migrate\" target=\"_blank\">upgrade</a> now \n",
              "or ensure your notebook will continue to use TensorFlow 1.x via the <code>%tensorflow_version 1.x</code> magic:\n",
              "<a href=\"https://colab.research.google.com/notebooks/tensorflow_version.ipynb\" target=\"_blank\">more info</a>.</p>\n"
            ],
            "text/plain": [
              "<IPython.core.display.HTML object>"
            ]
          },
          "metadata": {
            "tags": []
          }
        },
        {
          "output_type": "execute_result",
          "data": {
            "text/html": [
              "<div>\n",
              "<style scoped>\n",
              "    .dataframe tbody tr th:only-of-type {\n",
              "        vertical-align: middle;\n",
              "    }\n",
              "\n",
              "    .dataframe tbody tr th {\n",
              "        vertical-align: top;\n",
              "    }\n",
              "\n",
              "    .dataframe thead th {\n",
              "        text-align: right;\n",
              "    }\n",
              "</style>\n",
              "<table border=\"1\" class=\"dataframe\">\n",
              "  <thead>\n",
              "    <tr style=\"text-align: right;\">\n",
              "      <th></th>\n",
              "      <th>fixed acidity</th>\n",
              "      <th>volatile acidity</th>\n",
              "      <th>citric acid</th>\n",
              "      <th>residual sugar</th>\n",
              "      <th>chlorides</th>\n",
              "      <th>free sulfur dioxide</th>\n",
              "      <th>total sulfur dioxide</th>\n",
              "      <th>density</th>\n",
              "      <th>pH</th>\n",
              "      <th>sulphates</th>\n",
              "      <th>alcohol</th>\n",
              "      <th>quality</th>\n",
              "    </tr>\n",
              "  </thead>\n",
              "  <tbody>\n",
              "    <tr>\n",
              "      <th>0</th>\n",
              "      <td>7.0</td>\n",
              "      <td>0.3</td>\n",
              "      <td>0.4</td>\n",
              "      <td>20.7</td>\n",
              "      <td>0.0</td>\n",
              "      <td>45.0</td>\n",
              "      <td>170.0</td>\n",
              "      <td>1.0</td>\n",
              "      <td>3.0</td>\n",
              "      <td>0.5</td>\n",
              "      <td>8.8</td>\n",
              "      <td>6</td>\n",
              "    </tr>\n",
              "    <tr>\n",
              "      <th>1</th>\n",
              "      <td>6.3</td>\n",
              "      <td>0.3</td>\n",
              "      <td>0.3</td>\n",
              "      <td>1.6</td>\n",
              "      <td>0.0</td>\n",
              "      <td>14.0</td>\n",
              "      <td>132.0</td>\n",
              "      <td>1.0</td>\n",
              "      <td>3.3</td>\n",
              "      <td>0.5</td>\n",
              "      <td>9.5</td>\n",
              "      <td>6</td>\n",
              "    </tr>\n",
              "    <tr>\n",
              "      <th>2</th>\n",
              "      <td>8.1</td>\n",
              "      <td>0.3</td>\n",
              "      <td>0.4</td>\n",
              "      <td>6.9</td>\n",
              "      <td>0.1</td>\n",
              "      <td>30.0</td>\n",
              "      <td>97.0</td>\n",
              "      <td>1.0</td>\n",
              "      <td>3.3</td>\n",
              "      <td>0.4</td>\n",
              "      <td>10.1</td>\n",
              "      <td>6</td>\n",
              "    </tr>\n",
              "    <tr>\n",
              "      <th>3</th>\n",
              "      <td>7.2</td>\n",
              "      <td>0.2</td>\n",
              "      <td>0.3</td>\n",
              "      <td>8.5</td>\n",
              "      <td>0.1</td>\n",
              "      <td>47.0</td>\n",
              "      <td>186.0</td>\n",
              "      <td>1.0</td>\n",
              "      <td>3.2</td>\n",
              "      <td>0.4</td>\n",
              "      <td>9.9</td>\n",
              "      <td>6</td>\n",
              "    </tr>\n",
              "    <tr>\n",
              "      <th>4</th>\n",
              "      <td>7.2</td>\n",
              "      <td>0.2</td>\n",
              "      <td>0.3</td>\n",
              "      <td>8.5</td>\n",
              "      <td>0.1</td>\n",
              "      <td>47.0</td>\n",
              "      <td>186.0</td>\n",
              "      <td>1.0</td>\n",
              "      <td>3.2</td>\n",
              "      <td>0.4</td>\n",
              "      <td>9.9</td>\n",
              "      <td>6</td>\n",
              "    </tr>\n",
              "  </tbody>\n",
              "</table>\n",
              "</div>"
            ],
            "text/plain": [
              "   fixed acidity  volatile acidity  citric acid  ...  sulphates  alcohol  quality\n",
              "0            7.0               0.3          0.4  ...        0.5      8.8        6\n",
              "1            6.3               0.3          0.3  ...        0.5      9.5        6\n",
              "2            8.1               0.3          0.4  ...        0.4     10.1        6\n",
              "3            7.2               0.2          0.3  ...        0.4      9.9        6\n",
              "4            7.2               0.2          0.3  ...        0.4      9.9        6\n",
              "\n",
              "[5 rows x 12 columns]"
            ]
          },
          "metadata": {
            "tags": []
          },
          "execution_count": 1
        }
      ]
    },
    {
      "cell_type": "markdown",
      "metadata": {
        "id": "CFKPJcwOrtrN",
        "colab_type": "text"
      },
      "source": [
        "## 2. Check correlation matrix"
      ]
    },
    {
      "cell_type": "code",
      "metadata": {
        "id": "8IebqB_yrA71",
        "colab_type": "code",
        "colab": {
          "base_uri": "https://localhost:8080/",
          "height": 697
        },
        "outputId": "d781a898-055f-40f3-9dbc-31a881f970dc"
      },
      "source": [
        "corr_wineDF = wineDf.corr()\n",
        "plt.figure(figsize=(16, 10))\n",
        "sns.heatmap(corr_wineDF, annot=True)"
      ],
      "execution_count": 2,
      "outputs": [
        {
          "output_type": "execute_result",
          "data": {
            "text/plain": [
              "<matplotlib.axes._subplots.AxesSubplot at 0x7f8f5d77a630>"
            ]
          },
          "metadata": {
            "tags": []
          },
          "execution_count": 2
        },
        {
          "output_type": "display_data",
          "data": {
            "image/png": "[encoded data removed]",
            "text/plain": [
              "<Figure size 1152x720 with 2 Axes>"
            ]
          },
          "metadata": {
            "tags": []
          }
        }
      ]
    },
    {
      "cell_type": "markdown",
      "metadata": {
        "id": "k4JsTmyHxioU",
        "colab_type": "text"
      },
      "source": [
        "## 3. Data Schema"
      ]
    },
    {
      "cell_type": "code",
      "metadata": {
        "id": "GL36MoS3vFXy",
        "colab_type": "code",
        "colab": {}
      },
      "source": [
        "def test_data_schema(input_data, schema):\n",
        "\n",
        "  def test_dtypes():\n",
        "    for column in schema.keys():\n",
        "      assert input_data[column].map(type).eq(\n",
        "          schema[column]['dtype']).all(), (\n",
        "          \"Incorrect dtype in column '%s'.\" % column\n",
        "          )\n",
        "    print ('Input dtypes are correct.')\n",
        "\n",
        "  def test_ranges():\n",
        "    for column in schema.keys():\n",
        "      schema_max = schema[column]['range']['max']\n",
        "      schema_min = schema[column]['range']['min']\n",
        "      # Assert that data falls between schema min and max\n",
        "      assert input_data[column].max() <= schema_max, (\n",
        "          \"Maximum value of column '%s' is too low.\" % column\n",
        "      )\n",
        "      assert input_data[column].min() >= schema_min, (\n",
        "          \"Minimum value of column '%s' is too high.\" % column\n",
        "      )\n",
        "    print('Data falls within specified ranges.')\n",
        "\n",
        "  test_dtypes()\n",
        "  test_ranges()"
      ],
      "execution_count": 0,
      "outputs": []
    },
    {
      "cell_type": "code",
      "metadata": {
        "id": "BrxuofzKzclx",
        "colab_type": "code",
        "colab": {
          "base_uri": "https://localhost:8080/",
          "height": 300
        },
        "outputId": "80073d8f-45c1-495f-ed81-d3da06cb3ec5"
      },
      "source": [
        "# Generate statistics to understand the statistical properties of your dataset\n",
        "wineDf.describe()"
      ],
      "execution_count": 4,
      "outputs": [
        {
          "output_type": "execute_result",
          "data": {
            "text/html": [
              "<div>\n",
              "<style scoped>\n",
              "    .dataframe tbody tr th:only-of-type {\n",
              "        vertical-align: middle;\n",
              "    }\n",
              "\n",
              "    .dataframe tbody tr th {\n",
              "        vertical-align: top;\n",
              "    }\n",
              "\n",
              "    .dataframe thead th {\n",
              "        text-align: right;\n",
              "    }\n",
              "</style>\n",
              "<table border=\"1\" class=\"dataframe\">\n",
              "  <thead>\n",
              "    <tr style=\"text-align: right;\">\n",
              "      <th></th>\n",
              "      <th>fixed acidity</th>\n",
              "      <th>volatile acidity</th>\n",
              "      <th>citric acid</th>\n",
              "      <th>residual sugar</th>\n",
              "      <th>chlorides</th>\n",
              "      <th>free sulfur dioxide</th>\n",
              "      <th>total sulfur dioxide</th>\n",
              "      <th>density</th>\n",
              "      <th>pH</th>\n",
              "      <th>sulphates</th>\n",
              "      <th>alcohol</th>\n",
              "      <th>quality</th>\n",
              "    </tr>\n",
              "  </thead>\n",
              "  <tbody>\n",
              "    <tr>\n",
              "      <th>count</th>\n",
              "      <td>6497.0</td>\n",
              "      <td>6497.0</td>\n",
              "      <td>6497.0</td>\n",
              "      <td>6497.0</td>\n",
              "      <td>6497.0</td>\n",
              "      <td>6497.0</td>\n",
              "      <td>6497.0</td>\n",
              "      <td>6497.0</td>\n",
              "      <td>6497.0</td>\n",
              "      <td>6497.0</td>\n",
              "      <td>6497.0</td>\n",
              "      <td>6497.0</td>\n",
              "    </tr>\n",
              "    <tr>\n",
              "      <th>mean</th>\n",
              "      <td>7.2</td>\n",
              "      <td>0.3</td>\n",
              "      <td>0.3</td>\n",
              "      <td>5.4</td>\n",
              "      <td>0.1</td>\n",
              "      <td>30.5</td>\n",
              "      <td>115.7</td>\n",
              "      <td>1.0</td>\n",
              "      <td>3.2</td>\n",
              "      <td>0.5</td>\n",
              "      <td>10.5</td>\n",
              "      <td>5.8</td>\n",
              "    </tr>\n",
              "    <tr>\n",
              "      <th>std</th>\n",
              "      <td>1.3</td>\n",
              "      <td>0.2</td>\n",
              "      <td>0.1</td>\n",
              "      <td>4.8</td>\n",
              "      <td>0.0</td>\n",
              "      <td>17.7</td>\n",
              "      <td>56.5</td>\n",
              "      <td>0.0</td>\n",
              "      <td>0.2</td>\n",
              "      <td>0.1</td>\n",
              "      <td>1.2</td>\n",
              "      <td>0.9</td>\n",
              "    </tr>\n",
              "    <tr>\n",
              "      <th>min</th>\n",
              "      <td>3.8</td>\n",
              "      <td>0.1</td>\n",
              "      <td>0.0</td>\n",
              "      <td>0.6</td>\n",
              "      <td>0.0</td>\n",
              "      <td>1.0</td>\n",
              "      <td>6.0</td>\n",
              "      <td>1.0</td>\n",
              "      <td>2.7</td>\n",
              "      <td>0.2</td>\n",
              "      <td>8.0</td>\n",
              "      <td>3.0</td>\n",
              "    </tr>\n",
              "    <tr>\n",
              "      <th>25%</th>\n",
              "      <td>6.4</td>\n",
              "      <td>0.2</td>\n",
              "      <td>0.2</td>\n",
              "      <td>1.8</td>\n",
              "      <td>0.0</td>\n",
              "      <td>17.0</td>\n",
              "      <td>77.0</td>\n",
              "      <td>1.0</td>\n",
              "      <td>3.1</td>\n",
              "      <td>0.4</td>\n",
              "      <td>9.5</td>\n",
              "      <td>5.0</td>\n",
              "    </tr>\n",
              "    <tr>\n",
              "      <th>50%</th>\n",
              "      <td>7.0</td>\n",
              "      <td>0.3</td>\n",
              "      <td>0.3</td>\n",
              "      <td>3.0</td>\n",
              "      <td>0.0</td>\n",
              "      <td>29.0</td>\n",
              "      <td>118.0</td>\n",
              "      <td>1.0</td>\n",
              "      <td>3.2</td>\n",
              "      <td>0.5</td>\n",
              "      <td>10.3</td>\n",
              "      <td>6.0</td>\n",
              "    </tr>\n",
              "    <tr>\n",
              "      <th>75%</th>\n",
              "      <td>7.7</td>\n",
              "      <td>0.4</td>\n",
              "      <td>0.4</td>\n",
              "      <td>8.1</td>\n",
              "      <td>0.1</td>\n",
              "      <td>41.0</td>\n",
              "      <td>156.0</td>\n",
              "      <td>1.0</td>\n",
              "      <td>3.3</td>\n",
              "      <td>0.6</td>\n",
              "      <td>11.3</td>\n",
              "      <td>6.0</td>\n",
              "    </tr>\n",
              "    <tr>\n",
              "      <th>max</th>\n",
              "      <td>15.9</td>\n",
              "      <td>1.6</td>\n",
              "      <td>1.7</td>\n",
              "      <td>65.8</td>\n",
              "      <td>0.6</td>\n",
              "      <td>289.0</td>\n",
              "      <td>440.0</td>\n",
              "      <td>1.0</td>\n",
              "      <td>4.0</td>\n",
              "      <td>2.0</td>\n",
              "      <td>14.9</td>\n",
              "      <td>9.0</td>\n",
              "    </tr>\n",
              "  </tbody>\n",
              "</table>\n",
              "</div>"
            ],
            "text/plain": [
              "       fixed acidity  volatile acidity  ...  alcohol  quality\n",
              "count         6497.0            6497.0  ...   6497.0   6497.0\n",
              "mean             7.2               0.3  ...     10.5      5.8\n",
              "std              1.3               0.2  ...      1.2      0.9\n",
              "min              3.8               0.1  ...      8.0      3.0\n",
              "25%              6.4               0.2  ...      9.5      5.0\n",
              "50%              7.0               0.3  ...     10.3      6.0\n",
              "75%              7.7               0.4  ...     11.3      6.0\n",
              "max             15.9               1.6  ...     14.9      9.0\n",
              "\n",
              "[8 rows x 12 columns]"
            ]
          },
          "metadata": {
            "tags": []
          },
          "execution_count": 4
        }
      ]
    },
    {
      "cell_type": "code",
      "metadata": {
        "id": "Is3SG-ls1EQs",
        "colab_type": "code",
        "colab": {
          "base_uri": "https://localhost:8080/",
          "height": 72
        },
        "outputId": "e2ced8d1-492e-4881-c8fd-4ca62df491ec"
      },
      "source": [
        "# Using max, min and data type values from the table above, for the first three columns (as a demonstration)\n",
        "wine_schema = {\n",
        "    'fixed acidity': {\n",
        "        'range': {\n",
        "            'min' : 3.8,\n",
        "            'max' : 15.9\n",
        "        },\n",
        "        'dtype': float,\n",
        "    },\n",
        "\n",
        "    'volatile acidity': {\n",
        "        'range': {\n",
        "            'min' : 0.08,\n",
        "            'max' : 1.6\n",
        "        },\n",
        "        'dtype' : float\n",
        "    },\n",
        "\n",
        "    'citric acid': {\n",
        "        'range': {\n",
        "            'min' : 0.0,\n",
        "            'max' : 1.7\n",
        "        },\n",
        "        'dtype' : float\n",
        "    }\n",
        "}\n",
        "\n",
        "print('Validating wine data against data schema...')\n",
        "test_data_schema(wineDf, wine_schema)"
      ],
      "execution_count": 7,
      "outputs": [
        {
          "output_type": "stream",
          "text": [
            "Validating wine data against data schema...\n",
            "Input dtypes are correct.\n",
            "Data falls within specified ranges.\n"
          ],
          "name": "stdout"
        }
      ]
    },
    {
      "cell_type": "markdown",
      "metadata": {
        "id": "_UUhakmdAmhE",
        "colab_type": "text"
      },
      "source": [
        "## 4. Split and Normalize Data"
      ]
    },
    {
      "cell_type": "code",
      "metadata": {
        "id": "nN-lsDF7-DSY",
        "colab_type": "code",
        "colab": {}
      },
      "source": [
        "# Split the dataset into data and labels\n",
        "\n",
        "wineFeatures = wineDf.copy(deep=True)\n",
        "wineFeatures.drop(columns='quality', inplace=True)\n",
        "wineLabels = wineDf['quality'].copy(deep=True)"
      ],
      "execution_count": 0,
      "outputs": []
    },
    {
      "cell_type": "code",
      "metadata": {
        "id": "pMj5N51s-DOH",
        "colab_type": "code",
        "colab": {}
      },
      "source": [
        "# Normalize data using z-score\n",
        "def normalizData(arr):\n",
        "  stdArr = np.std(arr)\n",
        "  meanArr = np.mean(arr)\n",
        "  arr = (arr - meanArr)/ stdArr\n",
        "  return arr\n",
        "\n",
        "for str1 in wineFeatures.columns:\n",
        "  wineFeatures[str1] = normalizData(wineFeatures[str1])"
      ],
      "execution_count": 0,
      "outputs": []
    },
    {
      "cell_type": "markdown",
      "metadata": {
        "id": "fwRuZVxbEY-4",
        "colab_type": "text"
      },
      "source": [
        "## 5. Test Engineered Data"
      ]
    },
    {
      "cell_type": "code",
      "metadata": {
        "id": "Dl8oxvJRDSB5",
        "colab_type": "code",
        "colab": {}
      },
      "source": [
        "# Set up testing functions\n",
        "\n",
        "import unittest\n",
        "\n",
        "def test_input_dim(df, n_rows, n_columns):\n",
        "  assert len(df) == n_rows, \"Unexpected number of rows\"\n",
        "  assert len(df.columns) == n_columns, \"Unexpected number of columns\"\n",
        "  print(\"Egineered data has the expected number of rows and columns.\")\n",
        "\n",
        "def test_nulls(df):\n",
        "  dataNulls = df.isnull().sum().sum()\n",
        "  assert dataNulls == 0, \"Nulls in engineered data.\"\n",
        "  print(\"Engineered features do not contain nulls.\")"
      ],
      "execution_count": 0,
      "outputs": []
    },
    {
      "cell_type": "code",
      "metadata": {
        "id": "PA1DtgjfHWkD",
        "colab_type": "code",
        "colab": {
          "base_uri": "https://localhost:8080/",
          "height": 54
        },
        "outputId": "1d7540dc-f75b-4077-a7bf-407865b53f2c"
      },
      "source": [
        "# Test dimensions of engineered data \n",
        "test_input_dim(wineFeatures, 6497, 11)\n",
        "\n",
        "# Test nulls of engineered data\n",
        "test_nulls(wineFeatures)"
      ],
      "execution_count": 21,
      "outputs": [
        {
          "output_type": "stream",
          "text": [
            "Egineered data has the expected number of rows and columns.\n",
            "Engineered features do not contain nulls.\n"
          ],
          "name": "stdout"
        }
      ]
    },
    {
      "cell_type": "markdown",
      "metadata": {
        "id": "cTgnCeD9JvM6",
        "colab_type": "text"
      },
      "source": [
        "## 6. Check Splits for Statistical Equivalence"
      ]
    },
    {
      "cell_type": "code",
      "metadata": {
        "id": "xiObUxYBLTrZ",
        "colab_type": "code",
        "colab": {
          "base_uri": "https://localhost:8080/",
          "height": 300
        },
        "outputId": "a20c1848-6341-4483-d55d-7d763ab6e50e"
      },
      "source": [
        "splitIdx = int(wineFeatures.shape[0]*8/10)\n",
        "wineFeatures.iloc[0:splitIdx,:].describe()"
      ],
      "execution_count": 29,
      "outputs": [
        {
          "output_type": "execute_result",
          "data": {
            "text/html": [
              "<div>\n",
              "<style scoped>\n",
              "    .dataframe tbody tr th:only-of-type {\n",
              "        vertical-align: middle;\n",
              "    }\n",
              "\n",
              "    .dataframe tbody tr th {\n",
              "        vertical-align: top;\n",
              "    }\n",
              "\n",
              "    .dataframe thead th {\n",
              "        text-align: right;\n",
              "    }\n",
              "</style>\n",
              "<table border=\"1\" class=\"dataframe\">\n",
              "  <thead>\n",
              "    <tr style=\"text-align: right;\">\n",
              "      <th></th>\n",
              "      <th>fixed acidity</th>\n",
              "      <th>volatile acidity</th>\n",
              "      <th>citric acid</th>\n",
              "      <th>residual sugar</th>\n",
              "      <th>chlorides</th>\n",
              "      <th>free sulfur dioxide</th>\n",
              "      <th>total sulfur dioxide</th>\n",
              "      <th>density</th>\n",
              "      <th>pH</th>\n",
              "      <th>sulphates</th>\n",
              "      <th>alcohol</th>\n",
              "    </tr>\n",
              "  </thead>\n",
              "  <tbody>\n",
              "    <tr>\n",
              "      <th>count</th>\n",
              "      <td>5197.0</td>\n",
              "      <td>5197.0</td>\n",
              "      <td>5197.0</td>\n",
              "      <td>5197.0</td>\n",
              "      <td>5197.0</td>\n",
              "      <td>5197.0</td>\n",
              "      <td>5197.0</td>\n",
              "      <td>5197.0</td>\n",
              "      <td>5197.0</td>\n",
              "      <td>5197.0</td>\n",
              "      <td>5197.0</td>\n",
              "    </tr>\n",
              "    <tr>\n",
              "      <th>mean</th>\n",
              "      <td>-0.2</td>\n",
              "      <td>-0.3</td>\n",
              "      <td>0.1</td>\n",
              "      <td>0.2</td>\n",
              "      <td>-0.2</td>\n",
              "      <td>0.2</td>\n",
              "      <td>0.3</td>\n",
              "      <td>-0.2</td>\n",
              "      <td>-0.1</td>\n",
              "      <td>-0.2</td>\n",
              "      <td>-0.0</td>\n",
              "    </tr>\n",
              "    <tr>\n",
              "      <th>std</th>\n",
              "      <td>0.7</td>\n",
              "      <td>0.8</td>\n",
              "      <td>0.9</td>\n",
              "      <td>1.1</td>\n",
              "      <td>0.9</td>\n",
              "      <td>1.0</td>\n",
              "      <td>0.8</td>\n",
              "      <td>1.0</td>\n",
              "      <td>1.0</td>\n",
              "      <td>0.9</td>\n",
              "      <td>1.0</td>\n",
              "    </tr>\n",
              "    <tr>\n",
              "      <th>min</th>\n",
              "      <td>-2.6</td>\n",
              "      <td>-1.6</td>\n",
              "      <td>-2.2</td>\n",
              "      <td>-1.0</td>\n",
              "      <td>-1.3</td>\n",
              "      <td>-1.6</td>\n",
              "      <td>-1.9</td>\n",
              "      <td>-2.5</td>\n",
              "      <td>-3.1</td>\n",
              "      <td>-2.1</td>\n",
              "      <td>-2.1</td>\n",
              "    </tr>\n",
              "    <tr>\n",
              "      <th>25%</th>\n",
              "      <td>-0.7</td>\n",
              "      <td>-0.8</td>\n",
              "      <td>-0.4</td>\n",
              "      <td>-0.8</td>\n",
              "      <td>-0.6</td>\n",
              "      <td>-0.5</td>\n",
              "      <td>-0.2</td>\n",
              "      <td>-1.0</td>\n",
              "      <td>-0.8</td>\n",
              "      <td>-0.8</td>\n",
              "      <td>-0.9</td>\n",
              "    </tr>\n",
              "    <tr>\n",
              "      <th>50%</th>\n",
              "      <td>-0.3</td>\n",
              "      <td>-0.4</td>\n",
              "      <td>-0.1</td>\n",
              "      <td>-0.1</td>\n",
              "      <td>-0.3</td>\n",
              "      <td>0.1</td>\n",
              "      <td>0.3</td>\n",
              "      <td>-0.2</td>\n",
              "      <td>-0.2</td>\n",
              "      <td>-0.3</td>\n",
              "      <td>-0.2</td>\n",
              "    </tr>\n",
              "    <tr>\n",
              "      <th>75%</th>\n",
              "      <td>0.1</td>\n",
              "      <td>0.0</td>\n",
              "      <td>0.5</td>\n",
              "      <td>0.9</td>\n",
              "      <td>-0.1</td>\n",
              "      <td>0.8</td>\n",
              "      <td>0.9</td>\n",
              "      <td>0.6</td>\n",
              "      <td>0.4</td>\n",
              "      <td>0.2</td>\n",
              "      <td>0.7</td>\n",
              "    </tr>\n",
              "    <tr>\n",
              "      <th>max</th>\n",
              "      <td>6.0</td>\n",
              "      <td>6.0</td>\n",
              "      <td>9.2</td>\n",
              "      <td>12.7</td>\n",
              "      <td>15.8</td>\n",
              "      <td>14.6</td>\n",
              "      <td>5.7</td>\n",
              "      <td>14.8</td>\n",
              "      <td>4.2</td>\n",
              "      <td>9.9</td>\n",
              "      <td>3.1</td>\n",
              "    </tr>\n",
              "  </tbody>\n",
              "</table>\n",
              "</div>"
            ],
            "text/plain": [
              "       fixed acidity  volatile acidity  citric acid  ...     pH  sulphates  alcohol\n",
              "count         5197.0            5197.0       5197.0  ... 5197.0     5197.0   5197.0\n",
              "mean            -0.2              -0.3          0.1  ...   -0.1       -0.2     -0.0\n",
              "std              0.7               0.8          0.9  ...    1.0        0.9      1.0\n",
              "min             -2.6              -1.6         -2.2  ...   -3.1       -2.1     -2.1\n",
              "25%             -0.7              -0.8         -0.4  ...   -0.8       -0.8     -0.9\n",
              "50%             -0.3              -0.4         -0.1  ...   -0.2       -0.3     -0.2\n",
              "75%              0.1               0.0          0.5  ...    0.4        0.2      0.7\n",
              "max              6.0               6.0          9.2  ...    4.2        9.9      3.1\n",
              "\n",
              "[8 rows x 11 columns]"
            ]
          },
          "metadata": {
            "tags": []
          },
          "execution_count": 29
        }
      ]
    },
    {
      "cell_type": "code",
      "metadata": {
        "id": "ZO_OxWvdLqTu",
        "colab_type": "code",
        "colab": {
          "base_uri": "https://localhost:8080/",
          "height": 300
        },
        "outputId": "67b6147b-f3df-44d1-ef3e-8062a1287439"
      },
      "source": [
        "wineFeatures.iloc[splitIdx:-1,:].describe()"
      ],
      "execution_count": 30,
      "outputs": [
        {
          "output_type": "execute_result",
          "data": {
            "text/html": [
              "<div>\n",
              "<style scoped>\n",
              "    .dataframe tbody tr th:only-of-type {\n",
              "        vertical-align: middle;\n",
              "    }\n",
              "\n",
              "    .dataframe tbody tr th {\n",
              "        vertical-align: top;\n",
              "    }\n",
              "\n",
              "    .dataframe thead th {\n",
              "        text-align: right;\n",
              "    }\n",
              "</style>\n",
              "<table border=\"1\" class=\"dataframe\">\n",
              "  <thead>\n",
              "    <tr style=\"text-align: right;\">\n",
              "      <th></th>\n",
              "      <th>fixed acidity</th>\n",
              "      <th>volatile acidity</th>\n",
              "      <th>citric acid</th>\n",
              "      <th>residual sugar</th>\n",
              "      <th>chlorides</th>\n",
              "      <th>free sulfur dioxide</th>\n",
              "      <th>total sulfur dioxide</th>\n",
              "      <th>density</th>\n",
              "      <th>pH</th>\n",
              "      <th>sulphates</th>\n",
              "      <th>alcohol</th>\n",
              "    </tr>\n",
              "  </thead>\n",
              "  <tbody>\n",
              "    <tr>\n",
              "      <th>count</th>\n",
              "      <td>1299.0</td>\n",
              "      <td>1299.0</td>\n",
              "      <td>1299.0</td>\n",
              "      <td>1299.0</td>\n",
              "      <td>1299.0</td>\n",
              "      <td>1299.0</td>\n",
              "      <td>1299.0</td>\n",
              "      <td>1299.0</td>\n",
              "      <td>1299.0</td>\n",
              "      <td>1299.0</td>\n",
              "      <td>1299.0</td>\n",
              "    </tr>\n",
              "    <tr>\n",
              "      <th>mean</th>\n",
              "      <td>0.9</td>\n",
              "      <td>1.1</td>\n",
              "      <td>-0.3</td>\n",
              "      <td>-0.6</td>\n",
              "      <td>0.8</td>\n",
              "      <td>-0.8</td>\n",
              "      <td>-1.3</td>\n",
              "      <td>0.7</td>\n",
              "      <td>0.6</td>\n",
              "      <td>0.8</td>\n",
              "      <td>0.0</td>\n",
              "    </tr>\n",
              "    <tr>\n",
              "      <th>std</th>\n",
              "      <td>1.4</td>\n",
              "      <td>1.1</td>\n",
              "      <td>1.3</td>\n",
              "      <td>0.3</td>\n",
              "      <td>1.1</td>\n",
              "      <td>0.6</td>\n",
              "      <td>0.6</td>\n",
              "      <td>0.7</td>\n",
              "      <td>1.0</td>\n",
              "      <td>1.0</td>\n",
              "      <td>0.9</td>\n",
              "    </tr>\n",
              "    <tr>\n",
              "      <th>min</th>\n",
              "      <td>-1.8</td>\n",
              "      <td>-1.3</td>\n",
              "      <td>-2.2</td>\n",
              "      <td>-1.0</td>\n",
              "      <td>-1.3</td>\n",
              "      <td>-1.7</td>\n",
              "      <td>-1.9</td>\n",
              "      <td>-1.5</td>\n",
              "      <td>-2.2</td>\n",
              "      <td>-1.1</td>\n",
              "      <td>-1.8</td>\n",
              "    </tr>\n",
              "    <tr>\n",
              "      <th>25%</th>\n",
              "      <td>-0.1</td>\n",
              "      <td>0.3</td>\n",
              "      <td>-1.5</td>\n",
              "      <td>-0.7</td>\n",
              "      <td>0.4</td>\n",
              "      <td>-1.3</td>\n",
              "      <td>-1.7</td>\n",
              "      <td>0.3</td>\n",
              "      <td>-0.1</td>\n",
              "      <td>0.1</td>\n",
              "      <td>-0.7</td>\n",
              "    </tr>\n",
              "    <tr>\n",
              "      <th>50%</th>\n",
              "      <td>0.6</td>\n",
              "      <td>1.0</td>\n",
              "      <td>-0.3</td>\n",
              "      <td>-0.7</td>\n",
              "      <td>0.7</td>\n",
              "      <td>-0.9</td>\n",
              "      <td>-1.4</td>\n",
              "      <td>0.7</td>\n",
              "      <td>0.5</td>\n",
              "      <td>0.6</td>\n",
              "      <td>-0.1</td>\n",
              "    </tr>\n",
              "    <tr>\n",
              "      <th>75%</th>\n",
              "      <td>1.7</td>\n",
              "      <td>1.8</td>\n",
              "      <td>0.8</td>\n",
              "      <td>-0.6</td>\n",
              "      <td>1.0</td>\n",
              "      <td>-0.5</td>\n",
              "      <td>-1.0</td>\n",
              "      <td>1.1</td>\n",
              "      <td>1.1</td>\n",
              "      <td>1.3</td>\n",
              "      <td>0.7</td>\n",
              "    </tr>\n",
              "    <tr>\n",
              "      <th>max</th>\n",
              "      <td>6.7</td>\n",
              "      <td>7.5</td>\n",
              "      <td>3.2</td>\n",
              "      <td>2.1</td>\n",
              "      <td>10.4</td>\n",
              "      <td>2.3</td>\n",
              "      <td>3.1</td>\n",
              "      <td>3.0</td>\n",
              "      <td>4.9</td>\n",
              "      <td>7.3</td>\n",
              "      <td>3.7</td>\n",
              "    </tr>\n",
              "  </tbody>\n",
              "</table>\n",
              "</div>"
            ],
            "text/plain": [
              "       fixed acidity  volatile acidity  citric acid  ...     pH  sulphates  alcohol\n",
              "count         1299.0            1299.0       1299.0  ... 1299.0     1299.0   1299.0\n",
              "mean             0.9               1.1         -0.3  ...    0.6        0.8      0.0\n",
              "std              1.4               1.1          1.3  ...    1.0        1.0      0.9\n",
              "min             -1.8              -1.3         -2.2  ...   -2.2       -1.1     -1.8\n",
              "25%             -0.1               0.3         -1.5  ...   -0.1        0.1     -0.7\n",
              "50%              0.6               1.0         -0.3  ...    0.5        0.6     -0.1\n",
              "75%              1.7               1.8          0.8  ...    1.1        1.3      0.7\n",
              "max              6.7               7.5          3.2  ...    4.9        7.3      3.7\n",
              "\n",
              "[8 rows x 11 columns]"
            ]
          },
          "metadata": {
            "tags": []
          },
          "execution_count": 30
        }
      ]
    },
    {
      "cell_type": "markdown",
      "metadata": {
        "id": "UT8twXqxVDT5",
        "colab_type": "text"
      },
      "source": [
        "### AS the two splits are clearly not equally representative, we are going to shuffle the data "
      ]
    },
    {
      "cell_type": "code",
      "metadata": {
        "id": "NCKTF3gCSAkb",
        "colab_type": "code",
        "colab": {}
      },
      "source": [
        "# Shuffle data\n",
        "wineDf = wineDf.sample(frac=1).reset_index(drop=True)\n",
        "# Recreate features and labels\n",
        "wineFeatures = wineDf.copy(deep=True)\n",
        "wineFeatures.drop(columns='quality', inplace=True)\n",
        "wineLabels = wineDf['quality'].copy(deep=True)"
      ],
      "execution_count": 0,
      "outputs": []
    },
    {
      "cell_type": "code",
      "metadata": {
        "id": "TFogvwnRV4eS",
        "colab_type": "code",
        "colab": {
          "base_uri": "https://localhost:8080/",
          "height": 300
        },
        "outputId": "ab3ff1aa-f183-42f6-b030-a48e1b762eaa"
      },
      "source": [
        "splitIdx = int(wineFeatures.shape[0]*8/10)\n",
        "wineFeatures.iloc[0:splitIdx,:].describe()"
      ],
      "execution_count": 32,
      "outputs": [
        {
          "output_type": "execute_result",
          "data": {
            "text/html": [
              "<div>\n",
              "<style scoped>\n",
              "    .dataframe tbody tr th:only-of-type {\n",
              "        vertical-align: middle;\n",
              "    }\n",
              "\n",
              "    .dataframe tbody tr th {\n",
              "        vertical-align: top;\n",
              "    }\n",
              "\n",
              "    .dataframe thead th {\n",
              "        text-align: right;\n",
              "    }\n",
              "</style>\n",
              "<table border=\"1\" class=\"dataframe\">\n",
              "  <thead>\n",
              "    <tr style=\"text-align: right;\">\n",
              "      <th></th>\n",
              "      <th>fixed acidity</th>\n",
              "      <th>volatile acidity</th>\n",
              "      <th>citric acid</th>\n",
              "      <th>residual sugar</th>\n",
              "      <th>chlorides</th>\n",
              "      <th>free sulfur dioxide</th>\n",
              "      <th>total sulfur dioxide</th>\n",
              "      <th>density</th>\n",
              "      <th>pH</th>\n",
              "      <th>sulphates</th>\n",
              "      <th>alcohol</th>\n",
              "    </tr>\n",
              "  </thead>\n",
              "  <tbody>\n",
              "    <tr>\n",
              "      <th>count</th>\n",
              "      <td>5197.0</td>\n",
              "      <td>5197.0</td>\n",
              "      <td>5197.0</td>\n",
              "      <td>5197.0</td>\n",
              "      <td>5197.0</td>\n",
              "      <td>5197.0</td>\n",
              "      <td>5197.0</td>\n",
              "      <td>5197.0</td>\n",
              "      <td>5197.0</td>\n",
              "      <td>5197.0</td>\n",
              "      <td>5197.0</td>\n",
              "    </tr>\n",
              "    <tr>\n",
              "      <th>mean</th>\n",
              "      <td>7.2</td>\n",
              "      <td>0.3</td>\n",
              "      <td>0.3</td>\n",
              "      <td>5.5</td>\n",
              "      <td>0.1</td>\n",
              "      <td>30.6</td>\n",
              "      <td>115.8</td>\n",
              "      <td>1.0</td>\n",
              "      <td>3.2</td>\n",
              "      <td>0.5</td>\n",
              "      <td>10.5</td>\n",
              "    </tr>\n",
              "    <tr>\n",
              "      <th>std</th>\n",
              "      <td>1.3</td>\n",
              "      <td>0.2</td>\n",
              "      <td>0.1</td>\n",
              "      <td>4.8</td>\n",
              "      <td>0.0</td>\n",
              "      <td>17.8</td>\n",
              "      <td>56.8</td>\n",
              "      <td>0.0</td>\n",
              "      <td>0.2</td>\n",
              "      <td>0.1</td>\n",
              "      <td>1.2</td>\n",
              "    </tr>\n",
              "    <tr>\n",
              "      <th>min</th>\n",
              "      <td>3.8</td>\n",
              "      <td>0.1</td>\n",
              "      <td>0.0</td>\n",
              "      <td>0.6</td>\n",
              "      <td>0.0</td>\n",
              "      <td>1.0</td>\n",
              "      <td>6.0</td>\n",
              "      <td>1.0</td>\n",
              "      <td>2.7</td>\n",
              "      <td>0.2</td>\n",
              "      <td>8.0</td>\n",
              "    </tr>\n",
              "    <tr>\n",
              "      <th>25%</th>\n",
              "      <td>6.4</td>\n",
              "      <td>0.2</td>\n",
              "      <td>0.2</td>\n",
              "      <td>1.8</td>\n",
              "      <td>0.0</td>\n",
              "      <td>17.0</td>\n",
              "      <td>77.0</td>\n",
              "      <td>1.0</td>\n",
              "      <td>3.1</td>\n",
              "      <td>0.4</td>\n",
              "      <td>9.5</td>\n",
              "    </tr>\n",
              "    <tr>\n",
              "      <th>50%</th>\n",
              "      <td>7.0</td>\n",
              "      <td>0.3</td>\n",
              "      <td>0.3</td>\n",
              "      <td>3.0</td>\n",
              "      <td>0.0</td>\n",
              "      <td>29.0</td>\n",
              "      <td>118.0</td>\n",
              "      <td>1.0</td>\n",
              "      <td>3.2</td>\n",
              "      <td>0.5</td>\n",
              "      <td>10.3</td>\n",
              "    </tr>\n",
              "    <tr>\n",
              "      <th>75%</th>\n",
              "      <td>7.7</td>\n",
              "      <td>0.4</td>\n",
              "      <td>0.4</td>\n",
              "      <td>8.1</td>\n",
              "      <td>0.1</td>\n",
              "      <td>42.0</td>\n",
              "      <td>156.0</td>\n",
              "      <td>1.0</td>\n",
              "      <td>3.3</td>\n",
              "      <td>0.6</td>\n",
              "      <td>11.3</td>\n",
              "    </tr>\n",
              "    <tr>\n",
              "      <th>max</th>\n",
              "      <td>15.9</td>\n",
              "      <td>1.6</td>\n",
              "      <td>1.7</td>\n",
              "      <td>65.8</td>\n",
              "      <td>0.6</td>\n",
              "      <td>289.0</td>\n",
              "      <td>440.0</td>\n",
              "      <td>1.0</td>\n",
              "      <td>4.0</td>\n",
              "      <td>2.0</td>\n",
              "      <td>14.9</td>\n",
              "    </tr>\n",
              "  </tbody>\n",
              "</table>\n",
              "</div>"
            ],
            "text/plain": [
              "       fixed acidity  volatile acidity  citric acid  ...     pH  sulphates  alcohol\n",
              "count         5197.0            5197.0       5197.0  ... 5197.0     5197.0   5197.0\n",
              "mean             7.2               0.3          0.3  ...    3.2        0.5     10.5\n",
              "std              1.3               0.2          0.1  ...    0.2        0.1      1.2\n",
              "min              3.8               0.1          0.0  ...    2.7        0.2      8.0\n",
              "25%              6.4               0.2          0.2  ...    3.1        0.4      9.5\n",
              "50%              7.0               0.3          0.3  ...    3.2        0.5     10.3\n",
              "75%              7.7               0.4          0.4  ...    3.3        0.6     11.3\n",
              "max             15.9               1.6          1.7  ...    4.0        2.0     14.9\n",
              "\n",
              "[8 rows x 11 columns]"
            ]
          },
          "metadata": {
            "tags": []
          },
          "execution_count": 32
        }
      ]
    },
    {
      "cell_type": "code",
      "metadata": {
        "id": "KYEY_hJ2W8gK",
        "colab_type": "code",
        "colab": {
          "base_uri": "https://localhost:8080/",
          "height": 300
        },
        "outputId": "50c52230-7cf2-444b-ae12-765223b7ba3d"
      },
      "source": [
        "wineFeatures.iloc[splitIdx:-1,:].describe()"
      ],
      "execution_count": 33,
      "outputs": [
        {
          "output_type": "execute_result",
          "data": {
            "text/html": [
              "<div>\n",
              "<style scoped>\n",
              "    .dataframe tbody tr th:only-of-type {\n",
              "        vertical-align: middle;\n",
              "    }\n",
              "\n",
              "    .dataframe tbody tr th {\n",
              "        vertical-align: top;\n",
              "    }\n",
              "\n",
              "    .dataframe thead th {\n",
              "        text-align: right;\n",
              "    }\n",
              "</style>\n",
              "<table border=\"1\" class=\"dataframe\">\n",
              "  <thead>\n",
              "    <tr style=\"text-align: right;\">\n",
              "      <th></th>\n",
              "      <th>fixed acidity</th>\n",
              "      <th>volatile acidity</th>\n",
              "      <th>citric acid</th>\n",
              "      <th>residual sugar</th>\n",
              "      <th>chlorides</th>\n",
              "      <th>free sulfur dioxide</th>\n",
              "      <th>total sulfur dioxide</th>\n",
              "      <th>density</th>\n",
              "      <th>pH</th>\n",
              "      <th>sulphates</th>\n",
              "      <th>alcohol</th>\n",
              "    </tr>\n",
              "  </thead>\n",
              "  <tbody>\n",
              "    <tr>\n",
              "      <th>count</th>\n",
              "      <td>1299.0</td>\n",
              "      <td>1299.0</td>\n",
              "      <td>1299.0</td>\n",
              "      <td>1299.0</td>\n",
              "      <td>1299.0</td>\n",
              "      <td>1299.0</td>\n",
              "      <td>1299.0</td>\n",
              "      <td>1299.0</td>\n",
              "      <td>1299.0</td>\n",
              "      <td>1299.0</td>\n",
              "      <td>1299.0</td>\n",
              "    </tr>\n",
              "    <tr>\n",
              "      <th>mean</th>\n",
              "      <td>7.2</td>\n",
              "      <td>0.3</td>\n",
              "      <td>0.3</td>\n",
              "      <td>5.3</td>\n",
              "      <td>0.1</td>\n",
              "      <td>30.3</td>\n",
              "      <td>115.3</td>\n",
              "      <td>1.0</td>\n",
              "      <td>3.2</td>\n",
              "      <td>0.5</td>\n",
              "      <td>10.5</td>\n",
              "    </tr>\n",
              "    <tr>\n",
              "      <th>std</th>\n",
              "      <td>1.2</td>\n",
              "      <td>0.2</td>\n",
              "      <td>0.1</td>\n",
              "      <td>4.7</td>\n",
              "      <td>0.0</td>\n",
              "      <td>17.5</td>\n",
              "      <td>55.2</td>\n",
              "      <td>0.0</td>\n",
              "      <td>0.2</td>\n",
              "      <td>0.2</td>\n",
              "      <td>1.2</td>\n",
              "    </tr>\n",
              "    <tr>\n",
              "      <th>min</th>\n",
              "      <td>3.9</td>\n",
              "      <td>0.1</td>\n",
              "      <td>0.0</td>\n",
              "      <td>0.8</td>\n",
              "      <td>0.0</td>\n",
              "      <td>1.0</td>\n",
              "      <td>6.0</td>\n",
              "      <td>1.0</td>\n",
              "      <td>2.8</td>\n",
              "      <td>0.2</td>\n",
              "      <td>8.0</td>\n",
              "    </tr>\n",
              "    <tr>\n",
              "      <th>25%</th>\n",
              "      <td>6.4</td>\n",
              "      <td>0.2</td>\n",
              "      <td>0.2</td>\n",
              "      <td>1.8</td>\n",
              "      <td>0.0</td>\n",
              "      <td>17.0</td>\n",
              "      <td>79.0</td>\n",
              "      <td>1.0</td>\n",
              "      <td>3.1</td>\n",
              "      <td>0.4</td>\n",
              "      <td>9.5</td>\n",
              "    </tr>\n",
              "    <tr>\n",
              "      <th>50%</th>\n",
              "      <td>7.0</td>\n",
              "      <td>0.3</td>\n",
              "      <td>0.3</td>\n",
              "      <td>2.9</td>\n",
              "      <td>0.0</td>\n",
              "      <td>29.0</td>\n",
              "      <td>118.0</td>\n",
              "      <td>1.0</td>\n",
              "      <td>3.2</td>\n",
              "      <td>0.5</td>\n",
              "      <td>10.3</td>\n",
              "    </tr>\n",
              "    <tr>\n",
              "      <th>75%</th>\n",
              "      <td>7.6</td>\n",
              "      <td>0.4</td>\n",
              "      <td>0.4</td>\n",
              "      <td>8.0</td>\n",
              "      <td>0.1</td>\n",
              "      <td>40.0</td>\n",
              "      <td>154.5</td>\n",
              "      <td>1.0</td>\n",
              "      <td>3.3</td>\n",
              "      <td>0.6</td>\n",
              "      <td>11.3</td>\n",
              "    </tr>\n",
              "    <tr>\n",
              "      <th>max</th>\n",
              "      <td>15.5</td>\n",
              "      <td>1.3</td>\n",
              "      <td>1.2</td>\n",
              "      <td>31.6</td>\n",
              "      <td>0.4</td>\n",
              "      <td>124.0</td>\n",
              "      <td>294.0</td>\n",
              "      <td>1.0</td>\n",
              "      <td>4.0</td>\n",
              "      <td>2.0</td>\n",
              "      <td>14.0</td>\n",
              "    </tr>\n",
              "  </tbody>\n",
              "</table>\n",
              "</div>"
            ],
            "text/plain": [
              "       fixed acidity  volatile acidity  citric acid  ...     pH  sulphates  alcohol\n",
              "count         1299.0            1299.0       1299.0  ... 1299.0     1299.0   1299.0\n",
              "mean             7.2               0.3          0.3  ...    3.2        0.5     10.5\n",
              "std              1.2               0.2          0.1  ...    0.2        0.2      1.2\n",
              "min              3.9               0.1          0.0  ...    2.8        0.2      8.0\n",
              "25%              6.4               0.2          0.2  ...    3.1        0.4      9.5\n",
              "50%              7.0               0.3          0.3  ...    3.2        0.5     10.3\n",
              "75%              7.6               0.4          0.4  ...    3.3        0.6     11.3\n",
              "max             15.5               1.3          1.2  ...    4.0        2.0     14.0\n",
              "\n",
              "[8 rows x 11 columns]"
            ]
          },
          "metadata": {
            "tags": []
          },
          "execution_count": 33
        }
      ]
    },
    {
      "cell_type": "markdown",
      "metadata": {
        "id": "ec0t-jKzXdxL",
        "colab_type": "text"
      },
      "source": [
        "Now we can observe that the splits are equally representative.\n",
        "It turns out that in the wine dataset, the first 4897 rows contain data on white wines and the next 1599 rows contain data on red wines. When you split your dataset 80:20, then your training dataset contains 5197 examples, which is 94% white wine. The validation dataset is purely red wine."
      ]
    },
    {
      "cell_type": "markdown",
      "metadata": {
        "id": "kvXf3SKOZNgT",
        "colab_type": "text"
      },
      "source": [
        "## 7. Establish a Baseline"
      ]
    },
    {
      "cell_type": "markdown",
      "metadata": {
        "id": "GtvWKQcoqLHj",
        "colab_type": "text"
      },
      "source": [
        "For a regression problem, the simplest baseline to predict the average value. Calculate the mean-squared error (MSE) loss on the training split using the average value as a baseline. Our loss is approximately 0.75. Any model should beat this loss to justify its use."
      ]
    },
    {
      "cell_type": "code",
      "metadata": {
        "id": "KzapduV1W_7O",
        "colab_type": "code",
        "colab": {
          "base_uri": "https://localhost:8080/",
          "height": 35
        },
        "outputId": "20770bc2-fb9e-49d3-ed31-5be61711b98e"
      },
      "source": [
        "baselineMSE = np.square(wineLabels[0:splitIdx]-np.mean(wineLabels[0:splitIdx]))\n",
        "baselineMSE = np.sum(baselineMSE) / len(baselineMSE)\n",
        "print(baselineMSE)"
      ],
      "execution_count": 34,
      "outputs": [
        {
          "output_type": "stream",
          "text": [
            "0.7639718582185537\n"
          ],
          "name": "stdout"
        }
      ]
    },
    {
      "cell_type": "markdown",
      "metadata": {
        "id": "euRx0qGmsDLn",
        "colab_type": "text"
      },
      "source": [
        "## 8. Linear Model"
      ]
    },
    {
      "cell_type": "markdown",
      "metadata": {
        "id": "X5f3e37HtGoV",
        "colab_type": "text"
      },
      "source": [
        "Following good ML dev practice, let's start with a linear model that uses the most informative feature from the correlation matrix: `alcohol`. Even if this model performs badly, we can still use it as a baseline. This model should beat our previous baseline's MSE of 0.75."
      ]
    },
    {
      "cell_type": "code",
      "metadata": {
        "id": "vVyPgbEnq6wc",
        "colab_type": "code",
        "colab": {}
      },
      "source": [
        "def showRegressionResults(trainHistory):\n",
        "  \n",
        "  # Print final loss\n",
        "  print(\"Final training loss: \" + str(trainHistory.history['loss'][-1]))\n",
        "  print(\"Final Validation loss: \" + str(trainHistory.history['val_loss'][-1]))\n",
        "\n",
        "  # Print loss curves\n",
        "  plt.plot(trainHistory.history['loss'])\n",
        "  plt.plot(trainHistory.history['val_loss'])\n",
        "  plt.legend(['Training loss', 'Validation loss'], loc='best')\n",
        "  plt.title('Loss Curves')"
      ],
      "execution_count": 0,
      "outputs": []
    },
    {
      "cell_type": "code",
      "metadata": {
        "id": "6Xy4zOykuWGd",
        "colab_type": "code",
        "colab": {
          "base_uri": "https://localhost:8080/",
          "height": 393
        },
        "outputId": "6e6da45a-14a5-4661-af9d-9a4186fc4663"
      },
      "source": [
        "model = None \n",
        "wineFeaturesSimple = wineFeatures['alcohol']\n",
        "# Define model\n",
        "model = keras.Sequential()\n",
        "model.add(keras.layers.Dense(units=1, activation='linear', input_dim=1))\n",
        "# Specify the optimizer using TF API to specify learning rate\n",
        "model.compile(optimizer=tf.train.AdamOptimizer(learning_rate=0.01), loss='mse')\n",
        "# Train model\n",
        "trainHistory = model.fit(wineFeaturesSimple,\n",
        "                         wineLabels,\n",
        "                         epochs=50,\n",
        "                         batch_size=wineFeatures.shape[0],\n",
        "                         validation_split=0.2,\n",
        "                         verbose=0)\n",
        "# Plot\n",
        "showRegressionResults(trainHistory)"
      ],
      "execution_count": 36,
      "outputs": [
        {
          "output_type": "stream",
          "text": [
            "WARNING:tensorflow:From /tensorflow-1.15.0/python3.6/tensorflow_core/python/ops/resource_variable_ops.py:1630: calling BaseResourceVariable.__init__ (from tensorflow.python.ops.resource_variable_ops) with constraint is deprecated and will be removed in a future version.\n",
            "Instructions for updating:\n",
            "If using Keras pass *_constraint arguments to layers.\n",
            "Final training loss: 5.171353340148926\n",
            "Final Validation loss: 5.064475059509277\n"
          ],
          "name": "stdout"
        },
        {
          "output_type": "display_data",
          "data": {
            "image/png": "[encoded data removed]",
            "text/plain": [
              "<Figure size 432x288 with 1 Axes>"
            ]
          },
          "metadata": {
            "tags": []
          }
        }
      ]
    },
    {
      "cell_type": "markdown",
      "metadata": {
        "id": "4coY4Gu6wt5s",
        "colab_type": "text"
      },
      "source": [
        "The loss decreases but very slowly. Possible fixes are:\n",
        "\n",
        "* Increase number of epochs.\n",
        "* Increase learning rate.\n",
        "* Decrease batch size. A lower batch size can result in larger decrease in loss per epoch, under the assumption that the smaller batches stay representative of the overall data distribution.\n",
        "\n",
        "Play with these three parameters in the code above to decrease the loss."
      ]
    },
    {
      "cell_type": "code",
      "metadata": {
        "id": "nNE_GJo7wEsv",
        "colab_type": "code",
        "colab": {
          "base_uri": "https://localhost:8080/",
          "height": 318
        },
        "outputId": "e2cd31ef-aa4f-46c8-8f61-1ea7e8325cfa"
      },
      "source": [
        "# We train the model again with a reduced batch size (100) and epochs = 20\n",
        "\n",
        "model = None \n",
        "wineFeaturesSimple = wineFeatures['alcohol']\n",
        "# Define model\n",
        "model = keras.Sequential()\n",
        "model.add(keras.layers.Dense(units=1, activation='linear', input_dim=1))\n",
        "# Specify the optimizer using TF API to specify learning rate\n",
        "model.compile(optimizer=tf.train.AdamOptimizer(learning_rate=0.01), loss='mse')\n",
        "# Train model\n",
        "trainHistory = model.fit(wineFeaturesSimple,\n",
        "                         wineLabels,\n",
        "                         epochs=20,\n",
        "                         batch_size=100,\n",
        "                         validation_split=0.2,\n",
        "                         verbose=0)\n",
        "# Plot\n",
        "showRegressionResults(trainHistory)"
      ],
      "execution_count": 40,
      "outputs": [
        {
          "output_type": "stream",
          "text": [
            "Final training loss: 0.6164828831928841\n",
            "Final Validation loss: 0.6331181136461405\n"
          ],
          "name": "stdout"
        },
        {
          "output_type": "display_data",
          "data": {
            "image/png": "[encoded data removed]",
            "text/plain": [
              "<Figure size 432x288 with 1 Axes>"
            ]
          },
          "metadata": {
            "tags": []
          }
        }
      ]
    },
    {
      "cell_type": "markdown",
      "metadata": {
        "id": "qvU7WeGAz4IP",
        "colab_type": "text"
      },
      "source": [
        " Reducing the batch size leads to a greater decrease in loss per epoch. The minimum achievable loss is about 0.64, which is a significant increase over our baseline of 0.75."
      ]
    },
    {
      "cell_type": "markdown",
      "metadata": {
        "id": "1ibssgbR0BwL",
        "colab_type": "text"
      },
      "source": [
        "## 9. Add feature to Linear Model"
      ]
    },
    {
      "cell_type": "code",
      "metadata": {
        "id": "lQ9NVeg9xQlZ",
        "colab_type": "code",
        "colab": {
          "base_uri": "https://localhost:8080/",
          "height": 318
        },
        "outputId": "483c8603-0074-49e3-97eb-a9bca5fee390"
      },
      "source": [
        "# Add 'volatile acidity'\n",
        "model = None\n",
        "wineFeaturesSimple = wineFeatures[['alcohol', 'volatile acidity']]\n",
        "# Define model\n",
        "model = keras.Sequential()\n",
        "model.add(keras.layers.Dense(wineFeaturesSimple.shape[1],\n",
        "                             input_dim=wineFeaturesSimple.shape[1],\n",
        "                             activation='linear'))\n",
        "\n",
        "model.add(keras.layers.Dense(1, activation='linear'))\n",
        "\n",
        "# Compile\n",
        "model.compile(optimizer=tf.train.AdamOptimizer(learning_rate=0.01), loss='mse')\n",
        "# Train\n",
        "trainHistory = model.fit(wineFeaturesSimple,\n",
        "                         wineLabels,\n",
        "                         epochs=20,\n",
        "                         batch_size=100,\n",
        "                         validation_split=0.2,\n",
        "                         verbose=0)\n",
        "\n",
        "# Plot the results\n",
        "showRegressionResults(trainHistory)"
      ],
      "execution_count": 44,
      "outputs": [
        {
          "output_type": "stream",
          "text": [
            "Final training loss: 0.5752882109666435\n",
            "Final Validation loss: 0.5746279198389787\n"
          ],
          "name": "stdout"
        },
        {
          "output_type": "display_data",
          "data": {
            "image/png": "[encoded data removed]",
            "text/plain": [
              "<Figure size 432x288 with 1 Axes>"
            ]
          },
          "metadata": {
            "tags": []
          }
        }
      ]
    },
    {
      "cell_type": "markdown",
      "metadata": {
        "id": "YekGmzCl6h7X",
        "colab_type": "text"
      },
      "source": [
        "The training loss has slightly decreased from 0.61 to 0.58"
      ]
    },
    {
      "cell_type": "markdown",
      "metadata": {
        "id": "KdvbMzUH6x9J",
        "colab_type": "text"
      },
      "source": [
        "## 10. Use a Nonlinear Model"
      ]
    },
    {
      "cell_type": "code",
      "metadata": {
        "id": "At8oh9RRxUd0",
        "colab_type": "code",
        "colab": {
          "base_uri": "https://localhost:8080/",
          "height": 318
        },
        "outputId": "48fa4a4c-2c7a-4448-e987-1f8f6b1d0836"
      },
      "source": [
        "model = None\n",
        "model = keras.Sequential()\n",
        "model.add(keras.layers.Dense(wineFeaturesSimple.shape[1],\n",
        "                             input_dim=wineFeaturesSimple.shape[1],\n",
        "                             activation='relu'))\n",
        "model.add(keras.layers.Dense(1, activation='linear'))\n",
        "\n",
        "# Compile\n",
        "model.compile(optimizer=tf.train.AdamOptimizer(), loss='mse')\n",
        "# Fit\n",
        "trainHistory = model.fit(wineFeaturesSimple,\n",
        "          wineLabels,\n",
        "          epochs=20,\n",
        "          batch_size=100,\n",
        "          validation_split=0.2,\n",
        "          verbose=0)\n",
        "# Plot the results\n",
        "showRegressionResults(trainHistory)"
      ],
      "execution_count": 46,
      "outputs": [
        {
          "output_type": "stream",
          "text": [
            "Final training loss: 0.6240348363693389\n",
            "Final Validation loss: 0.6401957731980544\n"
          ],
          "name": "stdout"
        },
        {
          "output_type": "display_data",
          "data": {
            "image/png": "[encoded data removed]",
            "text/plain": [
              "<Figure size 432x288 with 1 Axes>"
            ]
          },
          "metadata": {
            "tags": []
          }
        }
      ]
    },
    {
      "cell_type": "markdown",
      "metadata": {
        "id": "3X8PUcZXBnWG",
        "colab_type": "text"
      },
      "source": [
        "## 11. Optimize the model"
      ]
    },
    {
      "cell_type": "markdown",
      "metadata": {
        "id": "DCOWyGt3Bvs9",
        "colab_type": "text"
      },
      "source": [
        "Let's try optimize the model by:\n",
        "- Adding the features chlorides and density\n",
        "- Set training epochs to 200\n",
        "- Set batch size to 100"
      ]
    },
    {
      "cell_type": "code",
      "metadata": {
        "id": "ZZVwA79SAtlA",
        "colab_type": "code",
        "colab": {
          "base_uri": "https://localhost:8080/",
          "height": 318
        },
        "outputId": "c9bbe2fb-05c1-4ca0-982e-2af2d35d17bb"
      },
      "source": [
        "# Choose features\n",
        "wineFeaturesSimple = wineFeatures[['alcohol', 'volatile acidity', 'chlorides', 'density']]\n",
        "# Define\n",
        "model = None\n",
        "model = keras.Sequential()\n",
        "model.add(keras.layers.Dense(wineFeatures.shape[1],\n",
        "                             activation = 'relu',\n",
        "                             input_dim=wineFeaturesSimple.shape[1]))\n",
        "\n",
        "# Add more layers\n",
        "model.add(keras.layers.Dense(1, activation='linear'))\n",
        "# Compile\n",
        "model.compile(optimizer=tf.train.AdamOptimizer(), loss='mse')\n",
        "# Train\n",
        "trainHistory = model.fit(wineFeaturesSimple,\n",
        "                         wineLabels,\n",
        "                         epochs=200,\n",
        "                         batch_size=100,\n",
        "                         validation_split=0.2,\n",
        "                         verbose=0)\n",
        "\n",
        "# Plot the results\n",
        "showRegressionResults(trainHistory)"
      ],
      "execution_count": 48,
      "outputs": [
        {
          "output_type": "stream",
          "text": [
            "Final training loss: 0.569448993094545\n",
            "Final Validation loss: 0.5690958454058721\n"
          ],
          "name": "stdout"
        },
        {
          "output_type": "display_data",
          "data": {
            "image/png": "[encoded data removed]",
            "text/plain": [
              "<Figure size 432x288 with 1 Axes>"
            ]
          },
          "metadata": {
            "tags": []
          }
        }
      ]
    },
    {
      "cell_type": "markdown",
      "metadata": {
        "id": "EIxlq3mBEml_",
        "colab_type": "text"
      },
      "source": [
        "The loss reduces to 0.56. It seems that adding more features or capacity isn't improving the model by much. Maybe it's because the model has a bug"
      ]
    },
    {
      "cell_type": "markdown",
      "metadata": {
        "id": "uTM_mLJWFsBa",
        "colab_type": "text"
      },
      "source": [
        "## 12. Check for Implementation Bugs using Reduced Dataset"
      ]
    },
    {
      "cell_type": "code",
      "metadata": {
        "id": "EIrUqx5zEPeO",
        "colab_type": "code",
        "colab": {
          "base_uri": "https://localhost:8080/",
          "height": 302
        },
        "outputId": "1bbbeef8-4bdc-4fa2-e12c-ade1894fec89"
      },
      "source": [
        "# Choose 10 examples\n",
        "wineFeaturesSmall = wineFeatures[0:10]\n",
        "wineLabelsSmall = wineLabels[0:10]\n",
        "# Define model\n",
        "model = None\n",
        "model = keras.Sequential()\n",
        "model.add(keras.layers.Dense(wineFeaturesSmall.shape[1], activation='relu',\n",
        "                             input_dim=wineFeaturesSmall.shape[1]))\n",
        "model.add(keras.layers.Dense(wineFeaturesSmall.shape[1], activation='relu'))\n",
        "model.add(keras.layers.Dense(1, activation='linear'))\n",
        "# Compile\n",
        "model.compile(optimizer=tf.train.AdamOptimizer(0.01), loss='mse') # set LR\n",
        "# Train\n",
        "trainHistory = model.fit(wineFeaturesSmall,\n",
        "                        wineLabelsSmall,\n",
        "                        epochs=200,\n",
        "                        batch_size=10,\n",
        "                        verbose=0)\n",
        "# Plot results\n",
        "print(\"Final training loss: \" + str(trainHistory.history['loss'][-1]))\n",
        "plt.plot(trainHistory.history['loss'])"
      ],
      "execution_count": 49,
      "outputs": [
        {
          "output_type": "stream",
          "text": [
            "Final training loss: 0.2294718325138092\n"
          ],
          "name": "stdout"
        },
        {
          "output_type": "execute_result",
          "data": {
            "text/plain": [
              "[<matplotlib.lines.Line2D at 0x7f8f495f9320>]"
            ]
          },
          "metadata": {
            "tags": []
          },
          "execution_count": 49
        },
        {
          "output_type": "display_data",
          "data": {
            "image/png": "[encoded data removed]",
            "text/plain": [
              "<Figure size 432x288 with 1 Axes>"
            ]
          },
          "metadata": {
            "tags": []
          }
        }
      ]
    },
    {
      "cell_type": "markdown",
      "metadata": {
        "id": "JFUG0vNEGjar",
        "colab_type": "text"
      },
      "source": [
        "## 13. Trying a very complex model\n",
        "\n",
        "*   Using all the features\n",
        "*   3 fully-connected relu layers + final layer\n",
        "\n",
        "\n"
      ]
    },
    {
      "cell_type": "code",
      "metadata": {
        "id": "CfZmtLWwGYTS",
        "colab_type": "code",
        "colab": {
          "base_uri": "https://localhost:8080/",
          "height": 1000
        },
        "outputId": "a0327d87-7ce7-4004-bcfc-7d51186e5045"
      },
      "source": [
        "model=None\n",
        "# Define\n",
        "model = keras.Sequential()\n",
        "model.add(keras.layers.Dense(wineFeatures.shape[1], activation='relu',\n",
        "                             input_dim=wineFeatures.shape[1]))\n",
        "model.add(keras.layers.Dense(wineFeatures.shape[1], activation='relu'))\n",
        "model.add(keras.layers.Dense(wineFeatures.shape[1], activation='relu'))\n",
        "model.add(keras.layers.Dense(1,activation='linear'))\n",
        "# Compile\n",
        "model.compile(optimizer=tf.train.AdamOptimizer(), loss='mse')\n",
        "# Train the model\n",
        "trainHistory = model.fit(wineFeatures, \n",
        "                         wineLabels, \n",
        "                         epochs=100,\n",
        "                         batch_size=100,\n",
        "                         validation_split=0.2,\n",
        "                         verbose=1)\n",
        "\n",
        "# Plot the results\n",
        "showRegressionResults(trainHistory)\n",
        "plt.ylim(0.4,1)"
      ],
      "execution_count": 50,
      "outputs": [
        {
          "output_type": "stream",
          "text": [
            "Train on 5197 samples, validate on 1300 samples\n",
            "Epoch 1/100\n",
            "5197/5197 [==============================] - 1s 127us/sample - loss: 190.2996 - val_loss: 10.8108\n",
            "Epoch 2/100\n",
            "5197/5197 [==============================] - 0s 25us/sample - loss: 8.2746 - val_loss: 6.6661\n",
            "Epoch 3/100\n",
            "5197/5197 [==============================] - 0s 23us/sample - loss: 6.6535 - val_loss: 5.8955\n",
            "Epoch 4/100\n",
            "5197/5197 [==============================] - 0s 26us/sample - loss: 5.9242 - val_loss: 5.2125\n",
            "Epoch 5/100\n",
            "5197/5197 [==============================] - 0s 23us/sample - loss: 5.2197 - val_loss: 4.5110\n",
            "Epoch 6/100\n",
            "5197/5197 [==============================] - 0s 26us/sample - loss: 4.4186 - val_loss: 3.6088\n",
            "Epoch 7/100\n",
            "5197/5197 [==============================] - 0s 23us/sample - loss: 3.0471 - val_loss: 2.1050\n",
            "Epoch 8/100\n",
            "5197/5197 [==============================] - 0s 26us/sample - loss: 1.7779 - val_loss: 1.4428\n",
            "Epoch 9/100\n",
            "5197/5197 [==============================] - 0s 23us/sample - loss: 1.2777 - val_loss: 1.1128\n",
            "Epoch 10/100\n",
            "5197/5197 [==============================] - 0s 24us/sample - loss: 1.0406 - val_loss: 0.9807\n",
            "Epoch 11/100\n",
            "5197/5197 [==============================] - 0s 23us/sample - loss: 0.9295 - val_loss: 0.8891\n",
            "Epoch 12/100\n",
            "5197/5197 [==============================] - 0s 22us/sample - loss: 0.8585 - val_loss: 0.8335\n",
            "Epoch 13/100\n",
            "5197/5197 [==============================] - 0s 23us/sample - loss: 0.8113 - val_loss: 0.7986\n",
            "Epoch 14/100\n",
            "5197/5197 [==============================] - 0s 22us/sample - loss: 0.7855 - val_loss: 0.7843\n",
            "Epoch 15/100\n",
            "5197/5197 [==============================] - 0s 25us/sample - loss: 0.7564 - val_loss: 0.7632\n",
            "Epoch 16/100\n",
            "5197/5197 [==============================] - 0s 24us/sample - loss: 0.7377 - val_loss: 0.7301\n",
            "Epoch 17/100\n",
            "5197/5197 [==============================] - 0s 23us/sample - loss: 0.7189 - val_loss: 0.7218\n",
            "Epoch 18/100\n",
            "5197/5197 [==============================] - 0s 24us/sample - loss: 0.7031 - val_loss: 0.6971\n",
            "Epoch 19/100\n",
            "5197/5197 [==============================] - 0s 22us/sample - loss: 0.6831 - val_loss: 0.6783\n",
            "Epoch 20/100\n",
            "5197/5197 [==============================] - 0s 22us/sample - loss: 0.6698 - val_loss: 0.6674\n",
            "Epoch 21/100\n",
            "5197/5197 [==============================] - 0s 24us/sample - loss: 0.6646 - val_loss: 0.6531\n",
            "Epoch 22/100\n",
            "5197/5197 [==============================] - 0s 24us/sample - loss: 0.6485 - val_loss: 0.6457\n",
            "Epoch 23/100\n",
            "5197/5197 [==============================] - 0s 23us/sample - loss: 0.6497 - val_loss: 0.6525\n",
            "Epoch 24/100\n",
            "5197/5197 [==============================] - 0s 23us/sample - loss: 0.6332 - val_loss: 0.6294\n",
            "Epoch 25/100\n",
            "5197/5197 [==============================] - 0s 25us/sample - loss: 0.6232 - val_loss: 0.6236\n",
            "Epoch 26/100\n",
            "5197/5197 [==============================] - 0s 24us/sample - loss: 0.6181 - val_loss: 0.6174\n",
            "Epoch 27/100\n",
            "5197/5197 [==============================] - 0s 24us/sample - loss: 0.6097 - val_loss: 0.6197\n",
            "Epoch 28/100\n",
            "5197/5197 [==============================] - 0s 25us/sample - loss: 0.6060 - val_loss: 0.6295\n",
            "Epoch 29/100\n",
            "5197/5197 [==============================] - 0s 26us/sample - loss: 0.6037 - val_loss: 0.5995\n",
            "Epoch 30/100\n",
            "5197/5197 [==============================] - 0s 23us/sample - loss: 0.6062 - val_loss: 0.5955\n",
            "Epoch 31/100\n",
            "5197/5197 [==============================] - 0s 23us/sample - loss: 0.5932 - val_loss: 0.5952\n",
            "Epoch 32/100\n",
            "5197/5197 [==============================] - 0s 22us/sample - loss: 0.5871 - val_loss: 0.5884\n",
            "Epoch 33/100\n",
            "5197/5197 [==============================] - 0s 23us/sample - loss: 0.5833 - val_loss: 0.5867\n",
            "Epoch 34/100\n",
            "5197/5197 [==============================] - 0s 21us/sample - loss: 0.5817 - val_loss: 0.5826\n",
            "Epoch 35/100\n",
            "5197/5197 [==============================] - 0s 21us/sample - loss: 0.5793 - val_loss: 0.5824\n",
            "Epoch 36/100\n",
            "5197/5197 [==============================] - 0s 21us/sample - loss: 0.5753 - val_loss: 0.5771\n",
            "Epoch 37/100\n",
            "5197/5197 [==============================] - 0s 22us/sample - loss: 0.5744 - val_loss: 0.5766\n",
            "Epoch 38/100\n",
            "5197/5197 [==============================] - 0s 25us/sample - loss: 0.5770 - val_loss: 0.5742\n",
            "Epoch 39/100\n",
            "5197/5197 [==============================] - 0s 25us/sample - loss: 0.5696 - val_loss: 0.5718\n",
            "Epoch 40/100\n",
            "5197/5197 [==============================] - 0s 22us/sample - loss: 0.5704 - val_loss: 0.6066\n",
            "Epoch 41/100\n",
            "5197/5197 [==============================] - 0s 26us/sample - loss: 0.5691 - val_loss: 0.5729\n",
            "Epoch 42/100\n",
            "5197/5197 [==============================] - 0s 22us/sample - loss: 0.5749 - val_loss: 0.5826\n",
            "Epoch 43/100\n",
            "5197/5197 [==============================] - 0s 22us/sample - loss: 0.5653 - val_loss: 0.5659\n",
            "Epoch 44/100\n",
            "5197/5197 [==============================] - 0s 23us/sample - loss: 0.5691 - val_loss: 0.5949\n",
            "Epoch 45/100\n",
            "5197/5197 [==============================] - 0s 23us/sample - loss: 0.5659 - val_loss: 0.5789\n",
            "Epoch 46/100\n",
            "5197/5197 [==============================] - 0s 22us/sample - loss: 0.5638 - val_loss: 0.5660\n",
            "Epoch 47/100\n",
            "5197/5197 [==============================] - 0s 23us/sample - loss: 0.5585 - val_loss: 0.5611\n",
            "Epoch 48/100\n",
            "5197/5197 [==============================] - 0s 21us/sample - loss: 0.5587 - val_loss: 0.5654\n",
            "Epoch 49/100\n",
            "5197/5197 [==============================] - 0s 21us/sample - loss: 0.5577 - val_loss: 0.5804\n",
            "Epoch 50/100\n",
            "5197/5197 [==============================] - 0s 21us/sample - loss: 0.5607 - val_loss: 0.5678\n",
            "Epoch 51/100\n",
            "5197/5197 [==============================] - 0s 23us/sample - loss: 0.5542 - val_loss: 0.5578\n",
            "Epoch 52/100\n",
            "5197/5197 [==============================] - 0s 21us/sample - loss: 0.5551 - val_loss: 0.5550\n",
            "Epoch 53/100\n",
            "5197/5197 [==============================] - 0s 22us/sample - loss: 0.5570 - val_loss: 0.5582\n",
            "Epoch 54/100\n",
            "5197/5197 [==============================] - 0s 25us/sample - loss: 0.5500 - val_loss: 0.5595\n",
            "Epoch 55/100\n",
            "5197/5197 [==============================] - 0s 22us/sample - loss: 0.5522 - val_loss: 0.5544\n",
            "Epoch 56/100\n",
            "5197/5197 [==============================] - 0s 21us/sample - loss: 0.5621 - val_loss: 0.5542\n",
            "Epoch 57/100\n",
            "5197/5197 [==============================] - 0s 22us/sample - loss: 0.5558 - val_loss: 0.5546\n",
            "Epoch 58/100\n",
            "5197/5197 [==============================] - 0s 22us/sample - loss: 0.5539 - val_loss: 0.5526\n",
            "Epoch 59/100\n",
            "5197/5197 [==============================] - 0s 21us/sample - loss: 0.5507 - val_loss: 0.5580\n",
            "Epoch 60/100\n",
            "5197/5197 [==============================] - 0s 22us/sample - loss: 0.5518 - val_loss: 0.5525\n",
            "Epoch 61/100\n",
            "5197/5197 [==============================] - 0s 22us/sample - loss: 0.5501 - val_loss: 0.5512\n",
            "Epoch 62/100\n",
            "5197/5197 [==============================] - 0s 21us/sample - loss: 0.5549 - val_loss: 0.5556\n",
            "Epoch 63/100\n",
            "5197/5197 [==============================] - 0s 23us/sample - loss: 0.5520 - val_loss: 0.5543\n",
            "Epoch 64/100\n",
            "5197/5197 [==============================] - 0s 21us/sample - loss: 0.5502 - val_loss: 0.5515\n",
            "Epoch 65/100\n",
            "5197/5197 [==============================] - 0s 22us/sample - loss: 0.5518 - val_loss: 0.5483\n",
            "Epoch 66/100\n",
            "5197/5197 [==============================] - 0s 22us/sample - loss: 0.5625 - val_loss: 0.5593\n",
            "Epoch 67/100\n",
            "5197/5197 [==============================] - 0s 23us/sample - loss: 0.5479 - val_loss: 0.5513\n",
            "Epoch 68/100\n",
            "5197/5197 [==============================] - 0s 21us/sample - loss: 0.5491 - val_loss: 0.5491\n",
            "Epoch 69/100\n",
            "5197/5197 [==============================] - 0s 23us/sample - loss: 0.5464 - val_loss: 0.5633\n",
            "Epoch 70/100\n",
            "5197/5197 [==============================] - 0s 21us/sample - loss: 0.5500 - val_loss: 0.6425\n",
            "Epoch 71/100\n",
            "5197/5197 [==============================] - 0s 23us/sample - loss: 0.5661 - val_loss: 0.5542\n",
            "Epoch 72/100\n",
            "5197/5197 [==============================] - 0s 21us/sample - loss: 0.5490 - val_loss: 0.5461\n",
            "Epoch 73/100\n",
            "5197/5197 [==============================] - 0s 21us/sample - loss: 0.5510 - val_loss: 0.5520\n",
            "Epoch 74/100\n",
            "5197/5197 [==============================] - 0s 22us/sample - loss: 0.5494 - val_loss: 0.5616\n",
            "Epoch 75/100\n",
            "5197/5197 [==============================] - 0s 22us/sample - loss: 0.5496 - val_loss: 0.5589\n",
            "Epoch 76/100\n",
            "5197/5197 [==============================] - 0s 21us/sample - loss: 0.5599 - val_loss: 0.5466\n",
            "Epoch 77/100\n",
            "5197/5197 [==============================] - 0s 25us/sample - loss: 0.5450 - val_loss: 0.5512\n",
            "Epoch 78/100\n",
            "5197/5197 [==============================] - 0s 21us/sample - loss: 0.5436 - val_loss: 0.5507\n",
            "Epoch 79/100\n",
            "5197/5197 [==============================] - 0s 25us/sample - loss: 0.5499 - val_loss: 0.5562\n",
            "Epoch 80/100\n",
            "5197/5197 [==============================] - 0s 23us/sample - loss: 0.5604 - val_loss: 0.5593\n",
            "Epoch 81/100\n",
            "5197/5197 [==============================] - 0s 26us/sample - loss: 0.5456 - val_loss: 0.5515\n",
            "Epoch 82/100\n",
            "5197/5197 [==============================] - 0s 27us/sample - loss: 0.5455 - val_loss: 0.5494\n",
            "Epoch 83/100\n",
            "5197/5197 [==============================] - 0s 21us/sample - loss: 0.5566 - val_loss: 0.5425\n",
            "Epoch 84/100\n",
            "5197/5197 [==============================] - 0s 23us/sample - loss: 0.5456 - val_loss: 0.5399\n",
            "Epoch 85/100\n",
            "5197/5197 [==============================] - 0s 21us/sample - loss: 0.5512 - val_loss: 0.5942\n",
            "Epoch 86/100\n",
            "5197/5197 [==============================] - 0s 25us/sample - loss: 0.5462 - val_loss: 0.5439\n",
            "Epoch 87/100\n",
            "5197/5197 [==============================] - 0s 23us/sample - loss: 0.5508 - val_loss: 0.5440\n",
            "Epoch 88/100\n",
            "5197/5197 [==============================] - 0s 24us/sample - loss: 0.5594 - val_loss: 0.5443\n",
            "Epoch 89/100\n",
            "5197/5197 [==============================] - 0s 22us/sample - loss: 0.5533 - val_loss: 0.5694\n",
            "Epoch 90/100\n",
            "5197/5197 [==============================] - 0s 25us/sample - loss: 0.5591 - val_loss: 0.5749\n",
            "Epoch 91/100\n",
            "5197/5197 [==============================] - 0s 22us/sample - loss: 0.5453 - val_loss: 0.5449\n",
            "Epoch 92/100\n",
            "5197/5197 [==============================] - 0s 24us/sample - loss: 0.5408 - val_loss: 0.5491\n",
            "Epoch 93/100\n",
            "5197/5197 [==============================] - 0s 22us/sample - loss: 0.5382 - val_loss: 0.5522\n",
            "Epoch 94/100\n",
            "5197/5197 [==============================] - 0s 21us/sample - loss: 0.5394 - val_loss: 0.6156\n",
            "Epoch 95/100\n",
            "5197/5197 [==============================] - 0s 22us/sample - loss: 0.5506 - val_loss: 0.5432\n",
            "Epoch 96/100\n",
            "5197/5197 [==============================] - 0s 21us/sample - loss: 0.5478 - val_loss: 0.5409\n",
            "Epoch 97/100\n",
            "5197/5197 [==============================] - 0s 22us/sample - loss: 0.5386 - val_loss: 0.5504\n",
            "Epoch 98/100\n",
            "5197/5197 [==============================] - 0s 22us/sample - loss: 0.5478 - val_loss: 0.5392\n",
            "Epoch 99/100\n",
            "5197/5197 [==============================] - 0s 22us/sample - loss: 0.5483 - val_loss: 0.5801\n",
            "Epoch 100/100\n",
            "5197/5197 [==============================] - 0s 23us/sample - loss: 0.5574 - val_loss: 0.5383\n",
            "Final training loss: 0.5574451452818242\n",
            "Final Validation loss: 0.5383346997774564\n"
          ],
          "name": "stdout"
        },
        {
          "output_type": "execute_result",
          "data": {
            "text/plain": [
              "(0.4, 1.0)"
            ]
          },
          "metadata": {
            "tags": []
          },
          "execution_count": 50
        },
        {
          "output_type": "display_data",
          "data": {
            "image/png": "[encoded data removed]",
            "text/plain": [
              "<Figure size 432x288 with 1 Axes>"
            ]
          },
          "metadata": {
            "tags": []
          }
        }
      ]
    },
    {
      "cell_type": "markdown",
      "metadata": {
        "id": "xrkcghmYJpkS",
        "colab_type": "text"
      },
      "source": [
        "## Results\n",
        "\n",
        "If you train for long enough, the minimum achievable MSE is around 0.52, which is a decrease of 0.04 from the previous best loss of 0.56. This decrease probably isn't worth the performance and complexity cost of using all your features and a deeper network. However, that decision depends on the objectives you're optimizing for.\n",
        "\n",
        "If you train the model long enough, the validation loss actually starts increasing while training loss continues to decrease. This divergence in loss curves means your model is overfitting. The overfitting results from the closer fit that your very complex model can learn. Stick with the simpler model. You'll be happier and live longer!\n",
        "\n",
        "If you do want to optimize your loss, then play with the model to find the minimum achievable training loss before overfitting sets in. Try playing with the network parameters in the code cell above to achieve a loss of 0.51. But be warned—optimizing your loss could take a lot of trial and error.."
      ]
    }
  ]
}