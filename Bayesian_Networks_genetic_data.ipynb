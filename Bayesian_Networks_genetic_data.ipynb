{
  "nbformat": 4,
  "nbformat_minor": 0,
  "metadata": {
    "colab": {
      "name": "CodigoRBGD.ipynb",
      "provenance": [],
      "collapsed_sections": [
        "o5gD20w9X_8g"
      ],
      "toc_visible": true,
      "include_colab_link": true
    },
    "kernelspec": {
      "name": "python3",
      "display_name": "Python 3"
    }
  },
  "cells": [
    {
      "cell_type": "markdown",
      "metadata": {
        "id": "view-in-github",
        "colab_type": "text"
      },
      "source": [
        "<a href=\"https://colab.research.google.com/github/ernesto-miguez/Machine-Learning-training/blob/master/Bayesian_Networks_genetic_data.ipynb\" target=\"_parent\"><img src=\"https://colab.research.google.com/assets/colab-badge.svg\" alt=\"Open In Colab\"/></a>"
      ]
    },
    {
      "cell_type": "markdown",
      "metadata": {
        "id": "Th7SJBgtQBND"
      },
      "source": [
        "**Titulo trabajo fin de grado**: Aplicación de Redes Bayesianas a datos genéticos\n",
        "\n",
        "**Autor**: Álvaro Beltrán Camacho\n",
        "\n",
        "Fecha: 03/07/2021"
      ]
    },
    {
      "cell_type": "markdown",
      "metadata": {
        "id": "VlyNSiJtkyza"
      },
      "source": [
        "# Definición de la estructura del código\n",
        "\n",
        "En este cuaderno, se incluye el código necesario para la reación de la red Bayesiana (RB) a partir de la base de datos [Molecular Biology (Splice-junction Gene Sequences) Data Set](https://archive.ics.uci.edu/ml/datasets/Molecular+Biology+(Splice-junction+Gene+Sequences)). Para ello, se divide el cuaderno en los siguientes apartados.\n",
        "\n",
        "\n",
        "\n",
        "1.   Instalación de los paquetes necesarios \n",
        "2.   Red Bayesiana\n",
        "  1. Explicación y análisis previo de los datos.\n",
        "  2. Cargar los datos.\n",
        "  3. Limpieza de los datos\n",
        "      1. Eliminar datos irrelevantes\n",
        "      2. Selección de variables.\n",
        "  4. División de conjuntos.\n",
        "  5. Aprendizaje estructura.\n",
        "  6. Aprendizaje distribución.\n",
        "  7. Predicción.\n",
        "3.   Representar red Bayesiana interactiva \n",
        "\n",
        "\n",
        "\n",
        "## Arquitectura del código\n",
        "\n",
        "\n",
        "Es un cuaderno híbrido entre los lenguajes Python y R. Para hacer que esto sea viable, se ha usado la librería [rpy2](https://rpy2.github.io/). Con esta librería se consigue ejecutar código R embebido en un proceso de Python. Esta decisión se ha tomado porque la librería que se va a usar para el aprendizaje de la RB no está optimizada en Python y no tiene incluidas todas las funciones. Además, se querían poder usar librerías de Python como [Pandas](https://pandas.pydata.org/) y [scikit-learn](https://scikit-learn.org/stable/) para el preprocesado de los datos. Por último, para facilitar la integración de todos los paquetes y herramientas de cara a poder ser ejecutado por otro usuario fácilmente; se integró toda esta arquitectura en la nube de google mediante los cuadernos de Python Google Colab. La estructura final queda de la siguiente forma:\n",
        "\n",
        "\n",
        "![](https://drive.google.com/uc?export=view&id=1G6mU_o8x4wYFRaSesKQi4-GTA-QDiRLf)\n",
        "\n",
        "\n",
        "## Integración de R en Python\n",
        "\n",
        "Como se ha comentado, se usa el paquete [rpy2](https://rpy2.github.io/). Lo primero que se hace es actualizar la extensión de python rpy2.\n",
        "\n",
        "```\n",
        "%reload_ext  rpy2.ipython \n",
        "```\n",
        "\n",
        "Para ejecutar código R en Python una ejecutada la sentencia anterior, se debe usar al inicio de cada celda la directiva *%%R*.Las sentencias básicas que hay que conocer, son aquellas que permiten el flujo de datos entre Python y el sistema embebido que ejecuta R. Estas sentencias son:\n",
        "\n",
        "```\n",
        "%R -o df1 -o df2 # transfiere df1 de R a Python en df2\n",
        "%R -i df1 -i df2 # transfiere df1 de Python a R en df2\n",
        "\n",
        "```\n",
        "\n",
        "En la siguiente sección, se instalan los paquetes necesarios que se van a necesitar en R.\n",
        "\n"
      ]
    },
    {
      "cell_type": "markdown",
      "metadata": {
        "id": "W14SJx5QDDkh"
      },
      "source": [
        "# Instalación paquetes necesarios"
      ]
    },
    {
      "cell_type": "markdown",
      "metadata": {
        "id": "iteTSh1UAidj"
      },
      "source": [
        "Como ya se ha comentado, lo primero es recargar el paquete rpy2."
      ]
    },
    {
      "cell_type": "code",
      "metadata": {
        "id": "4aS8Gd9sC4Ou"
      },
      "source": [
        "%reload_ext  rpy2.ipython "
      ],
      "execution_count": null,
      "outputs": []
    },
    {
      "cell_type": "markdown",
      "metadata": {
        "id": "Y0LXqSEgF5as"
      },
      "source": [
        "Lo segundo, va a ser instalar los paquetes que se van a usar en R; sie stos no se encuentran instalados. Los paquetes son:\n",
        "\n",
        "*   **BNlearn** para la estimación de la RB a partir de los datos. También se usa para predecir el resultado de una nueva instancia no aprendida por la RB.\n",
        "*   Los paquetes **graphviz**, **graph** y **grid**. Para visualizar las estructuras de RBs que se generen.\n",
        "\n"
      ]
    },
    {
      "cell_type": "code",
      "metadata": {
        "id": "eKPLGZibEX0K"
      },
      "source": [
        "%%R\n",
        "a<-installed.packages()\n",
        "packages<-a[,1] \n",
        "if (!is.element(\"bnlearn\", packages)){\n",
        "  print(\"No está instalado, instalando bnlearn...\")\n",
        "  install.packages(\"https://www.bnlearn.com/releases/bnlearn_latest.tar.gz\", repos = NULL, type = \"source\")\n",
        "}else\n",
        "  print(\"BNlearn está instalado...\")\n",
        "\n",
        "if (!is.element(\"Rgraphviz\", packages)){\n",
        "  print(\"No está instalado, instalando Rgraphviz...\")\n",
        "  if (!requireNamespace(\"BiocManager\", quietly = TRUE))\n",
        "    install.packages(\"BiocManager\")\n",
        "\n",
        "  BiocManager::install(\"Rgraphviz\")\n",
        "}else\n",
        "  print(\"Rgraphviz está instalado...\")\n",
        "\n",
        "if (!is.element(\"graph\", packages)){\n",
        "  print(\"No está instalado, instalando graph...\")\n",
        "  if (!requireNamespace(\"BiocManager\", quietly = TRUE))\n",
        "    install.packages(\"BiocManager\")\n",
        "\n",
        "  BiocManager::install(\"graph\")\n",
        "\n",
        "}else\n",
        "  print(\"graph está instalado...\")\n",
        "\n",
        "if (!is.element(\"grid\", packages)){\n",
        "  print(\"No está instalado, instalando grid...\")\n",
        "  install.packages(\"grid\")\n",
        "\n",
        "}else\n",
        "  print(\"grid está instalado...\")\n",
        "\n",
        "\n"
      ],
      "execution_count": null,
      "outputs": []
    },
    {
      "cell_type": "markdown",
      "metadata": {
        "id": "xuUguoK2IOEZ"
      },
      "source": [
        "# Red Bayesiana"
      ]
    },
    {
      "cell_type": "markdown",
      "metadata": {
        "id": "0-9eKdCtJlzy"
      },
      "source": [
        "## Explicación y análisis previo de los datos"
      ]
    },
    {
      "cell_type": "markdown",
      "metadata": {
        "id": "kXY1f6xoB_17"
      },
      "source": [
        "\n",
        "\n",
        "La base de datos [Molecular Biology (Splice-junction Gene Sequences) Data Set](https://archive.ics.uci.edu/ml/datasets/Molecular+Biology+(Splice-junction+Gene+Sequences)) se creó para el estudio de las regiones de empalme (RE), regiones del ADN donde se produce el cambio de Exón a Intrón. Para ello, se tomaron **3190** secuencias de genes de **60** posiciones etiquetadas mediante **3** categorías. Las categorías se definen conforme al tipo de cambio que se produce en la región de empalme. \n",
        "\n",
        "\n",
        "* **EI**. Denota que se ha producido en ese gen un cambio de exón a intrón.\n",
        "\n",
        "* **IE**. Denota que se ha producido en ese gen un cambio de intrón a exón.\n",
        "\n",
        "* **N**. En el gen no hay región de empalme y por tanto ningún cambio de exón a intrón o viceversa.\n",
        "\n",
        "\n",
        "Cada una de las posiciones de la secuencia del gen toma ocho posibles valores. La tabla siguiente muestra los posibles valores y su significado.\n",
        "\n",
        "\n",
        "| Carácter | Significado |   | Carácter | Significado   |\n",
        "|----------|-------------|---|----------|---------------|\n",
        "|     A    |   Adenina   |   |     D    |   A o G o T   |\n",
        "|     G    |   Guanina   |   |     N    | A o G o C o T |\n",
        "|     T    |    Timina   |   |     S    |     C o G     |\n",
        "|     C    |   Citosina  |   |     R    |     A o G     |\n",
        "\n",
        "\n",
        "Cada instancia de la base de datos se compone de tres atributos. El primero de ellos es el **nombre** asociado a la secuencia del gen. El segundo, es la **secuencia** de 60 posiciones del gen. La secuencia viene almacenada como una cadena de caracteres. El último atributo, es la **etiqueta** de la RE. \n",
        "\n",
        "\n",
        "|Nombre          |Secuencia            |Etiqueta|\n",
        "|----------------|---------------------|---|\n",
        "|ATRINS-DONOR-521| CCAGCTGC...GCCAGTCTG| EI  |      \n",
        "|1ATRINS-DONOR-905| AGACCCGC...TGCCCCCGC| EI   |      \n",
        "|BABAPOE-DONOR-30| GAGGTGAA...ACGGGGATG| EI   |          \n",
        "|BABAPOE-DONOR-867| GGGCTGCG...GTTTTCCCC| EI   |         \n",
        "|BABAPOE-DONOR-2817| GCTCAGCC...CTTGACCCT| EI   |          \n",
        "\n",
        "La base de datos se va a estudiar es un problema de clasificación. Para ello, se tratarán cada una de las posiciones de la secuencia como variables predictoras y la variable etiqueta como variable a predecir. Dicho esto, en la figura siguiente se muestra la frecuencia de los valores que toman cada una de las posiciones para observar si hay datos extraños.\n",
        "\n",
        "\n",
        "![](https://drive.google.com/uc?export=view&id=12sKRLgRzyQvWfdQ7Y2pRLT6r4rouaqAY)\n",
        "\n",
        "\n",
        "\n",
        "En el gráfico anterior se muestran varios hechos interesantes sobre los datos. En primer lugar, los valores **D, N, S y R** no son relevantes en ninguna de las posiciones; será necesario comprobar si tampoco lo son respecto a las etiquetas. En segundo lugar, la distribución en el resto de valores para cada posición parece ser la misma; excepto, en las posiciones $27$, $28$, $29$, $30$ y $31$, donde se dan algunos valores más que otros. Pero no se aprecian discordancias relevantes.\n",
        "\n",
        "\\\\\n",
        "\n",
        "A continuación, se va a analizar el número de instancias etiquetadas con una determinada categoría. Se va a hacer para comprobar si las categorías están balanceadas o si existe una determinada categoría con más instancias que otra. Para ello, se muestran a continuación una tabla con el número de instancias por categoría.\n",
        "\n",
        "|        |EI |IE |N   |\n",
        "|--------|---|---|----|\n",
        "|Nº Genes|767|768|1655|\n",
        "\n",
        "\n",
        "Se puede apreciar como existe desbalanceo entre las etiquetas de las instancias. La etiqueta N, representa más de la mitad de las instancias de la base de datos. Mientras que las etiquetas IE y EI, se encuentran balanceadas entre sí. La consecuencia de este problema se va a ver reflejado en los conjuntos de entrenamiento y test. Ya que para su creación, se van a mantener las proporciones.\n",
        "\n",
        "\\\\\n",
        "\n",
        "Por último, para confirmar que las instancias que toman en alguna de sus posiciones los valores D, N, S y R son irrelevantes, se presenta una tabla.\n",
        "\n",
        "\n",
        "|   | EI (%) | IE (%) | N (%) |   |   | EI (%) | IE (%) | N (%) |\n",
        "|---|--------------|-----------|----------|---|---|-----------|-----------|----------|\n",
        "| A | 24,984 | 22,1534 | 20,577 |   | D | 0,001   | 0       | 0,002  |\n",
        "| G | 25,653  | 31,415  | 22,383 |   | N | 0,01    | 0,01    | 0     |\n",
        "| T | 24,273  | 21,771  | 26,445 |   | S | 0      | 0       | 0,002  |\n",
        "| C | 25,077 | 24,561  | 30,588 |   | R | 0       | 0       | 0,002  |\n",
        "\n",
        "\n",
        "\n",
        "En primer lugar; cabe destacar que los valores A, G, T y C, se distribuyen equitativamente entre las categorías. Sin embargo, la sospecha previamente planteada se confirma. Los valores D, N, S y R también son irrelevantes para discernir sobre las categorías debido a la baja representación que tienen en las instancias. En consecuencia, para facilitar el estudio, se decide eliminar las instancias que tienen los valores mencionados en alguna de sus posiciones."
      ]
    },
    {
      "cell_type": "markdown",
      "metadata": {
        "id": "kD0gQS3mIVCd"
      },
      "source": [
        "## Cargar datos\n",
        "\n",
        "Los datos, se van a cargar desde un fichero CSV alojado en drive. El contenedor de los datos va a ser un DataFrame de la librería [Pandas](https://pandas.pydata.org/) . El DataFrame es un tipo de dato de Python en formato tabla, al que se le pueden realizar transformaciones de forma muy sencilla."
      ]
    },
    {
      "cell_type": "code",
      "metadata": {
        "id": "fGck_2I-OuZ7"
      },
      "source": [
        "import pandas as pd\n",
        "import numpy as np"
      ],
      "execution_count": null,
      "outputs": []
    },
    {
      "cell_type": "code",
      "metadata": {
        "id": "gncNICvUO6Js"
      },
      "source": [
        "df = pd.read_csv('https://drive.google.com/uc?export=view&id=1Bah62Rv3EdGOfl5KYHlOWyVgRplty6FB')\n"
      ],
      "execution_count": null,
      "outputs": []
    },
    {
      "cell_type": "markdown",
      "metadata": {
        "id": "29CtDihHKpbF"
      },
      "source": [
        "Se muestran los datos leídos. Donde las varibles son: *class*, *Name*, *Sequence*. La variable *class* es la variable a predecir o la variable a la que llamaré etiqueta."
      ]
    },
    {
      "cell_type": "code",
      "metadata": {
        "colab": {
          "base_uri": "https://localhost:8080/",
          "height": 419
        },
        "id": "tB1_lbliPYIQ",
        "outputId": "e5ffe542-1740-406b-9c7b-812cc3309b21"
      },
      "source": [
        "df"
      ],
      "execution_count": null,
      "outputs": [
        {
          "output_type": "execute_result",
          "data": {
            "text/html": [
              "<div>\n",
              "<style scoped>\n",
              "    .dataframe tbody tr th:only-of-type {\n",
              "        vertical-align: middle;\n",
              "    }\n",
              "\n",
              "    .dataframe tbody tr th {\n",
              "        vertical-align: top;\n",
              "    }\n",
              "\n",
              "    .dataframe thead th {\n",
              "        text-align: right;\n",
              "    }\n",
              "</style>\n",
              "<table border=\"1\" class=\"dataframe\">\n",
              "  <thead>\n",
              "    <tr style=\"text-align: right;\">\n",
              "      <th></th>\n",
              "      <th>class</th>\n",
              "      <th>Name</th>\n",
              "      <th>Sequence</th>\n",
              "    </tr>\n",
              "  </thead>\n",
              "  <tbody>\n",
              "    <tr>\n",
              "      <th>0</th>\n",
              "      <td>EI</td>\n",
              "      <td>ATRINS-DONOR-521</td>\n",
              "      <td>CCAGCTGCATCACAGGAGGCCAGCGAGCAGG...</td>\n",
              "    </tr>\n",
              "    <tr>\n",
              "      <th>1</th>\n",
              "      <td>EI</td>\n",
              "      <td>ATRINS-DONOR-905</td>\n",
              "      <td>AGACCCGCCGGGAGGCGGAGGACCTGCAGGG...</td>\n",
              "    </tr>\n",
              "    <tr>\n",
              "      <th>2</th>\n",
              "      <td>EI</td>\n",
              "      <td>BABAPOE-DONOR-30</td>\n",
              "      <td>GAGGTGAAGGACGTCCTTCCCCAGGAGCCGG...</td>\n",
              "    </tr>\n",
              "    <tr>\n",
              "      <th>3</th>\n",
              "      <td>EI</td>\n",
              "      <td>BABAPOE-DONOR-867</td>\n",
              "      <td>GGGCTGCGTTGCTGGTCACATTCCTGGCAGGT...</td>\n",
              "    </tr>\n",
              "    <tr>\n",
              "      <th>4</th>\n",
              "      <td>EI</td>\n",
              "      <td>BABAPOE-DONOR-2817</td>\n",
              "      <td>GCTCAGCCCCCAGGTCACCCAGGAACTGACGTG...</td>\n",
              "    </tr>\n",
              "    <tr>\n",
              "      <th>...</th>\n",
              "      <td>...</td>\n",
              "      <td>...</td>\n",
              "      <td>...</td>\n",
              "    </tr>\n",
              "    <tr>\n",
              "      <th>3185</th>\n",
              "      <td>N</td>\n",
              "      <td>ORAHBPSBD-NEG-2881</td>\n",
              "      <td>TCTCTTCCCTTCCCCTCTCTCTTTCTTTCTTTT...</td>\n",
              "    </tr>\n",
              "    <tr>\n",
              "      <th>3186</th>\n",
              "      <td>N</td>\n",
              "      <td>ORAINVOL-NEG-2161</td>\n",
              "      <td>GAGCTCCCAGAGCAGCAAGAGGGCCAGCTGAA...</td>\n",
              "    </tr>\n",
              "    <tr>\n",
              "      <th>3187</th>\n",
              "      <td>N</td>\n",
              "      <td>ORARGIT-NEG-241</td>\n",
              "      <td>TCTCGGGGGCGGCCGGCGCGGCGGGGAGCG...</td>\n",
              "    </tr>\n",
              "    <tr>\n",
              "      <th>3188</th>\n",
              "      <td>N</td>\n",
              "      <td>TARHBB-NEG-541</td>\n",
              "      <td>ATTCTACTTAGTAAACATAATTTCTTGTG...</td>\n",
              "    </tr>\n",
              "    <tr>\n",
              "      <th>3189</th>\n",
              "      <td>N</td>\n",
              "      <td>TARHBD-NEG-1981</td>\n",
              "      <td>AGGCTGCCTATCAGAAGGTGGTGGCTGGTG...</td>\n",
              "    </tr>\n",
              "  </tbody>\n",
              "</table>\n",
              "<p>3190 rows × 3 columns</p>\n",
              "</div>"
            ],
            "text/plain": [
              "     class  ...                                           Sequence\n",
              "0       EI  ...                 CCAGCTGCATCACAGGAGGCCAGCGAGCAGG...\n",
              "1       EI  ...                 AGACCCGCCGGGAGGCGGAGGACCTGCAGGG...\n",
              "2       EI  ...                 GAGGTGAAGGACGTCCTTCCCCAGGAGCCGG...\n",
              "3       EI  ...                GGGCTGCGTTGCTGGTCACATTCCTGGCAGGT...\n",
              "4       EI  ...               GCTCAGCCCCCAGGTCACCCAGGAACTGACGTG...\n",
              "...    ...  ...                                                ...\n",
              "3185     N  ...               TCTCTTCCCTTCCCCTCTCTCTTTCTTTCTTTT...\n",
              "3186     N  ...                GAGCTCCCAGAGCAGCAAGAGGGCCAGCTGAA...\n",
              "3187     N  ...                  TCTCGGGGGCGGCCGGCGCGGCGGGGAGCG...\n",
              "3188     N  ...                   ATTCTACTTAGTAAACATAATTTCTTGTG...\n",
              "3189     N  ...                  AGGCTGCCTATCAGAAGGTGGTGGCTGGTG...\n",
              "\n",
              "[3190 rows x 3 columns]"
            ]
          },
          "metadata": {
            "tags": []
          },
          "execution_count": 5
        }
      ]
    },
    {
      "cell_type": "markdown",
      "metadata": {
        "id": "-dzZBg6uPwdj"
      },
      "source": [
        "## Limpieza de los Datos"
      ]
    },
    {
      "cell_type": "markdown",
      "metadata": {
        "id": "iYuCmoTRKsYZ"
      },
      "source": [
        "Como se puede observar, la secuencia de cada gen leída es una cadena de caracteres . El formato deseado es una variable por posición del gen. Además, el nombre del gen no aporta ninguna información.\n",
        "\n",
        "\n",
        "Por tanto, habrá que hacer una serie de transformaciones. Para ello, se define una nueva tabla (o DataFrame) llamada data. Y se hacen tres cosas:\n",
        "\n",
        "1. Añadir la columna de las etiquetas\n",
        "2. Eliminar el espacio en blanco al inicio de la cadena para cada secuencia; almacenando todas las secuencias en una matriz.\n",
        "3. Añadir cada una de las posiciones a una columna de la tabla data.\n",
        "\n",
        "\n"
      ]
    },
    {
      "cell_type": "code",
      "metadata": {
        "id": "mfdRFQ30Pg9e"
      },
      "source": [
        "data = {'class': df['class']} \n",
        "\n",
        "datos = pd.DataFrame(data) "
      ],
      "execution_count": null,
      "outputs": []
    },
    {
      "cell_type": "code",
      "metadata": {
        "id": "2McmMm5zR4RY"
      },
      "source": [
        "def remove_values_from_list(the_list, val):\n",
        "   return [value for value in the_list if value != val]\n",
        "\n",
        "secuencias = []\n",
        "for i in range(len(df['Sequence'])):\n",
        "  secuencias.append(remove_values_from_list(list(df['Sequence'][i]),' '))\n",
        "\n",
        "for i in range(len(secuencias[0])):\n",
        "  datos['pos'+str(i)]=np.array(secuencias)[:,i]"
      ],
      "execution_count": null,
      "outputs": []
    },
    {
      "cell_type": "markdown",
      "metadata": {
        "id": "DkTssgZUPZR1"
      },
      "source": [
        "Se puede observar que ya está en el formato correcto"
      ]
    },
    {
      "cell_type": "code",
      "metadata": {
        "colab": {
          "base_uri": "https://localhost:8080/",
          "height": 439
        },
        "id": "DNyrbj1IYY5p",
        "outputId": "4ba9b882-1fa6-46b5-c5c1-32573dd9afaa"
      },
      "source": [
        "datos"
      ],
      "execution_count": null,
      "outputs": [
        {
          "output_type": "execute_result",
          "data": {
            "text/html": [
              "<div>\n",
              "<style scoped>\n",
              "    .dataframe tbody tr th:only-of-type {\n",
              "        vertical-align: middle;\n",
              "    }\n",
              "\n",
              "    .dataframe tbody tr th {\n",
              "        vertical-align: top;\n",
              "    }\n",
              "\n",
              "    .dataframe thead th {\n",
              "        text-align: right;\n",
              "    }\n",
              "</style>\n",
              "<table border=\"1\" class=\"dataframe\">\n",
              "  <thead>\n",
              "    <tr style=\"text-align: right;\">\n",
              "      <th></th>\n",
              "      <th>class</th>\n",
              "      <th>pos0</th>\n",
              "      <th>pos1</th>\n",
              "      <th>pos2</th>\n",
              "      <th>pos3</th>\n",
              "      <th>pos4</th>\n",
              "      <th>pos5</th>\n",
              "      <th>pos6</th>\n",
              "      <th>pos7</th>\n",
              "      <th>pos8</th>\n",
              "      <th>pos9</th>\n",
              "      <th>pos10</th>\n",
              "      <th>pos11</th>\n",
              "      <th>pos12</th>\n",
              "      <th>pos13</th>\n",
              "      <th>pos14</th>\n",
              "      <th>pos15</th>\n",
              "      <th>pos16</th>\n",
              "      <th>pos17</th>\n",
              "      <th>pos18</th>\n",
              "      <th>pos19</th>\n",
              "      <th>pos20</th>\n",
              "      <th>pos21</th>\n",
              "      <th>pos22</th>\n",
              "      <th>pos23</th>\n",
              "      <th>pos24</th>\n",
              "      <th>pos25</th>\n",
              "      <th>pos26</th>\n",
              "      <th>pos27</th>\n",
              "      <th>pos28</th>\n",
              "      <th>pos29</th>\n",
              "      <th>pos30</th>\n",
              "      <th>pos31</th>\n",
              "      <th>pos32</th>\n",
              "      <th>pos33</th>\n",
              "      <th>pos34</th>\n",
              "      <th>pos35</th>\n",
              "      <th>pos36</th>\n",
              "      <th>pos37</th>\n",
              "      <th>pos38</th>\n",
              "      <th>pos39</th>\n",
              "      <th>pos40</th>\n",
              "      <th>pos41</th>\n",
              "      <th>pos42</th>\n",
              "      <th>pos43</th>\n",
              "      <th>pos44</th>\n",
              "      <th>pos45</th>\n",
              "      <th>pos46</th>\n",
              "      <th>pos47</th>\n",
              "      <th>pos48</th>\n",
              "      <th>pos49</th>\n",
              "      <th>pos50</th>\n",
              "      <th>pos51</th>\n",
              "      <th>pos52</th>\n",
              "      <th>pos53</th>\n",
              "      <th>pos54</th>\n",
              "      <th>pos55</th>\n",
              "      <th>pos56</th>\n",
              "      <th>pos57</th>\n",
              "      <th>pos58</th>\n",
              "      <th>pos59</th>\n",
              "    </tr>\n",
              "  </thead>\n",
              "  <tbody>\n",
              "    <tr>\n",
              "      <th>0</th>\n",
              "      <td>EI</td>\n",
              "      <td>C</td>\n",
              "      <td>C</td>\n",
              "      <td>A</td>\n",
              "      <td>G</td>\n",
              "      <td>C</td>\n",
              "      <td>T</td>\n",
              "      <td>G</td>\n",
              "      <td>C</td>\n",
              "      <td>A</td>\n",
              "      <td>T</td>\n",
              "      <td>C</td>\n",
              "      <td>A</td>\n",
              "      <td>C</td>\n",
              "      <td>A</td>\n",
              "      <td>G</td>\n",
              "      <td>G</td>\n",
              "      <td>A</td>\n",
              "      <td>G</td>\n",
              "      <td>G</td>\n",
              "      <td>C</td>\n",
              "      <td>C</td>\n",
              "      <td>A</td>\n",
              "      <td>G</td>\n",
              "      <td>C</td>\n",
              "      <td>G</td>\n",
              "      <td>A</td>\n",
              "      <td>G</td>\n",
              "      <td>C</td>\n",
              "      <td>A</td>\n",
              "      <td>G</td>\n",
              "      <td>G</td>\n",
              "      <td>T</td>\n",
              "      <td>C</td>\n",
              "      <td>T</td>\n",
              "      <td>G</td>\n",
              "      <td>T</td>\n",
              "      <td>T</td>\n",
              "      <td>C</td>\n",
              "      <td>C</td>\n",
              "      <td>A</td>\n",
              "      <td>A</td>\n",
              "      <td>G</td>\n",
              "      <td>G</td>\n",
              "      <td>G</td>\n",
              "      <td>C</td>\n",
              "      <td>C</td>\n",
              "      <td>T</td>\n",
              "      <td>T</td>\n",
              "      <td>C</td>\n",
              "      <td>G</td>\n",
              "      <td>A</td>\n",
              "      <td>G</td>\n",
              "      <td>C</td>\n",
              "      <td>C</td>\n",
              "      <td>A</td>\n",
              "      <td>G</td>\n",
              "      <td>T</td>\n",
              "      <td>C</td>\n",
              "      <td>T</td>\n",
              "      <td>G</td>\n",
              "    </tr>\n",
              "    <tr>\n",
              "      <th>1</th>\n",
              "      <td>EI</td>\n",
              "      <td>A</td>\n",
              "      <td>G</td>\n",
              "      <td>A</td>\n",
              "      <td>C</td>\n",
              "      <td>C</td>\n",
              "      <td>C</td>\n",
              "      <td>G</td>\n",
              "      <td>C</td>\n",
              "      <td>C</td>\n",
              "      <td>G</td>\n",
              "      <td>G</td>\n",
              "      <td>G</td>\n",
              "      <td>A</td>\n",
              "      <td>G</td>\n",
              "      <td>G</td>\n",
              "      <td>C</td>\n",
              "      <td>G</td>\n",
              "      <td>G</td>\n",
              "      <td>A</td>\n",
              "      <td>G</td>\n",
              "      <td>G</td>\n",
              "      <td>A</td>\n",
              "      <td>C</td>\n",
              "      <td>C</td>\n",
              "      <td>T</td>\n",
              "      <td>G</td>\n",
              "      <td>C</td>\n",
              "      <td>A</td>\n",
              "      <td>G</td>\n",
              "      <td>G</td>\n",
              "      <td>G</td>\n",
              "      <td>T</td>\n",
              "      <td>G</td>\n",
              "      <td>A</td>\n",
              "      <td>G</td>\n",
              "      <td>C</td>\n",
              "      <td>C</td>\n",
              "      <td>C</td>\n",
              "      <td>C</td>\n",
              "      <td>A</td>\n",
              "      <td>C</td>\n",
              "      <td>C</td>\n",
              "      <td>G</td>\n",
              "      <td>C</td>\n",
              "      <td>C</td>\n",
              "      <td>C</td>\n",
              "      <td>C</td>\n",
              "      <td>T</td>\n",
              "      <td>C</td>\n",
              "      <td>C</td>\n",
              "      <td>G</td>\n",
              "      <td>T</td>\n",
              "      <td>G</td>\n",
              "      <td>C</td>\n",
              "      <td>C</td>\n",
              "      <td>C</td>\n",
              "      <td>C</td>\n",
              "      <td>C</td>\n",
              "      <td>G</td>\n",
              "      <td>C</td>\n",
              "    </tr>\n",
              "    <tr>\n",
              "      <th>2</th>\n",
              "      <td>EI</td>\n",
              "      <td>G</td>\n",
              "      <td>A</td>\n",
              "      <td>G</td>\n",
              "      <td>G</td>\n",
              "      <td>T</td>\n",
              "      <td>G</td>\n",
              "      <td>A</td>\n",
              "      <td>A</td>\n",
              "      <td>G</td>\n",
              "      <td>G</td>\n",
              "      <td>A</td>\n",
              "      <td>C</td>\n",
              "      <td>G</td>\n",
              "      <td>T</td>\n",
              "      <td>C</td>\n",
              "      <td>C</td>\n",
              "      <td>T</td>\n",
              "      <td>T</td>\n",
              "      <td>C</td>\n",
              "      <td>C</td>\n",
              "      <td>C</td>\n",
              "      <td>C</td>\n",
              "      <td>A</td>\n",
              "      <td>G</td>\n",
              "      <td>G</td>\n",
              "      <td>A</td>\n",
              "      <td>G</td>\n",
              "      <td>C</td>\n",
              "      <td>C</td>\n",
              "      <td>G</td>\n",
              "      <td>G</td>\n",
              "      <td>T</td>\n",
              "      <td>G</td>\n",
              "      <td>A</td>\n",
              "      <td>G</td>\n",
              "      <td>A</td>\n",
              "      <td>A</td>\n",
              "      <td>G</td>\n",
              "      <td>C</td>\n",
              "      <td>G</td>\n",
              "      <td>C</td>\n",
              "      <td>A</td>\n",
              "      <td>G</td>\n",
              "      <td>T</td>\n",
              "      <td>C</td>\n",
              "      <td>G</td>\n",
              "      <td>G</td>\n",
              "      <td>G</td>\n",
              "      <td>G</td>\n",
              "      <td>G</td>\n",
              "      <td>C</td>\n",
              "      <td>A</td>\n",
              "      <td>C</td>\n",
              "      <td>G</td>\n",
              "      <td>G</td>\n",
              "      <td>G</td>\n",
              "      <td>G</td>\n",
              "      <td>A</td>\n",
              "      <td>T</td>\n",
              "      <td>G</td>\n",
              "    </tr>\n",
              "    <tr>\n",
              "      <th>3</th>\n",
              "      <td>EI</td>\n",
              "      <td>G</td>\n",
              "      <td>G</td>\n",
              "      <td>G</td>\n",
              "      <td>C</td>\n",
              "      <td>T</td>\n",
              "      <td>G</td>\n",
              "      <td>C</td>\n",
              "      <td>G</td>\n",
              "      <td>T</td>\n",
              "      <td>T</td>\n",
              "      <td>G</td>\n",
              "      <td>C</td>\n",
              "      <td>T</td>\n",
              "      <td>G</td>\n",
              "      <td>G</td>\n",
              "      <td>T</td>\n",
              "      <td>C</td>\n",
              "      <td>A</td>\n",
              "      <td>C</td>\n",
              "      <td>A</td>\n",
              "      <td>T</td>\n",
              "      <td>T</td>\n",
              "      <td>C</td>\n",
              "      <td>C</td>\n",
              "      <td>T</td>\n",
              "      <td>G</td>\n",
              "      <td>G</td>\n",
              "      <td>C</td>\n",
              "      <td>A</td>\n",
              "      <td>G</td>\n",
              "      <td>G</td>\n",
              "      <td>T</td>\n",
              "      <td>A</td>\n",
              "      <td>T</td>\n",
              "      <td>G</td>\n",
              "      <td>G</td>\n",
              "      <td>G</td>\n",
              "      <td>G</td>\n",
              "      <td>C</td>\n",
              "      <td>G</td>\n",
              "      <td>G</td>\n",
              "      <td>G</td>\n",
              "      <td>G</td>\n",
              "      <td>C</td>\n",
              "      <td>T</td>\n",
              "      <td>T</td>\n",
              "      <td>G</td>\n",
              "      <td>C</td>\n",
              "      <td>T</td>\n",
              "      <td>C</td>\n",
              "      <td>G</td>\n",
              "      <td>G</td>\n",
              "      <td>T</td>\n",
              "      <td>T</td>\n",
              "      <td>T</td>\n",
              "      <td>T</td>\n",
              "      <td>C</td>\n",
              "      <td>C</td>\n",
              "      <td>C</td>\n",
              "      <td>C</td>\n",
              "    </tr>\n",
              "    <tr>\n",
              "      <th>4</th>\n",
              "      <td>EI</td>\n",
              "      <td>G</td>\n",
              "      <td>C</td>\n",
              "      <td>T</td>\n",
              "      <td>C</td>\n",
              "      <td>A</td>\n",
              "      <td>G</td>\n",
              "      <td>C</td>\n",
              "      <td>C</td>\n",
              "      <td>C</td>\n",
              "      <td>C</td>\n",
              "      <td>C</td>\n",
              "      <td>A</td>\n",
              "      <td>G</td>\n",
              "      <td>G</td>\n",
              "      <td>T</td>\n",
              "      <td>C</td>\n",
              "      <td>A</td>\n",
              "      <td>C</td>\n",
              "      <td>C</td>\n",
              "      <td>C</td>\n",
              "      <td>A</td>\n",
              "      <td>G</td>\n",
              "      <td>G</td>\n",
              "      <td>A</td>\n",
              "      <td>A</td>\n",
              "      <td>C</td>\n",
              "      <td>T</td>\n",
              "      <td>G</td>\n",
              "      <td>A</td>\n",
              "      <td>C</td>\n",
              "      <td>G</td>\n",
              "      <td>T</td>\n",
              "      <td>G</td>\n",
              "      <td>A</td>\n",
              "      <td>G</td>\n",
              "      <td>T</td>\n",
              "      <td>G</td>\n",
              "      <td>T</td>\n",
              "      <td>C</td>\n",
              "      <td>C</td>\n",
              "      <td>C</td>\n",
              "      <td>C</td>\n",
              "      <td>A</td>\n",
              "      <td>T</td>\n",
              "      <td>C</td>\n",
              "      <td>C</td>\n",
              "      <td>C</td>\n",
              "      <td>G</td>\n",
              "      <td>G</td>\n",
              "      <td>C</td>\n",
              "      <td>C</td>\n",
              "      <td>C</td>\n",
              "      <td>T</td>\n",
              "      <td>T</td>\n",
              "      <td>G</td>\n",
              "      <td>A</td>\n",
              "      <td>C</td>\n",
              "      <td>C</td>\n",
              "      <td>C</td>\n",
              "      <td>T</td>\n",
              "    </tr>\n",
              "    <tr>\n",
              "      <th>...</th>\n",
              "      <td>...</td>\n",
              "      <td>...</td>\n",
              "      <td>...</td>\n",
              "      <td>...</td>\n",
              "      <td>...</td>\n",
              "      <td>...</td>\n",
              "      <td>...</td>\n",
              "      <td>...</td>\n",
              "      <td>...</td>\n",
              "      <td>...</td>\n",
              "      <td>...</td>\n",
              "      <td>...</td>\n",
              "      <td>...</td>\n",
              "      <td>...</td>\n",
              "      <td>...</td>\n",
              "      <td>...</td>\n",
              "      <td>...</td>\n",
              "      <td>...</td>\n",
              "      <td>...</td>\n",
              "      <td>...</td>\n",
              "      <td>...</td>\n",
              "      <td>...</td>\n",
              "      <td>...</td>\n",
              "      <td>...</td>\n",
              "      <td>...</td>\n",
              "      <td>...</td>\n",
              "      <td>...</td>\n",
              "      <td>...</td>\n",
              "      <td>...</td>\n",
              "      <td>...</td>\n",
              "      <td>...</td>\n",
              "      <td>...</td>\n",
              "      <td>...</td>\n",
              "      <td>...</td>\n",
              "      <td>...</td>\n",
              "      <td>...</td>\n",
              "      <td>...</td>\n",
              "      <td>...</td>\n",
              "      <td>...</td>\n",
              "      <td>...</td>\n",
              "      <td>...</td>\n",
              "      <td>...</td>\n",
              "      <td>...</td>\n",
              "      <td>...</td>\n",
              "      <td>...</td>\n",
              "      <td>...</td>\n",
              "      <td>...</td>\n",
              "      <td>...</td>\n",
              "      <td>...</td>\n",
              "      <td>...</td>\n",
              "      <td>...</td>\n",
              "      <td>...</td>\n",
              "      <td>...</td>\n",
              "      <td>...</td>\n",
              "      <td>...</td>\n",
              "      <td>...</td>\n",
              "      <td>...</td>\n",
              "      <td>...</td>\n",
              "      <td>...</td>\n",
              "      <td>...</td>\n",
              "      <td>...</td>\n",
              "    </tr>\n",
              "    <tr>\n",
              "      <th>3185</th>\n",
              "      <td>N</td>\n",
              "      <td>T</td>\n",
              "      <td>C</td>\n",
              "      <td>T</td>\n",
              "      <td>C</td>\n",
              "      <td>T</td>\n",
              "      <td>T</td>\n",
              "      <td>C</td>\n",
              "      <td>C</td>\n",
              "      <td>C</td>\n",
              "      <td>T</td>\n",
              "      <td>T</td>\n",
              "      <td>C</td>\n",
              "      <td>C</td>\n",
              "      <td>C</td>\n",
              "      <td>C</td>\n",
              "      <td>T</td>\n",
              "      <td>C</td>\n",
              "      <td>T</td>\n",
              "      <td>C</td>\n",
              "      <td>T</td>\n",
              "      <td>C</td>\n",
              "      <td>T</td>\n",
              "      <td>T</td>\n",
              "      <td>T</td>\n",
              "      <td>C</td>\n",
              "      <td>T</td>\n",
              "      <td>T</td>\n",
              "      <td>T</td>\n",
              "      <td>C</td>\n",
              "      <td>T</td>\n",
              "      <td>T</td>\n",
              "      <td>T</td>\n",
              "      <td>T</td>\n",
              "      <td>C</td>\n",
              "      <td>T</td>\n",
              "      <td>C</td>\n",
              "      <td>T</td>\n",
              "      <td>C</td>\n",
              "      <td>C</td>\n",
              "      <td>T</td>\n",
              "      <td>C</td>\n",
              "      <td>T</td>\n",
              "      <td>T</td>\n",
              "      <td>C</td>\n",
              "      <td>T</td>\n",
              "      <td>C</td>\n",
              "      <td>T</td>\n",
              "      <td>T</td>\n",
              "      <td>C</td>\n",
              "      <td>T</td>\n",
              "      <td>T</td>\n",
              "      <td>T</td>\n",
              "      <td>C</td>\n",
              "      <td>C</td>\n",
              "      <td>T</td>\n",
              "      <td>C</td>\n",
              "      <td>T</td>\n",
              "      <td>C</td>\n",
              "      <td>T</td>\n",
              "      <td>T</td>\n",
              "    </tr>\n",
              "    <tr>\n",
              "      <th>3186</th>\n",
              "      <td>N</td>\n",
              "      <td>G</td>\n",
              "      <td>A</td>\n",
              "      <td>G</td>\n",
              "      <td>C</td>\n",
              "      <td>T</td>\n",
              "      <td>C</td>\n",
              "      <td>C</td>\n",
              "      <td>C</td>\n",
              "      <td>A</td>\n",
              "      <td>G</td>\n",
              "      <td>A</td>\n",
              "      <td>G</td>\n",
              "      <td>C</td>\n",
              "      <td>A</td>\n",
              "      <td>G</td>\n",
              "      <td>C</td>\n",
              "      <td>A</td>\n",
              "      <td>A</td>\n",
              "      <td>G</td>\n",
              "      <td>A</td>\n",
              "      <td>G</td>\n",
              "      <td>G</td>\n",
              "      <td>G</td>\n",
              "      <td>C</td>\n",
              "      <td>C</td>\n",
              "      <td>A</td>\n",
              "      <td>G</td>\n",
              "      <td>C</td>\n",
              "      <td>T</td>\n",
              "      <td>G</td>\n",
              "      <td>A</td>\n",
              "      <td>A</td>\n",
              "      <td>G</td>\n",
              "      <td>C</td>\n",
              "      <td>A</td>\n",
              "      <td>C</td>\n",
              "      <td>C</td>\n",
              "      <td>T</td>\n",
              "      <td>G</td>\n",
              "      <td>G</td>\n",
              "      <td>A</td>\n",
              "      <td>G</td>\n",
              "      <td>A</td>\n",
              "      <td>A</td>\n",
              "      <td>G</td>\n",
              "      <td>C</td>\n",
              "      <td>A</td>\n",
              "      <td>G</td>\n",
              "      <td>G</td>\n",
              "      <td>A</td>\n",
              "      <td>G</td>\n",
              "      <td>G</td>\n",
              "      <td>C</td>\n",
              "      <td>A</td>\n",
              "      <td>C</td>\n",
              "      <td>A</td>\n",
              "      <td>G</td>\n",
              "      <td>C</td>\n",
              "      <td>T</td>\n",
              "      <td>G</td>\n",
              "    </tr>\n",
              "    <tr>\n",
              "      <th>3187</th>\n",
              "      <td>N</td>\n",
              "      <td>T</td>\n",
              "      <td>C</td>\n",
              "      <td>T</td>\n",
              "      <td>C</td>\n",
              "      <td>G</td>\n",
              "      <td>G</td>\n",
              "      <td>G</td>\n",
              "      <td>G</td>\n",
              "      <td>G</td>\n",
              "      <td>C</td>\n",
              "      <td>G</td>\n",
              "      <td>G</td>\n",
              "      <td>C</td>\n",
              "      <td>C</td>\n",
              "      <td>G</td>\n",
              "      <td>G</td>\n",
              "      <td>C</td>\n",
              "      <td>G</td>\n",
              "      <td>C</td>\n",
              "      <td>G</td>\n",
              "      <td>G</td>\n",
              "      <td>C</td>\n",
              "      <td>G</td>\n",
              "      <td>G</td>\n",
              "      <td>G</td>\n",
              "      <td>G</td>\n",
              "      <td>A</td>\n",
              "      <td>G</td>\n",
              "      <td>C</td>\n",
              "      <td>G</td>\n",
              "      <td>G</td>\n",
              "      <td>T</td>\n",
              "      <td>C</td>\n",
              "      <td>C</td>\n",
              "      <td>C</td>\n",
              "      <td>C</td>\n",
              "      <td>G</td>\n",
              "      <td>G</td>\n",
              "      <td>C</td>\n",
              "      <td>C</td>\n",
              "      <td>G</td>\n",
              "      <td>C</td>\n",
              "      <td>G</td>\n",
              "      <td>G</td>\n",
              "      <td>C</td>\n",
              "      <td>C</td>\n",
              "      <td>C</td>\n",
              "      <td>C</td>\n",
              "      <td>G</td>\n",
              "      <td>A</td>\n",
              "      <td>C</td>\n",
              "      <td>G</td>\n",
              "      <td>T</td>\n",
              "      <td>G</td>\n",
              "      <td>T</td>\n",
              "      <td>G</td>\n",
              "      <td>T</td>\n",
              "      <td>G</td>\n",
              "      <td>T</td>\n",
              "      <td>C</td>\n",
              "    </tr>\n",
              "    <tr>\n",
              "      <th>3188</th>\n",
              "      <td>N</td>\n",
              "      <td>A</td>\n",
              "      <td>T</td>\n",
              "      <td>T</td>\n",
              "      <td>C</td>\n",
              "      <td>T</td>\n",
              "      <td>A</td>\n",
              "      <td>C</td>\n",
              "      <td>T</td>\n",
              "      <td>T</td>\n",
              "      <td>A</td>\n",
              "      <td>G</td>\n",
              "      <td>T</td>\n",
              "      <td>A</td>\n",
              "      <td>A</td>\n",
              "      <td>A</td>\n",
              "      <td>C</td>\n",
              "      <td>A</td>\n",
              "      <td>T</td>\n",
              "      <td>A</td>\n",
              "      <td>A</td>\n",
              "      <td>T</td>\n",
              "      <td>T</td>\n",
              "      <td>T</td>\n",
              "      <td>C</td>\n",
              "      <td>T</td>\n",
              "      <td>T</td>\n",
              "      <td>G</td>\n",
              "      <td>T</td>\n",
              "      <td>G</td>\n",
              "      <td>C</td>\n",
              "      <td>T</td>\n",
              "      <td>A</td>\n",
              "      <td>G</td>\n",
              "      <td>A</td>\n",
              "      <td>T</td>\n",
              "      <td>A</td>\n",
              "      <td>A</td>\n",
              "      <td>C</td>\n",
              "      <td>C</td>\n",
              "      <td>A</td>\n",
              "      <td>A</td>\n",
              "      <td>A</td>\n",
              "      <td>T</td>\n",
              "      <td>T</td>\n",
              "      <td>A</td>\n",
              "      <td>A</td>\n",
              "      <td>G</td>\n",
              "      <td>A</td>\n",
              "      <td>A</td>\n",
              "      <td>A</td>\n",
              "      <td>A</td>\n",
              "      <td>C</td>\n",
              "      <td>C</td>\n",
              "      <td>A</td>\n",
              "      <td>A</td>\n",
              "      <td>A</td>\n",
              "      <td>A</td>\n",
              "      <td>C</td>\n",
              "      <td>A</td>\n",
              "      <td>A</td>\n",
              "    </tr>\n",
              "    <tr>\n",
              "      <th>3189</th>\n",
              "      <td>N</td>\n",
              "      <td>A</td>\n",
              "      <td>G</td>\n",
              "      <td>G</td>\n",
              "      <td>C</td>\n",
              "      <td>T</td>\n",
              "      <td>G</td>\n",
              "      <td>C</td>\n",
              "      <td>C</td>\n",
              "      <td>T</td>\n",
              "      <td>A</td>\n",
              "      <td>T</td>\n",
              "      <td>C</td>\n",
              "      <td>A</td>\n",
              "      <td>G</td>\n",
              "      <td>A</td>\n",
              "      <td>A</td>\n",
              "      <td>G</td>\n",
              "      <td>G</td>\n",
              "      <td>T</td>\n",
              "      <td>G</td>\n",
              "      <td>G</td>\n",
              "      <td>T</td>\n",
              "      <td>G</td>\n",
              "      <td>G</td>\n",
              "      <td>C</td>\n",
              "      <td>T</td>\n",
              "      <td>G</td>\n",
              "      <td>G</td>\n",
              "      <td>T</td>\n",
              "      <td>G</td>\n",
              "      <td>T</td>\n",
              "      <td>G</td>\n",
              "      <td>G</td>\n",
              "      <td>C</td>\n",
              "      <td>T</td>\n",
              "      <td>G</td>\n",
              "      <td>C</td>\n",
              "      <td>T</td>\n",
              "      <td>G</td>\n",
              "      <td>C</td>\n",
              "      <td>T</td>\n",
              "      <td>C</td>\n",
              "      <td>T</td>\n",
              "      <td>G</td>\n",
              "      <td>G</td>\n",
              "      <td>C</td>\n",
              "      <td>T</td>\n",
              "      <td>C</td>\n",
              "      <td>A</td>\n",
              "      <td>C</td>\n",
              "      <td>A</td>\n",
              "      <td>A</td>\n",
              "      <td>G</td>\n",
              "      <td>T</td>\n",
              "      <td>A</td>\n",
              "      <td>C</td>\n",
              "      <td>C</td>\n",
              "      <td>A</td>\n",
              "      <td>T</td>\n",
              "      <td>T</td>\n",
              "    </tr>\n",
              "  </tbody>\n",
              "</table>\n",
              "<p>3190 rows × 61 columns</p>\n",
              "</div>"
            ],
            "text/plain": [
              "     class pos0 pos1 pos2 pos3 pos4  ... pos54 pos55 pos56 pos57 pos58 pos59\n",
              "0       EI    C    C    A    G    C  ...     A     G     T     C     T     G\n",
              "1       EI    A    G    A    C    C  ...     C     C     C     C     G     C\n",
              "2       EI    G    A    G    G    T  ...     G     G     G     A     T     G\n",
              "3       EI    G    G    G    C    T  ...     T     T     C     C     C     C\n",
              "4       EI    G    C    T    C    A  ...     G     A     C     C     C     T\n",
              "...    ...  ...  ...  ...  ...  ...  ...   ...   ...   ...   ...   ...   ...\n",
              "3185     N    T    C    T    C    T  ...     T     C     T     C     T     T\n",
              "3186     N    G    A    G    C    T  ...     C     A     G     C     T     G\n",
              "3187     N    T    C    T    C    G  ...     T     G     T     G     T     C\n",
              "3188     N    A    T    T    C    T  ...     A     A     A     C     A     A\n",
              "3189     N    A    G    G    C    T  ...     A     C     C     A     T     T\n",
              "\n",
              "[3190 rows x 61 columns]"
            ]
          },
          "metadata": {
            "tags": []
          },
          "execution_count": 8
        }
      ]
    },
    {
      "cell_type": "markdown",
      "metadata": {
        "id": "2AmvxN2sji72"
      },
      "source": [
        "### Eliminar datos irrelevantes"
      ]
    },
    {
      "cell_type": "markdown",
      "metadata": {
        "id": "DKQPtLOF3qc1"
      },
      "source": [
        "A continuación, se van a eliminar las intancias con los valores D, N, R y S como ya se ha comentado en una sección anterior."
      ]
    },
    {
      "cell_type": "code",
      "metadata": {
        "id": "SKjcfU9c0GTL"
      },
      "source": [
        "for i in datos.columns:\n",
        "  if i!='class':\n",
        "    datos = datos[datos[i] != 'N']\n",
        "    datos = datos[datos[i] != 'R']\n",
        "    datos = datos[datos[i] != 'S']\n",
        "    datos = datos[datos[i] != 'D']"
      ],
      "execution_count": null,
      "outputs": []
    },
    {
      "cell_type": "code",
      "metadata": {
        "colab": {
          "base_uri": "https://localhost:8080/"
        },
        "id": "yPY5BkxC0T9L",
        "outputId": "0b0fe3ee-6fa4-4ceb-9bb1-7e1b13183722"
      },
      "source": [
        "for i in datos.columns:\n",
        "  print(pd.unique(datos[i]))"
      ],
      "execution_count": null,
      "outputs": [
        {
          "output_type": "stream",
          "text": [
            "['EI' 'IE' 'N']\n",
            "['C' 'A' 'G' 'T']\n",
            "['C' 'G' 'A' 'T']\n",
            "['A' 'G' 'T' 'C']\n",
            "['G' 'C' 'A' 'T']\n",
            "['C' 'T' 'A' 'G']\n",
            "['T' 'C' 'G' 'A']\n",
            "['G' 'A' 'C' 'T']\n",
            "['C' 'A' 'G' 'T']\n",
            "['A' 'C' 'G' 'T']\n",
            "['T' 'G' 'C' 'A']\n",
            "['C' 'G' 'A' 'T']\n",
            "['A' 'G' 'C' 'T']\n",
            "['C' 'A' 'G' 'T']\n",
            "['A' 'G' 'T' 'C']\n",
            "['G' 'C' 'T' 'A']\n",
            "['G' 'C' 'T' 'A']\n",
            "['A' 'G' 'T' 'C']\n",
            "['G' 'T' 'A' 'C']\n",
            "['G' 'A' 'C' 'T']\n",
            "['C' 'G' 'A' 'T']\n",
            "['C' 'G' 'T' 'A']\n",
            "['A' 'C' 'T' 'G']\n",
            "['G' 'C' 'A' 'T']\n",
            "['C' 'G' 'A' 'T']\n",
            "['G' 'T' 'A' 'C']\n",
            "['A' 'G' 'C' 'T']\n",
            "['G' 'C' 'T' 'A']\n",
            "['C' 'A' 'G' 'T']\n",
            "['A' 'G' 'C' 'T']\n",
            "['G' 'C' 'A' 'T']\n",
            "['G' 'C' 'T' 'A']\n",
            "['T' 'C' 'G' 'A']\n",
            "['C' 'G' 'A' 'T']\n",
            "['T' 'A' 'C' 'G']\n",
            "['G' 'T' 'A' 'C']\n",
            "['T' 'C' 'A' 'G']\n",
            "['T' 'C' 'A' 'G']\n",
            "['C' 'G' 'T' 'A']\n",
            "['C' 'G' 'T' 'A']\n",
            "['A' 'G' 'C' 'T']\n",
            "['A' 'C' 'G' 'T']\n",
            "['G' 'C' 'A' 'T']\n",
            "['G' 'A' 'C' 'T']\n",
            "['G' 'C' 'T' 'A']\n",
            "['C' 'T' 'A' 'G']\n",
            "['C' 'G' 'T' 'A']\n",
            "['T' 'C' 'G' 'A']\n",
            "['T' 'G' 'C' 'A']\n",
            "['C' 'G' 'T' 'A']\n",
            "['G' 'C' 'A' 'T']\n",
            "['A' 'G' 'C' 'T']\n",
            "['G' 'T' 'A' 'C']\n",
            "['C' 'G' 'T' 'A']\n",
            "['C' 'G' 'T' 'A']\n",
            "['A' 'C' 'G' 'T']\n",
            "['G' 'C' 'T' 'A']\n",
            "['T' 'C' 'G' 'A']\n",
            "['C' 'A' 'G' 'T']\n",
            "['T' 'G' 'C' 'A']\n",
            "['G' 'C' 'T' 'A']\n"
          ],
          "name": "stdout"
        }
      ]
    },
    {
      "cell_type": "code",
      "metadata": {
        "colab": {
          "base_uri": "https://localhost:8080/",
          "height": 193
        },
        "id": "yD4JQO704Mr9",
        "outputId": "2bd6e39a-3baa-4d94-851b-ff8e13989e3d"
      },
      "source": [
        "datos.describe()"
      ],
      "execution_count": null,
      "outputs": [
        {
          "output_type": "execute_result",
          "data": {
            "text/html": [
              "<div>\n",
              "<style scoped>\n",
              "    .dataframe tbody tr th:only-of-type {\n",
              "        vertical-align: middle;\n",
              "    }\n",
              "\n",
              "    .dataframe tbody tr th {\n",
              "        vertical-align: top;\n",
              "    }\n",
              "\n",
              "    .dataframe thead th {\n",
              "        text-align: right;\n",
              "    }\n",
              "</style>\n",
              "<table border=\"1\" class=\"dataframe\">\n",
              "  <thead>\n",
              "    <tr style=\"text-align: right;\">\n",
              "      <th></th>\n",
              "      <th>class</th>\n",
              "      <th>pos0</th>\n",
              "      <th>pos1</th>\n",
              "      <th>pos2</th>\n",
              "      <th>pos3</th>\n",
              "      <th>pos4</th>\n",
              "      <th>pos5</th>\n",
              "      <th>pos6</th>\n",
              "      <th>pos7</th>\n",
              "      <th>pos8</th>\n",
              "      <th>pos9</th>\n",
              "      <th>pos10</th>\n",
              "      <th>pos11</th>\n",
              "      <th>pos12</th>\n",
              "      <th>pos13</th>\n",
              "      <th>pos14</th>\n",
              "      <th>pos15</th>\n",
              "      <th>pos16</th>\n",
              "      <th>pos17</th>\n",
              "      <th>pos18</th>\n",
              "      <th>pos19</th>\n",
              "      <th>pos20</th>\n",
              "      <th>pos21</th>\n",
              "      <th>pos22</th>\n",
              "      <th>pos23</th>\n",
              "      <th>pos24</th>\n",
              "      <th>pos25</th>\n",
              "      <th>pos26</th>\n",
              "      <th>pos27</th>\n",
              "      <th>pos28</th>\n",
              "      <th>pos29</th>\n",
              "      <th>pos30</th>\n",
              "      <th>pos31</th>\n",
              "      <th>pos32</th>\n",
              "      <th>pos33</th>\n",
              "      <th>pos34</th>\n",
              "      <th>pos35</th>\n",
              "      <th>pos36</th>\n",
              "      <th>pos37</th>\n",
              "      <th>pos38</th>\n",
              "      <th>pos39</th>\n",
              "      <th>pos40</th>\n",
              "      <th>pos41</th>\n",
              "      <th>pos42</th>\n",
              "      <th>pos43</th>\n",
              "      <th>pos44</th>\n",
              "      <th>pos45</th>\n",
              "      <th>pos46</th>\n",
              "      <th>pos47</th>\n",
              "      <th>pos48</th>\n",
              "      <th>pos49</th>\n",
              "      <th>pos50</th>\n",
              "      <th>pos51</th>\n",
              "      <th>pos52</th>\n",
              "      <th>pos53</th>\n",
              "      <th>pos54</th>\n",
              "      <th>pos55</th>\n",
              "      <th>pos56</th>\n",
              "      <th>pos57</th>\n",
              "      <th>pos58</th>\n",
              "      <th>pos59</th>\n",
              "    </tr>\n",
              "  </thead>\n",
              "  <tbody>\n",
              "    <tr>\n",
              "      <th>count</th>\n",
              "      <td>3175</td>\n",
              "      <td>3175</td>\n",
              "      <td>3175</td>\n",
              "      <td>3175</td>\n",
              "      <td>3175</td>\n",
              "      <td>3175</td>\n",
              "      <td>3175</td>\n",
              "      <td>3175</td>\n",
              "      <td>3175</td>\n",
              "      <td>3175</td>\n",
              "      <td>3175</td>\n",
              "      <td>3175</td>\n",
              "      <td>3175</td>\n",
              "      <td>3175</td>\n",
              "      <td>3175</td>\n",
              "      <td>3175</td>\n",
              "      <td>3175</td>\n",
              "      <td>3175</td>\n",
              "      <td>3175</td>\n",
              "      <td>3175</td>\n",
              "      <td>3175</td>\n",
              "      <td>3175</td>\n",
              "      <td>3175</td>\n",
              "      <td>3175</td>\n",
              "      <td>3175</td>\n",
              "      <td>3175</td>\n",
              "      <td>3175</td>\n",
              "      <td>3175</td>\n",
              "      <td>3175</td>\n",
              "      <td>3175</td>\n",
              "      <td>3175</td>\n",
              "      <td>3175</td>\n",
              "      <td>3175</td>\n",
              "      <td>3175</td>\n",
              "      <td>3175</td>\n",
              "      <td>3175</td>\n",
              "      <td>3175</td>\n",
              "      <td>3175</td>\n",
              "      <td>3175</td>\n",
              "      <td>3175</td>\n",
              "      <td>3175</td>\n",
              "      <td>3175</td>\n",
              "      <td>3175</td>\n",
              "      <td>3175</td>\n",
              "      <td>3175</td>\n",
              "      <td>3175</td>\n",
              "      <td>3175</td>\n",
              "      <td>3175</td>\n",
              "      <td>3175</td>\n",
              "      <td>3175</td>\n",
              "      <td>3175</td>\n",
              "      <td>3175</td>\n",
              "      <td>3175</td>\n",
              "      <td>3175</td>\n",
              "      <td>3175</td>\n",
              "      <td>3175</td>\n",
              "      <td>3175</td>\n",
              "      <td>3175</td>\n",
              "      <td>3175</td>\n",
              "      <td>3175</td>\n",
              "      <td>3175</td>\n",
              "    </tr>\n",
              "    <tr>\n",
              "      <th>unique</th>\n",
              "      <td>3</td>\n",
              "      <td>4</td>\n",
              "      <td>4</td>\n",
              "      <td>4</td>\n",
              "      <td>4</td>\n",
              "      <td>4</td>\n",
              "      <td>4</td>\n",
              "      <td>4</td>\n",
              "      <td>4</td>\n",
              "      <td>4</td>\n",
              "      <td>4</td>\n",
              "      <td>4</td>\n",
              "      <td>4</td>\n",
              "      <td>4</td>\n",
              "      <td>4</td>\n",
              "      <td>4</td>\n",
              "      <td>4</td>\n",
              "      <td>4</td>\n",
              "      <td>4</td>\n",
              "      <td>4</td>\n",
              "      <td>4</td>\n",
              "      <td>4</td>\n",
              "      <td>4</td>\n",
              "      <td>4</td>\n",
              "      <td>4</td>\n",
              "      <td>4</td>\n",
              "      <td>4</td>\n",
              "      <td>4</td>\n",
              "      <td>4</td>\n",
              "      <td>4</td>\n",
              "      <td>4</td>\n",
              "      <td>4</td>\n",
              "      <td>4</td>\n",
              "      <td>4</td>\n",
              "      <td>4</td>\n",
              "      <td>4</td>\n",
              "      <td>4</td>\n",
              "      <td>4</td>\n",
              "      <td>4</td>\n",
              "      <td>4</td>\n",
              "      <td>4</td>\n",
              "      <td>4</td>\n",
              "      <td>4</td>\n",
              "      <td>4</td>\n",
              "      <td>4</td>\n",
              "      <td>4</td>\n",
              "      <td>4</td>\n",
              "      <td>4</td>\n",
              "      <td>4</td>\n",
              "      <td>4</td>\n",
              "      <td>4</td>\n",
              "      <td>4</td>\n",
              "      <td>4</td>\n",
              "      <td>4</td>\n",
              "      <td>4</td>\n",
              "      <td>4</td>\n",
              "      <td>4</td>\n",
              "      <td>4</td>\n",
              "      <td>4</td>\n",
              "      <td>4</td>\n",
              "      <td>4</td>\n",
              "    </tr>\n",
              "    <tr>\n",
              "      <th>top</th>\n",
              "      <td>N</td>\n",
              "      <td>G</td>\n",
              "      <td>C</td>\n",
              "      <td>C</td>\n",
              "      <td>C</td>\n",
              "      <td>C</td>\n",
              "      <td>C</td>\n",
              "      <td>C</td>\n",
              "      <td>C</td>\n",
              "      <td>C</td>\n",
              "      <td>T</td>\n",
              "      <td>T</td>\n",
              "      <td>C</td>\n",
              "      <td>C</td>\n",
              "      <td>C</td>\n",
              "      <td>C</td>\n",
              "      <td>C</td>\n",
              "      <td>T</td>\n",
              "      <td>T</td>\n",
              "      <td>C</td>\n",
              "      <td>T</td>\n",
              "      <td>C</td>\n",
              "      <td>C</td>\n",
              "      <td>C</td>\n",
              "      <td>C</td>\n",
              "      <td>C</td>\n",
              "      <td>T</td>\n",
              "      <td>C</td>\n",
              "      <td>C</td>\n",
              "      <td>A</td>\n",
              "      <td>G</td>\n",
              "      <td>G</td>\n",
              "      <td>T</td>\n",
              "      <td>A</td>\n",
              "      <td>A</td>\n",
              "      <td>G</td>\n",
              "      <td>T</td>\n",
              "      <td>G</td>\n",
              "      <td>C</td>\n",
              "      <td>C</td>\n",
              "      <td>G</td>\n",
              "      <td>G</td>\n",
              "      <td>G</td>\n",
              "      <td>G</td>\n",
              "      <td>C</td>\n",
              "      <td>C</td>\n",
              "      <td>G</td>\n",
              "      <td>G</td>\n",
              "      <td>G</td>\n",
              "      <td>G</td>\n",
              "      <td>G</td>\n",
              "      <td>G</td>\n",
              "      <td>G</td>\n",
              "      <td>G</td>\n",
              "      <td>G</td>\n",
              "      <td>G</td>\n",
              "      <td>G</td>\n",
              "      <td>G</td>\n",
              "      <td>C</td>\n",
              "      <td>C</td>\n",
              "      <td>G</td>\n",
              "    </tr>\n",
              "    <tr>\n",
              "      <th>freq</th>\n",
              "      <td>1648</td>\n",
              "      <td>874</td>\n",
              "      <td>854</td>\n",
              "      <td>873</td>\n",
              "      <td>882</td>\n",
              "      <td>857</td>\n",
              "      <td>890</td>\n",
              "      <td>852</td>\n",
              "      <td>876</td>\n",
              "      <td>904</td>\n",
              "      <td>844</td>\n",
              "      <td>867</td>\n",
              "      <td>925</td>\n",
              "      <td>873</td>\n",
              "      <td>893</td>\n",
              "      <td>955</td>\n",
              "      <td>942</td>\n",
              "      <td>907</td>\n",
              "      <td>903</td>\n",
              "      <td>919</td>\n",
              "      <td>933</td>\n",
              "      <td>936</td>\n",
              "      <td>918</td>\n",
              "      <td>962</td>\n",
              "      <td>949</td>\n",
              "      <td>944</td>\n",
              "      <td>968</td>\n",
              "      <td>880</td>\n",
              "      <td>1302</td>\n",
              "      <td>1606</td>\n",
              "      <td>1814</td>\n",
              "      <td>1582</td>\n",
              "      <td>1424</td>\n",
              "      <td>979</td>\n",
              "      <td>1114</td>\n",
              "      <td>1197</td>\n",
              "      <td>927</td>\n",
              "      <td>966</td>\n",
              "      <td>862</td>\n",
              "      <td>875</td>\n",
              "      <td>924</td>\n",
              "      <td>911</td>\n",
              "      <td>915</td>\n",
              "      <td>904</td>\n",
              "      <td>837</td>\n",
              "      <td>882</td>\n",
              "      <td>869</td>\n",
              "      <td>909</td>\n",
              "      <td>909</td>\n",
              "      <td>944</td>\n",
              "      <td>834</td>\n",
              "      <td>899</td>\n",
              "      <td>869</td>\n",
              "      <td>872</td>\n",
              "      <td>931</td>\n",
              "      <td>855</td>\n",
              "      <td>835</td>\n",
              "      <td>904</td>\n",
              "      <td>865</td>\n",
              "      <td>856</td>\n",
              "      <td>949</td>\n",
              "    </tr>\n",
              "  </tbody>\n",
              "</table>\n",
              "</div>"
            ],
            "text/plain": [
              "       class  pos0  pos1  pos2  pos3  pos4  ... pos54 pos55 pos56 pos57 pos58 pos59\n",
              "count   3175  3175  3175  3175  3175  3175  ...  3175  3175  3175  3175  3175  3175\n",
              "unique     3     4     4     4     4     4  ...     4     4     4     4     4     4\n",
              "top        N     G     C     C     C     C  ...     G     G     G     C     C     G\n",
              "freq    1648   874   854   873   882   857  ...   855   835   904   865   856   949\n",
              "\n",
              "[4 rows x 61 columns]"
            ]
          },
          "metadata": {
            "tags": []
          },
          "execution_count": 11
        }
      ]
    },
    {
      "cell_type": "markdown",
      "metadata": {
        "id": "97KJesM60rjz"
      },
      "source": [
        "Se puede observar que ya no existen instancias con los valores mencionados. Se han eliminado un total de **15** intancias."
      ]
    },
    {
      "cell_type": "markdown",
      "metadata": {
        "id": "90jWjjnniyiV"
      },
      "source": [
        "### Selección de variables\n",
        "\n"
      ]
    },
    {
      "cell_type": "markdown",
      "metadata": {
        "id": "AT307bEaD09w"
      },
      "source": [
        "En esta base de datos nos encontramos ante una gran cantidad de variables predictoras; por tanto, es necesario realizar tests estadísticos para estudiar la posibilidad de eliminar variables irrelevantes.\n",
        "\n",
        "Para aplicar los test estadísticos, se necesitan separar las etiquetas de los datos e indicar que los datos son categóricos. "
      ]
    },
    {
      "cell_type": "code",
      "metadata": {
        "id": "IkJmOF03jzPK"
      },
      "source": [
        "\n",
        "y=pd.DataFrame(datos['class'],columns=['class'])\n",
        "X=datos.drop(columns=['class'])\n",
        "\n",
        "for i in X.columns:\n",
        "  X[i].astype('category')\n"
      ],
      "execution_count": null,
      "outputs": []
    },
    {
      "cell_type": "markdown",
      "metadata": {
        "id": "wftx_RNxGDIE"
      },
      "source": [
        "**Codificar valores**"
      ]
    },
    {
      "cell_type": "markdown",
      "metadata": {
        "id": "jBWgCXLtPydZ"
      },
      "source": [
        "Para el test de dependencia Chi2, hay que codificar las variables de caracteres a enteros. La codificación se hará mediante una función de la librería Scikit-Learn llamada [LabelEncoder](https://scikit-learn.org/stable/modules/generated/sklearn.preprocessing.LabelEncoder.html). Además, se debe añadir la información de que las variables siguen siendo categóricas. La codificación es la siguiente: \n",
        "\n",
        "| |Codificacion|\n",
        "|-|------------|\n",
        "|A|      0     |\n",
        "|C|      1     |\n",
        "|G|      2     |\n",
        "|T|      3     |"
      ]
    },
    {
      "cell_type": "code",
      "metadata": {
        "id": "lJWL8SPVFOnJ",
        "colab": {
          "base_uri": "https://localhost:8080/"
        },
        "outputId": "0cd30a62-c683-4edc-adb9-1f68b9967d92"
      },
      "source": [
        "from sklearn.preprocessing import LabelEncoder\n",
        "\n",
        "le = LabelEncoder()\n",
        "X_encoder=X.copy()\n",
        "\n",
        "for i in X_encoder.columns:\n",
        "  X_encoder[i] = le.fit_transform(X_encoder[[i]])\n",
        "  X_encoder[i] = X_encoder[i].astype('category')"
      ],
      "execution_count": null,
      "outputs": [
        {
          "output_type": "stream",
          "text": [
            "/usr/local/lib/python3.7/dist-packages/sklearn/preprocessing/_label.py:251: DataConversionWarning: A column-vector y was passed when a 1d array was expected. Please change the shape of y to (n_samples, ), for example using ravel().\n",
            "  y = column_or_1d(y, warn=True)\n"
          ],
          "name": "stderr"
        }
      ]
    },
    {
      "cell_type": "markdown",
      "metadata": {
        "id": "-Ejq93rq_4Sa"
      },
      "source": [
        "A continuación, se muestra la tabla codificada."
      ]
    },
    {
      "cell_type": "code",
      "metadata": {
        "colab": {
          "base_uri": "https://localhost:8080/",
          "height": 439
        },
        "id": "vKdAZigMF3l0",
        "outputId": "ea7a7a9d-ca01-45ae-f455-5e70a047f3ed"
      },
      "source": [
        "X_encoder"
      ],
      "execution_count": null,
      "outputs": [
        {
          "output_type": "execute_result",
          "data": {
            "text/html": [
              "<div>\n",
              "<style scoped>\n",
              "    .dataframe tbody tr th:only-of-type {\n",
              "        vertical-align: middle;\n",
              "    }\n",
              "\n",
              "    .dataframe tbody tr th {\n",
              "        vertical-align: top;\n",
              "    }\n",
              "\n",
              "    .dataframe thead th {\n",
              "        text-align: right;\n",
              "    }\n",
              "</style>\n",
              "<table border=\"1\" class=\"dataframe\">\n",
              "  <thead>\n",
              "    <tr style=\"text-align: right;\">\n",
              "      <th></th>\n",
              "      <th>pos0</th>\n",
              "      <th>pos1</th>\n",
              "      <th>pos2</th>\n",
              "      <th>pos3</th>\n",
              "      <th>pos4</th>\n",
              "      <th>pos5</th>\n",
              "      <th>pos6</th>\n",
              "      <th>pos7</th>\n",
              "      <th>pos8</th>\n",
              "      <th>pos9</th>\n",
              "      <th>pos10</th>\n",
              "      <th>pos11</th>\n",
              "      <th>pos12</th>\n",
              "      <th>pos13</th>\n",
              "      <th>pos14</th>\n",
              "      <th>pos15</th>\n",
              "      <th>pos16</th>\n",
              "      <th>pos17</th>\n",
              "      <th>pos18</th>\n",
              "      <th>pos19</th>\n",
              "      <th>pos20</th>\n",
              "      <th>pos21</th>\n",
              "      <th>pos22</th>\n",
              "      <th>pos23</th>\n",
              "      <th>pos24</th>\n",
              "      <th>pos25</th>\n",
              "      <th>pos26</th>\n",
              "      <th>pos27</th>\n",
              "      <th>pos28</th>\n",
              "      <th>pos29</th>\n",
              "      <th>pos30</th>\n",
              "      <th>pos31</th>\n",
              "      <th>pos32</th>\n",
              "      <th>pos33</th>\n",
              "      <th>pos34</th>\n",
              "      <th>pos35</th>\n",
              "      <th>pos36</th>\n",
              "      <th>pos37</th>\n",
              "      <th>pos38</th>\n",
              "      <th>pos39</th>\n",
              "      <th>pos40</th>\n",
              "      <th>pos41</th>\n",
              "      <th>pos42</th>\n",
              "      <th>pos43</th>\n",
              "      <th>pos44</th>\n",
              "      <th>pos45</th>\n",
              "      <th>pos46</th>\n",
              "      <th>pos47</th>\n",
              "      <th>pos48</th>\n",
              "      <th>pos49</th>\n",
              "      <th>pos50</th>\n",
              "      <th>pos51</th>\n",
              "      <th>pos52</th>\n",
              "      <th>pos53</th>\n",
              "      <th>pos54</th>\n",
              "      <th>pos55</th>\n",
              "      <th>pos56</th>\n",
              "      <th>pos57</th>\n",
              "      <th>pos58</th>\n",
              "      <th>pos59</th>\n",
              "    </tr>\n",
              "  </thead>\n",
              "  <tbody>\n",
              "    <tr>\n",
              "      <th>0</th>\n",
              "      <td>1</td>\n",
              "      <td>1</td>\n",
              "      <td>0</td>\n",
              "      <td>2</td>\n",
              "      <td>1</td>\n",
              "      <td>3</td>\n",
              "      <td>2</td>\n",
              "      <td>1</td>\n",
              "      <td>0</td>\n",
              "      <td>3</td>\n",
              "      <td>1</td>\n",
              "      <td>0</td>\n",
              "      <td>1</td>\n",
              "      <td>0</td>\n",
              "      <td>2</td>\n",
              "      <td>2</td>\n",
              "      <td>0</td>\n",
              "      <td>2</td>\n",
              "      <td>2</td>\n",
              "      <td>1</td>\n",
              "      <td>1</td>\n",
              "      <td>0</td>\n",
              "      <td>2</td>\n",
              "      <td>1</td>\n",
              "      <td>2</td>\n",
              "      <td>0</td>\n",
              "      <td>2</td>\n",
              "      <td>1</td>\n",
              "      <td>0</td>\n",
              "      <td>2</td>\n",
              "      <td>2</td>\n",
              "      <td>3</td>\n",
              "      <td>1</td>\n",
              "      <td>3</td>\n",
              "      <td>2</td>\n",
              "      <td>3</td>\n",
              "      <td>3</td>\n",
              "      <td>1</td>\n",
              "      <td>1</td>\n",
              "      <td>0</td>\n",
              "      <td>0</td>\n",
              "      <td>2</td>\n",
              "      <td>2</td>\n",
              "      <td>2</td>\n",
              "      <td>1</td>\n",
              "      <td>1</td>\n",
              "      <td>3</td>\n",
              "      <td>3</td>\n",
              "      <td>1</td>\n",
              "      <td>2</td>\n",
              "      <td>0</td>\n",
              "      <td>2</td>\n",
              "      <td>1</td>\n",
              "      <td>1</td>\n",
              "      <td>0</td>\n",
              "      <td>2</td>\n",
              "      <td>3</td>\n",
              "      <td>1</td>\n",
              "      <td>3</td>\n",
              "      <td>2</td>\n",
              "    </tr>\n",
              "    <tr>\n",
              "      <th>1</th>\n",
              "      <td>0</td>\n",
              "      <td>2</td>\n",
              "      <td>0</td>\n",
              "      <td>1</td>\n",
              "      <td>1</td>\n",
              "      <td>1</td>\n",
              "      <td>2</td>\n",
              "      <td>1</td>\n",
              "      <td>1</td>\n",
              "      <td>2</td>\n",
              "      <td>2</td>\n",
              "      <td>2</td>\n",
              "      <td>0</td>\n",
              "      <td>2</td>\n",
              "      <td>2</td>\n",
              "      <td>1</td>\n",
              "      <td>2</td>\n",
              "      <td>2</td>\n",
              "      <td>0</td>\n",
              "      <td>2</td>\n",
              "      <td>2</td>\n",
              "      <td>0</td>\n",
              "      <td>1</td>\n",
              "      <td>1</td>\n",
              "      <td>3</td>\n",
              "      <td>2</td>\n",
              "      <td>1</td>\n",
              "      <td>0</td>\n",
              "      <td>2</td>\n",
              "      <td>2</td>\n",
              "      <td>2</td>\n",
              "      <td>3</td>\n",
              "      <td>2</td>\n",
              "      <td>0</td>\n",
              "      <td>2</td>\n",
              "      <td>1</td>\n",
              "      <td>1</td>\n",
              "      <td>1</td>\n",
              "      <td>1</td>\n",
              "      <td>0</td>\n",
              "      <td>1</td>\n",
              "      <td>1</td>\n",
              "      <td>2</td>\n",
              "      <td>1</td>\n",
              "      <td>1</td>\n",
              "      <td>1</td>\n",
              "      <td>1</td>\n",
              "      <td>3</td>\n",
              "      <td>1</td>\n",
              "      <td>1</td>\n",
              "      <td>2</td>\n",
              "      <td>3</td>\n",
              "      <td>2</td>\n",
              "      <td>1</td>\n",
              "      <td>1</td>\n",
              "      <td>1</td>\n",
              "      <td>1</td>\n",
              "      <td>1</td>\n",
              "      <td>2</td>\n",
              "      <td>1</td>\n",
              "    </tr>\n",
              "    <tr>\n",
              "      <th>2</th>\n",
              "      <td>2</td>\n",
              "      <td>0</td>\n",
              "      <td>2</td>\n",
              "      <td>2</td>\n",
              "      <td>3</td>\n",
              "      <td>2</td>\n",
              "      <td>0</td>\n",
              "      <td>0</td>\n",
              "      <td>2</td>\n",
              "      <td>2</td>\n",
              "      <td>0</td>\n",
              "      <td>1</td>\n",
              "      <td>2</td>\n",
              "      <td>3</td>\n",
              "      <td>1</td>\n",
              "      <td>1</td>\n",
              "      <td>3</td>\n",
              "      <td>3</td>\n",
              "      <td>1</td>\n",
              "      <td>1</td>\n",
              "      <td>1</td>\n",
              "      <td>1</td>\n",
              "      <td>0</td>\n",
              "      <td>2</td>\n",
              "      <td>2</td>\n",
              "      <td>0</td>\n",
              "      <td>2</td>\n",
              "      <td>1</td>\n",
              "      <td>1</td>\n",
              "      <td>2</td>\n",
              "      <td>2</td>\n",
              "      <td>3</td>\n",
              "      <td>2</td>\n",
              "      <td>0</td>\n",
              "      <td>2</td>\n",
              "      <td>0</td>\n",
              "      <td>0</td>\n",
              "      <td>2</td>\n",
              "      <td>1</td>\n",
              "      <td>2</td>\n",
              "      <td>1</td>\n",
              "      <td>0</td>\n",
              "      <td>2</td>\n",
              "      <td>3</td>\n",
              "      <td>1</td>\n",
              "      <td>2</td>\n",
              "      <td>2</td>\n",
              "      <td>2</td>\n",
              "      <td>2</td>\n",
              "      <td>2</td>\n",
              "      <td>1</td>\n",
              "      <td>0</td>\n",
              "      <td>1</td>\n",
              "      <td>2</td>\n",
              "      <td>2</td>\n",
              "      <td>2</td>\n",
              "      <td>2</td>\n",
              "      <td>0</td>\n",
              "      <td>3</td>\n",
              "      <td>2</td>\n",
              "    </tr>\n",
              "    <tr>\n",
              "      <th>3</th>\n",
              "      <td>2</td>\n",
              "      <td>2</td>\n",
              "      <td>2</td>\n",
              "      <td>1</td>\n",
              "      <td>3</td>\n",
              "      <td>2</td>\n",
              "      <td>1</td>\n",
              "      <td>2</td>\n",
              "      <td>3</td>\n",
              "      <td>3</td>\n",
              "      <td>2</td>\n",
              "      <td>1</td>\n",
              "      <td>3</td>\n",
              "      <td>2</td>\n",
              "      <td>2</td>\n",
              "      <td>3</td>\n",
              "      <td>1</td>\n",
              "      <td>0</td>\n",
              "      <td>1</td>\n",
              "      <td>0</td>\n",
              "      <td>3</td>\n",
              "      <td>3</td>\n",
              "      <td>1</td>\n",
              "      <td>1</td>\n",
              "      <td>3</td>\n",
              "      <td>2</td>\n",
              "      <td>2</td>\n",
              "      <td>1</td>\n",
              "      <td>0</td>\n",
              "      <td>2</td>\n",
              "      <td>2</td>\n",
              "      <td>3</td>\n",
              "      <td>0</td>\n",
              "      <td>3</td>\n",
              "      <td>2</td>\n",
              "      <td>2</td>\n",
              "      <td>2</td>\n",
              "      <td>2</td>\n",
              "      <td>1</td>\n",
              "      <td>2</td>\n",
              "      <td>2</td>\n",
              "      <td>2</td>\n",
              "      <td>2</td>\n",
              "      <td>1</td>\n",
              "      <td>3</td>\n",
              "      <td>3</td>\n",
              "      <td>2</td>\n",
              "      <td>1</td>\n",
              "      <td>3</td>\n",
              "      <td>1</td>\n",
              "      <td>2</td>\n",
              "      <td>2</td>\n",
              "      <td>3</td>\n",
              "      <td>3</td>\n",
              "      <td>3</td>\n",
              "      <td>3</td>\n",
              "      <td>1</td>\n",
              "      <td>1</td>\n",
              "      <td>1</td>\n",
              "      <td>1</td>\n",
              "    </tr>\n",
              "    <tr>\n",
              "      <th>4</th>\n",
              "      <td>2</td>\n",
              "      <td>1</td>\n",
              "      <td>3</td>\n",
              "      <td>1</td>\n",
              "      <td>0</td>\n",
              "      <td>2</td>\n",
              "      <td>1</td>\n",
              "      <td>1</td>\n",
              "      <td>1</td>\n",
              "      <td>1</td>\n",
              "      <td>1</td>\n",
              "      <td>0</td>\n",
              "      <td>2</td>\n",
              "      <td>2</td>\n",
              "      <td>3</td>\n",
              "      <td>1</td>\n",
              "      <td>0</td>\n",
              "      <td>1</td>\n",
              "      <td>1</td>\n",
              "      <td>1</td>\n",
              "      <td>0</td>\n",
              "      <td>2</td>\n",
              "      <td>2</td>\n",
              "      <td>0</td>\n",
              "      <td>0</td>\n",
              "      <td>1</td>\n",
              "      <td>3</td>\n",
              "      <td>2</td>\n",
              "      <td>0</td>\n",
              "      <td>1</td>\n",
              "      <td>2</td>\n",
              "      <td>3</td>\n",
              "      <td>2</td>\n",
              "      <td>0</td>\n",
              "      <td>2</td>\n",
              "      <td>3</td>\n",
              "      <td>2</td>\n",
              "      <td>3</td>\n",
              "      <td>1</td>\n",
              "      <td>1</td>\n",
              "      <td>1</td>\n",
              "      <td>1</td>\n",
              "      <td>0</td>\n",
              "      <td>3</td>\n",
              "      <td>1</td>\n",
              "      <td>1</td>\n",
              "      <td>1</td>\n",
              "      <td>2</td>\n",
              "      <td>2</td>\n",
              "      <td>1</td>\n",
              "      <td>1</td>\n",
              "      <td>1</td>\n",
              "      <td>3</td>\n",
              "      <td>3</td>\n",
              "      <td>2</td>\n",
              "      <td>0</td>\n",
              "      <td>1</td>\n",
              "      <td>1</td>\n",
              "      <td>1</td>\n",
              "      <td>3</td>\n",
              "    </tr>\n",
              "    <tr>\n",
              "      <th>...</th>\n",
              "      <td>...</td>\n",
              "      <td>...</td>\n",
              "      <td>...</td>\n",
              "      <td>...</td>\n",
              "      <td>...</td>\n",
              "      <td>...</td>\n",
              "      <td>...</td>\n",
              "      <td>...</td>\n",
              "      <td>...</td>\n",
              "      <td>...</td>\n",
              "      <td>...</td>\n",
              "      <td>...</td>\n",
              "      <td>...</td>\n",
              "      <td>...</td>\n",
              "      <td>...</td>\n",
              "      <td>...</td>\n",
              "      <td>...</td>\n",
              "      <td>...</td>\n",
              "      <td>...</td>\n",
              "      <td>...</td>\n",
              "      <td>...</td>\n",
              "      <td>...</td>\n",
              "      <td>...</td>\n",
              "      <td>...</td>\n",
              "      <td>...</td>\n",
              "      <td>...</td>\n",
              "      <td>...</td>\n",
              "      <td>...</td>\n",
              "      <td>...</td>\n",
              "      <td>...</td>\n",
              "      <td>...</td>\n",
              "      <td>...</td>\n",
              "      <td>...</td>\n",
              "      <td>...</td>\n",
              "      <td>...</td>\n",
              "      <td>...</td>\n",
              "      <td>...</td>\n",
              "      <td>...</td>\n",
              "      <td>...</td>\n",
              "      <td>...</td>\n",
              "      <td>...</td>\n",
              "      <td>...</td>\n",
              "      <td>...</td>\n",
              "      <td>...</td>\n",
              "      <td>...</td>\n",
              "      <td>...</td>\n",
              "      <td>...</td>\n",
              "      <td>...</td>\n",
              "      <td>...</td>\n",
              "      <td>...</td>\n",
              "      <td>...</td>\n",
              "      <td>...</td>\n",
              "      <td>...</td>\n",
              "      <td>...</td>\n",
              "      <td>...</td>\n",
              "      <td>...</td>\n",
              "      <td>...</td>\n",
              "      <td>...</td>\n",
              "      <td>...</td>\n",
              "      <td>...</td>\n",
              "    </tr>\n",
              "    <tr>\n",
              "      <th>3185</th>\n",
              "      <td>3</td>\n",
              "      <td>1</td>\n",
              "      <td>3</td>\n",
              "      <td>1</td>\n",
              "      <td>3</td>\n",
              "      <td>3</td>\n",
              "      <td>1</td>\n",
              "      <td>1</td>\n",
              "      <td>1</td>\n",
              "      <td>3</td>\n",
              "      <td>3</td>\n",
              "      <td>1</td>\n",
              "      <td>1</td>\n",
              "      <td>1</td>\n",
              "      <td>1</td>\n",
              "      <td>3</td>\n",
              "      <td>1</td>\n",
              "      <td>3</td>\n",
              "      <td>1</td>\n",
              "      <td>3</td>\n",
              "      <td>1</td>\n",
              "      <td>3</td>\n",
              "      <td>3</td>\n",
              "      <td>3</td>\n",
              "      <td>1</td>\n",
              "      <td>3</td>\n",
              "      <td>3</td>\n",
              "      <td>3</td>\n",
              "      <td>1</td>\n",
              "      <td>3</td>\n",
              "      <td>3</td>\n",
              "      <td>3</td>\n",
              "      <td>3</td>\n",
              "      <td>1</td>\n",
              "      <td>3</td>\n",
              "      <td>1</td>\n",
              "      <td>3</td>\n",
              "      <td>1</td>\n",
              "      <td>1</td>\n",
              "      <td>3</td>\n",
              "      <td>1</td>\n",
              "      <td>3</td>\n",
              "      <td>3</td>\n",
              "      <td>1</td>\n",
              "      <td>3</td>\n",
              "      <td>1</td>\n",
              "      <td>3</td>\n",
              "      <td>3</td>\n",
              "      <td>1</td>\n",
              "      <td>3</td>\n",
              "      <td>3</td>\n",
              "      <td>3</td>\n",
              "      <td>1</td>\n",
              "      <td>1</td>\n",
              "      <td>3</td>\n",
              "      <td>1</td>\n",
              "      <td>3</td>\n",
              "      <td>1</td>\n",
              "      <td>3</td>\n",
              "      <td>3</td>\n",
              "    </tr>\n",
              "    <tr>\n",
              "      <th>3186</th>\n",
              "      <td>2</td>\n",
              "      <td>0</td>\n",
              "      <td>2</td>\n",
              "      <td>1</td>\n",
              "      <td>3</td>\n",
              "      <td>1</td>\n",
              "      <td>1</td>\n",
              "      <td>1</td>\n",
              "      <td>0</td>\n",
              "      <td>2</td>\n",
              "      <td>0</td>\n",
              "      <td>2</td>\n",
              "      <td>1</td>\n",
              "      <td>0</td>\n",
              "      <td>2</td>\n",
              "      <td>1</td>\n",
              "      <td>0</td>\n",
              "      <td>0</td>\n",
              "      <td>2</td>\n",
              "      <td>0</td>\n",
              "      <td>2</td>\n",
              "      <td>2</td>\n",
              "      <td>2</td>\n",
              "      <td>1</td>\n",
              "      <td>1</td>\n",
              "      <td>0</td>\n",
              "      <td>2</td>\n",
              "      <td>1</td>\n",
              "      <td>3</td>\n",
              "      <td>2</td>\n",
              "      <td>0</td>\n",
              "      <td>0</td>\n",
              "      <td>2</td>\n",
              "      <td>1</td>\n",
              "      <td>0</td>\n",
              "      <td>1</td>\n",
              "      <td>1</td>\n",
              "      <td>3</td>\n",
              "      <td>2</td>\n",
              "      <td>2</td>\n",
              "      <td>0</td>\n",
              "      <td>2</td>\n",
              "      <td>0</td>\n",
              "      <td>0</td>\n",
              "      <td>2</td>\n",
              "      <td>1</td>\n",
              "      <td>0</td>\n",
              "      <td>2</td>\n",
              "      <td>2</td>\n",
              "      <td>0</td>\n",
              "      <td>2</td>\n",
              "      <td>2</td>\n",
              "      <td>1</td>\n",
              "      <td>0</td>\n",
              "      <td>1</td>\n",
              "      <td>0</td>\n",
              "      <td>2</td>\n",
              "      <td>1</td>\n",
              "      <td>3</td>\n",
              "      <td>2</td>\n",
              "    </tr>\n",
              "    <tr>\n",
              "      <th>3187</th>\n",
              "      <td>3</td>\n",
              "      <td>1</td>\n",
              "      <td>3</td>\n",
              "      <td>1</td>\n",
              "      <td>2</td>\n",
              "      <td>2</td>\n",
              "      <td>2</td>\n",
              "      <td>2</td>\n",
              "      <td>2</td>\n",
              "      <td>1</td>\n",
              "      <td>2</td>\n",
              "      <td>2</td>\n",
              "      <td>1</td>\n",
              "      <td>1</td>\n",
              "      <td>2</td>\n",
              "      <td>2</td>\n",
              "      <td>1</td>\n",
              "      <td>2</td>\n",
              "      <td>1</td>\n",
              "      <td>2</td>\n",
              "      <td>2</td>\n",
              "      <td>1</td>\n",
              "      <td>2</td>\n",
              "      <td>2</td>\n",
              "      <td>2</td>\n",
              "      <td>2</td>\n",
              "      <td>0</td>\n",
              "      <td>2</td>\n",
              "      <td>1</td>\n",
              "      <td>2</td>\n",
              "      <td>2</td>\n",
              "      <td>3</td>\n",
              "      <td>1</td>\n",
              "      <td>1</td>\n",
              "      <td>1</td>\n",
              "      <td>1</td>\n",
              "      <td>2</td>\n",
              "      <td>2</td>\n",
              "      <td>1</td>\n",
              "      <td>1</td>\n",
              "      <td>2</td>\n",
              "      <td>1</td>\n",
              "      <td>2</td>\n",
              "      <td>2</td>\n",
              "      <td>1</td>\n",
              "      <td>1</td>\n",
              "      <td>1</td>\n",
              "      <td>1</td>\n",
              "      <td>2</td>\n",
              "      <td>0</td>\n",
              "      <td>1</td>\n",
              "      <td>2</td>\n",
              "      <td>3</td>\n",
              "      <td>2</td>\n",
              "      <td>3</td>\n",
              "      <td>2</td>\n",
              "      <td>3</td>\n",
              "      <td>2</td>\n",
              "      <td>3</td>\n",
              "      <td>1</td>\n",
              "    </tr>\n",
              "    <tr>\n",
              "      <th>3188</th>\n",
              "      <td>0</td>\n",
              "      <td>3</td>\n",
              "      <td>3</td>\n",
              "      <td>1</td>\n",
              "      <td>3</td>\n",
              "      <td>0</td>\n",
              "      <td>1</td>\n",
              "      <td>3</td>\n",
              "      <td>3</td>\n",
              "      <td>0</td>\n",
              "      <td>2</td>\n",
              "      <td>3</td>\n",
              "      <td>0</td>\n",
              "      <td>0</td>\n",
              "      <td>0</td>\n",
              "      <td>1</td>\n",
              "      <td>0</td>\n",
              "      <td>3</td>\n",
              "      <td>0</td>\n",
              "      <td>0</td>\n",
              "      <td>3</td>\n",
              "      <td>3</td>\n",
              "      <td>3</td>\n",
              "      <td>1</td>\n",
              "      <td>3</td>\n",
              "      <td>3</td>\n",
              "      <td>2</td>\n",
              "      <td>3</td>\n",
              "      <td>2</td>\n",
              "      <td>1</td>\n",
              "      <td>3</td>\n",
              "      <td>0</td>\n",
              "      <td>2</td>\n",
              "      <td>0</td>\n",
              "      <td>3</td>\n",
              "      <td>0</td>\n",
              "      <td>0</td>\n",
              "      <td>1</td>\n",
              "      <td>1</td>\n",
              "      <td>0</td>\n",
              "      <td>0</td>\n",
              "      <td>0</td>\n",
              "      <td>3</td>\n",
              "      <td>3</td>\n",
              "      <td>0</td>\n",
              "      <td>0</td>\n",
              "      <td>2</td>\n",
              "      <td>0</td>\n",
              "      <td>0</td>\n",
              "      <td>0</td>\n",
              "      <td>0</td>\n",
              "      <td>1</td>\n",
              "      <td>1</td>\n",
              "      <td>0</td>\n",
              "      <td>0</td>\n",
              "      <td>0</td>\n",
              "      <td>0</td>\n",
              "      <td>1</td>\n",
              "      <td>0</td>\n",
              "      <td>0</td>\n",
              "    </tr>\n",
              "    <tr>\n",
              "      <th>3189</th>\n",
              "      <td>0</td>\n",
              "      <td>2</td>\n",
              "      <td>2</td>\n",
              "      <td>1</td>\n",
              "      <td>3</td>\n",
              "      <td>2</td>\n",
              "      <td>1</td>\n",
              "      <td>1</td>\n",
              "      <td>3</td>\n",
              "      <td>0</td>\n",
              "      <td>3</td>\n",
              "      <td>1</td>\n",
              "      <td>0</td>\n",
              "      <td>2</td>\n",
              "      <td>0</td>\n",
              "      <td>0</td>\n",
              "      <td>2</td>\n",
              "      <td>2</td>\n",
              "      <td>3</td>\n",
              "      <td>2</td>\n",
              "      <td>2</td>\n",
              "      <td>3</td>\n",
              "      <td>2</td>\n",
              "      <td>2</td>\n",
              "      <td>1</td>\n",
              "      <td>3</td>\n",
              "      <td>2</td>\n",
              "      <td>2</td>\n",
              "      <td>3</td>\n",
              "      <td>2</td>\n",
              "      <td>3</td>\n",
              "      <td>2</td>\n",
              "      <td>2</td>\n",
              "      <td>1</td>\n",
              "      <td>3</td>\n",
              "      <td>2</td>\n",
              "      <td>1</td>\n",
              "      <td>3</td>\n",
              "      <td>2</td>\n",
              "      <td>1</td>\n",
              "      <td>3</td>\n",
              "      <td>1</td>\n",
              "      <td>3</td>\n",
              "      <td>2</td>\n",
              "      <td>2</td>\n",
              "      <td>1</td>\n",
              "      <td>3</td>\n",
              "      <td>1</td>\n",
              "      <td>0</td>\n",
              "      <td>1</td>\n",
              "      <td>0</td>\n",
              "      <td>0</td>\n",
              "      <td>2</td>\n",
              "      <td>3</td>\n",
              "      <td>0</td>\n",
              "      <td>1</td>\n",
              "      <td>1</td>\n",
              "      <td>0</td>\n",
              "      <td>3</td>\n",
              "      <td>3</td>\n",
              "    </tr>\n",
              "  </tbody>\n",
              "</table>\n",
              "<p>3175 rows × 60 columns</p>\n",
              "</div>"
            ],
            "text/plain": [
              "     pos0 pos1 pos2 pos3 pos4 pos5  ... pos54 pos55 pos56 pos57 pos58 pos59\n",
              "0       1    1    0    2    1    3  ...     0     2     3     1     3     2\n",
              "1       0    2    0    1    1    1  ...     1     1     1     1     2     1\n",
              "2       2    0    2    2    3    2  ...     2     2     2     0     3     2\n",
              "3       2    2    2    1    3    2  ...     3     3     1     1     1     1\n",
              "4       2    1    3    1    0    2  ...     2     0     1     1     1     3\n",
              "...   ...  ...  ...  ...  ...  ...  ...   ...   ...   ...   ...   ...   ...\n",
              "3185    3    1    3    1    3    3  ...     3     1     3     1     3     3\n",
              "3186    2    0    2    1    3    1  ...     1     0     2     1     3     2\n",
              "3187    3    1    3    1    2    2  ...     3     2     3     2     3     1\n",
              "3188    0    3    3    1    3    0  ...     0     0     0     1     0     0\n",
              "3189    0    2    2    1    3    2  ...     0     1     1     0     3     3\n",
              "\n",
              "[3175 rows x 60 columns]"
            ]
          },
          "metadata": {
            "tags": []
          },
          "execution_count": 14
        }
      ]
    },
    {
      "cell_type": "markdown",
      "metadata": {
        "id": "SRxvzc1NAJZl"
      },
      "source": [
        "**Test $\\chi^2$ de independencia**\n",
        "\n",
        "El test $\\chi^2$ de independencia es una técnica estadística para estudiar la dependencia entre variables. Las hipótesis son:\n",
        "\n",
        "* $H_0$ : Las dos variables estudiadas por el test son independientes.\n",
        "\n",
        "* $H_1$ : Las variables son dependientes.\n",
        "\n",
        "El valor que se va a tomar para rechazar la hipótesis nula será $0.05$ .\n",
        "\n",
        "El test $\\chi^2$ de independencia se va a estudiar entre cada una de las variables posiciones y la etiqueta. Ya que, si una variable es independiente de la etiqueta; para el problema de clasificación sobre la etiqueta no es necesaria esa variable.\n",
        "\n",
        "\n",
        "Para el cálculo del test, se va a usar la implementación propuesta por la librería Scikit-Learn, [sklearn.feature-selection.chi2](https://scikit-learn.org/stable/modules/generated/sklearn.feature_selection.chi2.html)."
      ]
    },
    {
      "cell_type": "code",
      "metadata": {
        "id": "hDTHiQoMmETr"
      },
      "source": [
        "from sklearn.feature_selection import chi2\n",
        "\n",
        "chi_scores =chi2(X_encoder, y)"
      ],
      "execution_count": null,
      "outputs": []
    },
    {
      "cell_type": "code",
      "metadata": {
        "id": "g2jbVeiltLI6"
      },
      "source": [
        "p_values = pd.Series(chi_scores[1],index = X_encoder.columns)\n",
        "p_values.sort_values(ascending = False , inplace = True)"
      ],
      "execution_count": null,
      "outputs": []
    },
    {
      "cell_type": "markdown",
      "metadata": {
        "id": "ex9_whbrIp2r"
      },
      "source": [
        "A continuación, se presenta la gráfica de los p-valores."
      ]
    },
    {
      "cell_type": "code",
      "metadata": {
        "colab": {
          "base_uri": "https://localhost:8080/",
          "height": 587
        },
        "id": "nfdI7Hc3tPhP",
        "outputId": "bb325e23-25cc-4709-b583-24059d07bc94"
      },
      "source": [
        "import matplotlib.pyplot as plt\n",
        "fig = plt.figure(figsize=(12, 9))\n",
        "langs = X.columns\n",
        "plt.bar(langs,p_values)\n",
        "plt.title(\"P-valores\")\n",
        "plt.xlabel(\"Posiciones\")\n",
        "plt.ylabel(\"P-valor\")\n",
        "plt.xticks(rotation=90)\n",
        "plt.show()"
      ],
      "execution_count": null,
      "outputs": [
        {
          "output_type": "display_data",
          "data": {
            "image/png": "[encoded data removed]",
            "text/plain": [
              "<Figure size 864x648 with 1 Axes>"
            ]
          },
          "metadata": {
            "tags": [],
            "needs_background": "light"
          }
        }
      ]
    },
    {
      "cell_type": "markdown",
      "metadata": {
        "id": "JNi4LECKIie5"
      },
      "source": [
        "Por tanto, aquellas que tienen un p-valor mayor que $0.05$ se eliminan; ya que son independientes de la etiqueta.\n",
        "\n",
        "Para ello, se realiza un conteo de las variables que cumplen esta condición y mediante la función de Scikit-Learn [SelectKBest](https://scikit-learn.org/stable/modules/generated/sklearn.feature_selection.SelectKBest.html) se eliminan esas variables.\n",
        "\n"
      ]
    },
    {
      "cell_type": "code",
      "metadata": {
        "id": "Kyb2OrCqSAQ4"
      },
      "source": [
        "THRESHOLD_P_VALUE = 0.05"
      ],
      "execution_count": null,
      "outputs": []
    },
    {
      "cell_type": "code",
      "metadata": {
        "id": "UuBTsRgbR1Qr"
      },
      "source": [
        "num=0\n",
        "for i in p_values:\n",
        "  if i > THRESHOLD_P_VALUE:\n",
        "    num+=1"
      ],
      "execution_count": null,
      "outputs": []
    },
    {
      "cell_type": "code",
      "metadata": {
        "colab": {
          "base_uri": "https://localhost:8080/"
        },
        "id": "jIHEalrFSILf",
        "outputId": "320431ca-e145-49be-8cf8-5242ed10ed7b"
      },
      "source": [
        "num"
      ],
      "execution_count": null,
      "outputs": [
        {
          "output_type": "execute_result",
          "data": {
            "text/plain": [
              "21"
            ]
          },
          "metadata": {
            "tags": []
          },
          "execution_count": 20
        }
      ]
    },
    {
      "cell_type": "markdown",
      "metadata": {
        "id": "w15BryttSPyO"
      },
      "source": [
        "Se quieren eliminar 21 variables; por tanto, se quieren escoger k=39 en el selectKBest."
      ]
    },
    {
      "cell_type": "code",
      "metadata": {
        "id": "9tmZrqqqw4a6"
      },
      "source": [
        "from sklearn.feature_selection import SelectKBest, chi2\n",
        "\n",
        "select_k_best_classifier = SelectKBest(chi2, k=39)\n",
        "X_values=select_k_best_classifier.fit_transform(X_encoder,y)\n",
        "\n",
        "mask = select_k_best_classifier.get_support() #list of booleans\n",
        "new_features = [] # The list of your K best features\n",
        "\n",
        "for bool, feature in zip(mask, X_encoder.columns):\n",
        "    if bool:\n",
        "        new_features.append(feature)\n",
        "\n",
        "X_chi = pd.DataFrame(X_values, columns=new_features)"
      ],
      "execution_count": null,
      "outputs": []
    },
    {
      "cell_type": "code",
      "metadata": {
        "colab": {
          "base_uri": "https://localhost:8080/",
          "height": 439
        },
        "id": "ZXqW3SPNMJiO",
        "outputId": "d3fd7844-a7e0-4f55-e1bb-6fe976965286"
      },
      "source": [
        "X_chi"
      ],
      "execution_count": null,
      "outputs": [
        {
          "output_type": "execute_result",
          "data": {
            "text/html": [
              "<div>\n",
              "<style scoped>\n",
              "    .dataframe tbody tr th:only-of-type {\n",
              "        vertical-align: middle;\n",
              "    }\n",
              "\n",
              "    .dataframe tbody tr th {\n",
              "        vertical-align: top;\n",
              "    }\n",
              "\n",
              "    .dataframe thead th {\n",
              "        text-align: right;\n",
              "    }\n",
              "</style>\n",
              "<table border=\"1\" class=\"dataframe\">\n",
              "  <thead>\n",
              "    <tr style=\"text-align: right;\">\n",
              "      <th></th>\n",
              "      <th>pos9</th>\n",
              "      <th>pos10</th>\n",
              "      <th>pos11</th>\n",
              "      <th>pos12</th>\n",
              "      <th>pos13</th>\n",
              "      <th>pos14</th>\n",
              "      <th>pos15</th>\n",
              "      <th>pos16</th>\n",
              "      <th>pos17</th>\n",
              "      <th>pos18</th>\n",
              "      <th>pos19</th>\n",
              "      <th>pos20</th>\n",
              "      <th>pos21</th>\n",
              "      <th>pos22</th>\n",
              "      <th>pos23</th>\n",
              "      <th>pos24</th>\n",
              "      <th>pos25</th>\n",
              "      <th>pos27</th>\n",
              "      <th>pos28</th>\n",
              "      <th>pos29</th>\n",
              "      <th>pos30</th>\n",
              "      <th>pos31</th>\n",
              "      <th>pos32</th>\n",
              "      <th>pos33</th>\n",
              "      <th>pos34</th>\n",
              "      <th>pos35</th>\n",
              "      <th>pos39</th>\n",
              "      <th>pos40</th>\n",
              "      <th>pos42</th>\n",
              "      <th>pos44</th>\n",
              "      <th>pos45</th>\n",
              "      <th>pos46</th>\n",
              "      <th>pos48</th>\n",
              "      <th>pos49</th>\n",
              "      <th>pos50</th>\n",
              "      <th>pos53</th>\n",
              "      <th>pos54</th>\n",
              "      <th>pos57</th>\n",
              "      <th>pos59</th>\n",
              "    </tr>\n",
              "  </thead>\n",
              "  <tbody>\n",
              "    <tr>\n",
              "      <th>0</th>\n",
              "      <td>3</td>\n",
              "      <td>1</td>\n",
              "      <td>0</td>\n",
              "      <td>1</td>\n",
              "      <td>0</td>\n",
              "      <td>2</td>\n",
              "      <td>2</td>\n",
              "      <td>0</td>\n",
              "      <td>2</td>\n",
              "      <td>2</td>\n",
              "      <td>1</td>\n",
              "      <td>1</td>\n",
              "      <td>0</td>\n",
              "      <td>2</td>\n",
              "      <td>1</td>\n",
              "      <td>2</td>\n",
              "      <td>0</td>\n",
              "      <td>1</td>\n",
              "      <td>0</td>\n",
              "      <td>2</td>\n",
              "      <td>2</td>\n",
              "      <td>3</td>\n",
              "      <td>1</td>\n",
              "      <td>3</td>\n",
              "      <td>2</td>\n",
              "      <td>3</td>\n",
              "      <td>0</td>\n",
              "      <td>0</td>\n",
              "      <td>2</td>\n",
              "      <td>1</td>\n",
              "      <td>1</td>\n",
              "      <td>3</td>\n",
              "      <td>1</td>\n",
              "      <td>2</td>\n",
              "      <td>0</td>\n",
              "      <td>1</td>\n",
              "      <td>0</td>\n",
              "      <td>1</td>\n",
              "      <td>2</td>\n",
              "    </tr>\n",
              "    <tr>\n",
              "      <th>1</th>\n",
              "      <td>2</td>\n",
              "      <td>2</td>\n",
              "      <td>2</td>\n",
              "      <td>0</td>\n",
              "      <td>2</td>\n",
              "      <td>2</td>\n",
              "      <td>1</td>\n",
              "      <td>2</td>\n",
              "      <td>2</td>\n",
              "      <td>0</td>\n",
              "      <td>2</td>\n",
              "      <td>2</td>\n",
              "      <td>0</td>\n",
              "      <td>1</td>\n",
              "      <td>1</td>\n",
              "      <td>3</td>\n",
              "      <td>2</td>\n",
              "      <td>0</td>\n",
              "      <td>2</td>\n",
              "      <td>2</td>\n",
              "      <td>2</td>\n",
              "      <td>3</td>\n",
              "      <td>2</td>\n",
              "      <td>0</td>\n",
              "      <td>2</td>\n",
              "      <td>1</td>\n",
              "      <td>0</td>\n",
              "      <td>1</td>\n",
              "      <td>2</td>\n",
              "      <td>1</td>\n",
              "      <td>1</td>\n",
              "      <td>1</td>\n",
              "      <td>1</td>\n",
              "      <td>1</td>\n",
              "      <td>2</td>\n",
              "      <td>1</td>\n",
              "      <td>1</td>\n",
              "      <td>1</td>\n",
              "      <td>1</td>\n",
              "    </tr>\n",
              "    <tr>\n",
              "      <th>2</th>\n",
              "      <td>2</td>\n",
              "      <td>0</td>\n",
              "      <td>1</td>\n",
              "      <td>2</td>\n",
              "      <td>3</td>\n",
              "      <td>1</td>\n",
              "      <td>1</td>\n",
              "      <td>3</td>\n",
              "      <td>3</td>\n",
              "      <td>1</td>\n",
              "      <td>1</td>\n",
              "      <td>1</td>\n",
              "      <td>1</td>\n",
              "      <td>0</td>\n",
              "      <td>2</td>\n",
              "      <td>2</td>\n",
              "      <td>0</td>\n",
              "      <td>1</td>\n",
              "      <td>1</td>\n",
              "      <td>2</td>\n",
              "      <td>2</td>\n",
              "      <td>3</td>\n",
              "      <td>2</td>\n",
              "      <td>0</td>\n",
              "      <td>2</td>\n",
              "      <td>0</td>\n",
              "      <td>2</td>\n",
              "      <td>1</td>\n",
              "      <td>2</td>\n",
              "      <td>1</td>\n",
              "      <td>2</td>\n",
              "      <td>2</td>\n",
              "      <td>2</td>\n",
              "      <td>2</td>\n",
              "      <td>1</td>\n",
              "      <td>2</td>\n",
              "      <td>2</td>\n",
              "      <td>0</td>\n",
              "      <td>2</td>\n",
              "    </tr>\n",
              "    <tr>\n",
              "      <th>3</th>\n",
              "      <td>3</td>\n",
              "      <td>2</td>\n",
              "      <td>1</td>\n",
              "      <td>3</td>\n",
              "      <td>2</td>\n",
              "      <td>2</td>\n",
              "      <td>3</td>\n",
              "      <td>1</td>\n",
              "      <td>0</td>\n",
              "      <td>1</td>\n",
              "      <td>0</td>\n",
              "      <td>3</td>\n",
              "      <td>3</td>\n",
              "      <td>1</td>\n",
              "      <td>1</td>\n",
              "      <td>3</td>\n",
              "      <td>2</td>\n",
              "      <td>1</td>\n",
              "      <td>0</td>\n",
              "      <td>2</td>\n",
              "      <td>2</td>\n",
              "      <td>3</td>\n",
              "      <td>0</td>\n",
              "      <td>3</td>\n",
              "      <td>2</td>\n",
              "      <td>2</td>\n",
              "      <td>2</td>\n",
              "      <td>2</td>\n",
              "      <td>2</td>\n",
              "      <td>3</td>\n",
              "      <td>3</td>\n",
              "      <td>2</td>\n",
              "      <td>3</td>\n",
              "      <td>1</td>\n",
              "      <td>2</td>\n",
              "      <td>3</td>\n",
              "      <td>3</td>\n",
              "      <td>1</td>\n",
              "      <td>1</td>\n",
              "    </tr>\n",
              "    <tr>\n",
              "      <th>4</th>\n",
              "      <td>1</td>\n",
              "      <td>1</td>\n",
              "      <td>0</td>\n",
              "      <td>2</td>\n",
              "      <td>2</td>\n",
              "      <td>3</td>\n",
              "      <td>1</td>\n",
              "      <td>0</td>\n",
              "      <td>1</td>\n",
              "      <td>1</td>\n",
              "      <td>1</td>\n",
              "      <td>0</td>\n",
              "      <td>2</td>\n",
              "      <td>2</td>\n",
              "      <td>0</td>\n",
              "      <td>0</td>\n",
              "      <td>1</td>\n",
              "      <td>2</td>\n",
              "      <td>0</td>\n",
              "      <td>1</td>\n",
              "      <td>2</td>\n",
              "      <td>3</td>\n",
              "      <td>2</td>\n",
              "      <td>0</td>\n",
              "      <td>2</td>\n",
              "      <td>3</td>\n",
              "      <td>1</td>\n",
              "      <td>1</td>\n",
              "      <td>0</td>\n",
              "      <td>1</td>\n",
              "      <td>1</td>\n",
              "      <td>1</td>\n",
              "      <td>2</td>\n",
              "      <td>1</td>\n",
              "      <td>1</td>\n",
              "      <td>3</td>\n",
              "      <td>2</td>\n",
              "      <td>1</td>\n",
              "      <td>3</td>\n",
              "    </tr>\n",
              "    <tr>\n",
              "      <th>...</th>\n",
              "      <td>...</td>\n",
              "      <td>...</td>\n",
              "      <td>...</td>\n",
              "      <td>...</td>\n",
              "      <td>...</td>\n",
              "      <td>...</td>\n",
              "      <td>...</td>\n",
              "      <td>...</td>\n",
              "      <td>...</td>\n",
              "      <td>...</td>\n",
              "      <td>...</td>\n",
              "      <td>...</td>\n",
              "      <td>...</td>\n",
              "      <td>...</td>\n",
              "      <td>...</td>\n",
              "      <td>...</td>\n",
              "      <td>...</td>\n",
              "      <td>...</td>\n",
              "      <td>...</td>\n",
              "      <td>...</td>\n",
              "      <td>...</td>\n",
              "      <td>...</td>\n",
              "      <td>...</td>\n",
              "      <td>...</td>\n",
              "      <td>...</td>\n",
              "      <td>...</td>\n",
              "      <td>...</td>\n",
              "      <td>...</td>\n",
              "      <td>...</td>\n",
              "      <td>...</td>\n",
              "      <td>...</td>\n",
              "      <td>...</td>\n",
              "      <td>...</td>\n",
              "      <td>...</td>\n",
              "      <td>...</td>\n",
              "      <td>...</td>\n",
              "      <td>...</td>\n",
              "      <td>...</td>\n",
              "      <td>...</td>\n",
              "    </tr>\n",
              "    <tr>\n",
              "      <th>3170</th>\n",
              "      <td>3</td>\n",
              "      <td>3</td>\n",
              "      <td>1</td>\n",
              "      <td>1</td>\n",
              "      <td>1</td>\n",
              "      <td>1</td>\n",
              "      <td>3</td>\n",
              "      <td>1</td>\n",
              "      <td>3</td>\n",
              "      <td>1</td>\n",
              "      <td>3</td>\n",
              "      <td>1</td>\n",
              "      <td>3</td>\n",
              "      <td>3</td>\n",
              "      <td>3</td>\n",
              "      <td>1</td>\n",
              "      <td>3</td>\n",
              "      <td>3</td>\n",
              "      <td>1</td>\n",
              "      <td>3</td>\n",
              "      <td>3</td>\n",
              "      <td>3</td>\n",
              "      <td>3</td>\n",
              "      <td>1</td>\n",
              "      <td>3</td>\n",
              "      <td>1</td>\n",
              "      <td>3</td>\n",
              "      <td>1</td>\n",
              "      <td>3</td>\n",
              "      <td>3</td>\n",
              "      <td>1</td>\n",
              "      <td>3</td>\n",
              "      <td>1</td>\n",
              "      <td>3</td>\n",
              "      <td>3</td>\n",
              "      <td>1</td>\n",
              "      <td>3</td>\n",
              "      <td>1</td>\n",
              "      <td>3</td>\n",
              "    </tr>\n",
              "    <tr>\n",
              "      <th>3171</th>\n",
              "      <td>2</td>\n",
              "      <td>0</td>\n",
              "      <td>2</td>\n",
              "      <td>1</td>\n",
              "      <td>0</td>\n",
              "      <td>2</td>\n",
              "      <td>1</td>\n",
              "      <td>0</td>\n",
              "      <td>0</td>\n",
              "      <td>2</td>\n",
              "      <td>0</td>\n",
              "      <td>2</td>\n",
              "      <td>2</td>\n",
              "      <td>2</td>\n",
              "      <td>1</td>\n",
              "      <td>1</td>\n",
              "      <td>0</td>\n",
              "      <td>1</td>\n",
              "      <td>3</td>\n",
              "      <td>2</td>\n",
              "      <td>0</td>\n",
              "      <td>0</td>\n",
              "      <td>2</td>\n",
              "      <td>1</td>\n",
              "      <td>0</td>\n",
              "      <td>1</td>\n",
              "      <td>2</td>\n",
              "      <td>0</td>\n",
              "      <td>0</td>\n",
              "      <td>2</td>\n",
              "      <td>1</td>\n",
              "      <td>0</td>\n",
              "      <td>2</td>\n",
              "      <td>0</td>\n",
              "      <td>2</td>\n",
              "      <td>0</td>\n",
              "      <td>1</td>\n",
              "      <td>1</td>\n",
              "      <td>2</td>\n",
              "    </tr>\n",
              "    <tr>\n",
              "      <th>3172</th>\n",
              "      <td>1</td>\n",
              "      <td>2</td>\n",
              "      <td>2</td>\n",
              "      <td>1</td>\n",
              "      <td>1</td>\n",
              "      <td>2</td>\n",
              "      <td>2</td>\n",
              "      <td>1</td>\n",
              "      <td>2</td>\n",
              "      <td>1</td>\n",
              "      <td>2</td>\n",
              "      <td>2</td>\n",
              "      <td>1</td>\n",
              "      <td>2</td>\n",
              "      <td>2</td>\n",
              "      <td>2</td>\n",
              "      <td>2</td>\n",
              "      <td>2</td>\n",
              "      <td>1</td>\n",
              "      <td>2</td>\n",
              "      <td>2</td>\n",
              "      <td>3</td>\n",
              "      <td>1</td>\n",
              "      <td>1</td>\n",
              "      <td>1</td>\n",
              "      <td>1</td>\n",
              "      <td>1</td>\n",
              "      <td>2</td>\n",
              "      <td>2</td>\n",
              "      <td>1</td>\n",
              "      <td>1</td>\n",
              "      <td>1</td>\n",
              "      <td>2</td>\n",
              "      <td>0</td>\n",
              "      <td>1</td>\n",
              "      <td>2</td>\n",
              "      <td>3</td>\n",
              "      <td>2</td>\n",
              "      <td>1</td>\n",
              "    </tr>\n",
              "    <tr>\n",
              "      <th>3173</th>\n",
              "      <td>0</td>\n",
              "      <td>2</td>\n",
              "      <td>3</td>\n",
              "      <td>0</td>\n",
              "      <td>0</td>\n",
              "      <td>0</td>\n",
              "      <td>1</td>\n",
              "      <td>0</td>\n",
              "      <td>3</td>\n",
              "      <td>0</td>\n",
              "      <td>0</td>\n",
              "      <td>3</td>\n",
              "      <td>3</td>\n",
              "      <td>3</td>\n",
              "      <td>1</td>\n",
              "      <td>3</td>\n",
              "      <td>3</td>\n",
              "      <td>3</td>\n",
              "      <td>2</td>\n",
              "      <td>1</td>\n",
              "      <td>3</td>\n",
              "      <td>0</td>\n",
              "      <td>2</td>\n",
              "      <td>0</td>\n",
              "      <td>3</td>\n",
              "      <td>0</td>\n",
              "      <td>0</td>\n",
              "      <td>0</td>\n",
              "      <td>3</td>\n",
              "      <td>0</td>\n",
              "      <td>0</td>\n",
              "      <td>2</td>\n",
              "      <td>0</td>\n",
              "      <td>0</td>\n",
              "      <td>0</td>\n",
              "      <td>0</td>\n",
              "      <td>0</td>\n",
              "      <td>1</td>\n",
              "      <td>0</td>\n",
              "    </tr>\n",
              "    <tr>\n",
              "      <th>3174</th>\n",
              "      <td>0</td>\n",
              "      <td>3</td>\n",
              "      <td>1</td>\n",
              "      <td>0</td>\n",
              "      <td>2</td>\n",
              "      <td>0</td>\n",
              "      <td>0</td>\n",
              "      <td>2</td>\n",
              "      <td>2</td>\n",
              "      <td>3</td>\n",
              "      <td>2</td>\n",
              "      <td>2</td>\n",
              "      <td>3</td>\n",
              "      <td>2</td>\n",
              "      <td>2</td>\n",
              "      <td>1</td>\n",
              "      <td>3</td>\n",
              "      <td>2</td>\n",
              "      <td>3</td>\n",
              "      <td>2</td>\n",
              "      <td>3</td>\n",
              "      <td>2</td>\n",
              "      <td>2</td>\n",
              "      <td>1</td>\n",
              "      <td>3</td>\n",
              "      <td>2</td>\n",
              "      <td>1</td>\n",
              "      <td>3</td>\n",
              "      <td>3</td>\n",
              "      <td>2</td>\n",
              "      <td>1</td>\n",
              "      <td>3</td>\n",
              "      <td>0</td>\n",
              "      <td>1</td>\n",
              "      <td>0</td>\n",
              "      <td>3</td>\n",
              "      <td>0</td>\n",
              "      <td>0</td>\n",
              "      <td>3</td>\n",
              "    </tr>\n",
              "  </tbody>\n",
              "</table>\n",
              "<p>3175 rows × 39 columns</p>\n",
              "</div>"
            ],
            "text/plain": [
              "     pos9 pos10 pos11 pos12 pos13 pos14  ... pos49 pos50 pos53 pos54 pos57 pos59\n",
              "0       3     1     0     1     0     2  ...     2     0     1     0     1     2\n",
              "1       2     2     2     0     2     2  ...     1     2     1     1     1     1\n",
              "2       2     0     1     2     3     1  ...     2     1     2     2     0     2\n",
              "3       3     2     1     3     2     2  ...     1     2     3     3     1     1\n",
              "4       1     1     0     2     2     3  ...     1     1     3     2     1     3\n",
              "...   ...   ...   ...   ...   ...   ...  ...   ...   ...   ...   ...   ...   ...\n",
              "3170    3     3     1     1     1     1  ...     3     3     1     3     1     3\n",
              "3171    2     0     2     1     0     2  ...     0     2     0     1     1     2\n",
              "3172    1     2     2     1     1     2  ...     0     1     2     3     2     1\n",
              "3173    0     2     3     0     0     0  ...     0     0     0     0     1     0\n",
              "3174    0     3     1     0     2     0  ...     1     0     3     0     0     3\n",
              "\n",
              "[3175 rows x 39 columns]"
            ]
          },
          "metadata": {
            "tags": []
          },
          "execution_count": 22
        }
      ]
    },
    {
      "cell_type": "markdown",
      "metadata": {
        "id": "yxDuRr9HERzU"
      },
      "source": [
        "**Test de varianzas**\n",
        "\n",
        "Se va a utilizar el test de varianzas para comprobar que cada una de las variables predictoras toman valores lo suficientemente distintos bajo un determinado umbral. El umbral que se va a tomar será el 10%; para eliminar las variables que varía mínimamente.\n",
        "\n",
        "Para implentar este test se va a usar la función de Scikit-Learn [VarianceThreshold](https://scikit-learn.org/stable/modules/generated/sklearn.feature_selection.VarianceThreshold.html)."
      ]
    },
    {
      "cell_type": "code",
      "metadata": {
        "id": "TzMqSeKuEWG9"
      },
      "source": [
        "from sklearn.feature_selection import VarianceThreshold\n",
        "\n",
        "selector = VarianceThreshold(0.1)\n",
        "X_values=selector.fit_transform(X_chi)\n",
        "\n",
        "mask = selector.get_support() #list of booleans\n",
        "new_features = [] # The list of your K best features\n",
        "\n",
        "for bool, feature in zip(mask, X_chi.columns):\n",
        "    if bool:\n",
        "        new_features.append(feature)\n",
        "\n",
        "X_var = pd.DataFrame(X_values, columns=new_features)"
      ],
      "execution_count": null,
      "outputs": []
    },
    {
      "cell_type": "code",
      "metadata": {
        "colab": {
          "base_uri": "https://localhost:8080/",
          "height": 439
        },
        "id": "OrG7moMAGPKu",
        "outputId": "c9cd5bfd-07db-4462-8034-4de9a6b7807a"
      },
      "source": [
        "X_var"
      ],
      "execution_count": null,
      "outputs": [
        {
          "output_type": "execute_result",
          "data": {
            "text/html": [
              "<div>\n",
              "<style scoped>\n",
              "    .dataframe tbody tr th:only-of-type {\n",
              "        vertical-align: middle;\n",
              "    }\n",
              "\n",
              "    .dataframe tbody tr th {\n",
              "        vertical-align: top;\n",
              "    }\n",
              "\n",
              "    .dataframe thead th {\n",
              "        text-align: right;\n",
              "    }\n",
              "</style>\n",
              "<table border=\"1\" class=\"dataframe\">\n",
              "  <thead>\n",
              "    <tr style=\"text-align: right;\">\n",
              "      <th></th>\n",
              "      <th>pos9</th>\n",
              "      <th>pos10</th>\n",
              "      <th>pos11</th>\n",
              "      <th>pos12</th>\n",
              "      <th>pos13</th>\n",
              "      <th>pos14</th>\n",
              "      <th>pos15</th>\n",
              "      <th>pos16</th>\n",
              "      <th>pos17</th>\n",
              "      <th>pos18</th>\n",
              "      <th>pos19</th>\n",
              "      <th>pos20</th>\n",
              "      <th>pos21</th>\n",
              "      <th>pos22</th>\n",
              "      <th>pos23</th>\n",
              "      <th>pos24</th>\n",
              "      <th>pos25</th>\n",
              "      <th>pos27</th>\n",
              "      <th>pos28</th>\n",
              "      <th>pos29</th>\n",
              "      <th>pos30</th>\n",
              "      <th>pos31</th>\n",
              "      <th>pos32</th>\n",
              "      <th>pos33</th>\n",
              "      <th>pos34</th>\n",
              "      <th>pos35</th>\n",
              "      <th>pos39</th>\n",
              "      <th>pos40</th>\n",
              "      <th>pos42</th>\n",
              "      <th>pos44</th>\n",
              "      <th>pos45</th>\n",
              "      <th>pos46</th>\n",
              "      <th>pos48</th>\n",
              "      <th>pos49</th>\n",
              "      <th>pos50</th>\n",
              "      <th>pos53</th>\n",
              "      <th>pos54</th>\n",
              "      <th>pos57</th>\n",
              "      <th>pos59</th>\n",
              "    </tr>\n",
              "  </thead>\n",
              "  <tbody>\n",
              "    <tr>\n",
              "      <th>0</th>\n",
              "      <td>3</td>\n",
              "      <td>1</td>\n",
              "      <td>0</td>\n",
              "      <td>1</td>\n",
              "      <td>0</td>\n",
              "      <td>2</td>\n",
              "      <td>2</td>\n",
              "      <td>0</td>\n",
              "      <td>2</td>\n",
              "      <td>2</td>\n",
              "      <td>1</td>\n",
              "      <td>1</td>\n",
              "      <td>0</td>\n",
              "      <td>2</td>\n",
              "      <td>1</td>\n",
              "      <td>2</td>\n",
              "      <td>0</td>\n",
              "      <td>1</td>\n",
              "      <td>0</td>\n",
              "      <td>2</td>\n",
              "      <td>2</td>\n",
              "      <td>3</td>\n",
              "      <td>1</td>\n",
              "      <td>3</td>\n",
              "      <td>2</td>\n",
              "      <td>3</td>\n",
              "      <td>0</td>\n",
              "      <td>0</td>\n",
              "      <td>2</td>\n",
              "      <td>1</td>\n",
              "      <td>1</td>\n",
              "      <td>3</td>\n",
              "      <td>1</td>\n",
              "      <td>2</td>\n",
              "      <td>0</td>\n",
              "      <td>1</td>\n",
              "      <td>0</td>\n",
              "      <td>1</td>\n",
              "      <td>2</td>\n",
              "    </tr>\n",
              "    <tr>\n",
              "      <th>1</th>\n",
              "      <td>2</td>\n",
              "      <td>2</td>\n",
              "      <td>2</td>\n",
              "      <td>0</td>\n",
              "      <td>2</td>\n",
              "      <td>2</td>\n",
              "      <td>1</td>\n",
              "      <td>2</td>\n",
              "      <td>2</td>\n",
              "      <td>0</td>\n",
              "      <td>2</td>\n",
              "      <td>2</td>\n",
              "      <td>0</td>\n",
              "      <td>1</td>\n",
              "      <td>1</td>\n",
              "      <td>3</td>\n",
              "      <td>2</td>\n",
              "      <td>0</td>\n",
              "      <td>2</td>\n",
              "      <td>2</td>\n",
              "      <td>2</td>\n",
              "      <td>3</td>\n",
              "      <td>2</td>\n",
              "      <td>0</td>\n",
              "      <td>2</td>\n",
              "      <td>1</td>\n",
              "      <td>0</td>\n",
              "      <td>1</td>\n",
              "      <td>2</td>\n",
              "      <td>1</td>\n",
              "      <td>1</td>\n",
              "      <td>1</td>\n",
              "      <td>1</td>\n",
              "      <td>1</td>\n",
              "      <td>2</td>\n",
              "      <td>1</td>\n",
              "      <td>1</td>\n",
              "      <td>1</td>\n",
              "      <td>1</td>\n",
              "    </tr>\n",
              "    <tr>\n",
              "      <th>2</th>\n",
              "      <td>2</td>\n",
              "      <td>0</td>\n",
              "      <td>1</td>\n",
              "      <td>2</td>\n",
              "      <td>3</td>\n",
              "      <td>1</td>\n",
              "      <td>1</td>\n",
              "      <td>3</td>\n",
              "      <td>3</td>\n",
              "      <td>1</td>\n",
              "      <td>1</td>\n",
              "      <td>1</td>\n",
              "      <td>1</td>\n",
              "      <td>0</td>\n",
              "      <td>2</td>\n",
              "      <td>2</td>\n",
              "      <td>0</td>\n",
              "      <td>1</td>\n",
              "      <td>1</td>\n",
              "      <td>2</td>\n",
              "      <td>2</td>\n",
              "      <td>3</td>\n",
              "      <td>2</td>\n",
              "      <td>0</td>\n",
              "      <td>2</td>\n",
              "      <td>0</td>\n",
              "      <td>2</td>\n",
              "      <td>1</td>\n",
              "      <td>2</td>\n",
              "      <td>1</td>\n",
              "      <td>2</td>\n",
              "      <td>2</td>\n",
              "      <td>2</td>\n",
              "      <td>2</td>\n",
              "      <td>1</td>\n",
              "      <td>2</td>\n",
              "      <td>2</td>\n",
              "      <td>0</td>\n",
              "      <td>2</td>\n",
              "    </tr>\n",
              "    <tr>\n",
              "      <th>3</th>\n",
              "      <td>3</td>\n",
              "      <td>2</td>\n",
              "      <td>1</td>\n",
              "      <td>3</td>\n",
              "      <td>2</td>\n",
              "      <td>2</td>\n",
              "      <td>3</td>\n",
              "      <td>1</td>\n",
              "      <td>0</td>\n",
              "      <td>1</td>\n",
              "      <td>0</td>\n",
              "      <td>3</td>\n",
              "      <td>3</td>\n",
              "      <td>1</td>\n",
              "      <td>1</td>\n",
              "      <td>3</td>\n",
              "      <td>2</td>\n",
              "      <td>1</td>\n",
              "      <td>0</td>\n",
              "      <td>2</td>\n",
              "      <td>2</td>\n",
              "      <td>3</td>\n",
              "      <td>0</td>\n",
              "      <td>3</td>\n",
              "      <td>2</td>\n",
              "      <td>2</td>\n",
              "      <td>2</td>\n",
              "      <td>2</td>\n",
              "      <td>2</td>\n",
              "      <td>3</td>\n",
              "      <td>3</td>\n",
              "      <td>2</td>\n",
              "      <td>3</td>\n",
              "      <td>1</td>\n",
              "      <td>2</td>\n",
              "      <td>3</td>\n",
              "      <td>3</td>\n",
              "      <td>1</td>\n",
              "      <td>1</td>\n",
              "    </tr>\n",
              "    <tr>\n",
              "      <th>4</th>\n",
              "      <td>1</td>\n",
              "      <td>1</td>\n",
              "      <td>0</td>\n",
              "      <td>2</td>\n",
              "      <td>2</td>\n",
              "      <td>3</td>\n",
              "      <td>1</td>\n",
              "      <td>0</td>\n",
              "      <td>1</td>\n",
              "      <td>1</td>\n",
              "      <td>1</td>\n",
              "      <td>0</td>\n",
              "      <td>2</td>\n",
              "      <td>2</td>\n",
              "      <td>0</td>\n",
              "      <td>0</td>\n",
              "      <td>1</td>\n",
              "      <td>2</td>\n",
              "      <td>0</td>\n",
              "      <td>1</td>\n",
              "      <td>2</td>\n",
              "      <td>3</td>\n",
              "      <td>2</td>\n",
              "      <td>0</td>\n",
              "      <td>2</td>\n",
              "      <td>3</td>\n",
              "      <td>1</td>\n",
              "      <td>1</td>\n",
              "      <td>0</td>\n",
              "      <td>1</td>\n",
              "      <td>1</td>\n",
              "      <td>1</td>\n",
              "      <td>2</td>\n",
              "      <td>1</td>\n",
              "      <td>1</td>\n",
              "      <td>3</td>\n",
              "      <td>2</td>\n",
              "      <td>1</td>\n",
              "      <td>3</td>\n",
              "    </tr>\n",
              "    <tr>\n",
              "      <th>...</th>\n",
              "      <td>...</td>\n",
              "      <td>...</td>\n",
              "      <td>...</td>\n",
              "      <td>...</td>\n",
              "      <td>...</td>\n",
              "      <td>...</td>\n",
              "      <td>...</td>\n",
              "      <td>...</td>\n",
              "      <td>...</td>\n",
              "      <td>...</td>\n",
              "      <td>...</td>\n",
              "      <td>...</td>\n",
              "      <td>...</td>\n",
              "      <td>...</td>\n",
              "      <td>...</td>\n",
              "      <td>...</td>\n",
              "      <td>...</td>\n",
              "      <td>...</td>\n",
              "      <td>...</td>\n",
              "      <td>...</td>\n",
              "      <td>...</td>\n",
              "      <td>...</td>\n",
              "      <td>...</td>\n",
              "      <td>...</td>\n",
              "      <td>...</td>\n",
              "      <td>...</td>\n",
              "      <td>...</td>\n",
              "      <td>...</td>\n",
              "      <td>...</td>\n",
              "      <td>...</td>\n",
              "      <td>...</td>\n",
              "      <td>...</td>\n",
              "      <td>...</td>\n",
              "      <td>...</td>\n",
              "      <td>...</td>\n",
              "      <td>...</td>\n",
              "      <td>...</td>\n",
              "      <td>...</td>\n",
              "      <td>...</td>\n",
              "    </tr>\n",
              "    <tr>\n",
              "      <th>3170</th>\n",
              "      <td>3</td>\n",
              "      <td>3</td>\n",
              "      <td>1</td>\n",
              "      <td>1</td>\n",
              "      <td>1</td>\n",
              "      <td>1</td>\n",
              "      <td>3</td>\n",
              "      <td>1</td>\n",
              "      <td>3</td>\n",
              "      <td>1</td>\n",
              "      <td>3</td>\n",
              "      <td>1</td>\n",
              "      <td>3</td>\n",
              "      <td>3</td>\n",
              "      <td>3</td>\n",
              "      <td>1</td>\n",
              "      <td>3</td>\n",
              "      <td>3</td>\n",
              "      <td>1</td>\n",
              "      <td>3</td>\n",
              "      <td>3</td>\n",
              "      <td>3</td>\n",
              "      <td>3</td>\n",
              "      <td>1</td>\n",
              "      <td>3</td>\n",
              "      <td>1</td>\n",
              "      <td>3</td>\n",
              "      <td>1</td>\n",
              "      <td>3</td>\n",
              "      <td>3</td>\n",
              "      <td>1</td>\n",
              "      <td>3</td>\n",
              "      <td>1</td>\n",
              "      <td>3</td>\n",
              "      <td>3</td>\n",
              "      <td>1</td>\n",
              "      <td>3</td>\n",
              "      <td>1</td>\n",
              "      <td>3</td>\n",
              "    </tr>\n",
              "    <tr>\n",
              "      <th>3171</th>\n",
              "      <td>2</td>\n",
              "      <td>0</td>\n",
              "      <td>2</td>\n",
              "      <td>1</td>\n",
              "      <td>0</td>\n",
              "      <td>2</td>\n",
              "      <td>1</td>\n",
              "      <td>0</td>\n",
              "      <td>0</td>\n",
              "      <td>2</td>\n",
              "      <td>0</td>\n",
              "      <td>2</td>\n",
              "      <td>2</td>\n",
              "      <td>2</td>\n",
              "      <td>1</td>\n",
              "      <td>1</td>\n",
              "      <td>0</td>\n",
              "      <td>1</td>\n",
              "      <td>3</td>\n",
              "      <td>2</td>\n",
              "      <td>0</td>\n",
              "      <td>0</td>\n",
              "      <td>2</td>\n",
              "      <td>1</td>\n",
              "      <td>0</td>\n",
              "      <td>1</td>\n",
              "      <td>2</td>\n",
              "      <td>0</td>\n",
              "      <td>0</td>\n",
              "      <td>2</td>\n",
              "      <td>1</td>\n",
              "      <td>0</td>\n",
              "      <td>2</td>\n",
              "      <td>0</td>\n",
              "      <td>2</td>\n",
              "      <td>0</td>\n",
              "      <td>1</td>\n",
              "      <td>1</td>\n",
              "      <td>2</td>\n",
              "    </tr>\n",
              "    <tr>\n",
              "      <th>3172</th>\n",
              "      <td>1</td>\n",
              "      <td>2</td>\n",
              "      <td>2</td>\n",
              "      <td>1</td>\n",
              "      <td>1</td>\n",
              "      <td>2</td>\n",
              "      <td>2</td>\n",
              "      <td>1</td>\n",
              "      <td>2</td>\n",
              "      <td>1</td>\n",
              "      <td>2</td>\n",
              "      <td>2</td>\n",
              "      <td>1</td>\n",
              "      <td>2</td>\n",
              "      <td>2</td>\n",
              "      <td>2</td>\n",
              "      <td>2</td>\n",
              "      <td>2</td>\n",
              "      <td>1</td>\n",
              "      <td>2</td>\n",
              "      <td>2</td>\n",
              "      <td>3</td>\n",
              "      <td>1</td>\n",
              "      <td>1</td>\n",
              "      <td>1</td>\n",
              "      <td>1</td>\n",
              "      <td>1</td>\n",
              "      <td>2</td>\n",
              "      <td>2</td>\n",
              "      <td>1</td>\n",
              "      <td>1</td>\n",
              "      <td>1</td>\n",
              "      <td>2</td>\n",
              "      <td>0</td>\n",
              "      <td>1</td>\n",
              "      <td>2</td>\n",
              "      <td>3</td>\n",
              "      <td>2</td>\n",
              "      <td>1</td>\n",
              "    </tr>\n",
              "    <tr>\n",
              "      <th>3173</th>\n",
              "      <td>0</td>\n",
              "      <td>2</td>\n",
              "      <td>3</td>\n",
              "      <td>0</td>\n",
              "      <td>0</td>\n",
              "      <td>0</td>\n",
              "      <td>1</td>\n",
              "      <td>0</td>\n",
              "      <td>3</td>\n",
              "      <td>0</td>\n",
              "      <td>0</td>\n",
              "      <td>3</td>\n",
              "      <td>3</td>\n",
              "      <td>3</td>\n",
              "      <td>1</td>\n",
              "      <td>3</td>\n",
              "      <td>3</td>\n",
              "      <td>3</td>\n",
              "      <td>2</td>\n",
              "      <td>1</td>\n",
              "      <td>3</td>\n",
              "      <td>0</td>\n",
              "      <td>2</td>\n",
              "      <td>0</td>\n",
              "      <td>3</td>\n",
              "      <td>0</td>\n",
              "      <td>0</td>\n",
              "      <td>0</td>\n",
              "      <td>3</td>\n",
              "      <td>0</td>\n",
              "      <td>0</td>\n",
              "      <td>2</td>\n",
              "      <td>0</td>\n",
              "      <td>0</td>\n",
              "      <td>0</td>\n",
              "      <td>0</td>\n",
              "      <td>0</td>\n",
              "      <td>1</td>\n",
              "      <td>0</td>\n",
              "    </tr>\n",
              "    <tr>\n",
              "      <th>3174</th>\n",
              "      <td>0</td>\n",
              "      <td>3</td>\n",
              "      <td>1</td>\n",
              "      <td>0</td>\n",
              "      <td>2</td>\n",
              "      <td>0</td>\n",
              "      <td>0</td>\n",
              "      <td>2</td>\n",
              "      <td>2</td>\n",
              "      <td>3</td>\n",
              "      <td>2</td>\n",
              "      <td>2</td>\n",
              "      <td>3</td>\n",
              "      <td>2</td>\n",
              "      <td>2</td>\n",
              "      <td>1</td>\n",
              "      <td>3</td>\n",
              "      <td>2</td>\n",
              "      <td>3</td>\n",
              "      <td>2</td>\n",
              "      <td>3</td>\n",
              "      <td>2</td>\n",
              "      <td>2</td>\n",
              "      <td>1</td>\n",
              "      <td>3</td>\n",
              "      <td>2</td>\n",
              "      <td>1</td>\n",
              "      <td>3</td>\n",
              "      <td>3</td>\n",
              "      <td>2</td>\n",
              "      <td>1</td>\n",
              "      <td>3</td>\n",
              "      <td>0</td>\n",
              "      <td>1</td>\n",
              "      <td>0</td>\n",
              "      <td>3</td>\n",
              "      <td>0</td>\n",
              "      <td>0</td>\n",
              "      <td>3</td>\n",
              "    </tr>\n",
              "  </tbody>\n",
              "</table>\n",
              "<p>3175 rows × 39 columns</p>\n",
              "</div>"
            ],
            "text/plain": [
              "     pos9 pos10 pos11 pos12 pos13 pos14  ... pos49 pos50 pos53 pos54 pos57 pos59\n",
              "0       3     1     0     1     0     2  ...     2     0     1     0     1     2\n",
              "1       2     2     2     0     2     2  ...     1     2     1     1     1     1\n",
              "2       2     0     1     2     3     1  ...     2     1     2     2     0     2\n",
              "3       3     2     1     3     2     2  ...     1     2     3     3     1     1\n",
              "4       1     1     0     2     2     3  ...     1     1     3     2     1     3\n",
              "...   ...   ...   ...   ...   ...   ...  ...   ...   ...   ...   ...   ...   ...\n",
              "3170    3     3     1     1     1     1  ...     3     3     1     3     1     3\n",
              "3171    2     0     2     1     0     2  ...     0     2     0     1     1     2\n",
              "3172    1     2     2     1     1     2  ...     0     1     2     3     2     1\n",
              "3173    0     2     3     0     0     0  ...     0     0     0     0     1     0\n",
              "3174    0     3     1     0     2     0  ...     1     0     3     0     0     3\n",
              "\n",
              "[3175 rows x 39 columns]"
            ]
          },
          "metadata": {
            "tags": []
          },
          "execution_count": 24
        }
      ]
    },
    {
      "cell_type": "markdown",
      "metadata": {
        "id": "JSFJaAQ2jgEY"
      },
      "source": [
        "Se observa que el test de varianzas no elimina ninguna variable."
      ]
    },
    {
      "cell_type": "markdown",
      "metadata": {
        "id": "NpxIX141QIH8"
      },
      "source": [
        "## División de conjuntos\n",
        "\n",
        "\n",
        "\n",
        "\n",
        "\n"
      ]
    },
    {
      "cell_type": "markdown",
      "metadata": {
        "id": "AYggNaFEs_SV"
      },
      "source": [
        "El conjunto de datos, se va a dividir en **3** partes. Una parte para el conjunto de entramiento , train, con el que se estimará tanto la estructura como los parámetros de la distribución. Uno para validación ,val , con el que se elegirá la mejor estructura. Y otro conjunto para comprobar, test, para evaluar finalmente la bondad del modelo frente a la clasificación de las etiquetas. Para facilitar la comprensión de la división del conjunto se aporta la siguiente imagen:\n",
        "\n",
        "\\\\\n",
        "\n",
        "![](https://drive.google.com/uc?export=view&id=1J96x0nsixPep1o8CC9wJAPd_zQ5-_f6I)\n",
        "\n",
        "\\\\\n",
        "\n",
        "El conjunto se va a dividir teniendo en cuenta que se quiere mantener la proporción de las etiquetas a predecir.\n",
        "\n",
        "\n",
        "Para implemtar esta partición del conjunto se usa la función de Scikit-Learn [train_test_split](https://scikit-learn.org/stable/modules/generated/sklearn.model_selection.train_test_split.html). Los parámetros son:\n",
        "\n",
        "* *X*. Variables predictoras del conjunto a particionar.\n",
        "* *y*. Variable a predecir.\n",
        "* *test_size*. Porcentaje del conjunto de test.\n",
        "* *random_state*. Semilla para el generador de números aleatorios; ya que, la función hace un shuffle de los datos.\n",
        "* *stratify*. Parámetro para mantener la proporción. Se iguala a la variable \"*y*\" para mantener la proporción sobre las etiquetas."
      ]
    },
    {
      "cell_type": "code",
      "metadata": {
        "id": "9Nuv4uDBHvlh"
      },
      "source": [
        "from sklearn.model_selection import train_test_split\n",
        "\n",
        "X_train, X_test, y_train, y_test= train_test_split(X, y, test_size=0.2, random_state=1,stratify=y)\n",
        "\n",
        "X_train, X_val, y_train, y_val = train_test_split(X_train, y_train, test_size=0.25, random_state=1,stratify=y_train)"
      ],
      "execution_count": null,
      "outputs": []
    },
    {
      "cell_type": "code",
      "metadata": {
        "colab": {
          "base_uri": "https://localhost:8080/"
        },
        "id": "Qau0XH6uICmF",
        "outputId": "8b959607-73a1-4478-c96f-b473911ef170"
      },
      "source": [
        "X_train.shape"
      ],
      "execution_count": null,
      "outputs": [
        {
          "output_type": "execute_result",
          "data": {
            "text/plain": [
              "(1905, 60)"
            ]
          },
          "metadata": {
            "tags": []
          },
          "execution_count": 26
        }
      ]
    },
    {
      "cell_type": "code",
      "metadata": {
        "colab": {
          "base_uri": "https://localhost:8080/"
        },
        "id": "GTWVWXd1IHdO",
        "outputId": "3ae4922a-ca83-4469-c9f4-a845c3733e0f"
      },
      "source": [
        "X_test.shape"
      ],
      "execution_count": null,
      "outputs": [
        {
          "output_type": "execute_result",
          "data": {
            "text/plain": [
              "(635, 60)"
            ]
          },
          "metadata": {
            "tags": []
          },
          "execution_count": 27
        }
      ]
    },
    {
      "cell_type": "code",
      "metadata": {
        "colab": {
          "base_uri": "https://localhost:8080/"
        },
        "id": "_HhVipCYi5Qb",
        "outputId": "a313a6fa-e42f-48bf-e1f7-8f6e5da96a54"
      },
      "source": [
        "X_val.shape"
      ],
      "execution_count": null,
      "outputs": [
        {
          "output_type": "execute_result",
          "data": {
            "text/plain": [
              "(635, 60)"
            ]
          },
          "metadata": {
            "tags": []
          },
          "execution_count": 28
        }
      ]
    },
    {
      "cell_type": "code",
      "metadata": {
        "colab": {
          "base_uri": "https://localhost:8080/"
        },
        "id": "g8vt1WHVjPbk",
        "outputId": "6e398815-9f3b-4462-f20f-286909b0a2e3"
      },
      "source": [
        "print(y_train['class'].value_counts())\n",
        "print(y_test['class'].value_counts())\n",
        "print(y_val['class'].value_counts())"
      ],
      "execution_count": null,
      "outputs": [
        {
          "output_type": "stream",
          "text": [
            "N     988\n",
            "IE    459\n",
            "EI    458\n",
            "Name: class, dtype: int64\n",
            "N     330\n",
            "IE    153\n",
            "EI    152\n",
            "Name: class, dtype: int64\n",
            "N     330\n",
            "IE    153\n",
            "EI    152\n",
            "Name: class, dtype: int64\n"
          ],
          "name": "stdout"
        }
      ]
    },
    {
      "cell_type": "markdown",
      "metadata": {
        "id": "yPLfQ1crnk2W"
      },
      "source": [
        "Se puede apreciar, que las dimensiones y proporciones obtenidas son correctas."
      ]
    },
    {
      "cell_type": "markdown",
      "metadata": {
        "id": "vvmhSDefNL7_"
      },
      "source": [
        "### Reunir datos"
      ]
    },
    {
      "cell_type": "markdown",
      "metadata": {
        "id": "0N6qASh_judJ"
      },
      "source": [
        "Para estimar las estructuras, es necesario reunificar los conjuntos de las etiquetas y las variables predictoras en uno solo; ya que, la librería BNlearn lo usa así."
      ]
    },
    {
      "cell_type": "code",
      "metadata": {
        "id": "SpxQ9PaiNLmX"
      },
      "source": [
        "train = pd.DataFrame(X_train)\n",
        "train['class']=y_train['class'].to_numpy()\n",
        "cols = [train.columns[-1]] + [col for col in train if col != train.columns[-1]]\n",
        "train=train[cols] #pongo primero la clase"
      ],
      "execution_count": null,
      "outputs": []
    },
    {
      "cell_type": "code",
      "metadata": {
        "id": "OpTBuDZ9Ijs_"
      },
      "source": [
        "test = pd.DataFrame(X_test)\n",
        "test['class']=y_test['class'].to_numpy()\n",
        "cols = [test.columns[-1]] + [col for col in test if col != test.columns[-1]]\n",
        "test=test[cols] #pongo primero la clase"
      ],
      "execution_count": null,
      "outputs": []
    },
    {
      "cell_type": "code",
      "metadata": {
        "id": "H4iAKmu2jpX9"
      },
      "source": [
        "val = pd.DataFrame(X_val)\n",
        "val['class']=y_val['class'].to_numpy()\n",
        "cols = [val.columns[-1]] + [col for col in val if col != val.columns[-1]]\n",
        "val=val[cols] #pongo primero la clase"
      ],
      "execution_count": null,
      "outputs": []
    },
    {
      "cell_type": "markdown",
      "metadata": {
        "id": "XztVKvdIKOJj"
      },
      "source": [
        "## Aprendizaje estructura"
      ]
    },
    {
      "cell_type": "markdown",
      "metadata": {
        "id": "MPS1zkktKVrY"
      },
      "source": [
        "Como ya se ha explicado en la arquitectura del cuaderno, la parte de estimación se hace en el lenguaje R. Para ello, lo primero que se va a hacer es fijar la semilla para la reproductividad de los datos; además de transferir las estructuras de datos de Python, al sistema embebido R. También se introduce la librería de BNlearn, previamente instalada."
      ]
    },
    {
      "cell_type": "code",
      "metadata": {
        "id": "xdMGf3uVKajw"
      },
      "source": [
        "%%R\n",
        "\n",
        "library(bnlearn)\n",
        "\n",
        "set.seed(0)"
      ],
      "execution_count": null,
      "outputs": []
    },
    {
      "cell_type": "code",
      "metadata": {
        "id": "NLs4yKm9KgT8"
      },
      "source": [
        "%R -i train -i train #transferimos datos a R\n",
        "%R -i test -i test #transferimos datos a R\n",
        "%R -i val -i test #transferimos datos a R"
      ],
      "execution_count": null,
      "outputs": []
    },
    {
      "cell_type": "markdown",
      "metadata": {
        "id": "oj4IrSfCwizz"
      },
      "source": [
        "La siguiente tarea antes de poder estimar la estructura, es definir que los datos son de tipo factor; es decir, que los datos son categóricos. Además, se muestra para cada uno de los conjuntos, que la estructura de los datos en la transferencia a R ha sido correcta."
      ]
    },
    {
      "cell_type": "code",
      "metadata": {
        "colab": {
          "base_uri": "https://localhost:8080/"
        },
        "id": "pFgxde77hOGA",
        "outputId": "a304c577-7df1-4c52-be30-d3ecf6ae9f23"
      },
      "source": [
        "%%R\n",
        "\n",
        "for (i in colnames(train)){\n",
        "  train[[i]] <- as.factor(train[[i]])\n",
        "}\n",
        "\n",
        "summary(train)"
      ],
      "execution_count": null,
      "outputs": [
        {
          "output_type": "stream",
          "text": [
            " class    pos0    pos1    pos2    pos3    pos4    pos5    pos6    pos7   \n",
            " EI:458   A:437   A:460   A:432   A:425   A:486   A:437   A:464   A:456  \n",
            " IE:459   C:523   C:512   C:531   C:533   C:540   C:542   C:502   C:538  \n",
            " N :988   G:506   G:479   G:512   G:495   G:415   G:459   G:472   G:448  \n",
            "          T:439   T:454   T:430   T:452   T:464   T:467   T:467   T:463  \n",
            " pos8    pos9    pos10   pos11   pos12   pos13   pos14   pos15   pos16  \n",
            " A:431   A:456   A:438   A:397   A:453   A:485   A:408   A:410   A:385  \n",
            " C:533   C:513   C:506   C:548   C:526   C:540   C:575   C:577   C:566  \n",
            " G:451   G:451   G:454   G:491   G:438   G:435   G:458   G:398   G:405  \n",
            " T:490   T:485   T:507   T:469   T:488   T:445   T:464   T:520   T:549  \n",
            " pos17   pos18   pos19   pos20   pos21   pos22   pos23   pos24   pos25  \n",
            " A:374   A:379   A:408   A:389   A:423   A:379   A:380   A:382   A:406  \n",
            " C:526   C:548   C:519   C:551   C:560   C:603   C:558   C:566   C:508  \n",
            " G:442   G:413   G:410   G:440   G:428   G:408   G:417   G:438   G:394  \n",
            " T:563   T:565   T:568   T:525   T:494   T:515   T:550   T:519   T:597  \n",
            " pos26   pos27   pos28   pos29    pos30   pos31   pos32   pos33   pos34  \n",
            " A:439   A:435   A:968   A: 284   A:354   A:368   A:603   A:688   A:370  \n",
            " C:525   C:768   C:318   C: 266   C:306   C:337   C:375   C:418   C:425  \n",
            " G:535   G:338   G:312   G:1099   G:940   G:345   G:585   G:433   G:724  \n",
            " T:406   T:364   T:307   T: 256   T:305   T:855   T:342   T:366   T:386  \n",
            " pos35   pos36   pos37   pos38   pos39   pos40   pos41   pos42   pos43  \n",
            " A:405   A:490   A:444   A:414   A:410   A:442   A:437   A:435   A:442  \n",
            " C:489   C:427   C:527   C:536   C:487   C:472   C:494   C:520   C:501  \n",
            " G:461   G:605   G:487   G:494   G:558   G:543   G:536   G:530   G:484  \n",
            " T:550   T:383   T:447   T:461   T:450   T:448   T:438   T:420   T:478  \n",
            " pos44   pos45   pos46   pos47   pos48   pos49   pos50   pos51   pos52  \n",
            " A:445   A:450   A:456   A:463   A:436   A:469   A:420   A:496   A:441  \n",
            " C:536   C:514   C:458   C:482   C:500   C:459   C:527   C:467   C:471  \n",
            " G:503   G:511   G:530   G:548   G:554   G:530   G:545   G:516   G:542  \n",
            " T:421   T:430   T:461   T:412   T:415   T:447   T:413   T:426   T:451  \n",
            " pos53   pos54   pos55   pos56   pos57   pos58   pos59  \n",
            " A:423   A:481   A:474   A:463   A:427   A:470   A:411  \n",
            " C:503   C:515   C:477   C:464   C:516   C:525   C:472  \n",
            " G:571   G:502   G:501   G:529   G:528   G:467   G:572  \n",
            " T:408   T:407   T:453   T:449   T:434   T:443   T:450  \n"
          ],
          "name": "stdout"
        }
      ]
    },
    {
      "cell_type": "code",
      "metadata": {
        "colab": {
          "base_uri": "https://localhost:8080/"
        },
        "id": "bndhVYX5iPay",
        "outputId": "4180fbcd-39c3-4fa1-f37c-24dfad641f4a"
      },
      "source": [
        "%%R\n",
        "\n",
        "for (i in colnames(test)){\n",
        "  test[[i]] <- as.factor(test[[i]])\n",
        "}\n",
        "\n",
        "summary(test)"
      ],
      "execution_count": null,
      "outputs": [
        {
          "output_type": "stream",
          "text": [
            " class    pos0    pos1    pos2    pos3    pos4    pos5    pos6    pos7   \n",
            " EI:152   A:147   A:160   A:134   A:155   A:169   A:138   A:158   A:174  \n",
            " IE:153   C:156   C:163   C:171   C:195   C:147   C:160   C:177   C:160  \n",
            " N :330   G:183   G:161   G:160   G:138   G:140   G:184   G:158   G:133  \n",
            "          T:149   T:151   T:170   T:147   T:179   T:153   T:142   T:168  \n",
            " pos8    pos9    pos10   pos11   pos12   pos13   pos14   pos15   pos16  \n",
            " A:163   A:159   A:135   A:135   A:137   A:158   A:126   A:143   A:129  \n",
            " C:182   C:150   C:154   C:189   C:187   C:191   C:198   C:176   C:161  \n",
            " G:149   G:156   G:164   G:166   G:149   G:122   G:147   G:143   G:157  \n",
            " T:141   T:170   T:182   T:145   T:162   T:164   T:164   T:173   T:188  \n",
            " pos17   pos18   pos19   pos20   pos21   pos22   pos23   pos24   pos25  \n",
            " A:142   A:144   A:131   A:120   A:135   A:132   A:132   A:129   A:135  \n",
            " C:187   C:189   C:179   C:191   C:177   C:192   C:194   C:194   C:176  \n",
            " G:149   G:144   G:133   G:127   G:151   G:152   G:129   G:131   G:125  \n",
            " T:157   T:158   T:192   T:197   T:172   T:159   T:180   T:181   T:199  \n",
            " pos26   pos27   pos28   pos29   pos30   pos31   pos32   pos33   pos34  \n",
            " A:156   A:134   A:313   A: 92   A:109   A:114   A:191   A:213   A:118  \n",
            " C:176   C:276   C:113   C: 92   C:111   C:126   C:144   C:148   C:131  \n",
            " G:171   G:117   G:109   G:352   G:321   G:111   G:178   G:149   G:243  \n",
            " T:132   T:108   T:100   T: 99   T: 94   T:284   T:122   T:125   T:143  \n",
            " pos35   pos36   pos37   pos38   pos39   pos40   pos41   pos42   pos43  \n",
            " A:138   A:177   A:151   A:146   A:142   A:128   A:134   A:152   A:135  \n",
            " C:151   C:141   C:179   C:178   C:161   C:159   C:171   C:158   C:155  \n",
            " G:156   G:185   G:158   G:159   G:181   G:186   G:184   G:185   G:188  \n",
            " T:190   T:132   T:147   T:152   T:151   T:162   T:146   T:140   T:157  \n",
            " pos44   pos45   pos46   pos47   pos48   pos49   pos50   pos51   pos52  \n",
            " A:148   A:163   A:134   A:146   A:151   A:139   A:136   A:160   A:146  \n",
            " C:173   C:159   C:156   C:160   C:162   C:174   C:165   C:151   C:177  \n",
            " G:160   G:177   G:189   G:170   G:196   G:159   G:180   G:185   G:167  \n",
            " T:154   T:136   T:156   T:159   T:126   T:163   T:154   T:139   T:145  \n",
            " pos53   pos54   pos55   pos56   pos57   pos58   pos59  \n",
            " A:131   A:169   A:132   A:158   A:141   A:151   A:158  \n",
            " C:156   C:160   C:193   C:159   C:182   C:169   C:153  \n",
            " G:180   G:158   G:153   G:178   G:164   G:150   G:190  \n",
            " T:168   T:148   T:157   T:140   T:148   T:165   T:134  \n"
          ],
          "name": "stdout"
        }
      ]
    },
    {
      "cell_type": "code",
      "metadata": {
        "colab": {
          "base_uri": "https://localhost:8080/"
        },
        "id": "IMvRxyIakGLP",
        "outputId": "1024000a-03a6-402a-c6f8-37c9dda73a93"
      },
      "source": [
        "%%R\n",
        "\n",
        "for (i in colnames(val)){\n",
        "  val[[i]] <- as.factor(val[[i]])\n",
        "}\n",
        "\n",
        "summary(val)"
      ],
      "execution_count": null,
      "outputs": [
        {
          "output_type": "stream",
          "text": [
            " class    pos0    pos1    pos2    pos3    pos4    pos5    pos6    pos7   \n",
            " EI:152   A:154   A:155   A:139   A:168   A:145   A:126   A:160   A:155  \n",
            " IE:153   C:154   C:179   C:171   C:154   C:170   C:188   C:173   C:178  \n",
            " N :330   G:185   G:150   G:167   G:164   G:161   G:182   G:147   G:146  \n",
            "          T:142   T:151   T:158   T:149   T:159   T:139   T:155   T:156  \n",
            " pos8    pos9    pos10   pos11   pos12   pos13   pos14   pos15   pos16  \n",
            " A:150   A:148   A:141   A:132   A:145   A:151   A:127   A:144   A:153  \n",
            " C:189   C:141   C:159   C:188   C:160   C:162   C:182   C:189   C:177  \n",
            " G:147   G:157   G:157   G:144   G:162   G:152   G:158   G:140   G:135  \n",
            " T:149   T:189   T:178   T:171   T:168   T:170   T:168   T:162   T:170  \n",
            " pos17   pos18   pos19   pos20   pos21   pos22   pos23   pos24   pos25  \n",
            " A:131   A:129   A:154   A:130   A:141   A:148   A:123   A:139   A:124  \n",
            " C:170   C:182   C:186   C:194   C:181   C:167   C:197   C:184   C:205  \n",
            " G:151   G:150   G:122   G:125   G:132   G:139   G:155   G:132   G:134  \n",
            " T:183   T:174   T:173   T:186   T:181   T:181   T:160   T:180   T:172  \n",
            " pos26   pos27   pos28   pos29   pos30   pos31   pos32   pos33   pos34  \n",
            " A:171   A:123   A:325   A: 97   A:131   A:123   A:185   A:213   A:124  \n",
            " C:179   C:258   C:101   C: 83   C: 95   C:114   C:116   C:142   C:149  \n",
            " G:146   G:121   G:102   G:363   G:321   G:113   G:185   G:167   G:230  \n",
            " T:139   T:133   T:107   T: 92   T: 88   T:285   T:149   T:113   T:132  \n",
            " pos35   pos36   pos37   pos38   pos39   pos40   pos41   pos42   pos43  \n",
            " A:137   A:142   A:149   A:150   A:142   A:148   A:129   A:132   A:152  \n",
            " C:165   C:163   C:156   C:161   C:167   C:154   C:145   C:163   C:181  \n",
            " G:146   G:176   G:176   G:181   G:185   G:182   G:195   G:189   G:161  \n",
            " T:187   T:154   T:154   T:143   T:141   T:151   T:166   T:151   T:141  \n",
            " pos44   pos45   pos46   pos47   pos48   pos49   pos50   pos51   pos52  \n",
            " A:163   A:152   A:142   A:148   A:131   A:167   A:138   A:158   A:142  \n",
            " C:173   C:166   C:150   C:154   C:185   C:171   C:184   C:168   C:180  \n",
            " G:154   G:181   G:190   G:191   G:194   G:145   G:174   G:168   G:163  \n",
            " T:145   T:136   T:153   T:142   T:125   T:152   T:139   T:141   T:150  \n",
            " pos53   pos54   pos55   pos56   pos57   pos58   pos59  \n",
            " A:137   A:150   A:148   A:119   A:151   A:161   A:151  \n",
            " C:157   C:157   C:155   C:165   C:167   C:162   C:155  \n",
            " G:180   G:195   G:181   G:197   G:169   G:168   G:187  \n",
            " T:161   T:133   T:151   T:154   T:148   T:144   T:142  \n"
          ],
          "name": "stdout"
        }
      ]
    },
    {
      "cell_type": "markdown",
      "metadata": {
        "id": "o5gD20w9X_8g"
      },
      "source": [
        "### Estimación de la estructura de RB"
      ]
    },
    {
      "cell_type": "markdown",
      "metadata": {
        "id": "8iG7Uj8dYS5a"
      },
      "source": [
        "Se van a estudiar algunos algoritmos que aporta [BNlearn Structure Learning](https://www.bnlearn.com/documentation/man/structure.learning.html). Se van a estudiar los algoritmos que usa el artículo *Using Bayesian networks to discover relations between genes, environment, and disease* [1](https://biodatamining.biomedcentral.com/articles/10.1186/1756-0381-6-6):\n",
        "\n",
        "\n",
        "\n",
        "1.   Grow-Shrink (GS)\n",
        "2.   Incremental Association (IAMB)\n",
        "3.   Hill-Climbing (HC)\n",
        "4.   Max-Min Hill-Climbing (MMHC)\n",
        "\n",
        "Cada uno de ellos se van a ejecutar sobre el conjunto de entrenamiento (*train*). Además, el algoritmo basado en métricas HC, se va a entrenar con la métrica *Bayesian Information Criterion* (BIC) porque vamos a buscar penalizar las estructuras complejas.\n",
        "\n",
        "\n",
        "\n",
        "\n",
        "\n"
      ]
    },
    {
      "cell_type": "code",
      "metadata": {
        "id": "GPG_92XNZ57B"
      },
      "source": [
        "%%R\n",
        "\n",
        "hc = hc(train, score=\"bic\")                          \n",
        "gs = gs(train)              \n",
        "iamb = iamb(train)            \n",
        "mmhc = mmhc(train)                      "
      ],
      "execution_count": null,
      "outputs": []
    },
    {
      "cell_type": "markdown",
      "metadata": {
        "id": "WKFI4caRf3DZ"
      },
      "source": [
        "Ahora se van a comprobar si todos los grafos son dirigidos o existe algún grafo parcialmente dirigido."
      ]
    },
    {
      "cell_type": "code",
      "metadata": {
        "colab": {
          "base_uri": "https://localhost:8080/"
        },
        "id": "iAHOYruYhCBf",
        "outputId": "5e12c904-6194-4e8e-80a0-92c6b6249309"
      },
      "source": [
        "%%R\n",
        "hc"
      ],
      "execution_count": null,
      "outputs": [
        {
          "output_type": "stream",
          "text": [
            "\n",
            "  Bayesian network learned via Score-based methods\n",
            "\n",
            "  model:\n",
            "   [pos0][pos1|pos0][pos2|pos1][pos3|pos2][pos4|pos3][pos5|pos4][pos6|pos5]\n",
            "   [pos7|pos6][pos8|pos7][pos9|pos8][pos10|pos9][pos11|pos10][pos12|pos11]\n",
            "   [pos13|pos12][pos14|pos13][class|pos14][pos15|class][pos16|class]\n",
            "   [pos17|class][pos18|class][pos19|class][pos20|class][pos22|class]\n",
            "   [pos23|class][pos24|class][pos27|class][pos28|class][pos29|class]\n",
            "   [pos30|class][pos31|class][pos32|class][pos33|class][pos34|class]\n",
            "   [pos21|pos20][pos25|class:pos24][pos35|pos34][pos26|pos25][pos36|pos35]\n",
            "   [pos37|pos36][pos38|pos37][pos39|pos38][pos40|pos39][pos41|pos40]\n",
            "   [pos42|pos41][pos43|pos42][pos44|pos43][pos45|pos44][pos46|pos45]\n",
            "   [pos47|pos46][pos48|pos47][pos49|pos48][pos50|pos49][pos51|pos50]\n",
            "   [pos52|pos51][pos53|pos52][pos54|pos53][pos55|pos54][pos56|pos55]\n",
            "   [pos57|pos56][pos58|pos57][pos59|pos58]\n",
            "  nodes:                                 61 \n",
            "  arcs:                                  61 \n",
            "    undirected arcs:                     0 \n",
            "    directed arcs:                       61 \n",
            "  average markov blanket size:           2.00 \n",
            "  average neighbourhood size:            2.00 \n",
            "  average branching factor:              1.00 \n",
            "\n",
            "  learning algorithm:                    Hill-Climbing \n",
            "  score:                                 BIC (disc.) \n",
            "  penalization coefficient:              3.776119 \n",
            "  tests used in the learning procedure:  5490 \n",
            "  optimized:                             TRUE \n",
            "\n"
          ],
          "name": "stdout"
        }
      ]
    },
    {
      "cell_type": "code",
      "metadata": {
        "colab": {
          "base_uri": "https://localhost:8080/"
        },
        "id": "fWPPxJXBL9J1",
        "outputId": "ad3f58a1-2a06-4d9a-c496-386590880e11"
      },
      "source": [
        "%%R\n",
        "mmhc"
      ],
      "execution_count": null,
      "outputs": [
        {
          "output_type": "stream",
          "text": [
            "\n",
            "  Bayesian network learned via Hybrid methods\n",
            "\n",
            "  model:\n",
            "   [class][pos0][pos1|pos0][pos28|class][pos29|class][pos30|class][pos31|class]\n",
            "   [pos2|pos1][pos32|pos31][pos3|pos2][pos33|pos32][pos4|pos3][pos34|pos33]\n",
            "   [pos5|pos4][pos35|pos34][pos6|pos5][pos36|pos35][pos7|pos6][pos37|pos36]\n",
            "   [pos8|pos7][pos38|pos37][pos9|pos8][pos39|pos38][pos10|pos9][pos40|pos39]\n",
            "   [pos11|pos10][pos41|pos40][pos12|pos11][pos42|pos41][pos13|pos12]\n",
            "   [pos43|pos42][pos14|pos13][pos44|pos43][pos15|pos14][pos45|pos44]\n",
            "   [pos16|pos15][pos46|pos45][pos17|pos16][pos47|pos46][pos18|pos17]\n",
            "   [pos48|pos47][pos19|pos18][pos49|pos48][pos20|pos19][pos50|pos49]\n",
            "   [pos21|pos20][pos51|pos50][pos22|pos21][pos52|pos51][pos23|pos22]\n",
            "   [pos53|pos52][pos24|pos23][pos54|pos53][pos25|pos24][pos55|pos54]\n",
            "   [pos26|pos25][pos56|pos55][pos27|pos26][pos57|pos56][pos58|pos57]\n",
            "   [pos59|pos58]\n",
            "  nodes:                                 61 \n",
            "  arcs:                                  59 \n",
            "    undirected arcs:                     0 \n",
            "    directed arcs:                       59 \n",
            "  average markov blanket size:           1.93 \n",
            "  average neighbourhood size:            1.93 \n",
            "  average branching factor:              0.97 \n",
            "\n",
            "  learning algorithm:                    Max-Min Hill-Climbing \n",
            "  constraint-based method:               Max-Min Parent Children \n",
            "  conditional independence test:         Mutual Information (disc.) \n",
            "  score-based method:                    Hill-Climbing \n",
            "  score:                                 BIC (disc.) \n",
            "  alpha threshold:                       0.05 \n",
            "  penalization coefficient:              3.776119 \n",
            "  tests used in the learning procedure:  27696 \n",
            "  optimized:                             TRUE \n",
            "\n"
          ],
          "name": "stdout"
        }
      ]
    },
    {
      "cell_type": "code",
      "metadata": {
        "colab": {
          "base_uri": "https://localhost:8080/"
        },
        "id": "NfHlMLSJL84F",
        "outputId": "3508e985-e459-4756-eb49-7b083ca6e278"
      },
      "source": [
        "%%R\n",
        "gs"
      ],
      "execution_count": null,
      "outputs": [
        {
          "output_type": "stream",
          "text": [
            "\n",
            "  Bayesian network learned via Constraint-based methods\n",
            "\n",
            "  model:\n",
            "    [partially directed graph]\n",
            "  nodes:                                 61 \n",
            "  arcs:                                  5 \n",
            "    undirected arcs:                     1 \n",
            "    directed arcs:                       4 \n",
            "  average markov blanket size:           0.23 \n",
            "  average neighbourhood size:            0.16 \n",
            "  average branching factor:              0.066 \n",
            "\n",
            "  learning algorithm:                    Grow-Shrink \n",
            "  conditional independence test:         Mutual Information (disc.) \n",
            "  alpha threshold:                       0.05 \n",
            "  tests used in the learning procedure:  4217 \n",
            "\n"
          ],
          "name": "stdout"
        }
      ]
    },
    {
      "cell_type": "code",
      "metadata": {
        "colab": {
          "base_uri": "https://localhost:8080/"
        },
        "id": "jnomtgOPL9Ck",
        "outputId": "32c41796-f3f9-4b0a-9c24-538c0b2a0a08"
      },
      "source": [
        "%%R\n",
        "iamb"
      ],
      "execution_count": null,
      "outputs": [
        {
          "output_type": "stream",
          "text": [
            "\n",
            "  Bayesian network learned via Constraint-based methods\n",
            "\n",
            "  model:\n",
            "    [partially directed graph]\n",
            "  nodes:                                 61 \n",
            "  arcs:                                  65 \n",
            "    undirected arcs:                     11 \n",
            "    directed arcs:                       54 \n",
            "  average markov blanket size:           3.15 \n",
            "  average neighbourhood size:            2.13 \n",
            "  average branching factor:              0.89 \n",
            "\n",
            "  learning algorithm:                    IAMB \n",
            "  conditional independence test:         Mutual Information (disc.) \n",
            "  alpha threshold:                       0.05 \n",
            "  tests used in the learning procedure:  18263 \n",
            "\n"
          ],
          "name": "stdout"
        }
      ]
    },
    {
      "cell_type": "markdown",
      "metadata": {
        "id": "fnIOiEZvw7GP"
      },
      "source": [
        "se puede observar que tanto el algoritmo GS como el algoritmo IAMB devuelven grafos parcialmente dirigidos. Esto se debe a que el algoritmo devuelve el grafo representante de la clase (parcialmente dirigido); ya que, en ciertas aristas, el test de independencia no consigue conocer la dirección correcta de la dependencia. Para solucionar esto, se usa la función [cextend](https://www.bnlearn.com/documentation/man/cpdag.html). Con esta función se consigue el grafo consistente de la clase con estructura de RB (grafo dirigido acíclico)."
      ]
    },
    {
      "cell_type": "code",
      "metadata": {
        "id": "ZAUhAm9NyWXW"
      },
      "source": [
        "%%R\n",
        "gs = cextend(gs)\n",
        "iamb = cextend(iamb)"
      ],
      "execution_count": null,
      "outputs": []
    },
    {
      "cell_type": "code",
      "metadata": {
        "colab": {
          "base_uri": "https://localhost:8080/"
        },
        "id": "7018v-5vygDl",
        "outputId": "26050955-d1ff-4c99-b51f-52b4229b15c2"
      },
      "source": [
        "%%R\n",
        "gs"
      ],
      "execution_count": null,
      "outputs": [
        {
          "output_type": "stream",
          "text": [
            "\n",
            "  Bayesian network learned via Constraint-based methods\n",
            "\n",
            "  model:\n",
            "   [class][pos1][pos4][pos5][pos6][pos7][pos8][pos9][pos10][pos11][pos12][pos13]\n",
            "   [pos14][pos15][pos16][pos17][pos18][pos19][pos20][pos21][pos22][pos23][pos24]\n",
            "   [pos25][pos26][pos27][pos28][pos29][pos30][pos31][pos32][pos33][pos34][pos35]\n",
            "   [pos36][pos37][pos38][pos39][pos40][pos41][pos42][pos43][pos44][pos45][pos46]\n",
            "   [pos47][pos48][pos49][pos50][pos51][pos52][pos53][pos54][pos55][pos56][pos57]\n",
            "   [pos58][pos59][pos0|class:pos1][pos3|class][pos2|pos1:pos3]\n",
            "  nodes:                                 61 \n",
            "  arcs:                                  5 \n",
            "    undirected arcs:                     0 \n",
            "    directed arcs:                       5 \n",
            "  average markov blanket size:           0.23 \n",
            "  average neighbourhood size:            0.16 \n",
            "  average branching factor:              0.082 \n",
            "\n",
            "  learning algorithm:                    Grow-Shrink \n",
            "  conditional independence test:         Mutual Information (disc.) \n",
            "  alpha threshold:                       0.05 \n",
            "  tests used in the learning procedure:  4217 \n",
            "\n"
          ],
          "name": "stdout"
        }
      ]
    },
    {
      "cell_type": "code",
      "metadata": {
        "colab": {
          "base_uri": "https://localhost:8080/"
        },
        "id": "fmX0ZO5JykVo",
        "outputId": "fe0edf6e-3916-46b0-cf9a-b0711a8afcc1"
      },
      "source": [
        "%%R\n",
        "iamb"
      ],
      "execution_count": null,
      "outputs": [
        {
          "output_type": "stream",
          "text": [
            "\n",
            "  Bayesian network learned via Constraint-based methods\n",
            "\n",
            "  model:\n",
            "   [pos1][pos3][pos5][pos8][pos11][pos13][pos15][pos17][pos19][pos22][pos25]\n",
            "   [pos27][pos30][pos32][pos35][pos37][pos39][pos41][pos43][pos45][pos47][pos49]\n",
            "   [pos51][pos53][pos56][pos59][class|pos30][pos0|pos1][pos2|pos1:pos3:pos11]\n",
            "   [pos4|pos3:pos5][pos7|pos8][pos10|pos11][pos12|pos11:pos13:pos19]\n",
            "   [pos14|pos13:pos15][pos16|pos15:pos17][pos18|pos17:pos19][pos21|pos22]\n",
            "   [pos24|pos25][pos26|pos25:pos27][pos36|pos35:pos37][pos38|pos37:pos39]\n",
            "   [pos40|pos39:pos41][pos42|pos41:pos43][pos44|pos43:pos45][pos46|pos45:pos47]\n",
            "   [pos48|pos47:pos49][pos50|pos49:pos51][pos52|pos51:pos53][pos55|pos56]\n",
            "   [pos58|pos59][pos6|pos5:pos7][pos9|pos8:pos10:pos11][pos20|pos19:pos21]\n",
            "   [pos23|pos22:pos24][pos29|class][pos31|class:pos30:pos32][pos34|pos35:pos58]\n",
            "   [pos54|pos53:pos55][pos57|pos56:pos58][pos28|class:pos29][pos33|pos32:pos34]\n",
            "  nodes:                                 61 \n",
            "  arcs:                                  65 \n",
            "    undirected arcs:                     0 \n",
            "    directed arcs:                       65 \n",
            "  average markov blanket size:           3.15 \n",
            "  average neighbourhood size:            2.13 \n",
            "  average branching factor:              1.07 \n",
            "\n",
            "  learning algorithm:                    IAMB \n",
            "  conditional independence test:         Mutual Information (disc.) \n",
            "  alpha threshold:                       0.05 \n",
            "  tests used in the learning procedure:  18263 \n",
            "\n"
          ],
          "name": "stdout"
        }
      ]
    },
    {
      "cell_type": "markdown",
      "metadata": {
        "id": "AZnSuuITypeE"
      },
      "source": [
        "Finalmente, se tienen las 4 estructuras de RBs aprendidas por cada uno de los algoritmos."
      ]
    },
    {
      "cell_type": "markdown",
      "metadata": {
        "id": "qWdP4UC2UW8J"
      },
      "source": [
        "### Comparar Estructuras\n",
        "\n"
      ]
    },
    {
      "cell_type": "markdown",
      "metadata": {
        "id": "6Z4QGHGaWob-"
      },
      "source": [
        "En este punto, se van a comparar las estructuras para ver los resultados obtenidos. Para ello, se va a usar la función [compare](https://www.bnlearn.com/documentation/man/compare.html). Con ella, se pueden comparar las estructuras y usando el paquete graphviz se ven las diferencias visualmente:\n",
        "\n",
        "Se compara el primero grafo con el segundo grafo.\n",
        "*   Azul: arcos que no tiene el segundo (*fn*)\n",
        "*   Rojo: arcos que no tiene el primero (*fp*)\n",
        "\n",
        "Los *tp* son aquellas aristas que tienen los dos.\n",
        "\n"
      ]
    },
    {
      "cell_type": "markdown",
      "metadata": {
        "id": "dgsxBEpV5Nuj"
      },
      "source": [
        "**HC con MMHC**"
      ]
    },
    {
      "cell_type": "code",
      "metadata": {
        "colab": {
          "base_uri": "https://localhost:8080/"
        },
        "id": "SDY2h8n31Bod",
        "outputId": "39b9e589-24be-4c64-faf6-450422c0db14"
      },
      "source": [
        "%%R\n",
        "\n",
        "compare(hc,mmhc, arcs= FALSE)"
      ],
      "execution_count": null,
      "outputs": [
        {
          "output_type": "stream",
          "text": [
            "$tp\n",
            "[1] 46\n",
            "\n",
            "$fp\n",
            "[1] 13\n",
            "\n",
            "$fn\n",
            "[1] 15\n",
            "\n"
          ],
          "name": "stdout"
        }
      ]
    },
    {
      "cell_type": "markdown",
      "metadata": {
        "id": "6uF2-S3D5W5n"
      },
      "source": [
        "Ambas estructuras tienen 46 arístas iguales. Este hecho tiene sentido ya que el algoritmo MMHC usa HC para dirigir sus aristas. A continuación, se muestran dos imágenes; la primera, es la estructura del algoritmo HC; miestras que la segunda, muestra con los colores explicados anteriormente las diferencias."
      ]
    },
    {
      "cell_type": "code",
      "metadata": {
        "colab": {
          "base_uri": "https://localhost:8080/",
          "height": 1000
        },
        "id": "mnyisJZYUzuP",
        "outputId": "8c499bca-f38b-4e34-e172-fdb579d4fc94"
      },
      "source": [
        "%%R\n",
        "graphviz.compare(hc,mmhc)"
      ],
      "execution_count": null,
      "outputs": [
        {
          "output_type": "stream",
          "text": [
            "R[write to console]: Loading required namespace: Rgraphviz\n",
            "\n"
          ],
          "name": "stderr"
        },
        {
          "output_type": "display_data",
          "data": {
            "image/png": "[encoded data removed]"
          },
          "metadata": {
            "tags": []
          }
        },
        {
          "output_type": "display_data",
          "data": {
            "image/png": "[encoded data removed]"
          },
          "metadata": {
            "tags": []
          }
        }
      ]
    },
    {
      "cell_type": "markdown",
      "metadata": {
        "id": "KGRKDhvUAeFo"
      },
      "source": [
        "Realmente, los arcos importantes para el problema de clasificación planteado son los arcos en los que la variable *class* interviene. Para comprobar este hecho se implementa la función *arcos_comunes_Class*. Estos arcos en los que ambos grafos coinciden son los siguientes:"
      ]
    },
    {
      "cell_type": "code",
      "metadata": {
        "id": "WPyJNMfgTDuG"
      },
      "source": [
        "%%R\n",
        "\n",
        "arcos_comunes_Class<-function(bn1,bn2){\n",
        "  arcosComunesClass=compare(bn1,bn2, arcs= TRUE)$tp\n",
        "  arcosComunesClass[(arcosComunesClass==\"class\")[,1],]  \n",
        "}"
      ],
      "execution_count": null,
      "outputs": []
    },
    {
      "cell_type": "code",
      "metadata": {
        "colab": {
          "base_uri": "https://localhost:8080/"
        },
        "id": "VcFU7kAy-aNV",
        "outputId": "a438601b-e624-4814-c661-ebd3d72d1de4"
      },
      "source": [
        "%%R\n",
        "\n",
        "arcos_comunes_Class(hc,mmhc)"
      ],
      "execution_count": null,
      "outputs": [
        {
          "output_type": "stream",
          "text": [
            "     from    to     \n",
            "[1,] \"class\" \"pos29\"\n",
            "[2,] \"class\" \"pos28\"\n",
            "[3,] \"class\" \"pos30\"\n",
            "[4,] \"class\" \"pos31\"\n"
          ],
          "name": "stdout"
        }
      ]
    },
    {
      "cell_type": "markdown",
      "metadata": {
        "id": "eHYKLm10A2Dd"
      },
      "source": [
        "**HC con GS**"
      ]
    },
    {
      "cell_type": "code",
      "metadata": {
        "colab": {
          "base_uri": "https://localhost:8080/"
        },
        "id": "9knXDL5BA7fB",
        "outputId": "bd2fa177-3d9d-45a4-938d-c99e95bed1be"
      },
      "source": [
        "%%R\n",
        "\n",
        "compare(hc,gs, arcs= FALSE)"
      ],
      "execution_count": null,
      "outputs": [
        {
          "output_type": "stream",
          "text": [
            "$tp\n",
            "[1] 1\n",
            "\n",
            "$fp\n",
            "[1] 4\n",
            "\n",
            "$fn\n",
            "[1] 60\n",
            "\n"
          ],
          "name": "stdout"
        }
      ]
    },
    {
      "cell_type": "markdown",
      "metadata": {
        "id": "HPXBYvBABM5S"
      },
      "source": [
        "Las estructuras que obtienen estos algoritmos, son completamente diferentes excepto en un arco; por lo que no tiene sentido visualizar los grafos. Cabe comprobar si aporta información sobre la variable *class*."
      ]
    },
    {
      "cell_type": "code",
      "metadata": {
        "colab": {
          "base_uri": "https://localhost:8080/"
        },
        "id": "k85DyZWsA_qX",
        "outputId": "fe7cbf6a-b9e1-440c-be0b-74dc5940eb42"
      },
      "source": [
        "%%R\n",
        "\n",
        "arcos_comunes_Class(hc,gs)"
      ],
      "execution_count": null,
      "outputs": [
        {
          "output_type": "stream",
          "text": [
            "     from to\n"
          ],
          "name": "stdout"
        }
      ]
    },
    {
      "cell_type": "markdown",
      "metadata": {
        "id": "pq8-JGe5BgMc"
      },
      "source": [
        "No aporta ningún arco común con *class*."
      ]
    },
    {
      "cell_type": "markdown",
      "metadata": {
        "id": "UEygAr5OBD9I"
      },
      "source": [
        "**HC con IAMB**"
      ]
    },
    {
      "cell_type": "code",
      "metadata": {
        "colab": {
          "base_uri": "https://localhost:8080/"
        },
        "id": "wkKphAGDBqI6",
        "outputId": "f8b55d5a-dd06-48b1-9639-a4fc8e85d319"
      },
      "source": [
        "%%R\n",
        "\n",
        "compare(hc,iamb, arcs= FALSE)"
      ],
      "execution_count": null,
      "outputs": [
        {
          "output_type": "stream",
          "text": [
            "$tp\n",
            "[1] 21\n",
            "\n",
            "$fp\n",
            "[1] 44\n",
            "\n",
            "$fn\n",
            "[1] 40\n",
            "\n"
          ],
          "name": "stdout"
        }
      ]
    },
    {
      "cell_type": "markdown",
      "metadata": {
        "id": "WjFDaJNJQYXw"
      },
      "source": [
        "Entre estas dos estructuras si hay más arcos similares. Aunque, como se aprecia visualmente en la imagen, son muy pocos arcos."
      ]
    },
    {
      "cell_type": "code",
      "metadata": {
        "colab": {
          "base_uri": "https://localhost:8080/",
          "height": 977
        },
        "id": "8TM9j1oqYmJz",
        "outputId": "5b9097ac-eded-424a-c290-76dae01aa827"
      },
      "source": [
        "%%R\n",
        "graphviz.compare(hc,iamb)"
      ],
      "execution_count": null,
      "outputs": [
        {
          "output_type": "display_data",
          "data": {
            "image/png": "[encoded data removed]"
          },
          "metadata": {
            "tags": []
          }
        },
        {
          "output_type": "display_data",
          "data": {
            "image/png": "[encoded data removed]"
          },
          "metadata": {
            "tags": []
          }
        }
      ]
    },
    {
      "cell_type": "code",
      "metadata": {
        "colab": {
          "base_uri": "https://localhost:8080/"
        },
        "id": "9LRtVGo9Qvr7",
        "outputId": "d6f1513d-be64-4f07-b327-662fbbb333d0"
      },
      "source": [
        "%%R\n",
        "\n",
        "arcos_comunes_Class(hc,iamb)"
      ],
      "execution_count": null,
      "outputs": [
        {
          "output_type": "stream",
          "text": [
            "     from    to     \n",
            "[1,] \"class\" \"pos29\"\n",
            "[2,] \"class\" \"pos28\"\n",
            "[3,] \"class\" \"pos31\"\n"
          ],
          "name": "stdout"
        }
      ]
    },
    {
      "cell_type": "markdown",
      "metadata": {
        "id": "uPCIFNVWQzI_"
      },
      "source": [
        "Se observa que vuelven a aparecer esos tres arcos. Por lo que tres de las cuatro estructuras apoyan esa relación de dependencia."
      ]
    },
    {
      "cell_type": "markdown",
      "metadata": {
        "id": "dvyf3yDvl2fR"
      },
      "source": [
        "**IAMB con MMHC**"
      ]
    },
    {
      "cell_type": "markdown",
      "metadata": {
        "id": "5i5F38nY28VZ"
      },
      "source": [
        "Como las estructuras MMHC y HC son parecidas, se esperan los mismos resultados."
      ]
    },
    {
      "cell_type": "code",
      "metadata": {
        "colab": {
          "base_uri": "https://localhost:8080/"
        },
        "id": "k6_V1JGhmJUG",
        "outputId": "59961127-7d52-4612-8d89-7060326e1572"
      },
      "source": [
        "%%R\n",
        "\n",
        "compare(iamb,mmhc, arcs= FALSE)"
      ],
      "execution_count": null,
      "outputs": [
        {
          "output_type": "stream",
          "text": [
            "$tp\n",
            "[1] 26\n",
            "\n",
            "$fp\n",
            "[1] 33\n",
            "\n",
            "$fn\n",
            "[1] 39\n",
            "\n"
          ],
          "name": "stdout"
        }
      ]
    },
    {
      "cell_type": "code",
      "metadata": {
        "colab": {
          "base_uri": "https://localhost:8080/"
        },
        "id": "GSjIka4Qndlv",
        "outputId": "65211d3f-b32d-4386-8d83-1ef2e104e00a"
      },
      "source": [
        "%%R\n",
        "arcos_comunes_Class(iamb,mmhc)"
      ],
      "execution_count": null,
      "outputs": [
        {
          "output_type": "stream",
          "text": [
            "     from    to     \n",
            "[1,] \"class\" \"pos28\"\n",
            "[2,] \"class\" \"pos29\"\n",
            "[3,] \"class\" \"pos31\"\n"
          ],
          "name": "stdout"
        }
      ]
    },
    {
      "cell_type": "code",
      "metadata": {
        "colab": {
          "base_uri": "https://localhost:8080/",
          "height": 977
        },
        "id": "9vj2g6QcoA7L",
        "outputId": "5ac3b1c1-205a-4a15-c468-595fa7da1dfc"
      },
      "source": [
        "%%R\n",
        "graphviz.compare(iamb,mmhc)"
      ],
      "execution_count": null,
      "outputs": [
        {
          "output_type": "display_data",
          "data": {
            "image/png": "[encoded data removed]"
          },
          "metadata": {
            "tags": []
          }
        },
        {
          "output_type": "display_data",
          "data": {
            "image/png": "[encoded data removed]"
          },
          "metadata": {
            "tags": []
          }
        }
      ]
    },
    {
      "cell_type": "markdown",
      "metadata": {
        "id": "H1gPR5Mr5fLc"
      },
      "source": [
        "Se tiene que ambas estructuras coinciden en 26 arcos y difieren en 72. Por lo que la similitud está en la escala con HC; ya que, MMHC y HC son las estructuras que más se parecen entre las estudiadas. Además, coinciden como era de preveer en 3 arcos con la variable clase."
      ]
    },
    {
      "cell_type": "markdown",
      "metadata": {
        "id": "rbrccprrmC5D"
      },
      "source": [
        "**IAMB con GS**"
      ]
    },
    {
      "cell_type": "code",
      "metadata": {
        "colab": {
          "base_uri": "https://localhost:8080/"
        },
        "id": "k5HrTe2vmL_4",
        "outputId": "4db0e6ab-5afe-42f5-b298-4f68ef4975e0"
      },
      "source": [
        "%%R\n",
        "\n",
        "compare(iamb,gs, arcs= FALSE)"
      ],
      "execution_count": null,
      "outputs": [
        {
          "output_type": "stream",
          "text": [
            "$tp\n",
            "[1] 3\n",
            "\n",
            "$fp\n",
            "[1] 2\n",
            "\n",
            "$fn\n",
            "[1] 62\n",
            "\n"
          ],
          "name": "stdout"
        }
      ]
    },
    {
      "cell_type": "code",
      "metadata": {
        "colab": {
          "base_uri": "https://localhost:8080/"
        },
        "id": "nZWe7jN6njYW",
        "outputId": "a010e971-a090-446a-a6fc-3b4d183a2876"
      },
      "source": [
        "%%R\n",
        "arcos_comunes_Class(iamb,gs)"
      ],
      "execution_count": null,
      "outputs": [
        {
          "output_type": "stream",
          "text": [
            "     from to\n"
          ],
          "name": "stdout"
        }
      ]
    },
    {
      "cell_type": "markdown",
      "metadata": {
        "id": "2aKtGVlh2toz"
      },
      "source": [
        "Al igual que antes con el algoritmo HC, al tener tan pocas relaciones el algoritmo GS; las diferencias con el algoritmo IAMB son prácticamente de todos los arcos. Además, no coinciden en ninguna relación con la variable clase."
      ]
    },
    {
      "cell_type": "markdown",
      "metadata": {
        "id": "JM_zuAdERyFJ"
      },
      "source": [
        "**Elección de la estructura de RB**"
      ]
    },
    {
      "cell_type": "markdown",
      "metadata": {
        "id": "Foi4x9V9bl1-"
      },
      "source": [
        "Finalmente,se va a calcular las métricas para elegir la estructura. Se han elegido las métricas definidas por el artículo *Using Bayesian networks to discover relations between genes, environment, and disease* [1](https://biodatamining.biomedcentral.com/articles/10.1186/1756-0381-6-6).\n",
        "\n",
        "\n",
        "*   *log-likelihood* (loglik)\n",
        "*   *Akaike Information Criterion* (aic)\n",
        "*   *the logarithm of the K2* (k2)\n",
        "*   *Bayesian Information Criterion* (bic)\n",
        "\n",
        "Para elegir la estructura, se va a crear una función para evaluar las métricas en un determinado conjunto"
      ]
    },
    {
      "cell_type": "code",
      "metadata": {
        "id": "XoOcdat6T4q7"
      },
      "source": [
        "%%R\n",
        "\n",
        "calcular_metricas<-function(conjunto){\n",
        "    \n",
        "    metricas = data.frame('Algoritmos'=c('hc','mmhc','iamb','gs'))\n",
        "\n",
        "    metricas.names = c('loglik','aic','k2','bic')\n",
        "\n",
        "    for(i in 1:length(metricas.names)){\n",
        "        metricas_aux=vector(\"numeric\",length(metricas[['Algoritmos']]))\n",
        "\n",
        "        metricas_aux[1]=score(hc,conjunto,type = metricas.names[i])\n",
        "        metricas_aux[2]=score(mmhc,conjunto,type = metricas.names[i])\n",
        "        metricas_aux[3]=score(iamb,conjunto,type = metricas.names[i])\n",
        "        metricas_aux[4]=score(gs,conjunto,type = metricas.names[i])\n",
        "        \n",
        "        metricas[[metricas.names[i]]]=metricas_aux\n",
        "    }\n",
        "\n",
        "    return(metricas)\n",
        "\n",
        "}"
      ],
      "execution_count": null,
      "outputs": []
    },
    {
      "cell_type": "markdown",
      "metadata": {
        "id": "3bNjrDHcU1G4"
      },
      "source": [
        "Se evaluan las métricas en los conjuntos de validación y entrenamiento. Aunque el conjunto que se usa para decidir es el conjunto de validación que no ha participado en el entrenamiento."
      ]
    },
    {
      "cell_type": "code",
      "metadata": {
        "id": "4qHmJsyBZoS0"
      },
      "source": [
        "%%R\n",
        "\n",
        "metricasVal = calcular_metricas(val)\n",
        "metricasTrain = calcular_metricas(train)"
      ],
      "execution_count": null,
      "outputs": []
    },
    {
      "cell_type": "markdown",
      "metadata": {
        "id": "Hqp1uUr_VGpX"
      },
      "source": [
        "Transferimos los datos a Python para su mejor representación"
      ]
    },
    {
      "cell_type": "code",
      "metadata": {
        "id": "m5mlX0uohEEh"
      },
      "source": [
        "%R -o metricasVal -o metricasVal #transferir metrica a python\n",
        "%R -o metricasTrain -o metricasTrain #transferir metrica a python"
      ],
      "execution_count": null,
      "outputs": []
    },
    {
      "cell_type": "code",
      "metadata": {
        "colab": {
          "base_uri": "https://localhost:8080/",
          "height": 124
        },
        "id": "fMNV2IYVh0L2",
        "outputId": "0bca3bc5-3444-426e-e359-7e991ba2d147"
      },
      "source": [
        "metricasVal.style.highlight_max(color = 'lightgreen', axis = 0)"
      ],
      "execution_count": null,
      "outputs": [
        {
          "output_type": "execute_result",
          "data": {
            "text/html": [
              "<style  type=\"text/css\" >\n",
              "#T_3c7608b6_dc0b_11eb_9f6e_0242ac1c0002row0_col2,#T_3c7608b6_dc0b_11eb_9f6e_0242ac1c0002row0_col3,#T_3c7608b6_dc0b_11eb_9f6e_0242ac1c0002row0_col4,#T_3c7608b6_dc0b_11eb_9f6e_0242ac1c0002row2_col1{\n",
              "            background-color:  lightgreen;\n",
              "        }</style><table id=\"T_3c7608b6_dc0b_11eb_9f6e_0242ac1c0002\" ><thead>    <tr>        <th class=\"blank level0\" ></th>        <th class=\"col_heading level0 col0\" >Algoritmos</th>        <th class=\"col_heading level0 col1\" >loglik</th>        <th class=\"col_heading level0 col2\" >aic</th>        <th class=\"col_heading level0 col3\" >k2</th>        <th class=\"col_heading level0 col4\" >bic</th>    </tr></thead><tbody>\n",
              "                <tr>\n",
              "                        <th id=\"T_3c7608b6_dc0b_11eb_9f6e_0242ac1c0002level0_row0\" class=\"row_heading level0 row0\" >1</th>\n",
              "                        <td id=\"T_3c7608b6_dc0b_11eb_9f6e_0242ac1c0002row0_col0\" class=\"data row0 col0\" >hc</td>\n",
              "                        <td id=\"T_3c7608b6_dc0b_11eb_9f6e_0242ac1c0002row0_col1\" class=\"data row0 col1\" >-50237.382946</td>\n",
              "                        <td id=\"T_3c7608b6_dc0b_11eb_9f6e_0242ac1c0002row0_col2\" class=\"data row0 col2\" >-50929.382946</td>\n",
              "                        <td id=\"T_3c7608b6_dc0b_11eb_9f6e_0242ac1c0002row0_col3\" class=\"data row0 col3\" >-51655.753168</td>\n",
              "                        <td id=\"T_3c7608b6_dc0b_11eb_9f6e_0242ac1c0002row0_col4\" class=\"data row0 col4\" >-52850.457047</td>\n",
              "            </tr>\n",
              "            <tr>\n",
              "                        <th id=\"T_3c7608b6_dc0b_11eb_9f6e_0242ac1c0002level0_row1\" class=\"row_heading level0 row1\" >2</th>\n",
              "                        <td id=\"T_3c7608b6_dc0b_11eb_9f6e_0242ac1c0002row1_col0\" class=\"data row1 col0\" >mmhc</td>\n",
              "                        <td id=\"T_3c7608b6_dc0b_11eb_9f6e_0242ac1c0002row1_col1\" class=\"data row1 col1\" >-50527.272868</td>\n",
              "                        <td id=\"T_3c7608b6_dc0b_11eb_9f6e_0242ac1c0002row1_col2\" class=\"data row1 col2\" >-51228.272868</td>\n",
              "                        <td id=\"T_3c7608b6_dc0b_11eb_9f6e_0242ac1c0002row1_col3\" class=\"data row1 col3\" >-51956.548474</td>\n",
              "                        <td id=\"T_3c7608b6_dc0b_11eb_9f6e_0242ac1c0002row1_col4\" class=\"data row1 col4\" >-53174.332038</td>\n",
              "            </tr>\n",
              "            <tr>\n",
              "                        <th id=\"T_3c7608b6_dc0b_11eb_9f6e_0242ac1c0002level0_row2\" class=\"row_heading level0 row2\" >3</th>\n",
              "                        <td id=\"T_3c7608b6_dc0b_11eb_9f6e_0242ac1c0002row2_col0\" class=\"data row2 col0\" >iamb</td>\n",
              "                        <td id=\"T_3c7608b6_dc0b_11eb_9f6e_0242ac1c0002row2_col1\" class=\"data row2 col1\" >-49739.979075</td>\n",
              "                        <td id=\"T_3c7608b6_dc0b_11eb_9f6e_0242ac1c0002row2_col2\" class=\"data row2 col2\" >-51682.979075</td>\n",
              "                        <td id=\"T_3c7608b6_dc0b_11eb_9f6e_0242ac1c0002row2_col3\" class=\"data row2 col3\" >-52244.343777</td>\n",
              "                        <td id=\"T_3c7608b6_dc0b_11eb_9f6e_0242ac1c0002row2_col4\" class=\"data row2 col4\" >-56009.675761</td>\n",
              "            </tr>\n",
              "            <tr>\n",
              "                        <th id=\"T_3c7608b6_dc0b_11eb_9f6e_0242ac1c0002level0_row3\" class=\"row_heading level0 row3\" >4</th>\n",
              "                        <td id=\"T_3c7608b6_dc0b_11eb_9f6e_0242ac1c0002row3_col0\" class=\"data row3 col0\" >gs</td>\n",
              "                        <td id=\"T_3c7608b6_dc0b_11eb_9f6e_0242ac1c0002row3_col1\" class=\"data row3 col1\" >-52638.233160</td>\n",
              "                        <td id=\"T_3c7608b6_dc0b_11eb_9f6e_0242ac1c0002row3_col2\" class=\"data row3 col2\" >-52904.233160</td>\n",
              "                        <td id=\"T_3c7608b6_dc0b_11eb_9f6e_0242ac1c0002row3_col3\" class=\"data row3 col3\" >-53233.494716</td>\n",
              "                        <td id=\"T_3c7608b6_dc0b_11eb_9f6e_0242ac1c0002row3_col4\" class=\"data row3 col4\" >-53496.565285</td>\n",
              "            </tr>\n",
              "    </tbody></table>"
            ],
            "text/plain": [
              "<pandas.io.formats.style.Styler at 0x7feed9ab0710>"
            ]
          },
          "metadata": {
            "tags": []
          },
          "execution_count": 63
        }
      ]
    },
    {
      "cell_type": "code",
      "metadata": {
        "colab": {
          "base_uri": "https://localhost:8080/",
          "height": 124
        },
        "id": "OXR9jn-1UmQO",
        "outputId": "300416fa-3464-47e2-cd80-71e6ad127050"
      },
      "source": [
        "metricasTrain.style.highlight_max(color = 'lightgreen', axis = 0)"
      ],
      "execution_count": null,
      "outputs": [
        {
          "output_type": "execute_result",
          "data": {
            "text/html": [
              "<style  type=\"text/css\" >\n",
              "#T_3c7a2eaa_dc0b_11eb_9f6e_0242ac1c0002row0_col2,#T_3c7a2eaa_dc0b_11eb_9f6e_0242ac1c0002row0_col3,#T_3c7a2eaa_dc0b_11eb_9f6e_0242ac1c0002row0_col4,#T_3c7a2eaa_dc0b_11eb_9f6e_0242ac1c0002row2_col1{\n",
              "            background-color:  lightgreen;\n",
              "        }</style><table id=\"T_3c7a2eaa_dc0b_11eb_9f6e_0242ac1c0002\" ><thead>    <tr>        <th class=\"blank level0\" ></th>        <th class=\"col_heading level0 col0\" >Algoritmos</th>        <th class=\"col_heading level0 col1\" >loglik</th>        <th class=\"col_heading level0 col2\" >aic</th>        <th class=\"col_heading level0 col3\" >k2</th>        <th class=\"col_heading level0 col4\" >bic</th>    </tr></thead><tbody>\n",
              "                <tr>\n",
              "                        <th id=\"T_3c7a2eaa_dc0b_11eb_9f6e_0242ac1c0002level0_row0\" class=\"row_heading level0 row0\" >1</th>\n",
              "                        <td id=\"T_3c7a2eaa_dc0b_11eb_9f6e_0242ac1c0002row0_col0\" class=\"data row0 col0\" >hc</td>\n",
              "                        <td id=\"T_3c7a2eaa_dc0b_11eb_9f6e_0242ac1c0002row0_col1\" class=\"data row0 col1\" >-151609.635251</td>\n",
              "                        <td id=\"T_3c7a2eaa_dc0b_11eb_9f6e_0242ac1c0002row0_col2\" class=\"data row0 col2\" >-152301.635251</td>\n",
              "                        <td id=\"T_3c7a2eaa_dc0b_11eb_9f6e_0242ac1c0002row0_col3\" class=\"data row0 col3\" >-153396.872436</td>\n",
              "                        <td id=\"T_3c7a2eaa_dc0b_11eb_9f6e_0242ac1c0002row0_col4\" class=\"data row0 col4\" >-154222.709353</td>\n",
              "            </tr>\n",
              "            <tr>\n",
              "                        <th id=\"T_3c7a2eaa_dc0b_11eb_9f6e_0242ac1c0002level0_row1\" class=\"row_heading level0 row1\" >2</th>\n",
              "                        <td id=\"T_3c7a2eaa_dc0b_11eb_9f6e_0242ac1c0002row1_col0\" class=\"data row1 col0\" >mmhc</td>\n",
              "                        <td id=\"T_3c7a2eaa_dc0b_11eb_9f6e_0242ac1c0002row1_col1\" class=\"data row1 col1\" >-152442.708837</td>\n",
              "                        <td id=\"T_3c7a2eaa_dc0b_11eb_9f6e_0242ac1c0002row1_col2\" class=\"data row1 col2\" >-153143.708837</td>\n",
              "                        <td id=\"T_3c7a2eaa_dc0b_11eb_9f6e_0242ac1c0002row1_col3\" class=\"data row1 col3\" >-154250.150162</td>\n",
              "                        <td id=\"T_3c7a2eaa_dc0b_11eb_9f6e_0242ac1c0002row1_col4\" class=\"data row1 col4\" >-155089.768007</td>\n",
              "            </tr>\n",
              "            <tr>\n",
              "                        <th id=\"T_3c7a2eaa_dc0b_11eb_9f6e_0242ac1c0002level0_row2\" class=\"row_heading level0 row2\" >3</th>\n",
              "                        <td id=\"T_3c7a2eaa_dc0b_11eb_9f6e_0242ac1c0002row2_col0\" class=\"data row2 col0\" >iamb</td>\n",
              "                        <td id=\"T_3c7a2eaa_dc0b_11eb_9f6e_0242ac1c0002row2_col1\" class=\"data row2 col1\" >-151399.161365</td>\n",
              "                        <td id=\"T_3c7a2eaa_dc0b_11eb_9f6e_0242ac1c0002row2_col2\" class=\"data row2 col2\" >-153342.161365</td>\n",
              "                        <td id=\"T_3c7a2eaa_dc0b_11eb_9f6e_0242ac1c0002row2_col3\" class=\"data row2 col3\" >-154775.866343</td>\n",
              "                        <td id=\"T_3c7a2eaa_dc0b_11eb_9f6e_0242ac1c0002row2_col4\" class=\"data row2 col4\" >-158736.159890</td>\n",
              "            </tr>\n",
              "            <tr>\n",
              "                        <th id=\"T_3c7a2eaa_dc0b_11eb_9f6e_0242ac1c0002level0_row3\" class=\"row_heading level0 row3\" >4</th>\n",
              "                        <td id=\"T_3c7a2eaa_dc0b_11eb_9f6e_0242ac1c0002row3_col0\" class=\"data row3 col0\" >gs</td>\n",
              "                        <td id=\"T_3c7a2eaa_dc0b_11eb_9f6e_0242ac1c0002row3_col1\" class=\"data row3 col1\" >-158037.150282</td>\n",
              "                        <td id=\"T_3c7a2eaa_dc0b_11eb_9f6e_0242ac1c0002row3_col2\" class=\"data row3 col2\" >-158303.150282</td>\n",
              "                        <td id=\"T_3c7a2eaa_dc0b_11eb_9f6e_0242ac1c0002row3_col3\" class=\"data row3 col3\" >-158774.627760</td>\n",
              "                        <td id=\"T_3c7a2eaa_dc0b_11eb_9f6e_0242ac1c0002row3_col4\" class=\"data row3 col4\" >-159041.597841</td>\n",
              "            </tr>\n",
              "    </tbody></table>"
            ],
            "text/plain": [
              "<pandas.io.formats.style.Styler at 0x7feebd3e2d90>"
            ]
          },
          "metadata": {
            "tags": []
          },
          "execution_count": 64
        }
      ]
    },
    {
      "cell_type": "markdown",
      "metadata": {
        "id": "BLQO4s8riF-H"
      },
      "source": [
        "Se aprecia con el color Verde los valores más altos. Aunque no se obtengan los mismos valores en los conjuntos de entrenamiento y validación; se obtiene el mismo resultado en el algoritmo que más veces obtiene el mejor resultado (tres de cuatro). Por lo que el algoritmo elegido será ***Hill-Climbing*** (HC).\n",
        "\n",
        "A continuación se muestra la estructura del algoritmo HC. La variable central es la variable clase que se quiere predecir. Si se quiere ver la estructura de forma interactiva se puede usar la web de la última sección."
      ]
    },
    {
      "cell_type": "code",
      "metadata": {
        "colab": {
          "base_uri": "https://localhost:8080/",
          "height": 497
        },
        "id": "5vZquUyhVd76",
        "outputId": "fd1a381c-3b09-4940-f3f9-580b99a5dd15"
      },
      "source": [
        "%%R\n",
        "\n",
        "graphviz.plot(hc, layout = \"circo\")"
      ],
      "execution_count": null,
      "outputs": [
        {
          "output_type": "display_data",
          "data": {
            "image/png": "[encoded data removed]"
          },
          "metadata": {
            "tags": []
          }
        }
      ]
    },
    {
      "cell_type": "markdown",
      "metadata": {
        "id": "8S3WL_nc2cRt"
      },
      "source": [
        "## Aprendizaje Distribución"
      ]
    },
    {
      "cell_type": "markdown",
      "metadata": {
        "id": "zoSgUq6O8-Vv"
      },
      "source": [
        "Para la estimación parámetrica, se va a usar el estadístico máximo verosímil (EMV) porque es el que se ha estudiado teóricamente.\n",
        "\n",
        "\n",
        "Para implementar la estimación paramétrica, se va a usar la función de bnlearn *bn.fit*. La cual estima los parámetros de la distribución de una determinada estructura, usando un determinado método. Como ya se ha comentado, el método sera el EMV (\"mle\") y la estructura será la aprendida con el algoritmo HC. Para estimar los parámetros se usará el conjunto de entrenamiento (*train*).\n",
        "\n",
        "BNlearn representa las distribuciones de probabilidad condicionada (DPCs) de la distribución en formato tablas. "
      ]
    },
    {
      "cell_type": "code",
      "metadata": {
        "id": "feOQM8wc2stp"
      },
      "source": [
        "%%R\n",
        "model = bn.fit(hc,train,method = \"mle\")"
      ],
      "execution_count": null,
      "outputs": []
    },
    {
      "cell_type": "markdown",
      "metadata": {
        "id": "TtWCQAaL-rQr"
      },
      "source": [
        "A continuación, se muestra la distribución aprendida. Cada DPC de la distribución de la RB es una tabla."
      ]
    },
    {
      "cell_type": "code",
      "metadata": {
        "colab": {
          "base_uri": "https://localhost:8080/"
        },
        "id": "Nmd_M4Pr24wC",
        "outputId": "95ee6b99-c680-4fca-e285-b69bcf226493"
      },
      "source": [
        "%%R\n",
        "model"
      ],
      "execution_count": null,
      "outputs": [
        {
          "output_type": "stream",
          "text": [
            "\n",
            "  Bayesian network parameters\n",
            "\n",
            "  Parameters of node class (multinomial distribution)\n",
            "\n",
            "Conditional probability table:\n",
            " \n",
            "     pos14\n",
            "class         A         C         G         T\n",
            "   EI 0.2549020 0.2539130 0.2729258 0.1788793\n",
            "   IE 0.1519608 0.3286957 0.1419214 0.3081897\n",
            "   N  0.5931373 0.4173913 0.5851528 0.5129310\n",
            "\n",
            "  Parameters of node pos0 (multinomial distribution)\n",
            "\n",
            "Conditional probability table:\n",
            "         A         C         G         T \n",
            "0.2293963 0.2745407 0.2656168 0.2304462 \n",
            "\n",
            "  Parameters of node pos1 (multinomial distribution)\n",
            "\n",
            "Conditional probability table:\n",
            " \n",
            "    pos0\n",
            "pos1          A          C          G          T\n",
            "   A 0.26773455 0.23518164 0.31027668 0.14350797\n",
            "   C 0.21281465 0.35564054 0.21146245 0.28701595\n",
            "   G 0.29061785 0.09751434 0.31027668 0.32801822\n",
            "   T 0.22883295 0.31166348 0.16798419 0.24145786\n",
            "\n",
            "  Parameters of node pos2 (multinomial distribution)\n",
            "\n",
            "Conditional probability table:\n",
            " \n",
            "    pos1\n",
            "pos2         A         C         G         T\n",
            "   A 0.2782609 0.2519531 0.2338205 0.1387665\n",
            "   C 0.2217391 0.3203125 0.2964509 0.2709251\n",
            "   G 0.3130435 0.1250000 0.3110647 0.3414097\n",
            "   T 0.1869565 0.3027344 0.1586639 0.2488987\n",
            "\n",
            "  Parameters of node pos3 (multinomial distribution)\n",
            "\n",
            "Conditional probability table:\n",
            " \n",
            "    pos2\n",
            "pos3         A         C         G         T\n",
            "   A 0.2384259 0.2749529 0.2070312 0.1627907\n",
            "   C 0.2384259 0.3182674 0.2773438 0.2767442\n",
            "   G 0.2986111 0.1111111 0.3457031 0.3023256\n",
            "   T 0.2245370 0.2956685 0.1699219 0.2581395\n",
            "\n",
            "  Parameters of node pos4 (multinomial distribution)\n",
            "\n",
            "Conditional probability table:\n",
            " \n",
            "    pos3\n",
            "pos4         A         C         G         T\n",
            "   A 0.2752941 0.2589118 0.3050505 0.1769912\n",
            "   C 0.2282353 0.3151970 0.2707071 0.3119469\n",
            "   G 0.3058824 0.1013133 0.2323232 0.2566372\n",
            "   T 0.1905882 0.3245779 0.1919192 0.2544248\n",
            "\n",
            "  Parameters of node pos5 (multinomial distribution)\n",
            "\n",
            "Conditional probability table:\n",
            " \n",
            "    pos4\n",
            "pos5         A         C         G         T\n",
            "   A 0.2674897 0.2351852 0.2819277 0.1357759\n",
            "   C 0.2366255 0.3370370 0.2843373 0.2737069\n",
            "   G 0.2880658 0.1018519 0.2626506 0.3340517\n",
            "   T 0.2078189 0.3259259 0.1710843 0.2564655\n",
            "\n",
            "  Parameters of node pos6 (multinomial distribution)\n",
            "\n",
            "Conditional probability table:\n",
            " \n",
            "    pos5\n",
            "pos6         A         C         G         T\n",
            "   A 0.2883295 0.2785978 0.2483660 0.1563169\n",
            "   C 0.2059497 0.2933579 0.2984749 0.2483940\n",
            "   G 0.2860412 0.1143911 0.2832244 0.3319058\n",
            "   T 0.2196796 0.3136531 0.1699346 0.2633833\n",
            "\n",
            "  Parameters of node pos7 (multinomial distribution)\n",
            "\n",
            "Conditional probability table:\n",
            " \n",
            "    pos6\n",
            "pos7         A         C         G         T\n",
            "   A 0.2974138 0.2509960 0.2605932 0.1477516\n",
            "   C 0.2521552 0.3007968 0.2944915 0.2805139\n",
            "   G 0.2543103 0.1115538 0.2690678 0.3147752\n",
            "   T 0.1961207 0.3366534 0.1758475 0.2569593\n",
            "\n",
            "  Parameters of node pos8 (multinomial distribution)\n",
            "\n",
            "Conditional probability table:\n",
            " \n",
            "    pos7\n",
            "pos8          A          C          G          T\n",
            "   A 0.25657895 0.28252788 0.23660714 0.12095032\n",
            "   C 0.25438596 0.33271375 0.24107143 0.28077754\n",
            "   G 0.26973684 0.08364312 0.31250000 0.30885529\n",
            "   T 0.21929825 0.30111524 0.20982143 0.28941685\n",
            "\n",
            "  Parameters of node pos9 (multinomial distribution)\n",
            "\n",
            "Conditional probability table:\n",
            " \n",
            "    pos8\n",
            "pos9         A         C         G         T\n",
            "   A 0.2691415 0.2795497 0.2660754 0.1448980\n",
            "   C 0.2691415 0.2739212 0.2461197 0.2857143\n",
            "   G 0.2575406 0.1219512 0.2993348 0.2857143\n",
            "   T 0.2041763 0.3245779 0.1884701 0.2836735\n",
            "\n",
            "  Parameters of node pos10 (multinomial distribution)\n",
            "\n",
            "Conditional probability table:\n",
            " \n",
            "     pos9\n",
            "pos10         A         C         G         T\n",
            "    A 0.2741228 0.2612086 0.2572062 0.1298969\n",
            "    C 0.2214912 0.3157895 0.2439024 0.2742268\n",
            "    G 0.2741228 0.1052632 0.2638581 0.3216495\n",
            "    T 0.2302632 0.3177388 0.2350333 0.2742268\n",
            "\n",
            "  Parameters of node pos11 (multinomial distribution)\n",
            "\n",
            "Conditional probability table:\n",
            " \n",
            "     pos10\n",
            "pos11          A          C          G          T\n",
            "    A 0.23287671 0.24703557 0.24889868 0.11242604\n",
            "    C 0.24657534 0.32213439 0.29515419 0.28205128\n",
            "    G 0.30821918 0.09683794 0.28854626 0.34714004\n",
            "    T 0.21232877 0.33399209 0.16740088 0.25838264\n",
            "\n",
            "  Parameters of node pos12 (multinomial distribution)\n",
            "\n",
            "Conditional probability table:\n",
            " \n",
            "     pos11\n",
            "pos12          A          C          G          T\n",
            "    A 0.28967254 0.24452555 0.27087576 0.15138593\n",
            "    C 0.22670025 0.32481752 0.25661914 0.28144989\n",
            "    G 0.26196474 0.08576642 0.30142566 0.29637527\n",
            "    T 0.22166247 0.34489051 0.17107943 0.27078891\n",
            "\n",
            "  Parameters of node pos13 (multinomial distribution)\n",
            "\n",
            "Conditional probability table:\n",
            " \n",
            "     pos12\n",
            "pos13          A          C          G          T\n",
            "    A 0.30684327 0.27376426 0.33561644 0.11270492\n",
            "    C 0.22737307 0.31749049 0.24885845 0.32991803\n",
            "    G 0.29139073 0.07984791 0.27168950 0.29098361\n",
            "    T 0.17439294 0.32889734 0.14383562 0.26639344\n",
            "\n",
            "  Parameters of node pos14 (multinomial distribution)\n",
            "\n",
            "Conditional probability table:\n",
            " \n",
            "     pos13\n",
            "pos14          A          C          G          T\n",
            "    A 0.23298969 0.25370370 0.24597701 0.11460674\n",
            "    C 0.26185567 0.35370370 0.28735632 0.29662921\n",
            "    G 0.27835052 0.09259259 0.29655172 0.32359551\n",
            "    T 0.22680412 0.30000000 0.17011494 0.26516854\n",
            "\n",
            "  Parameters of node pos15 (multinomial distribution)\n",
            "\n",
            "Conditional probability table:\n",
            " \n",
            "     class\n",
            "pos15        EI        IE         N\n",
            "    A 0.2423581 0.1111111 0.2510121\n",
            "    C 0.3253275 0.3790850 0.2570850\n",
            "    G 0.1921397 0.1111111 0.2621457\n",
            "    T 0.2401747 0.3986928 0.2297571\n",
            "\n",
            "  Parameters of node pos16 (multinomial distribution)\n",
            "\n",
            "Conditional probability table:\n",
            " \n",
            "     class\n",
            "pos16         EI         IE          N\n",
            "    A 0.20742358 0.09368192 0.25000000\n",
            "    C 0.31441048 0.37908497 0.25101215\n",
            "    G 0.28602620 0.10675381 0.22773279\n",
            "    T 0.19213974 0.42047930 0.27125506\n",
            "\n",
            "  Parameters of node pos17 (multinomial distribution)\n",
            "\n",
            "Conditional probability table:\n",
            " \n",
            "     class\n",
            "pos17         EI         IE          N\n",
            "    A 0.24017467 0.07189542 0.23380567\n",
            "    C 0.27074236 0.33769063 0.25000000\n",
            "    G 0.25982533 0.12636166 0.26821862\n",
            "    T 0.22925764 0.46405229 0.24797571\n",
            "\n",
            "  Parameters of node pos18 (multinomial distribution)\n",
            "\n",
            "Conditional probability table:\n",
            " \n",
            "     class\n",
            "pos18         EI         IE          N\n",
            "    A 0.25327511 0.07407407 0.23178138\n",
            "    C 0.25327511 0.37037037 0.26518219\n",
            "    G 0.26637555 0.10239651 0.24696356\n",
            "    T 0.22707424 0.45315904 0.25607287\n",
            "\n",
            "  Parameters of node pos19 (multinomial distribution)\n",
            "\n",
            "Conditional probability table:\n",
            " \n",
            "     class\n",
            "pos19         EI         IE          N\n",
            "    A 0.25764192 0.05010893 0.27024291\n",
            "    C 0.28602620 0.36383442 0.22368421\n",
            "    G 0.23144105 0.11982571 0.25202429\n",
            "    T 0.22489083 0.46623094 0.25404858\n",
            "\n",
            "  Parameters of node pos20 (multinomial distribution)\n",
            "\n",
            "Conditional probability table:\n",
            " \n",
            "     class\n",
            "pos20         EI         IE          N\n",
            "    A 0.22052402 0.09150327 0.24898785\n",
            "    C 0.27292576 0.35294118 0.26720648\n",
            "    G 0.30567686 0.09803922 0.25809717\n",
            "    T 0.20087336 0.45751634 0.22570850\n",
            "\n",
            "  Parameters of node pos21 (multinomial distribution)\n",
            "\n",
            "Conditional probability table:\n",
            " \n",
            "     pos20\n",
            "pos21          A          C          G          T\n",
            "    A 0.27763496 0.26497278 0.25909091 0.10476190\n",
            "    C 0.22879177 0.35934664 0.28863636 0.27809524\n",
            "    G 0.29562982 0.07259528 0.27272727 0.29142857\n",
            "    T 0.19794344 0.30308530 0.17954545 0.32571429\n",
            "\n",
            "  Parameters of node pos22 (multinomial distribution)\n",
            "\n",
            "Conditional probability table:\n",
            " \n",
            "     class\n",
            "pos22         EI         IE          N\n",
            "    A 0.25109170 0.04793028 0.24493927\n",
            "    C 0.31877729 0.43355120 0.26113360\n",
            "    G 0.22707424 0.11328976 0.25506073\n",
            "    T 0.20305677 0.40522876 0.23886640\n",
            "\n",
            "  Parameters of node pos23 (multinomial distribution)\n",
            "\n",
            "Conditional probability table:\n",
            " \n",
            "     class\n",
            "pos23         EI         IE          N\n",
            "    A 0.20960699 0.08278867 0.24898785\n",
            "    C 0.26637555 0.43355120 0.23987854\n",
            "    G 0.31004367 0.06753813 0.24696356\n",
            "    T 0.21397380 0.41612200 0.26417004\n",
            "\n",
            "  Parameters of node pos24 (multinomial distribution)\n",
            "\n",
            "Conditional probability table:\n",
            " \n",
            "     class\n",
            "pos24         EI         IE          N\n",
            "    A 0.28384279 0.05228758 0.23076923\n",
            "    C 0.21397380 0.45751634 0.26113360\n",
            "    G 0.25764192 0.06318083 0.29453441\n",
            "    T 0.24454148 0.42701525 0.21356275\n",
            "\n",
            "  Parameters of node pos25 (multinomial distribution)\n",
            "\n",
            "Conditional probability table:\n",
            " \n",
            ", , pos24 = A\n",
            "\n",
            "     class\n",
            "pos25         EI         IE          N\n",
            "    A 0.32307692 0.20833333 0.26754386\n",
            "    C 0.15384615 0.37500000 0.19298246\n",
            "    G 0.26923077 0.00000000 0.28070175\n",
            "    T 0.25384615 0.41666667 0.25877193\n",
            "\n",
            ", , pos24 = C\n",
            "\n",
            "     class\n",
            "pos25         EI         IE          N\n",
            "    A 0.33673469 0.08095238 0.30232558\n",
            "    C 0.20408163 0.42857143 0.30620155\n",
            "    G 0.06122449 0.00952381 0.09689922\n",
            "    T 0.39795918 0.48095238 0.29457364\n",
            "\n",
            ", , pos24 = G\n",
            "\n",
            "     class\n",
            "pos25         EI         IE          N\n",
            "    A 0.31355932 0.10344828 0.30240550\n",
            "    C 0.24576271 0.31034483 0.23711340\n",
            "    G 0.33898305 0.37931034 0.26460481\n",
            "    T 0.10169492 0.20689655 0.19587629\n",
            "\n",
            ", , pos24 = T\n",
            "\n",
            "     class\n",
            "pos25         EI         IE          N\n",
            "    A 0.08035714 0.03571429 0.12322275\n",
            "    C 0.31250000 0.27551020 0.23696682\n",
            "    G 0.33035714 0.10714286 0.36018957\n",
            "    T 0.27678571 0.58163265 0.27962085\n",
            "\n",
            "\n",
            "  Parameters of node pos26 (multinomial distribution)\n",
            "\n",
            "Conditional probability table:\n",
            " \n",
            "     pos25\n",
            "pos26         A         C         G         T\n",
            "    A 0.2832512 0.2933071 0.2284264 0.1423786\n",
            "    C 0.2364532 0.3326772 0.2563452 0.2663317\n",
            "    G 0.2955665 0.1200787 0.3477157 0.3634841\n",
            "    T 0.1847291 0.2539370 0.1675127 0.2278057\n",
            "\n",
            "  Parameters of node pos27 (multinomial distribution)\n",
            "\n",
            "Conditional probability table:\n",
            " \n",
            "     class\n",
            "pos27          EI          IE           N\n",
            "    A 0.338427948 0.032679739 0.268218623\n",
            "    C 0.368995633 0.773420479 0.246963563\n",
            "    G 0.179039301 0.004357298 0.257085020\n",
            "    T 0.113537118 0.189542484 0.227732794\n",
            "\n",
            "  Parameters of node pos28 (multinomial distribution)\n",
            "\n",
            "Conditional probability table:\n",
            " \n",
            "     class\n",
            "pos28          EI          IE           N\n",
            "    A 0.587336245 0.997821351 0.243927126\n",
            "    C 0.120087336 0.002178649 0.265182186\n",
            "    G 0.155021834 0.000000000 0.243927126\n",
            "    T 0.137554585 0.000000000 0.246963563\n",
            "\n",
            "  Parameters of node pos29 (multinomial distribution)\n",
            "\n",
            "Conditional probability table:\n",
            " \n",
            "     class\n",
            "pos29          EI          IE           N\n",
            "    A 0.082969432 0.002178649 0.247975709\n",
            "    C 0.030567686 0.002178649 0.254048583\n",
            "    G 0.827510917 0.995642702 0.266194332\n",
            "    T 0.058951965 0.000000000 0.231781377\n",
            "\n",
            "  Parameters of node pos30 (multinomial distribution)\n",
            "\n",
            "Conditional probability table:\n",
            " \n",
            "     class\n",
            "pos30          EI          IE           N\n",
            "    A 0.000000000 0.307189542 0.215587045\n",
            "    C 0.002183406 0.145969499 0.240890688\n",
            "    G 0.997816594 0.448801743 0.280364372\n",
            "    T 0.000000000 0.098039216 0.263157895\n",
            "\n",
            "  Parameters of node pos31 (multinomial distribution)\n",
            "\n",
            "Conditional probability table:\n",
            " \n",
            "     class\n",
            "pos31          EI          IE           N\n",
            "    A 0.002183406 0.254901961 0.253036437\n",
            "    C 0.006550218 0.204793028 0.242914980\n",
            "    G 0.002183406 0.220043573 0.245951417\n",
            "    T 0.989082969 0.320261438 0.258097166\n",
            "\n",
            "  Parameters of node pos32 (multinomial distribution)\n",
            "\n",
            "Conditional probability table:\n",
            " \n",
            "     class\n",
            "pos32         EI         IE          N\n",
            "    A 0.48908297 0.23965142 0.27226721\n",
            "    C 0.02183406 0.27015251 0.24392713\n",
            "    G 0.47161572 0.23965142 0.26214575\n",
            "    T 0.01746725 0.25054466 0.22165992\n",
            "\n",
            "  Parameters of node pos33 (multinomial distribution)\n",
            "\n",
            "Conditional probability table:\n",
            " \n",
            "     class\n",
            "pos33         EI         IE          N\n",
            "    A 0.72925764 0.23965142 0.24696356\n",
            "    C 0.09170306 0.26361656 0.25809717\n",
            "    G 0.12008734 0.26361656 0.26012146\n",
            "    T 0.05895197 0.23311547 0.23481781\n",
            "\n",
            "  Parameters of node pos34 (multinomial distribution)\n",
            "\n",
            "Conditional probability table:\n",
            " \n",
            "     class\n",
            "pos34         EI         IE          N\n",
            "    A 0.04803493 0.22222222 0.24898785\n",
            "    C 0.05458515 0.30936819 0.26113360\n",
            "    G 0.84716157 0.21132898 0.24190283\n",
            "    T 0.05021834 0.25708061 0.24797571\n",
            "\n",
            "  Parameters of node pos35 (multinomial distribution)\n",
            "\n",
            "Conditional probability table:\n",
            " \n",
            "     pos34\n",
            "pos35          A          C          G          T\n",
            "    A 0.24054054 0.27058824 0.20027624 0.14507772\n",
            "    C 0.23243243 0.33882353 0.20165746 0.29274611\n",
            "    G 0.30270270 0.08941176 0.25000000 0.33678756\n",
            "    T 0.22432432 0.30117647 0.34806630 0.22538860\n",
            "\n",
            "  Parameters of node pos36 (multinomial distribution)\n",
            "\n",
            "Conditional probability table:\n",
            " \n",
            "     pos35\n",
            "pos36         A         C         G         T\n",
            "    A 0.3086420 0.2801636 0.2950108 0.1672727\n",
            "    C 0.1753086 0.2822086 0.2342733 0.2000000\n",
            "    G 0.3481481 0.1615542 0.3253796 0.4272727\n",
            "    T 0.1679012 0.2760736 0.1453362 0.2054545\n",
            "\n",
            "  Parameters of node pos37 (multinomial distribution)\n",
            "\n",
            "Conditional probability table:\n",
            " \n",
            "     pos36\n",
            "pos37          A          C          G          T\n",
            "    A 0.24285714 0.29274005 0.24793388 0.13054830\n",
            "    C 0.19387755 0.33021077 0.28595041 0.30809399\n",
            "    G 0.31632653 0.09133489 0.30082645 0.28981723\n",
            "    T 0.24693878 0.28571429 0.16528926 0.27154047\n",
            "\n",
            "  Parameters of node pos38 (multinomial distribution)\n",
            "\n",
            "Conditional probability table:\n",
            " \n",
            "     pos37\n",
            "pos38         A         C         G         T\n",
            "    A 0.2454955 0.2220114 0.2525667 0.1454139\n",
            "    C 0.2319820 0.3396584 0.2484600 0.2975391\n",
            "    G 0.3018018 0.1176471 0.3182752 0.3199105\n",
            "    T 0.2207207 0.3206831 0.1806982 0.2371365\n",
            "\n",
            "  Parameters of node pos39 (multinomial distribution)\n",
            "\n",
            "Conditional probability table:\n",
            " \n",
            "     pos38\n",
            "pos39         A         C         G         T\n",
            "    A 0.2657005 0.2611940 0.2226721 0.1084599\n",
            "    C 0.1884058 0.3227612 0.2469636 0.2472885\n",
            "    G 0.3236715 0.1473881 0.3259109 0.3991323\n",
            "    T 0.2222222 0.2686567 0.2044534 0.2451193\n",
            "\n",
            "  Parameters of node pos40 (multinomial distribution)\n",
            "\n",
            "Conditional probability table:\n",
            " \n",
            "     pos39\n",
            "pos40         A         C         G         T\n",
            "    A 0.3097561 0.2546201 0.2222222 0.1488889\n",
            "    C 0.2170732 0.3203285 0.2491039 0.1955556\n",
            "    G 0.2780488 0.1047228 0.3584229 0.3955556\n",
            "    T 0.1951220 0.3203285 0.1702509 0.2600000\n",
            "\n",
            "  Parameters of node pos41 (multinomial distribution)\n",
            "\n",
            "Conditional probability table:\n",
            " \n",
            "     pos40\n",
            "pos41         A         C         G         T\n",
            "    A 0.2420814 0.2563559 0.2449355 0.1696429\n",
            "    C 0.2058824 0.3389831 0.2615101 0.2254464\n",
            "    G 0.3484163 0.1207627 0.3057090 0.3549107\n",
            "    T 0.2036199 0.2838983 0.1878453 0.2500000\n",
            "\n",
            "  Parameters of node pos42 (multinomial distribution)\n",
            "\n",
            "Conditional probability table:\n",
            " \n",
            "     pos41\n",
            "pos42         A         C         G         T\n",
            "    A 0.2334096 0.2631579 0.2574627 0.1484018\n",
            "    C 0.2173913 0.3360324 0.2742537 0.2557078\n",
            "    G 0.3501144 0.1153846 0.3190299 0.3401826\n",
            "    T 0.1990847 0.2854251 0.1492537 0.2557078\n",
            "\n",
            "  Parameters of node pos43 (multinomial distribution)\n",
            "\n",
            "Conditional probability table:\n",
            " \n",
            "     pos42\n",
            "pos43         A         C         G         T\n",
            "    A 0.2620690 0.2230769 0.2924528 0.1357143\n",
            "    C 0.2091954 0.3557692 0.2320755 0.2428571\n",
            "    G 0.2988506 0.1192308 0.2981132 0.3190476\n",
            "    T 0.2298851 0.3019231 0.1773585 0.3023810\n",
            "\n",
            "  Parameters of node pos44 (multinomial distribution)\n",
            "\n",
            "Conditional probability table:\n",
            " \n",
            "     pos43\n",
            "pos44         A         C         G         T\n",
            "    A 0.3099548 0.2475050 0.2417355 0.1401674\n",
            "    C 0.2081448 0.3532934 0.2954545 0.2594142\n",
            "    G 0.2737557 0.1137725 0.3099174 0.3661088\n",
            "    T 0.2081448 0.2854291 0.1528926 0.2343096\n",
            "\n",
            "  Parameters of node pos45 (multinomial distribution)\n",
            "\n",
            "Conditional probability table:\n",
            " \n",
            "     pos44\n",
            "pos45         A         C         G         T\n",
            "    A 0.2651685 0.2611940 0.2743539 0.1282660\n",
            "    C 0.2112360 0.3544776 0.2326044 0.2684086\n",
            "    G 0.3213483 0.1119403 0.3359841 0.3301663\n",
            "    T 0.2022472 0.2723881 0.1570577 0.2731591\n",
            "\n",
            "  Parameters of node pos46 (multinomial distribution)\n",
            "\n",
            "Conditional probability table:\n",
            " \n",
            "     pos45\n",
            "pos46         A         C         G         T\n",
            "    A 0.3066667 0.2431907 0.2583170 0.1418605\n",
            "    C 0.1666667 0.3404669 0.2035225 0.2418605\n",
            "    G 0.2866667 0.1284047 0.3737769 0.3348837\n",
            "    T 0.2400000 0.2879377 0.1643836 0.2813953\n",
            "\n",
            "  Parameters of node pos47 (multinomial distribution)\n",
            "\n",
            "Conditional probability table:\n",
            " \n",
            "     pos46\n",
            "pos47         A         C         G         T\n",
            "    A 0.2719298 0.2860262 0.2679245 0.1431670\n",
            "    C 0.2061404 0.3013100 0.2716981 0.2299349\n",
            "    G 0.3355263 0.1091703 0.3433962 0.3535792\n",
            "    T 0.1864035 0.3034934 0.1169811 0.2733189\n",
            "\n",
            "  Parameters of node pos48 (multinomial distribution)\n",
            "\n",
            "Conditional probability table:\n",
            " \n",
            "     pos47\n",
            "pos48         A         C         G         T\n",
            "    A 0.2419006 0.2800830 0.2299270 0.1529126\n",
            "    C 0.2095032 0.3485477 0.2445255 0.2451456\n",
            "    G 0.3563715 0.1244813 0.3412409 0.3446602\n",
            "    T 0.1922246 0.2468880 0.1843066 0.2572816\n",
            "\n",
            "  Parameters of node pos49 (multinomial distribution)\n",
            "\n",
            "Conditional probability table:\n",
            " \n",
            "     pos48\n",
            "pos49         A         C         G         T\n",
            "    A 0.2614679 0.2920000 0.2563177 0.1614458\n",
            "    C 0.2064220 0.3220000 0.2220217 0.2048193\n",
            "    G 0.3073394 0.1400000 0.3231047 0.3542169\n",
            "    T 0.2247706 0.2460000 0.1985560 0.2795181\n",
            "\n",
            "  Parameters of node pos50 (multinomial distribution)\n",
            "\n",
            "Conditional probability table:\n",
            " \n",
            "     pos49\n",
            "pos50          A          C          G          T\n",
            "    A 0.24733475 0.29629630 0.23396226 0.09843400\n",
            "    C 0.25586354 0.33333333 0.26226415 0.25727069\n",
            "    G 0.32835821 0.08278867 0.33773585 0.38926174\n",
            "    T 0.16844350 0.28758170 0.16603774 0.25503356\n",
            "\n",
            "  Parameters of node pos51 (multinomial distribution)\n",
            "\n",
            "Conditional probability table:\n",
            " \n",
            "     pos50\n",
            "pos51         A         C         G         T\n",
            "    A 0.2380952 0.3358634 0.2990826 0.1355932\n",
            "    C 0.2047619 0.3055028 0.2348624 0.2227603\n",
            "    G 0.3380952 0.1214421 0.2990826 0.3559322\n",
            "    T 0.2190476 0.2371917 0.1669725 0.2857143\n",
            "\n",
            "  Parameters of node pos52 (multinomial distribution)\n",
            "\n",
            "Conditional probability table:\n",
            " \n",
            "     pos51\n",
            "pos52         A         C         G         T\n",
            "    A 0.2641129 0.2612420 0.2596899 0.1267606\n",
            "    C 0.2137097 0.3190578 0.2441860 0.2112676\n",
            "    G 0.3064516 0.1199143 0.3294574 0.3849765\n",
            "    T 0.2157258 0.2997859 0.1666667 0.2769953\n",
            "\n",
            "  Parameters of node pos53 (multinomial distribution)\n",
            "\n",
            "Conditional probability table:\n",
            " \n",
            "     pos52\n",
            "pos53         A         C         G         T\n",
            "    A 0.2607710 0.2590234 0.2306273 0.1352550\n",
            "    C 0.2063492 0.3375796 0.2472325 0.2638581\n",
            "    G 0.3560091 0.1549894 0.3339483 0.3547672\n",
            "    T 0.1768707 0.2484076 0.1881919 0.2461197\n",
            "\n",
            "  Parameters of node pos54 (multinomial distribution)\n",
            "\n",
            "Conditional probability table:\n",
            " \n",
            "     pos53\n",
            "pos54         A         C         G         T\n",
            "    A 0.2931442 0.2644135 0.2819615 0.1544118\n",
            "    C 0.2198582 0.3598410 0.2381786 0.2573529\n",
            "    G 0.3238771 0.1133201 0.3064799 0.3259804\n",
            "    T 0.1631206 0.2624254 0.1733800 0.2622549\n",
            "\n",
            "  Parameters of node pos55 (multinomial distribution)\n",
            "\n",
            "Conditional probability table:\n",
            " \n",
            "     pos54\n",
            "pos55         A         C         G         T\n",
            "    A 0.3118503 0.2660194 0.2529880 0.1474201\n",
            "    C 0.1850312 0.3242718 0.2330677 0.2555283\n",
            "    G 0.3014553 0.1126214 0.3406375 0.3120393\n",
            "    T 0.2016632 0.2970874 0.1733068 0.2850123\n",
            "\n",
            "  Parameters of node pos56 (multinomial distribution)\n",
            "\n",
            "Conditional probability table:\n",
            " \n",
            "     pos55\n",
            "pos56          A          C          G          T\n",
            "    A 0.27637131 0.30188679 0.24351297 0.14569536\n",
            "    C 0.20675105 0.29350105 0.22554890 0.24944812\n",
            "    G 0.32700422 0.09224319 0.34331337 0.34878587\n",
            "    T 0.18987342 0.31236897 0.18762475 0.25607064\n",
            "\n",
            "  Parameters of node pos57 (multinomial distribution)\n",
            "\n",
            "Conditional probability table:\n",
            " \n",
            "     pos56\n",
            "pos57         A         C         G         T\n",
            "    A 0.2267819 0.2866379 0.2306238 0.1492205\n",
            "    C 0.2203024 0.3168103 0.2741021 0.2717149\n",
            "    G 0.3434125 0.1271552 0.3100189 0.3251670\n",
            "    T 0.2095032 0.2693966 0.1852552 0.2538976\n",
            "\n",
            "  Parameters of node pos58 (multinomial distribution)\n",
            "\n",
            "Conditional probability table:\n",
            " \n",
            "     pos57\n",
            "pos58          A          C          G          T\n",
            "    A 0.24121780 0.28682171 0.30113636 0.13824885\n",
            "    C 0.23887588 0.33527132 0.22727273 0.29953917\n",
            "    G 0.31615925 0.09496124 0.30871212 0.27649770\n",
            "    T 0.20374707 0.28294574 0.16287879 0.28571429\n",
            "\n",
            "  Parameters of node pos59 (multinomial distribution)\n",
            "\n",
            "Conditional probability table:\n",
            " \n",
            "     pos58\n",
            "pos59         A         C         G         T\n",
            "    A 0.2617021 0.2628571 0.2162741 0.1106095\n",
            "    C 0.2148936 0.2933333 0.2355460 0.2415350\n",
            "    G 0.3404255 0.1295238 0.3554604 0.4018059\n",
            "    T 0.1829787 0.3142857 0.1927195 0.2460497\n",
            "\n"
          ],
          "name": "stdout"
        }
      ]
    },
    {
      "cell_type": "markdown",
      "metadata": {
        "id": "WprFBfX1Aqg3"
      },
      "source": [
        "En este punto, se tiene tanto la estructura como la distribución. Por lo tanto, ya se tiene aprendida la RB sobre el conjunto de entrenamiento."
      ]
    },
    {
      "cell_type": "markdown",
      "metadata": {
        "id": "VaA-yQ5tW_HK"
      },
      "source": [
        "## Predicción"
      ]
    },
    {
      "cell_type": "markdown",
      "metadata": {
        "id": "ZYL5N7-7BaHx"
      },
      "source": [
        "Ahora, se puede realizar la predicción de la variable *class* para las instancias del conjunto de comprobación (*test*). Este conjunto no ha intervenido en el proceso de estimación y por tanto es una buena forma de saber si la RB será capaz de generalizar la información aprendida.\n",
        "\n",
        "Para analizar la bondad del modelo en el problema de clasificación sobre las etiquetas, se ha decidido implementar una función llamada *predecir* que evalúa el porcentaje de etiquetas acertadas por el modelo en un determinado conjunto. Para ello, se usa la función [predict](https://www.bnlearn.com/documentation/man/impute.html) de bnlearn. \n",
        "\n",
        "Con esta función se consigue la probabilidad de que se dé un hecho ante un conjunto de evidencias. Por tanto, si la evidencia es la instancia a predecir sin la variable *class*, se obtienen las probabilidades de que esa instancia pertenezca a una determinada clase. Con este hecho y la etiqueta asociada a la instancia; se puede comprobar si la predicción es correcta.\n",
        "\n",
        "La función *predecir*, escoge la etiqueta predicha con mayor probabilidad y la compara con la etiqueta real de la instancia. Si esta etiqueta es la misma, entonces se ha acertado en la predicción. Los parámetros de la función *predecir* son:\n",
        "\n",
        "* **modelo**. La distribución con la que se quiere predecir.\n",
        "* **conjunto**. El conjunto a evaluar la predicción.\n",
        "* **metodo**. Método elegido para la función *predict*. Se va a usar el método *bayes-lw*."
      ]
    },
    {
      "cell_type": "markdown",
      "metadata": {
        "id": "0Dn7yJGLJwkm"
      },
      "source": [
        "Para visualizar lo que se comenta, se va a calcular las probabilidades de que una instancia del conjunto test sea de una determinada clase."
      ]
    },
    {
      "cell_type": "code",
      "metadata": {
        "colab": {
          "base_uri": "https://localhost:8080/"
        },
        "id": "p0Lw2KRUwb7C",
        "outputId": "f43f4cec-30a8-443a-9a61-c346ee8befba"
      },
      "source": [
        "%%R\n",
        "evidencias=subset(test,select=-c(class))\n",
        "evidencias[8,]"
      ],
      "execution_count": null,
      "outputs": [
        {
          "output_type": "stream",
          "text": [
            "     pos0 pos1 pos2 pos3 pos4 pos5 pos6 pos7 pos8 pos9 pos10 pos11 pos12 pos13\n",
            "1987    T    G    A    C    G    C    C    C    T    C     A     A     G     G\n",
            "     pos14 pos15 pos16 pos17 pos18 pos19 pos20 pos21 pos22 pos23 pos24 pos25\n",
            "1987     G     C     A     C     T     G     T     G     A     G     T     C\n",
            "     pos26 pos27 pos28 pos29 pos30 pos31 pos32 pos33 pos34 pos35 pos36 pos37\n",
            "1987     C     C     T     G     C     C     C     A     C     C     T     G\n",
            "     pos38 pos39 pos40 pos41 pos42 pos43 pos44 pos45 pos46 pos47 pos48 pos49\n",
            "1987     G     G     C     C     A     G     G     C     C     C     T     G\n",
            "     pos50 pos51 pos52 pos53 pos54 pos55 pos56 pos57 pos58 pos59\n",
            "1987     C     C     C     C     T     T     C     T     C     T\n"
          ],
          "name": "stdout"
        }
      ]
    },
    {
      "cell_type": "code",
      "metadata": {
        "colab": {
          "base_uri": "https://localhost:8080/"
        },
        "id": "2H-CHzUwIwvE",
        "outputId": "d7a751dd-17c2-4db4-b87d-31eddc5d632a"
      },
      "source": [
        "%%R\n",
        "predict(model, node = \"class\", data = evidencias[8,], method = \"bayes-lw\",prob=TRUE)"
      ],
      "execution_count": null,
      "outputs": [
        {
          "output_type": "stream",
          "text": [
            "[1] N\n",
            "attr(,\"prob\")\n",
            "           [,1]\n",
            "EI 2.263528e-05\n",
            "IE 0.000000e+00\n",
            "N  9.999774e-01\n",
            "Levels: EI IE N\n"
          ],
          "name": "stdout"
        }
      ]
    },
    {
      "cell_type": "code",
      "metadata": {
        "colab": {
          "base_uri": "https://localhost:8080/"
        },
        "id": "cTeYWncXKNzv",
        "outputId": "aa0f94f5-edeb-4f91-c085-a9e49d511a9a"
      },
      "source": [
        "%%R\n",
        "test[8,1]"
      ],
      "execution_count": null,
      "outputs": [
        {
          "output_type": "stream",
          "text": [
            "[1] N\n",
            "Levels: EI IE N\n"
          ],
          "name": "stdout"
        }
      ]
    },
    {
      "cell_type": "markdown",
      "metadata": {
        "id": "CE26WOE9Kjk7"
      },
      "source": [
        "Se aprecia, que el modelo estima que la clase de la instancia es N con probabilidad 0.99 y la clase de la instancia es N.\n",
        "\n",
        "A continuación se evalúa este hecho sbre todo el conjunto de test con la función *predecir* indicada anteriormente."
      ]
    },
    {
      "cell_type": "code",
      "metadata": {
        "id": "HEMVKVpFdcV0"
      },
      "source": [
        "%%R\n",
        "\n",
        "predecir <- function(modelo,conjunto,metodo=\"bayes-lw\") { #model es el modelo y evidence el conjunto con el que predecimos\n",
        "  aciertos=0.0\n",
        "  evidence <- subset(conjunto,select=-c(class))\n",
        "  predicted <- predict(model, node = \"class\", data = evidence, method = metodo)\n",
        "\n",
        "  for (i in 1:length(predicted)){\n",
        "      if(predicted[i]==conjunto[['class']][i]){\n",
        "          aciertos = aciertos + 1.0\n",
        "      }\n",
        "  }\n",
        "\n",
        "  return ( aciertos/length(predicted) *100 )\n",
        "\n",
        "}"
      ],
      "execution_count": null,
      "outputs": []
    },
    {
      "cell_type": "code",
      "metadata": {
        "colab": {
          "base_uri": "https://localhost:8080/"
        },
        "id": "Sgi9DEFXm6UE",
        "outputId": "c0fe12be-30b7-4819-918d-599a8ec57a7f"
      },
      "source": [
        "%%R\n",
        "\n",
        "predecir(model,test,metodo=\"bayes-lw\")"
      ],
      "execution_count": null,
      "outputs": [
        {
          "output_type": "stream",
          "text": [
            "[1] 96.06299\n"
          ],
          "name": "stdout"
        }
      ]
    },
    {
      "cell_type": "code",
      "metadata": {
        "colab": {
          "base_uri": "https://localhost:8080/"
        },
        "id": "vXKUqCiWHt_i",
        "outputId": "98a68eb0-a69b-4c66-c99c-e2059b7da5a2"
      },
      "source": [
        "%%R\n",
        "\n",
        "predecir(model,train,metodo=\"bayes-lw\")"
      ],
      "execution_count": null,
      "outputs": [
        {
          "output_type": "stream",
          "text": [
            "[1] 96.0105\n"
          ],
          "name": "stdout"
        }
      ]
    },
    {
      "cell_type": "code",
      "metadata": {
        "colab": {
          "base_uri": "https://localhost:8080/"
        },
        "id": "e9_MGPPnHzT6",
        "outputId": "cd3e3ebd-8bfb-471d-80e3-ee41af6203ed"
      },
      "source": [
        "%%R\n",
        "\n",
        "predecir(model,val,metodo=\"bayes-lw\")"
      ],
      "execution_count": null,
      "outputs": [
        {
          "output_type": "stream",
          "text": [
            "[1] 96.37795\n"
          ],
          "name": "stdout"
        }
      ]
    },
    {
      "cell_type": "markdown",
      "metadata": {
        "id": "x1L-arlJGpV6"
      },
      "source": [
        "**Matriz de Confusión**"
      ]
    },
    {
      "cell_type": "markdown",
      "metadata": {
        "id": "rrlV5t6AQ7Q9"
      },
      "source": [
        "El problema de la métrica anterior es que es susceptible a que un modelo consiga mas aciertos en la clase desbalanceada. Es decir, si el modelo fuese el modelo que constantemente devuelve la clase *N*; este modelo en este conjunto, tendría un 50% de acierto. Con la matriz de confusión calculada se evita este problema; ya que, se ven los fallos que se obtienen en cada clase. "
      ]
    },
    {
      "cell_type": "code",
      "metadata": {
        "id": "x-GqlUKCH8dX"
      },
      "source": [
        "%%R\n",
        "\n",
        "evidence <- subset(test,select=-c(class))\n",
        "predicted <- predict(model, node = \"class\", data = evidence, method = \"bayes-lw\")"
      ],
      "execution_count": null,
      "outputs": []
    },
    {
      "cell_type": "code",
      "metadata": {
        "id": "ngy22CqmJjO8"
      },
      "source": [
        "%R -o predicted -o predicted #transferir metrica a python"
      ],
      "execution_count": null,
      "outputs": []
    },
    {
      "cell_type": "code",
      "metadata": {
        "colab": {
          "base_uri": "https://localhost:8080/",
          "height": 296
        },
        "id": "lRN4vbHGKPuy",
        "outputId": "e8604ee3-f161-4e29-d083-744025b141ca"
      },
      "source": [
        "from sklearn.metrics import confusion_matrix, ConfusionMatrixDisplay\n",
        "\n",
        "confMatrix=confusion_matrix(test[\"class\"], predicted,labels=['EI','IE','N'])\n",
        "disp = ConfusionMatrixDisplay(confusion_matrix=confMatrix,display_labels=['EI','IE','N'])\n",
        "\n",
        "disp.plot() "
      ],
      "execution_count": null,
      "outputs": [
        {
          "output_type": "execute_result",
          "data": {
            "text/plain": [
              "<sklearn.metrics._plot.confusion_matrix.ConfusionMatrixDisplay at 0x7feebdf87f10>"
            ]
          },
          "metadata": {
            "tags": []
          },
          "execution_count": 78
        },
        {
          "output_type": "display_data",
          "data": {
            "image/png": "[encoded data removed]",
            "text/plain": [
              "<Figure size 432x288 with 2 Axes>"
            ]
          },
          "metadata": {
            "tags": [],
            "needs_background": "light"
          }
        }
      ]
    },
    {
      "cell_type": "markdown",
      "metadata": {
        "id": "Bd6fHh3LRR1I"
      },
      "source": [
        "Se observa, que las clases tienen prácticamente el mismo número de fallos, por lo que el modelo no se ha visto afectado por los datos desbalanceados. Para comprobar esto se van a evaluar dos métricas: F1 score y Recall. Se han elegido estas métricas porque funcionan bien con datos desbalanceados."
      ]
    },
    {
      "cell_type": "code",
      "metadata": {
        "colab": {
          "base_uri": "https://localhost:8080/"
        },
        "id": "Ag4UMyo7MxZv",
        "outputId": "b4aa88ee-f3ae-4688-fc97-0dac8aed7414"
      },
      "source": [
        "from sklearn.metrics import f1_score,recall_score\n",
        "\n",
        "f1_score(test[\"class\"], predicted,labels=['EI','IE','N'], average='weighted') #weighted para unbalanced"
      ],
      "execution_count": null,
      "outputs": [
        {
          "output_type": "execute_result",
          "data": {
            "text/plain": [
              "0.960573362584266"
            ]
          },
          "metadata": {
            "tags": []
          },
          "execution_count": 79
        }
      ]
    },
    {
      "cell_type": "code",
      "metadata": {
        "colab": {
          "base_uri": "https://localhost:8080/"
        },
        "id": "fYtru_i2QXDk",
        "outputId": "bd7a7c44-0acf-4d83-f538-38ea74ee7918"
      },
      "source": [
        "recall_score(test[\"class\"], predicted,labels=['EI','IE','N'], average='weighted')"
      ],
      "execution_count": null,
      "outputs": [
        {
          "output_type": "execute_result",
          "data": {
            "text/plain": [
              "0.9606299212598425"
            ]
          },
          "metadata": {
            "tags": []
          },
          "execution_count": 80
        }
      ]
    },
    {
      "cell_type": "markdown",
      "metadata": {
        "id": "lvbo0u92H2yU"
      },
      "source": [
        "El modelo consigue resultados buenos para todas las etiquetas, y las métricas así lo demuestran. Estos resultados son generalizables; ya que el conjunto *test* no ha intervenido en el proceso de estimación de la RB. "
      ]
    },
    {
      "cell_type": "markdown",
      "metadata": {
        "id": "BOGnV9NCqCOu"
      },
      "source": [
        "# Representar Red Bayesiana Interactiva\n",
        "\n",
        "Para representar la red bayesiana y que podamos verla voy a usar la web [edotor](https://edotor.net/) para el que necesitamos la red en formato .DOT\n",
        "\n",
        "\n"
      ]
    },
    {
      "cell_type": "code",
      "metadata": {
        "id": "ctA9QrWXrG8W"
      },
      "source": [
        "%%R\n",
        "network=iamb"
      ],
      "execution_count": null,
      "outputs": []
    },
    {
      "cell_type": "code",
      "metadata": {
        "id": "8LxxfbtCs1nQ"
      },
      "source": [
        "%%R\n",
        "write.dot(network, file = \"dag.dot\")\n",
        "cat(readLines(\"dag.dot\"), sep = \"\\n\")\n"
      ],
      "execution_count": null,
      "outputs": []
    }
  ]
}