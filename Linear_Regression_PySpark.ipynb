{
  "nbformat": 4,
  "nbformat_minor": 0,
  "metadata": {
    "colab": {
      "name": "Linear_Regression_PySpark.ipynb",
      "provenance": [],
      "collapsed_sections": [],
      "authorship_tag": "ABX9TyOkLg7UphZmkrm6M4JyGg2S",
      "include_colab_link": true
    },
    "kernelspec": {
      "name": "python3",
      "display_name": "Python 3"
    }
  },
  "cells": [
    {
      "cell_type": "markdown",
      "metadata": {
        "id": "view-in-github",
        "colab_type": "text"
      },
      "source": [
        "<a href=\"https://colab.research.google.com/github/ernesto-miguez/Machine-Learning-training/blob/master/Linear_Regression_PySpark.ipynb\" target=\"_parent\"><img src=\"https://colab.research.google.com/assets/colab-badge.svg\" alt=\"Open In Colab\"/></a>"
      ]
    },
    {
      "cell_type": "code",
      "metadata": {
        "id": "SKC9MxOsKICE",
        "colab_type": "code",
        "colab": {}
      },
      "source": [
        "!apt-get install openjdk-8-jdk-headless -qq > /dev/null\n",
        "!wget -q https://www-us.apache.org/dist/spark/spark-2.4.5/spark-2.4.5-bin-hadoop2.7.tgz\n",
        "!tar xf spark-2.4.5-bin-hadoop2.7.tgz\n",
        "!pip install -q findspark\n",
        "import os\n",
        "os.environ[\"JAVA_HOME\"] = \"/usr/lib/jvm/java-8-openjdk-amd64\"\n",
        "os.environ[\"SPARK_HOME\"] = \"/content/spark-2.4.5-bin-hadoop2.7\"\n",
        "import findspark\n",
        "findspark.init()"
      ],
      "execution_count": 0,
      "outputs": []
    },
    {
      "cell_type": "code",
      "metadata": {
        "id": "jeHdNEaN55wV",
        "colab_type": "code",
        "colab": {}
      },
      "source": [
        "from pyspark import SparkContext\n",
        "from pyspark.sql import SQLContext\n",
        "sc = SparkContext(appName='JSON Schema')\n",
        "sqlContext = SQLContext(sc)"
      ],
      "execution_count": 0,
      "outputs": []
    },
    {
      "cell_type": "code",
      "metadata": {
        "id": "lEeORZrUKiXt",
        "colab_type": "code",
        "outputId": "f8edca1f-2a05-4fab-accd-52c88c974d11",
        "colab": {
          "resources": {
            "http://localhost:8080/nbextensions/google.colab/files.js": {
              "data": "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",
              "ok": true,
              "headers": [
                [
                  "content-type",
                  "application/javascript"
                ]
              ],
              "status": 200,
              "status_text": "OK"
            }
          },
          "base_uri": "https://localhost:8080/",
          "height": 77
        }
      },
      "source": [
        "from google.colab import  files\n",
        "uploaded = files.upload()"
      ],
      "execution_count": 3,
      "outputs": [
        {
          "output_type": "display_data",
          "data": {
            "text/html": [
              "\n",
              "     <input type=\"file\" id=\"files-1ef3a377-1594-45cf-ae94-601e86be6a7d\" name=\"files[]\" multiple disabled />\n",
              "     <output id=\"result-1ef3a377-1594-45cf-ae94-601e86be6a7d\">\n",
              "      Upload widget is only available when the cell has been executed in the\n",
              "      current browser session. Please rerun this cell to enable.\n",
              "      </output>\n",
              "      <script src=\"/nbextensions/google.colab/files.js\"></script> "
            ],
            "text/plain": [
              "<IPython.core.display.HTML object>"
            ]
          },
          "metadata": {
            "tags": []
          }
        },
        {
          "output_type": "stream",
          "text": [
            "Saving Boston.csv to Boston (1).csv\n"
          ],
          "name": "stdout"
        }
      ]
    },
    {
      "cell_type": "code",
      "metadata": {
        "id": "bwPwDq4rLU4Q",
        "colab_type": "code",
        "outputId": "f5f14df5-62b3-4409-dbd2-56107383e475",
        "colab": {
          "base_uri": "https://localhost:8080/",
          "height": 90
        }
      },
      "source": [
        "!ls"
      ],
      "execution_count": 4,
      "outputs": [
        {
          "output_type": "stream",
          "text": [
            "'Boston (1).csv'\t     spark-2.4.5-bin-hadoop2.7.tgz\n",
            " Boston.csv\t\t     spark-2.4.5-bin-hadoop2.7.tgz.1\n",
            " sample_data\t\t     spark-2.4.5-bin-hadoop2.7.tgz.2\n",
            " spark-2.4.5-bin-hadoop2.7   spark-2.4.5-bin-hadoop2.7.tgz.3\n"
          ],
          "name": "stdout"
        }
      ]
    },
    {
      "cell_type": "code",
      "metadata": {
        "id": "84VqCPCheYLE",
        "colab_type": "code",
        "colab": {}
      },
      "source": [
        "import io\n",
        "import pandas as pd\n",
        "data =  pd.read_csv(io.BytesIO(uploaded['Boston.csv']))"
      ],
      "execution_count": 0,
      "outputs": []
    },
    {
      "cell_type": "code",
      "metadata": {
        "id": "rIjxUmaqP8TG",
        "colab_type": "code",
        "outputId": "6e750f10-1f50-4aed-ff2d-47e9af91f8ae",
        "colab": {
          "base_uri": "https://localhost:8080/",
          "height": 206
        }
      },
      "source": [
        "data.head()"
      ],
      "execution_count": 6,
      "outputs": [
        {
          "output_type": "execute_result",
          "data": {
            "text/html": [
              "<div>\n",
              "<style scoped>\n",
              "    .dataframe tbody tr th:only-of-type {\n",
              "        vertical-align: middle;\n",
              "    }\n",
              "\n",
              "    .dataframe tbody tr th {\n",
              "        vertical-align: top;\n",
              "    }\n",
              "\n",
              "    .dataframe thead th {\n",
              "        text-align: right;\n",
              "    }\n",
              "</style>\n",
              "<table border=\"1\" class=\"dataframe\">\n",
              "  <thead>\n",
              "    <tr style=\"text-align: right;\">\n",
              "      <th></th>\n",
              "      <th>Unnamed: 0</th>\n",
              "      <th>crim</th>\n",
              "      <th>zn</th>\n",
              "      <th>indus</th>\n",
              "      <th>chas</th>\n",
              "      <th>nox</th>\n",
              "      <th>rm</th>\n",
              "      <th>age</th>\n",
              "      <th>dis</th>\n",
              "      <th>rad</th>\n",
              "      <th>tax</th>\n",
              "      <th>ptratio</th>\n",
              "      <th>black</th>\n",
              "      <th>lstat</th>\n",
              "      <th>medv</th>\n",
              "    </tr>\n",
              "  </thead>\n",
              "  <tbody>\n",
              "    <tr>\n",
              "      <th>0</th>\n",
              "      <td>1</td>\n",
              "      <td>0.00632</td>\n",
              "      <td>18.0</td>\n",
              "      <td>2.31</td>\n",
              "      <td>0</td>\n",
              "      <td>0.538</td>\n",
              "      <td>6.575</td>\n",
              "      <td>65.2</td>\n",
              "      <td>4.0900</td>\n",
              "      <td>1</td>\n",
              "      <td>296</td>\n",
              "      <td>15.3</td>\n",
              "      <td>396.90</td>\n",
              "      <td>4.98</td>\n",
              "      <td>24.0</td>\n",
              "    </tr>\n",
              "    <tr>\n",
              "      <th>1</th>\n",
              "      <td>2</td>\n",
              "      <td>0.02731</td>\n",
              "      <td>0.0</td>\n",
              "      <td>7.07</td>\n",
              "      <td>0</td>\n",
              "      <td>0.469</td>\n",
              "      <td>6.421</td>\n",
              "      <td>78.9</td>\n",
              "      <td>4.9671</td>\n",
              "      <td>2</td>\n",
              "      <td>242</td>\n",
              "      <td>17.8</td>\n",
              "      <td>396.90</td>\n",
              "      <td>9.14</td>\n",
              "      <td>21.6</td>\n",
              "    </tr>\n",
              "    <tr>\n",
              "      <th>2</th>\n",
              "      <td>3</td>\n",
              "      <td>0.02729</td>\n",
              "      <td>0.0</td>\n",
              "      <td>7.07</td>\n",
              "      <td>0</td>\n",
              "      <td>0.469</td>\n",
              "      <td>7.185</td>\n",
              "      <td>61.1</td>\n",
              "      <td>4.9671</td>\n",
              "      <td>2</td>\n",
              "      <td>242</td>\n",
              "      <td>17.8</td>\n",
              "      <td>392.83</td>\n",
              "      <td>4.03</td>\n",
              "      <td>34.7</td>\n",
              "    </tr>\n",
              "    <tr>\n",
              "      <th>3</th>\n",
              "      <td>4</td>\n",
              "      <td>0.03237</td>\n",
              "      <td>0.0</td>\n",
              "      <td>2.18</td>\n",
              "      <td>0</td>\n",
              "      <td>0.458</td>\n",
              "      <td>6.998</td>\n",
              "      <td>45.8</td>\n",
              "      <td>6.0622</td>\n",
              "      <td>3</td>\n",
              "      <td>222</td>\n",
              "      <td>18.7</td>\n",
              "      <td>394.63</td>\n",
              "      <td>2.94</td>\n",
              "      <td>33.4</td>\n",
              "    </tr>\n",
              "    <tr>\n",
              "      <th>4</th>\n",
              "      <td>5</td>\n",
              "      <td>0.06905</td>\n",
              "      <td>0.0</td>\n",
              "      <td>2.18</td>\n",
              "      <td>0</td>\n",
              "      <td>0.458</td>\n",
              "      <td>7.147</td>\n",
              "      <td>54.2</td>\n",
              "      <td>6.0622</td>\n",
              "      <td>3</td>\n",
              "      <td>222</td>\n",
              "      <td>18.7</td>\n",
              "      <td>396.90</td>\n",
              "      <td>5.33</td>\n",
              "      <td>36.2</td>\n",
              "    </tr>\n",
              "  </tbody>\n",
              "</table>\n",
              "</div>"
            ],
            "text/plain": [
              "   Unnamed: 0     crim    zn  indus  chas  ...  tax  ptratio   black  lstat  medv\n",
              "0           1  0.00632  18.0   2.31     0  ...  296     15.3  396.90   4.98  24.0\n",
              "1           2  0.02731   0.0   7.07     0  ...  242     17.8  396.90   9.14  21.6\n",
              "2           3  0.02729   0.0   7.07     0  ...  242     17.8  392.83   4.03  34.7\n",
              "3           4  0.03237   0.0   2.18     0  ...  222     18.7  394.63   2.94  33.4\n",
              "4           5  0.06905   0.0   2.18     0  ...  222     18.7  396.90   5.33  36.2\n",
              "\n",
              "[5 rows x 15 columns]"
            ]
          },
          "metadata": {
            "tags": []
          },
          "execution_count": 6
        }
      ]
    },
    {
      "cell_type": "markdown",
      "metadata": {
        "id": "rKsX_lzw-ZnV",
        "colab_type": "text"
      },
      "source": [
        "## Converting pandas dataframe into spark dataframe"
      ]
    },
    {
      "cell_type": "code",
      "metadata": {
        "id": "FVRovewS9vTB",
        "colab_type": "code",
        "colab": {}
      },
      "source": [
        "df = sqlContext.createDataFrame(data)"
      ],
      "execution_count": 0,
      "outputs": []
    },
    {
      "cell_type": "code",
      "metadata": {
        "id": "O1zVFMSS-Q-o",
        "colab_type": "code",
        "colab": {
          "base_uri": "https://localhost:8080/",
          "height": 495
        },
        "outputId": "f6367d65-40fd-4d46-cf52-1556fb853371"
      },
      "source": [
        "df.show()"
      ],
      "execution_count": 11,
      "outputs": [
        {
          "output_type": "stream",
          "text": [
            "+----------+--------------------+----+-----+----+-------------------+------------------+-----+------+---+---+-------+------+-----+----+\n",
            "|Unnamed: 0|                crim|  zn|indus|chas|                nox|                rm|  age|   dis|rad|tax|ptratio| black|lstat|medv|\n",
            "+----------+--------------------+----+-----+----+-------------------+------------------+-----+------+---+---+-------+------+-----+----+\n",
            "|         1|             0.00632|18.0| 2.31|   0| 0.5379999999999999|             6.575| 65.2|  4.09|  1|296|   15.3| 396.9| 4.98|24.0|\n",
            "|         2|             0.02731| 0.0| 7.07|   0|              0.469|             6.421| 78.9|4.9671|  2|242|   17.8| 396.9| 9.14|21.6|\n",
            "|         3|             0.02729| 0.0| 7.07|   0|              0.469|             7.185| 61.1|4.9671|  2|242|   17.8|392.83| 4.03|34.7|\n",
            "|         4|0.032369999999999996| 0.0| 2.18|   0|0.45799999999999996| 6.997999999999999| 45.8|6.0622|  3|222|   18.7|394.63| 2.94|33.4|\n",
            "|         5|             0.06905| 0.0| 2.18|   0|0.45799999999999996|             7.147| 54.2|6.0622|  3|222|   18.7| 396.9| 5.33|36.2|\n",
            "|         6|             0.02985| 0.0| 2.18|   0|0.45799999999999996|              6.43| 58.7|6.0622|  3|222|   18.7|394.12| 5.21|28.7|\n",
            "|         7|             0.08829|12.5| 7.87|   0|              0.524|6.0120000000000005| 66.6|5.5605|  5|311|   15.2| 395.6|12.43|22.9|\n",
            "|         8|             0.14455|12.5| 7.87|   0|              0.524| 6.172000000000001| 96.1|5.9505|  5|311|   15.2| 396.9|19.15|27.1|\n",
            "|         9|             0.21124|12.5| 7.87|   0|              0.524|             5.631|100.0|6.0821|  5|311|   15.2|386.63|29.93|16.5|\n",
            "|        10|             0.17004|12.5| 7.87|   0|              0.524|             6.004| 85.9|6.5921|  5|311|   15.2|386.71| 17.1|18.9|\n",
            "|        11|             0.22489|12.5| 7.87|   0|              0.524| 6.377000000000001| 94.3|6.3467|  5|311|   15.2|392.52|20.45|15.0|\n",
            "|        12|             0.11747|12.5| 7.87|   0|              0.524|6.0089999999999995| 82.9|6.2267|  5|311|   15.2| 396.9|13.27|18.9|\n",
            "|        13|             0.09378|12.5| 7.87|   0|              0.524| 5.888999999999999| 39.0|5.4509|  5|311|   15.2| 390.5|15.71|21.7|\n",
            "|        14|             0.62976| 0.0| 8.14|   0| 0.5379999999999999|             5.949| 61.8|4.7075|  4|307|   21.0| 396.9| 8.26|20.4|\n",
            "|        15|  0.6379600000000001| 0.0| 8.14|   0| 0.5379999999999999|             6.096| 84.5|4.4619|  4|307|   21.0|380.02|10.26|18.2|\n",
            "|        16|             0.62739| 0.0| 8.14|   0| 0.5379999999999999|             5.834| 56.5|4.4986|  4|307|   21.0|395.62| 8.47|19.9|\n",
            "|        17|             1.05393| 0.0| 8.14|   0| 0.5379999999999999|             5.935| 29.3|4.4986|  4|307|   21.0|386.85| 6.58|23.1|\n",
            "|        18|              0.7842| 0.0| 8.14|   0| 0.5379999999999999|              5.99| 81.7|4.2579|  4|307|   21.0|386.75|14.67|17.5|\n",
            "|        19|             0.80271| 0.0| 8.14|   0| 0.5379999999999999|             5.456| 36.6|3.7965|  4|307|   21.0|288.99|11.69|20.2|\n",
            "|        20|              0.7258| 0.0| 8.14|   0| 0.5379999999999999|             5.727| 69.5|3.7965|  4|307|   21.0|390.95|11.28|18.2|\n",
            "+----------+--------------------+----+-----+----+-------------------+------------------+-----+------+---+---+-------+------+-----+----+\n",
            "only showing top 20 rows\n",
            "\n"
          ],
          "name": "stdout"
        }
      ]
    },
    {
      "cell_type": "markdown",
      "metadata": {
        "id": "5FIfQa3evd_x",
        "colab_type": "text"
      },
      "source": [
        "## Creating a features array using VectorAssembler\n"
      ]
    },
    {
      "cell_type": "code",
      "metadata": {
        "id": "Q6GLNDUz78qI",
        "colab_type": "code",
        "colab": {}
      },
      "source": [
        "feature_columns = list(df.columns[:-1]) # We omit the final column\n",
        "from pyspark.ml.feature import VectorAssembler\n",
        "\n",
        "assembler = VectorAssembler(inputCols=feature_columns, outputCol=\"features\")"
      ],
      "execution_count": 0,
      "outputs": []
    },
    {
      "cell_type": "code",
      "metadata": {
        "id": "hJyq_kr8vbOP",
        "colab_type": "code",
        "colab": {}
      },
      "source": [
        "data_2 = assembler.transform(df)"
      ],
      "execution_count": 0,
      "outputs": []
    },
    {
      "cell_type": "code",
      "metadata": {
        "id": "xQj5ZjP_vbLz",
        "colab_type": "code",
        "colab": {
          "base_uri": "https://localhost:8080/",
          "height": 495
        },
        "outputId": "4710c339-4def-4cbb-b18d-2f8caa78b50a"
      },
      "source": [
        "data_2.show()"
      ],
      "execution_count": 14,
      "outputs": [
        {
          "output_type": "stream",
          "text": [
            "+----------+--------------------+----+-----+----+-------------------+------------------+-----+------+---+---+-------+------+-----+----+--------------------+\n",
            "|Unnamed: 0|                crim|  zn|indus|chas|                nox|                rm|  age|   dis|rad|tax|ptratio| black|lstat|medv|            features|\n",
            "+----------+--------------------+----+-----+----+-------------------+------------------+-----+------+---+---+-------+------+-----+----+--------------------+\n",
            "|         1|             0.00632|18.0| 2.31|   0| 0.5379999999999999|             6.575| 65.2|  4.09|  1|296|   15.3| 396.9| 4.98|24.0|[1.0,0.00632,18.0...|\n",
            "|         2|             0.02731| 0.0| 7.07|   0|              0.469|             6.421| 78.9|4.9671|  2|242|   17.8| 396.9| 9.14|21.6|[2.0,0.02731,0.0,...|\n",
            "|         3|             0.02729| 0.0| 7.07|   0|              0.469|             7.185| 61.1|4.9671|  2|242|   17.8|392.83| 4.03|34.7|[3.0,0.02729,0.0,...|\n",
            "|         4|0.032369999999999996| 0.0| 2.18|   0|0.45799999999999996| 6.997999999999999| 45.8|6.0622|  3|222|   18.7|394.63| 2.94|33.4|[4.0,0.0323699999...|\n",
            "|         5|             0.06905| 0.0| 2.18|   0|0.45799999999999996|             7.147| 54.2|6.0622|  3|222|   18.7| 396.9| 5.33|36.2|[5.0,0.06905,0.0,...|\n",
            "|         6|             0.02985| 0.0| 2.18|   0|0.45799999999999996|              6.43| 58.7|6.0622|  3|222|   18.7|394.12| 5.21|28.7|[6.0,0.02985,0.0,...|\n",
            "|         7|             0.08829|12.5| 7.87|   0|              0.524|6.0120000000000005| 66.6|5.5605|  5|311|   15.2| 395.6|12.43|22.9|[7.0,0.08829,12.5...|\n",
            "|         8|             0.14455|12.5| 7.87|   0|              0.524| 6.172000000000001| 96.1|5.9505|  5|311|   15.2| 396.9|19.15|27.1|[8.0,0.14455,12.5...|\n",
            "|         9|             0.21124|12.5| 7.87|   0|              0.524|             5.631|100.0|6.0821|  5|311|   15.2|386.63|29.93|16.5|[9.0,0.21124,12.5...|\n",
            "|        10|             0.17004|12.5| 7.87|   0|              0.524|             6.004| 85.9|6.5921|  5|311|   15.2|386.71| 17.1|18.9|[10.0,0.17004,12....|\n",
            "|        11|             0.22489|12.5| 7.87|   0|              0.524| 6.377000000000001| 94.3|6.3467|  5|311|   15.2|392.52|20.45|15.0|[11.0,0.22489,12....|\n",
            "|        12|             0.11747|12.5| 7.87|   0|              0.524|6.0089999999999995| 82.9|6.2267|  5|311|   15.2| 396.9|13.27|18.9|[12.0,0.11747,12....|\n",
            "|        13|             0.09378|12.5| 7.87|   0|              0.524| 5.888999999999999| 39.0|5.4509|  5|311|   15.2| 390.5|15.71|21.7|[13.0,0.09378,12....|\n",
            "|        14|             0.62976| 0.0| 8.14|   0| 0.5379999999999999|             5.949| 61.8|4.7075|  4|307|   21.0| 396.9| 8.26|20.4|[14.0,0.62976,0.0...|\n",
            "|        15|  0.6379600000000001| 0.0| 8.14|   0| 0.5379999999999999|             6.096| 84.5|4.4619|  4|307|   21.0|380.02|10.26|18.2|[15.0,0.637960000...|\n",
            "|        16|             0.62739| 0.0| 8.14|   0| 0.5379999999999999|             5.834| 56.5|4.4986|  4|307|   21.0|395.62| 8.47|19.9|[16.0,0.62739,0.0...|\n",
            "|        17|             1.05393| 0.0| 8.14|   0| 0.5379999999999999|             5.935| 29.3|4.4986|  4|307|   21.0|386.85| 6.58|23.1|[17.0,1.05393,0.0...|\n",
            "|        18|              0.7842| 0.0| 8.14|   0| 0.5379999999999999|              5.99| 81.7|4.2579|  4|307|   21.0|386.75|14.67|17.5|[18.0,0.7842,0.0,...|\n",
            "|        19|             0.80271| 0.0| 8.14|   0| 0.5379999999999999|             5.456| 36.6|3.7965|  4|307|   21.0|288.99|11.69|20.2|[19.0,0.80271,0.0...|\n",
            "|        20|              0.7258| 0.0| 8.14|   0| 0.5379999999999999|             5.727| 69.5|3.7965|  4|307|   21.0|390.95|11.28|18.2|[20.0,0.7258,0.0,...|\n",
            "+----------+--------------------+----+-----+----+-------------------+------------------+-----+------+---+---+-------+------+-----+----+--------------------+\n",
            "only showing top 20 rows\n",
            "\n"
          ],
          "name": "stdout"
        }
      ]
    },
    {
      "cell_type": "markdown",
      "metadata": {
        "id": "UBtwlJHe_EAi",
        "colab_type": "text"
      },
      "source": [
        "## Train/Test Split (70% / 30%)"
      ]
    },
    {
      "cell_type": "code",
      "metadata": {
        "id": "WK-tjYhVvbJL",
        "colab_type": "code",
        "colab": {}
      },
      "source": [
        "train, test = data_2.randomSplit([0.7, 0.3])"
      ],
      "execution_count": 0,
      "outputs": []
    },
    {
      "cell_type": "markdown",
      "metadata": {
        "id": "MjUBQzXA_Vml",
        "colab_type": "text"
      },
      "source": [
        "## Training the Machine Learning Algorithm"
      ]
    },
    {
      "cell_type": "code",
      "metadata": {
        "id": "8ocFY4-AvbEe",
        "colab_type": "code",
        "colab": {}
      },
      "source": [
        "from pyspark.ml.regression import LinearRegression\n",
        "\n",
        "# We define the algorithm variable\n",
        "algo = LinearRegression(featuresCol=\"features\", labelCol=\"medv\")\n",
        "model = algo.fit(train)"
      ],
      "execution_count": 0,
      "outputs": []
    },
    {
      "cell_type": "markdown",
      "metadata": {
        "id": "c__YU4rMAO_k",
        "colab_type": "text"
      },
      "source": [
        "## Evaluating Model"
      ]
    },
    {
      "cell_type": "code",
      "metadata": {
        "id": "psK4tapyACGi",
        "colab_type": "code",
        "colab": {}
      },
      "source": [
        "evaluation_summary = model.evaluate(test)"
      ],
      "execution_count": 0,
      "outputs": []
    },
    {
      "cell_type": "code",
      "metadata": {
        "id": "5HfweBNyANI8",
        "colab_type": "code",
        "colab": {
          "base_uri": "https://localhost:8080/",
          "height": 72
        },
        "outputId": "0fcb64c0-dfdd-4d7f-8db2-f84e6c64d498"
      },
      "source": [
        "print(\"Mean Absolute Error = \" + str(evaluation_summary.meanAbsoluteError))\n",
        "print(\"RMSE = \" + str(evaluation_summary.rootMeanSquaredError))\n",
        "print(\"R2 = \" + str(evaluation_summary.r2))"
      ],
      "execution_count": 26,
      "outputs": [
        {
          "output_type": "stream",
          "text": [
            "Mean Absolute Error = 3.5851106029673265\n",
            "RMSE = 5.358209533209839\n",
            "R2 = 0.6870630073903935\n"
          ],
          "name": "stdout"
        }
      ]
    },
    {
      "cell_type": "markdown",
      "metadata": {
        "id": "NRVv8c1AC-w1",
        "colab_type": "text"
      },
      "source": [
        "## Predicting Values"
      ]
    },
    {
      "cell_type": "code",
      "metadata": {
        "id": "8cYB9mwGCEGo",
        "colab_type": "code",
        "colab": {}
      },
      "source": [
        "predictions = model.transform(test)"
      ],
      "execution_count": 0,
      "outputs": []
    },
    {
      "cell_type": "code",
      "metadata": {
        "id": "jblcupVpDJ9s",
        "colab_type": "code",
        "colab": {
          "base_uri": "https://localhost:8080/",
          "height": 311
        },
        "outputId": "65496ff9-8361-43bd-ab50-dcd143971fa8"
      },
      "source": [
        "predictions.select(predictions.columns[14:]).show(10)"
      ],
      "execution_count": 32,
      "outputs": [
        {
          "output_type": "stream",
          "text": [
            "+----+--------------------+------------------+\n",
            "|medv|            features|        prediction|\n",
            "+----+--------------------+------------------+\n",
            "|34.7|[3.0,0.02729,0.0,...|29.938981279230163|\n",
            "|36.2|[5.0,0.06905,0.0,...|27.502399718871658|\n",
            "|28.7|[6.0,0.02985,0.0,...| 24.77325812979857|\n",
            "|22.9|[7.0,0.08829,12.5...| 22.83870433113871|\n",
            "|27.1|[8.0,0.14455,12.5...| 19.43158073325713|\n",
            "|16.5|[9.0,0.21124,12.5...| 11.91232218097015|\n",
            "|21.7|[13.0,0.09378,12....|21.146656394455295|\n",
            "|23.1|[17.0,1.05393,0.0...|20.790431099323925|\n",
            "|13.6|[21.0,1.25179,0.0...|12.958062989088596|\n",
            "|19.6|[22.0,0.852039999...|17.830814666069955|\n",
            "+----+--------------------+------------------+\n",
            "only showing top 10 rows\n",
            "\n"
          ],
          "name": "stdout"
        }
      ]
    }
  ]
}