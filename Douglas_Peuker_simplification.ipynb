{
  "nbformat": 4,
  "nbformat_minor": 0,
  "metadata": {
    "colab": {
      "name": "Douglas-Peuker simplification.ipynb",
      "provenance": [],
      "collapsed_sections": [],
      "authorship_tag": "ABX9TyO3s/y4OALRGKW4upCaEhLS",
      "include_colab_link": true
    },
    "kernelspec": {
      "name": "python3",
      "display_name": "Python 3"
    }
  },
  "cells": [
    {
      "cell_type": "markdown",
      "metadata": {
        "id": "view-in-github",
        "colab_type": "text"
      },
      "source": [
        "<a href=\"https://colab.research.google.com/github/ernesto-miguez/Machine-Learning-training/blob/master/Douglas_Peuker_simplification.ipynb\" target=\"_parent\"><img src=\"https://colab.research.google.com/assets/colab-badge.svg\" alt=\"Open In Colab\"/></a>"
      ]
    },
    {
      "cell_type": "code",
      "metadata": {
        "id": "vzGW9OCoLPwa",
        "colab_type": "code",
        "colab": {}
      },
      "source": [
        "# magic command to display matplotlib plots inline within the ipython notebook webpage\n",
        "%matplotlib inline\n",
        "\n",
        "# import necessary modules\n",
        "import pandas as pd, numpy as np, matplotlib.pyplot as plt\n",
        "import shapely\n",
        "from shapely.geometry import LineString\n",
        "from time import time"
      ],
      "execution_count": null,
      "outputs": []
    },
    {
      "cell_type": "code",
      "metadata": {
        "id": "pF5mlFAMkgci",
        "colab_type": "code",
        "colab": {}
      },
      "source": [
        "# Load the point data\n",
        "df = pd.read_csv('../summer-travel-gps-full.csv')\n",
        "coordinates = df[['lat', 'lon']].values"
      ],
      "execution_count": null,
      "outputs": []
    },
    {
      "cell_type": "code",
      "metadata": {
        "id": "iFYdrLC7Ym0f",
        "colab_type": "code",
        "colab": {
          "base_uri": "https://localhost:8080/",
          "height": 206
        },
        "outputId": "116fb1da-7c04-4746-b6e0-4025f6acfe1d"
      },
      "source": [
        "df.head()"
      ],
      "execution_count": null,
      "outputs": [
        {
          "output_type": "execute_result",
          "data": {
            "text/html": [
              "<div>\n",
              "<style scoped>\n",
              "    .dataframe tbody tr th:only-of-type {\n",
              "        vertical-align: middle;\n",
              "    }\n",
              "\n",
              "    .dataframe tbody tr th {\n",
              "        vertical-align: top;\n",
              "    }\n",
              "\n",
              "    .dataframe thead th {\n",
              "        text-align: right;\n",
              "    }\n",
              "</style>\n",
              "<table border=\"1\" class=\"dataframe\">\n",
              "  <thead>\n",
              "    <tr style=\"text-align: right;\">\n",
              "      <th></th>\n",
              "      <th>lat</th>\n",
              "      <th>lon</th>\n",
              "      <th>date</th>\n",
              "      <th>city</th>\n",
              "      <th>country</th>\n",
              "    </tr>\n",
              "  </thead>\n",
              "  <tbody>\n",
              "    <tr>\n",
              "      <th>0</th>\n",
              "      <td>51.481292</td>\n",
              "      <td>-0.451011</td>\n",
              "      <td>05/14/2014 09:07</td>\n",
              "      <td>West Drayton</td>\n",
              "      <td>United Kingdom</td>\n",
              "    </tr>\n",
              "    <tr>\n",
              "      <th>1</th>\n",
              "      <td>51.474005</td>\n",
              "      <td>-0.450999</td>\n",
              "      <td>05/14/2014 09:22</td>\n",
              "      <td>Hounslow</td>\n",
              "      <td>United Kingdom</td>\n",
              "    </tr>\n",
              "    <tr>\n",
              "      <th>2</th>\n",
              "      <td>51.478199</td>\n",
              "      <td>-0.446081</td>\n",
              "      <td>05/14/2014 10:51</td>\n",
              "      <td>Hounslow</td>\n",
              "      <td>United Kingdom</td>\n",
              "    </tr>\n",
              "    <tr>\n",
              "      <th>3</th>\n",
              "      <td>51.478199</td>\n",
              "      <td>-0.446081</td>\n",
              "      <td>05/14/2014 11:24</td>\n",
              "      <td>Hounslow</td>\n",
              "      <td>United Kingdom</td>\n",
              "    </tr>\n",
              "    <tr>\n",
              "      <th>4</th>\n",
              "      <td>51.474146</td>\n",
              "      <td>-0.451562</td>\n",
              "      <td>05/14/2014 11:38</td>\n",
              "      <td>Hounslow</td>\n",
              "      <td>United Kingdom</td>\n",
              "    </tr>\n",
              "  </tbody>\n",
              "</table>\n",
              "</div>"
            ],
            "text/plain": [
              "         lat       lon              date          city         country\n",
              "0  51.481292 -0.451011  05/14/2014 09:07  West Drayton  United Kingdom\n",
              "1  51.474005 -0.450999  05/14/2014 09:22      Hounslow  United Kingdom\n",
              "2  51.478199 -0.446081  05/14/2014 10:51      Hounslow  United Kingdom\n",
              "3  51.478199 -0.446081  05/14/2014 11:24      Hounslow  United Kingdom\n",
              "4  51.474146 -0.451562  05/14/2014 11:38      Hounslow  United Kingdom"
            ]
          },
          "metadata": {
            "tags": []
          },
          "execution_count": 5
        }
      ]
    },
    {
      "cell_type": "code",
      "metadata": {
        "id": "jbCtGCAxQTf_",
        "colab_type": "code",
        "colab": {
          "base_uri": "https://localhost:8080/",
          "height": 109
        },
        "outputId": "7fa3bfd2-e0b6-477c-82fc-f7eff282e25c"
      },
      "source": [
        "# Create a shapely line from the point data\n",
        "line = LineString(coordinates)\n",
        "\n",
        "tolerance = 0.015\n",
        "\n",
        "simplified_line = line.simplify(tolerance, preserve_topology=False)\n",
        "\n",
        "print(line.length, 'line length')\n",
        "print(simplified_line.length, 'simplified line length')\n",
        "print(len(line.coords),  'coordinate pairs in full data set')\n",
        "print(len(simplified_line.coords), 'coordinate pairs in simplified data set')\n",
        "print(round(((1 - float(len(simplified_line.coords)) / float(len(line.coords))) * 100), 1), 'percent compressed')"
      ],
      "execution_count": null,
      "outputs": [
        {
          "output_type": "stream",
          "text": [
            "146.33453899578328 line length\n",
            "143.92611626180422 simplified line length\n",
            "1759 coordinate pairs in full data set\n",
            "178 coordinate pairs in simplified data set\n",
            "89.9 percent compressed\n"
          ],
          "name": "stdout"
        }
      ]
    },
    {
      "cell_type": "code",
      "metadata": {
        "id": "WuSXlG4eQ7-M",
        "colab_type": "code",
        "colab": {
          "base_uri": "https://localhost:8080/",
          "height": 206
        },
        "outputId": "d1ef4921-42f1-4e31-eb6f-e2ea4f58cbc8"
      },
      "source": [
        "# Save the simplified set of coordinates as a new dataframe\n",
        "lat = pd.Series(pd.Series(simplified_line.coords.xy)[0])\n",
        "lon = pd.Series(pd.Series(simplified_line.coords.xy)[1])\n",
        "si = pd.DataFrame({'lon':lon, 'lat':lat})\n",
        "si.tail()"
      ],
      "execution_count": null,
      "outputs": [
        {
          "output_type": "execute_result",
          "data": {
            "text/html": [
              "<div>\n",
              "<style scoped>\n",
              "    .dataframe tbody tr th:only-of-type {\n",
              "        vertical-align: middle;\n",
              "    }\n",
              "\n",
              "    .dataframe tbody tr th {\n",
              "        vertical-align: top;\n",
              "    }\n",
              "\n",
              "    .dataframe thead th {\n",
              "        text-align: right;\n",
              "    }\n",
              "</style>\n",
              "<table border=\"1\" class=\"dataframe\">\n",
              "  <thead>\n",
              "    <tr style=\"text-align: right;\">\n",
              "      <th></th>\n",
              "      <th>lon</th>\n",
              "      <th>lat</th>\n",
              "    </tr>\n",
              "  </thead>\n",
              "  <tbody>\n",
              "    <tr>\n",
              "      <th>173</th>\n",
              "      <td>28.983285</td>\n",
              "      <td>41.044556</td>\n",
              "    </tr>\n",
              "    <tr>\n",
              "      <th>174</th>\n",
              "      <td>28.968268</td>\n",
              "      <td>41.008992</td>\n",
              "    </tr>\n",
              "    <tr>\n",
              "      <th>175</th>\n",
              "      <td>28.985488</td>\n",
              "      <td>41.043487</td>\n",
              "    </tr>\n",
              "    <tr>\n",
              "      <th>176</th>\n",
              "      <td>28.823879</td>\n",
              "      <td>40.977637</td>\n",
              "    </tr>\n",
              "    <tr>\n",
              "      <th>177</th>\n",
              "      <td>11.791346</td>\n",
              "      <td>48.357110</td>\n",
              "    </tr>\n",
              "  </tbody>\n",
              "</table>\n",
              "</div>"
            ],
            "text/plain": [
              "           lon        lat\n",
              "173  28.983285  41.044556\n",
              "174  28.968268  41.008992\n",
              "175  28.985488  41.043487\n",
              "176  28.823879  40.977637\n",
              "177  11.791346  48.357110"
            ]
          },
          "metadata": {
            "tags": []
          },
          "execution_count": 4
        }
      ]
    },
    {
      "cell_type": "markdown",
      "metadata": {
        "id": "oE56XRHncQs8",
        "colab_type": "text"
      },
      "source": [
        "## Extract the index of the pairs of coordinates in the simplified dataset "
      ]
    },
    {
      "cell_type": "code",
      "metadata": {
        "id": "rlktWYWZYRa-",
        "colab_type": "code",
        "colab": {
          "base_uri": "https://localhost:8080/",
          "height": 35
        },
        "outputId": "ef6114da-3a42-42d9-ee75-8dcce6a90603"
      },
      "source": [
        "start_time = time()\n",
        "\n",
        "# df_label column will contain the label of the matching row from the original full data set\n",
        "si['df_label'] = None\n",
        "\n",
        "# For each coordinate pair in the simplified set\n",
        "for si_label, si_row in si.iterrows():\n",
        "  si_coords = (si_row['lat'], si_row['lon'])\n",
        "\n",
        "  # For each coordinate pair in the full data set:\n",
        "  for df_label, df_row in df.iterrows():\n",
        "\n",
        "    # Compare tuples of coordinates, if the points match, save this row's label as the matching one\n",
        "    if si_coords == (df_row['lat'], df_row['lon']):\n",
        "      si.loc[si_label, 'df_label'] = df_label\n",
        "      break\n",
        "\n",
        "print('process took %s seconds' % round(time()-start_time,2))"
      ],
      "execution_count": null,
      "outputs": [
        {
          "output_type": "stream",
          "text": [
            "process took 15.85 seconds\n"
          ],
          "name": "stdout"
        }
      ]
    },
    {
      "cell_type": "code",
      "metadata": {
        "id": "3qQhhBIfcL8Y",
        "colab_type": "code",
        "colab": {
          "base_uri": "https://localhost:8080/",
          "height": 206
        },
        "outputId": "fde760cc-52a1-4417-82fa-0c20e042a12e"
      },
      "source": [
        "si.head()"
      ],
      "execution_count": null,
      "outputs": [
        {
          "output_type": "execute_result",
          "data": {
            "text/html": [
              "<div>\n",
              "<style scoped>\n",
              "    .dataframe tbody tr th:only-of-type {\n",
              "        vertical-align: middle;\n",
              "    }\n",
              "\n",
              "    .dataframe tbody tr th {\n",
              "        vertical-align: top;\n",
              "    }\n",
              "\n",
              "    .dataframe thead th {\n",
              "        text-align: right;\n",
              "    }\n",
              "</style>\n",
              "<table border=\"1\" class=\"dataframe\">\n",
              "  <thead>\n",
              "    <tr style=\"text-align: right;\">\n",
              "      <th></th>\n",
              "      <th>lon</th>\n",
              "      <th>lat</th>\n",
              "      <th>df_label</th>\n",
              "    </tr>\n",
              "  </thead>\n",
              "  <tbody>\n",
              "    <tr>\n",
              "      <th>0</th>\n",
              "      <td>-0.451011</td>\n",
              "      <td>51.481292</td>\n",
              "      <td>0</td>\n",
              "    </tr>\n",
              "    <tr>\n",
              "      <th>1</th>\n",
              "      <td>-9.137544</td>\n",
              "      <td>38.781775</td>\n",
              "      <td>7</td>\n",
              "    </tr>\n",
              "    <tr>\n",
              "      <th>2</th>\n",
              "      <td>-9.139739</td>\n",
              "      <td>38.711050</td>\n",
              "      <td>13</td>\n",
              "    </tr>\n",
              "    <tr>\n",
              "      <th>3</th>\n",
              "      <td>-9.120558</td>\n",
              "      <td>38.715637</td>\n",
              "      <td>18</td>\n",
              "    </tr>\n",
              "    <tr>\n",
              "      <th>4</th>\n",
              "      <td>-9.141788</td>\n",
              "      <td>38.711977</td>\n",
              "      <td>22</td>\n",
              "    </tr>\n",
              "  </tbody>\n",
              "</table>\n",
              "</div>"
            ],
            "text/plain": [
              "        lon        lat df_label\n",
              "0 -0.451011  51.481292        0\n",
              "1 -9.137544  38.781775        7\n",
              "2 -9.139739  38.711050       13\n",
              "3 -9.120558  38.715637       18\n",
              "4 -9.141788  38.711977       22"
            ]
          },
          "metadata": {
            "tags": []
          },
          "execution_count": 8
        }
      ]
    },
    {
      "cell_type": "markdown",
      "metadata": {
        "id": "i5XmO6gXecFv",
        "colab_type": "text"
      },
      "source": [
        "## Select the rows from the original full dataset whose labels appear in the df_label column in th simplified dataset"
      ]
    },
    {
      "cell_type": "code",
      "metadata": {
        "id": "IeyK0TJOebsL",
        "colab_type": "code",
        "colab": {
          "base_uri": "https://localhost:8080/",
          "height": 206
        },
        "outputId": "8f38fe33-0622-4675-a80e-1e2a5a2b6503"
      },
      "source": [
        "rs = df.loc[si['df_label'].dropna().values]\n",
        "\n",
        "rs.head()"
      ],
      "execution_count": null,
      "outputs": [
        {
          "output_type": "execute_result",
          "data": {
            "text/html": [
              "<div>\n",
              "<style scoped>\n",
              "    .dataframe tbody tr th:only-of-type {\n",
              "        vertical-align: middle;\n",
              "    }\n",
              "\n",
              "    .dataframe tbody tr th {\n",
              "        vertical-align: top;\n",
              "    }\n",
              "\n",
              "    .dataframe thead th {\n",
              "        text-align: right;\n",
              "    }\n",
              "</style>\n",
              "<table border=\"1\" class=\"dataframe\">\n",
              "  <thead>\n",
              "    <tr style=\"text-align: right;\">\n",
              "      <th></th>\n",
              "      <th>lat</th>\n",
              "      <th>lon</th>\n",
              "      <th>date</th>\n",
              "      <th>city</th>\n",
              "      <th>country</th>\n",
              "    </tr>\n",
              "  </thead>\n",
              "  <tbody>\n",
              "    <tr>\n",
              "      <th>0</th>\n",
              "      <td>51.481292</td>\n",
              "      <td>-0.451011</td>\n",
              "      <td>05/14/2014 09:07</td>\n",
              "      <td>West Drayton</td>\n",
              "      <td>United Kingdom</td>\n",
              "    </tr>\n",
              "    <tr>\n",
              "      <th>7</th>\n",
              "      <td>38.781775</td>\n",
              "      <td>-9.137544</td>\n",
              "      <td>05/14/2014 15:11</td>\n",
              "      <td>Lisbon</td>\n",
              "      <td>Portugal</td>\n",
              "    </tr>\n",
              "    <tr>\n",
              "      <th>13</th>\n",
              "      <td>38.711050</td>\n",
              "      <td>-9.139739</td>\n",
              "      <td>05/14/2014 16:40</td>\n",
              "      <td>Lisbon</td>\n",
              "      <td>Portugal</td>\n",
              "    </tr>\n",
              "    <tr>\n",
              "      <th>18</th>\n",
              "      <td>38.715637</td>\n",
              "      <td>-9.120558</td>\n",
              "      <td>05/14/2014 18:25</td>\n",
              "      <td>Lisbon</td>\n",
              "      <td>Portugal</td>\n",
              "    </tr>\n",
              "    <tr>\n",
              "      <th>22</th>\n",
              "      <td>38.711977</td>\n",
              "      <td>-9.141788</td>\n",
              "      <td>05/14/2014 19:26</td>\n",
              "      <td>Lisbon</td>\n",
              "      <td>Portugal</td>\n",
              "    </tr>\n",
              "  </tbody>\n",
              "</table>\n",
              "</div>"
            ],
            "text/plain": [
              "          lat       lon              date          city         country\n",
              "0   51.481292 -0.451011  05/14/2014 09:07  West Drayton  United Kingdom\n",
              "7   38.781775 -9.137544  05/14/2014 15:11        Lisbon        Portugal\n",
              "13  38.711050 -9.139739  05/14/2014 16:40        Lisbon        Portugal\n",
              "18  38.715637 -9.120558  05/14/2014 18:25        Lisbon        Portugal\n",
              "22  38.711977 -9.141788  05/14/2014 19:26        Lisbon        Portugal"
            ]
          },
          "metadata": {
            "tags": []
          },
          "execution_count": 11
        }
      ]
    },
    {
      "cell_type": "markdown",
      "metadata": {
        "id": "HF1l8U31gxiR",
        "colab_type": "text"
      },
      "source": [
        "## Plot the final simplified set of coordinate points vs the original full set"
      ]
    },
    {
      "cell_type": "code",
      "metadata": {
        "id": "1gDFZm2nd-3q",
        "colab_type": "code",
        "colab": {
          "base_uri": "https://localhost:8080/",
          "height": 422
        },
        "outputId": "1c456880-6eda-4bf3-cb65-80f08e9fe000"
      },
      "source": [
        "plt.figure(figsize=(10,6))\n",
        "rs_scatter = plt.scatter(rs['lon'], rs['lat'], c='g', alpha=0.3, s=150)\n",
        "df_scatter = plt.scatter(df['lon'], df['lat'], c='k', alpha=0.4, s=10)\n",
        "plt.xlabel('Longitude')\n",
        "plt.ylabel('Latitude')\n",
        "plt.title('Simplified set of coordinate points vs original full set')\n",
        "plt.legend((rs_scatter, df_scatter), ('Simplified', 'Original'), loc='upper left')"
      ],
      "execution_count": null,
      "outputs": [
        {
          "output_type": "execute_result",
          "data": {
            "text/plain": [
              "<matplotlib.legend.Legend at 0x7f4aa9644860>"
            ]
          },
          "metadata": {
            "tags": []
          },
          "execution_count": 20
        },
        {
          "output_type": "display_data",
          "data": {
            "image/png": "[encoded data removed]",
            "text/plain": [
              "<Figure size 720x432 with 1 Axes>"
            ]
          },
          "metadata": {
            "tags": [],
            "needs_background": "light"
          }
        }
      ]
    }
  ]
}