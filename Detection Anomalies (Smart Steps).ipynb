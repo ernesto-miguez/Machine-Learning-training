{
 "cells": [
  {
   "cell_type": "markdown",
   "metadata": {},
   "source": [
    "## Find the knee"
   ]
  },
  {
   "cell_type": "code",
   "execution_count": 1,
   "metadata": {},
   "outputs": [],
   "source": [
    "from kneed import KneeLocator \n",
    "import matplotlib.pyplot as plt\n",
    "import pandas as pd\n",
    "import numpy as np\n",
    "import time\n",
    "from sklearn import metrics"
   ]
  },
  {
   "cell_type": "code",
   "execution_count": 2,
   "metadata": {},
   "outputs": [],
   "source": [
    "df = pd.read_csv(r\"\\Users\\cxb0254\\Desktop\\Smart Steps\\Anomalies detection\\df.csv\", sep = \",\")"
   ]
  },
  {
   "cell_type": "code",
   "execution_count": 3,
   "metadata": {},
   "outputs": [],
   "source": [
    "gdf = pd.read_csv(r\"\\Users\\cxb0254\\Desktop\\Smart Steps\\Anomalies detection\\gdf.csv\")"
   ]
  },
  {
   "cell_type": "code",
   "execution_count": 4,
   "metadata": {},
   "outputs": [
    {
     "data": {
      "text/html": [
       "<div>\n",
       "<style scoped>\n",
       "    .dataframe tbody tr th:only-of-type {\n",
       "        vertical-align: middle;\n",
       "    }\n",
       "\n",
       "    .dataframe tbody tr th {\n",
       "        vertical-align: top;\n",
       "    }\n",
       "\n",
       "    .dataframe thead th {\n",
       "        text-align: right;\n",
       "    }\n",
       "</style>\n",
       "<table border=\"1\" class=\"dataframe\">\n",
       "  <thead>\n",
       "    <tr style=\"text-align: right;\">\n",
       "      <th></th>\n",
       "      <th>Unnamed: 0</th>\n",
       "      <th>zone</th>\n",
       "      <th>Date</th>\n",
       "      <th>total</th>\n",
       "      <th>wkt</th>\n",
       "      <th>centroid</th>\n",
       "      <th>centroid_lon</th>\n",
       "      <th>centroid_lat</th>\n",
       "    </tr>\n",
       "  </thead>\n",
       "  <tbody>\n",
       "    <tr>\n",
       "      <th>0</th>\n",
       "      <td>0</td>\n",
       "      <td>LU7 9</td>\n",
       "      <td>17</td>\n",
       "      <td>21</td>\n",
       "      <td>MULTIPOLYGON (((-0.660083 51.844451, -0.657159...</td>\n",
       "      <td>POINT (-0.6156741486717967 51.89783347488114)</td>\n",
       "      <td>-0.615674</td>\n",
       "      <td>51.897833</td>\n",
       "    </tr>\n",
       "    <tr>\n",
       "      <th>1</th>\n",
       "      <td>1</td>\n",
       "      <td>LE12 8</td>\n",
       "      <td>17</td>\n",
       "      <td>1</td>\n",
       "      <td>MULTIPOLYGON (((-1.137943 52.773916, -1.133007...</td>\n",
       "      <td>POINT (-1.179287793821555 52.73879091529155)</td>\n",
       "      <td>-1.179288</td>\n",
       "      <td>52.738791</td>\n",
       "    </tr>\n",
       "    <tr>\n",
       "      <th>2</th>\n",
       "      <td>2</td>\n",
       "      <td>LU7 2</td>\n",
       "      <td>17</td>\n",
       "      <td>21</td>\n",
       "      <td>MULTIPOLYGON (((-0.699612 51.919991, -0.698652...</td>\n",
       "      <td>POINT (-0.6840081928650118 51.91830530388929)</td>\n",
       "      <td>-0.684008</td>\n",
       "      <td>51.918305</td>\n",
       "    </tr>\n",
       "    <tr>\n",
       "      <th>3</th>\n",
       "      <td>3</td>\n",
       "      <td>MK13 7</td>\n",
       "      <td>17</td>\n",
       "      <td>1</td>\n",
       "      <td>MULTIPOLYGON (((-0.787788 52.063487, -0.786346...</td>\n",
       "      <td>POINT (-0.7795627581003672 52.05696593651801)</td>\n",
       "      <td>-0.779563</td>\n",
       "      <td>52.056966</td>\n",
       "    </tr>\n",
       "    <tr>\n",
       "      <th>4</th>\n",
       "      <td>4</td>\n",
       "      <td>HP17 0</td>\n",
       "      <td>17</td>\n",
       "      <td>18</td>\n",
       "      <td>MULTIPOLYGON (((-0.7896069999999999 51.733182,...</td>\n",
       "      <td>POINT (-0.787106483622548 51.74828403937672)</td>\n",
       "      <td>-0.787106</td>\n",
       "      <td>51.748284</td>\n",
       "    </tr>\n",
       "  </tbody>\n",
       "</table>\n",
       "</div>"
      ],
      "text/plain": [
       "   Unnamed: 0    zone  Date  total  \\\n",
       "0           0   LU7 9    17     21   \n",
       "1           1  LE12 8    17      1   \n",
       "2           2   LU7 2    17     21   \n",
       "3           3  MK13 7    17      1   \n",
       "4           4  HP17 0    17     18   \n",
       "\n",
       "                                                 wkt  \\\n",
       "0  MULTIPOLYGON (((-0.660083 51.844451, -0.657159...   \n",
       "1  MULTIPOLYGON (((-1.137943 52.773916, -1.133007...   \n",
       "2  MULTIPOLYGON (((-0.699612 51.919991, -0.698652...   \n",
       "3  MULTIPOLYGON (((-0.787788 52.063487, -0.786346...   \n",
       "4  MULTIPOLYGON (((-0.7896069999999999 51.733182,...   \n",
       "\n",
       "                                        centroid  centroid_lon  centroid_lat  \n",
       "0  POINT (-0.6156741486717967 51.89783347488114)     -0.615674     51.897833  \n",
       "1   POINT (-1.179287793821555 52.73879091529155)     -1.179288     52.738791  \n",
       "2  POINT (-0.6840081928650118 51.91830530388929)     -0.684008     51.918305  \n",
       "3  POINT (-0.7795627581003672 52.05696593651801)     -0.779563     52.056966  \n",
       "4   POINT (-0.787106483622548 51.74828403937672)     -0.787106     51.748284  "
      ]
     },
     "execution_count": 4,
     "metadata": {},
     "output_type": "execute_result"
    }
   ],
   "source": [
    "gdf.head()"
   ]
  },
  {
   "cell_type": "code",
   "execution_count": 5,
   "metadata": {},
   "outputs": [
    {
     "data": {
      "text/html": [
       "<div>\n",
       "<style scoped>\n",
       "    .dataframe tbody tr th:only-of-type {\n",
       "        vertical-align: middle;\n",
       "    }\n",
       "\n",
       "    .dataframe tbody tr th {\n",
       "        vertical-align: top;\n",
       "    }\n",
       "\n",
       "    .dataframe thead th {\n",
       "        text-align: right;\n",
       "    }\n",
       "</style>\n",
       "<table border=\"1\" class=\"dataframe\">\n",
       "  <thead>\n",
       "    <tr style=\"text-align: right;\">\n",
       "      <th></th>\n",
       "      <th>Unnamed: 0</th>\n",
       "      <th>zone1</th>\n",
       "      <th>zone2</th>\n",
       "      <th>distance</th>\n",
       "      <th>aggregated</th>\n",
       "      <th>points</th>\n",
       "    </tr>\n",
       "  </thead>\n",
       "  <tbody>\n",
       "    <tr>\n",
       "      <th>0</th>\n",
       "      <td>648</td>\n",
       "      <td>HP19 7</td>\n",
       "      <td>HP19 8</td>\n",
       "      <td>0.835640</td>\n",
       "      <td>0.002048</td>\n",
       "      <td>1</td>\n",
       "    </tr>\n",
       "    <tr>\n",
       "      <th>1</th>\n",
       "      <td>3717</td>\n",
       "      <td>HP21 7</td>\n",
       "      <td>HP20 1</td>\n",
       "      <td>1.009061</td>\n",
       "      <td>0.002473</td>\n",
       "      <td>2</td>\n",
       "    </tr>\n",
       "    <tr>\n",
       "      <th>2</th>\n",
       "      <td>1503</td>\n",
       "      <td>HP19 9</td>\n",
       "      <td>HP19 8</td>\n",
       "      <td>1.107396</td>\n",
       "      <td>0.002714</td>\n",
       "      <td>3</td>\n",
       "    </tr>\n",
       "    <tr>\n",
       "      <th>3</th>\n",
       "      <td>3332</td>\n",
       "      <td>HP19 0</td>\n",
       "      <td>HP20 2</td>\n",
       "      <td>1.132971</td>\n",
       "      <td>0.002777</td>\n",
       "      <td>4</td>\n",
       "    </tr>\n",
       "    <tr>\n",
       "      <th>4</th>\n",
       "      <td>3891</td>\n",
       "      <td>HP20 2</td>\n",
       "      <td>HP20 1</td>\n",
       "      <td>1.133806</td>\n",
       "      <td>0.002779</td>\n",
       "      <td>5</td>\n",
       "    </tr>\n",
       "  </tbody>\n",
       "</table>\n",
       "</div>"
      ],
      "text/plain": [
       "   Unnamed: 0   zone1   zone2  distance  aggregated  points\n",
       "0         648  HP19 7  HP19 8  0.835640    0.002048       1\n",
       "1        3717  HP21 7  HP20 1  1.009061    0.002473       2\n",
       "2        1503  HP19 9  HP19 8  1.107396    0.002714       3\n",
       "3        3332  HP19 0  HP20 2  1.132971    0.002777       4\n",
       "4        3891  HP20 2  HP20 1  1.133806    0.002779       5"
      ]
     },
     "execution_count": 5,
     "metadata": {},
     "output_type": "execute_result"
    }
   ],
   "source": [
    "df.head()"
   ]
  },
  {
   "cell_type": "code",
   "execution_count": 6,
   "metadata": {},
   "outputs": [],
   "source": [
    "x = df['points']\n",
    "y = df['aggregated']"
   ]
  },
  {
   "cell_type": "code",
   "execution_count": 7,
   "metadata": {},
   "outputs": [
    {
     "data": {
      "text/plain": [
       "[<matplotlib.lines.Line2D at 0x16727400588>]"
      ]
     },
     "execution_count": 7,
     "metadata": {},
     "output_type": "execute_result"
    },
    {
     "data": {
      "image/png": "[encoded data removed]",
      "text/plain": [
       "<Figure size 432x288 with 1 Axes>"
      ]
     },
     "metadata": {
      "needs_background": "light"
     },
     "output_type": "display_data"
    }
   ],
   "source": [
    "plt.xlabel('x')\n",
    "plt.ylabel('y')\n",
    "plt.plot(x,y)"
   ]
  },
  {
   "cell_type": "code",
   "execution_count": 8,
   "metadata": {},
   "outputs": [
    {
     "name": "stdout",
     "output_type": "stream",
     "text": [
      "384\n"
     ]
    }
   ],
   "source": [
    "kn = KneeLocator(\n",
    "    x,\n",
    "    y,\n",
    "    curve='convex',\n",
    "    direction='increasing',\n",
    "    interp_method='polynomial')\n",
    "\n",
    "print(kn.knee)"
   ]
  },
  {
   "cell_type": "code",
   "execution_count": 9,
   "metadata": {},
   "outputs": [
    {
     "data": {
      "text/plain": [
       "<matplotlib.collections.LineCollection at 0x1672744ce48>"
      ]
     },
     "execution_count": 9,
     "metadata": {},
     "output_type": "execute_result"
    },
    {
     "data": {
      "image/png": "[encoded data removed]",
      "text/plain": [
       "<Figure size 432x288 with 1 Axes>"
      ]
     },
     "metadata": {
      "needs_background": "light"
     },
     "output_type": "display_data"
    }
   ],
   "source": [
    "plt.xlabel('x')\n",
    "plt.ylabel('y')\n",
    "plt.plot(x,y)\n",
    "plt.vlines(kn.knee, plt.ylim()[0], plt.ylim()[1], linestyles='dashed')"
   ]
  },
  {
   "cell_type": "code",
   "execution_count": 10,
   "metadata": {},
   "outputs": [
    {
     "name": "stdout",
     "output_type": "stream",
     "text": [
      "384\n"
     ]
    }
   ],
   "source": [
    "print(kn.knee)"
   ]
  },
  {
   "cell_type": "markdown",
   "metadata": {},
   "source": [
    "### We define eps parameter with the point of the knee in the graph"
   ]
  },
  {
   "cell_type": "code",
   "execution_count": 11,
   "metadata": {},
   "outputs": [],
   "source": [
    "eps = float(df['distance'][df['points'] == kn.knee].values)"
   ]
  },
  {
   "cell_type": "code",
   "execution_count": 12,
   "metadata": {},
   "outputs": [
    {
     "data": {
      "text/plain": [
       "94.71648016542845"
      ]
     },
     "execution_count": 12,
     "metadata": {},
     "output_type": "execute_result"
    }
   ],
   "source": [
    "eps"
   ]
  },
  {
   "cell_type": "markdown",
   "metadata": {},
   "source": [
    "### DBSCAN with eps = knee"
   ]
  },
  {
   "cell_type": "code",
   "execution_count": 13,
   "metadata": {},
   "outputs": [],
   "source": [
    "from sklearn.cluster import DBSCAN"
   ]
  },
  {
   "cell_type": "code",
   "execution_count": 14,
   "metadata": {},
   "outputs": [
    {
     "name": "stdout",
     "output_type": "stream",
     "text": [
      "Clustered 98 points down to 2 clusters, for 98.0% compression in 0.01 seconds\n",
      "Silhouette coefficient: 0.614\n"
     ]
    }
   ],
   "source": [
    "kms_per_radian = 6371.0088\n",
    "#median = table_final['distance'].median()\n",
    "\n",
    "# Represent points as (lat, lon)\n",
    "coords = gdf[[\"centroid_lat\", \"centroid_lon\"]]\n",
    "coords = coords.values\n",
    "\n",
    "# Define epsilon and min_samples\n",
    "epsilon = eps/kms_per_radian    # We have set epsilon to the value we´ve calculated above by extracting the knee point.\n",
    "min_samples = round(np.log(df['zone1'].nunique()))  # Using the ln of the number of points of the dataset as min_samples\n",
    "\n",
    "# Algorithm\n",
    "start_time = time.time()\n",
    "db = DBSCAN(eps=epsilon, min_samples=min_samples, algorithm='ball_tree', metric='haversine').fit(np.radians(coords))\n",
    "cluster_labels = db.labels_\n",
    "\n",
    "# Get the number of clusters\n",
    "num_clusters = len(set(cluster_labels))\n",
    "\n",
    "# Print the outcome\n",
    "message = 'Clustered {:,} points down to {:,} clusters, for {:.1f}% compression in {:,.2f} seconds'\n",
    "print(message.format(len(gdf), len(set(cluster_labels)), 100*(1-float(num_clusters) / len(gdf)), time.time()-start_time))\n",
    "print('Silhouette coefficient: {:0.03f}'.format(metrics.silhouette_score(coords, cluster_labels)))"
   ]
  },
  {
   "cell_type": "code",
   "execution_count": 15,
   "metadata": {},
   "outputs": [
    {
     "data": {
      "text/plain": [
       "Text(0.5,1,'DBSCAN: eps=knee, min_pts=ln(n)')"
      ]
     },
     "execution_count": 15,
     "metadata": {},
     "output_type": "execute_result"
    },
    {
     "data": {
      "image/png": "[encoded data removed]",
      "text/plain": [
       "<Figure size 432x288 with 1 Axes>"
      ]
     },
     "metadata": {
      "needs_background": "light"
     },
     "output_type": "display_data"
    }
   ],
   "source": [
    "y_pred = db.fit_predict(np.radians(coords))\n",
    "plt.scatter(coords[:,1], coords[:,0], c=y_pred, cmap='Paired')\n",
    "plt.title(\"DBSCAN: eps=knee, min_pts=ln(n)\")"
   ]
  },
  {
   "cell_type": "code",
   "execution_count": 16,
   "metadata": {},
   "outputs": [
    {
     "data": {
      "text/plain": [
       "array([ 0,  0,  0,  0,  0,  0,  0,  0,  0,  0,  0,  0,  0,  0,  0,  0,  0,\n",
       "        0,  0,  0,  0,  0, -1,  0,  0,  0,  0,  0,  0,  0, -1,  0,  0,  0,\n",
       "        0,  0,  0,  0,  0,  0,  0, -1,  0,  0,  0,  0,  0,  0,  0,  0,  0,\n",
       "        0, -1, -1, -1,  0,  0,  0,  0,  0,  0,  0,  0,  0,  0,  0,  0,  0,\n",
       "        0,  0,  0,  0,  0,  0, -1,  0,  0,  0,  0,  0,  0, -1,  0,  0,  0,\n",
       "        0, -1, -1,  0,  0,  0,  0,  0,  0,  0,  0,  0,  0], dtype=int64)"
      ]
     },
     "execution_count": 16,
     "metadata": {},
     "output_type": "execute_result"
    }
   ],
   "source": [
    "cluster_labels"
   ]
  },
  {
   "cell_type": "code",
   "execution_count": 17,
   "metadata": {},
   "outputs": [
    {
     "data": {
      "text/plain": [
       "{-1, 0}"
      ]
     },
     "execution_count": 17,
     "metadata": {},
     "output_type": "execute_result"
    }
   ],
   "source": [
    "set(cluster_labels)"
   ]
  },
  {
   "cell_type": "markdown",
   "metadata": {},
   "source": [
    "### DBSCAN with eps = knee/2"
   ]
  },
  {
   "cell_type": "code",
   "execution_count": 18,
   "metadata": {},
   "outputs": [
    {
     "name": "stdout",
     "output_type": "stream",
     "text": [
      "Clustered 98 points down to 2 clusters, for 98.0% compression in 0.01 seconds\n",
      "Silhouette coefficient: 0.571\n"
     ]
    }
   ],
   "source": [
    "kms_per_radian = 6371.0088\n",
    "#median = table_final['distance'].median()\n",
    "\n",
    "# Represent points as (lat, lon)\n",
    "coords = gdf[[\"centroid_lat\", \"centroid_lon\"]]\n",
    "coords = coords.values\n",
    "\n",
    "# Define epsilon and min_samples\n",
    "epsilon = (eps/2)/kms_per_radian    # We have set epsilon to the value we´ve calculated above by extracting the knee point.\n",
    "min_samples = round(np.log(df['zone1'].nunique()))  # Using the ln of the number of points of the dataset as min_samples\n",
    "\n",
    "# Algorithm\n",
    "start_time = time.time()\n",
    "db = DBSCAN(eps=epsilon, min_samples=min_samples, algorithm='ball_tree', metric='haversine').fit(np.radians(coords))\n",
    "cluster_labels = db.labels_\n",
    "\n",
    "# Get the number of clusters\n",
    "num_clusters = len(set(cluster_labels))\n",
    "\n",
    "# Print the outcome\n",
    "message = 'Clustered {:,} points down to {:,} clusters, for {:.1f}% compression in {:,.2f} seconds'\n",
    "print(message.format(len(gdf), len(set(cluster_labels)), 100*(1-float(num_clusters) / len(gdf)), time.time()-start_time))\n",
    "print('Silhouette coefficient: {:0.03f}'.format(metrics.silhouette_score(coords, cluster_labels)))"
   ]
  },
  {
   "cell_type": "code",
   "execution_count": 19,
   "metadata": {},
   "outputs": [
    {
     "data": {
      "text/plain": [
       "Text(0.5,1,'DBSCAN: eps=knee/2, min_pts(ln(n))')"
      ]
     },
     "execution_count": 19,
     "metadata": {},
     "output_type": "execute_result"
    },
    {
     "data": {
      "image/png": "[encoded data removed]",
      "text/plain": [
       "<Figure size 432x288 with 1 Axes>"
      ]
     },
     "metadata": {
      "needs_background": "light"
     },
     "output_type": "display_data"
    }
   ],
   "source": [
    "y_pred = db.fit_predict(np.radians(coords))\n",
    "plt.scatter(coords[:,1], coords[:,0], c=y_pred, cmap='Paired')\n",
    "plt.title(\"DBSCAN: eps=knee/2, min_pts(ln(n))\")"
   ]
  },
  {
   "cell_type": "code",
   "execution_count": 20,
   "metadata": {},
   "outputs": [
    {
     "data": {
      "text/plain": [
       "array([ 0,  0,  0,  0,  0,  0,  0,  0,  0,  0, -1,  0,  0,  0,  0,  0,  0,\n",
       "        0,  0,  0,  0,  0, -1, -1,  0, -1,  0,  0, -1,  0, -1,  0,  0,  0,\n",
       "        0, -1,  0,  0,  0,  0,  0, -1,  0,  0,  0,  0,  0,  0,  0,  0,  0,\n",
       "        0, -1, -1, -1,  0,  0,  0,  0,  0,  0, -1,  0,  0,  0, -1, -1,  0,\n",
       "        0, -1,  0, -1,  0,  0, -1,  0,  0,  0,  0,  0, -1, -1,  0, -1,  0,\n",
       "        0, -1, -1,  0,  0,  0, -1,  0, -1,  0, -1,  0,  0], dtype=int64)"
      ]
     },
     "execution_count": 20,
     "metadata": {},
     "output_type": "execute_result"
    }
   ],
   "source": [
    "cluster_labels"
   ]
  },
  {
   "cell_type": "code",
   "execution_count": 21,
   "metadata": {},
   "outputs": [
    {
     "data": {
      "text/plain": [
       "{-1, 0}"
      ]
     },
     "execution_count": 21,
     "metadata": {},
     "output_type": "execute_result"
    }
   ],
   "source": [
    "set(cluster_labels)"
   ]
  },
  {
   "cell_type": "markdown",
   "metadata": {},
   "source": [
    "### DBSCAN with eps = knee/4"
   ]
  },
  {
   "cell_type": "code",
   "execution_count": 22,
   "metadata": {},
   "outputs": [
    {
     "name": "stdout",
     "output_type": "stream",
     "text": [
      "Clustered 98 points down to 4 clusters, for 95.9% compression in 0.01 seconds\n",
      "Silhouette coefficient: 0.413\n"
     ]
    }
   ],
   "source": [
    "kms_per_radian = 6371.0088\n",
    "#median = table_final['distance'].median()\n",
    "\n",
    "# Represent points as (lat, lon)\n",
    "coords = gdf[[\"centroid_lat\", \"centroid_lon\"]]\n",
    "coords = coords.values\n",
    "\n",
    "# Define epsilon and min_samples\n",
    "epsilon = (eps/4)/kms_per_radian    # We have set epsilon to the value we´ve calculated above by extracting the knee point.\n",
    "min_samples = round(np.log(df['zone1'].nunique()))  # Using the ln of the number of points of the dataset as min_samples\n",
    "\n",
    "# Algorithm\n",
    "start_time = time.time()\n",
    "db = DBSCAN(eps=epsilon, min_samples=min_samples, algorithm='ball_tree', metric='haversine').fit(np.radians(coords))\n",
    "cluster_labels = db.labels_\n",
    "\n",
    "# Get the number of clusters\n",
    "num_clusters = len(set(cluster_labels))\n",
    "\n",
    "# Print the outcome\n",
    "message = 'Clustered {:,} points down to {:,} clusters, for {:.1f}% compression in {:,.2f} seconds'\n",
    "print(message.format(len(gdf), len(set(cluster_labels)), 100*(1-float(num_clusters) / len(gdf)), time.time()-start_time))\n",
    "print('Silhouette coefficient: {:0.03f}'.format(metrics.silhouette_score(coords, cluster_labels)))"
   ]
  },
  {
   "cell_type": "code",
   "execution_count": 23,
   "metadata": {},
   "outputs": [
    {
     "data": {
      "text/plain": [
       "Text(0.5,1,'DBSCAN: eps=knee/4, min_pts=ln(n)')"
      ]
     },
     "execution_count": 23,
     "metadata": {},
     "output_type": "execute_result"
    },
    {
     "data": {
      "image/png": "[encoded data removed]",
      "text/plain": [
       "<Figure size 432x288 with 1 Axes>"
      ]
     },
     "metadata": {
      "needs_background": "light"
     },
     "output_type": "display_data"
    }
   ],
   "source": [
    "y_pred = db.fit_predict(np.radians(coords))\n",
    "plt.scatter(coords[:,1], coords[:,0], c=y_pred, cmap='Paired')\n",
    "plt.title(\"DBSCAN: eps=knee/4, min_pts=ln(n)\")"
   ]
  },
  {
   "cell_type": "code",
   "execution_count": 24,
   "metadata": {
    "scrolled": false
   },
   "outputs": [
    {
     "data": {
      "text/plain": [
       "array([ 0,  1,  0,  0,  0,  0,  0,  0,  0,  1, -1,  0, -1,  0,  1, -1,  0,\n",
       "        0,  0,  0,  1, -1, -1, -1,  0, -1,  0, -1, -1,  0, -1,  0,  0,  0,\n",
       "        1, -1,  0,  0,  0, -1,  2, -1,  1,  0,  0,  0,  0,  1,  0,  0,  0,\n",
       "        0, -1, -1, -1,  0,  0,  0,  0,  0,  2, -1,  0,  1, -1, -1, -1,  0,\n",
       "        1, -1,  0, -1,  2,  0, -1,  1,  0,  2, -1,  0, -1, -1,  2, -1,  2,\n",
       "        2, -1, -1,  0,  0,  0, -1,  0, -1,  0, -1, -1,  0], dtype=int64)"
      ]
     },
     "execution_count": 24,
     "metadata": {},
     "output_type": "execute_result"
    }
   ],
   "source": [
    "cluster_labels"
   ]
  },
  {
   "cell_type": "code",
   "execution_count": 25,
   "metadata": {},
   "outputs": [
    {
     "data": {
      "text/plain": [
       "{-1, 0, 1, 2}"
      ]
     },
     "execution_count": 25,
     "metadata": {},
     "output_type": "execute_result"
    }
   ],
   "source": [
    "set(cluster_labels)"
   ]
  },
  {
   "cell_type": "code",
   "execution_count": 26,
   "metadata": {},
   "outputs": [
    {
     "name": "stdout",
     "output_type": "stream",
     "text": [
      "48\n",
      "10\n",
      "7\n",
      "33\n"
     ]
    }
   ],
   "source": [
    "for i in set(cluster_labels):\n",
    "    print(cluster_labels.tolist().count(i))"
   ]
  },
  {
   "cell_type": "markdown",
   "metadata": {},
   "source": [
    "### DBSCAN with eps = knee/8"
   ]
  },
  {
   "cell_type": "code",
   "execution_count": 27,
   "metadata": {},
   "outputs": [
    {
     "name": "stdout",
     "output_type": "stream",
     "text": [
      "Clustered 98 points down to 4 clusters, for 95.9% compression in 0.01 seconds\n",
      "Silhouette coefficient: 0.308\n"
     ]
    }
   ],
   "source": [
    "kms_per_radian = 6371.0088\n",
    "#median = table_final['distance'].median()\n",
    "\n",
    "# Represent points as (lat, lon)\n",
    "coords = gdf[[\"centroid_lat\", \"centroid_lon\"]]\n",
    "coords = coords.values\n",
    "\n",
    "# Define epsilon and min_samples\n",
    "epsilon = (eps/8)/kms_per_radian    # We have set epsilon to the value we´ve calculated above by extracting the knee point.\n",
    "min_samples = round(np.log(df['zone1'].nunique()))  # Using the ln of the number of points of the dataset as min_samples\n",
    "\n",
    "# Algorithm\n",
    "start_time = time.time()\n",
    "db = DBSCAN(eps=epsilon, min_samples=min_samples, algorithm='ball_tree', metric='haversine').fit(np.radians(coords))\n",
    "cluster_labels = db.labels_\n",
    "\n",
    "# Get the number of clusters\n",
    "num_clusters = len(set(cluster_labels))\n",
    "\n",
    "# Print the outcome\n",
    "message = 'Clustered {:,} points down to {:,} clusters, for {:.1f}% compression in {:,.2f} seconds'\n",
    "print(message.format(len(gdf), len(set(cluster_labels)), 100*(1-float(num_clusters) / len(gdf)), time.time()-start_time))\n",
    "print('Silhouette coefficient: {:0.03f}'.format(metrics.silhouette_score(coords, cluster_labels)))"
   ]
  },
  {
   "cell_type": "code",
   "execution_count": 28,
   "metadata": {},
   "outputs": [
    {
     "data": {
      "text/plain": [
       "Text(0.5,1,'DBSCAN: eps=knee/8, min_pts=ln(n)')"
      ]
     },
     "execution_count": 28,
     "metadata": {},
     "output_type": "execute_result"
    },
    {
     "data": {
      "image/png": "[encoded data removed]",
      "text/plain": [
       "<Figure size 432x288 with 1 Axes>"
      ]
     },
     "metadata": {
      "needs_background": "light"
     },
     "output_type": "display_data"
    }
   ],
   "source": [
    "y_pred = db.fit_predict(np.radians(coords))\n",
    "plt.scatter(coords[:,1], coords[:,0], c=y_pred, cmap='Paired')\n",
    "plt.title(\"DBSCAN: eps=knee/8, min_pts=ln(n)\")"
   ]
  },
  {
   "cell_type": "code",
   "execution_count": null,
   "metadata": {},
   "outputs": [],
   "source": []
  }
 ],
 "metadata": {
  "kernelspec": {
   "display_name": "Python 3",
   "language": "python",
   "name": "python3"
  },
  "language_info": {
   "codemirror_mode": {
    "name": "ipython",
    "version": 3
   },
   "file_extension": ".py",
   "mimetype": "text/x-python",
   "name": "python",
   "nbconvert_exporter": "python",
   "pygments_lexer": "ipython3",
   "version": "3.7.1"
  }
 },
 "nbformat": 4,
 "nbformat_minor": 2
}
